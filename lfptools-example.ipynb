{
  "nbformat": 4,
  "nbformat_minor": 0,
  "metadata": {
    "colab": {
      "name": "system-risk-handson.ipynb",
      "provenance": [],
      "collapsed_sections": [],
      "toc_visible": true,
      "include_colab_link": true
    },
    "kernelspec": {
      "name": "python3",
      "display_name": "Python 3"
    }
  },
  "cells": [
    {
      "cell_type": "markdown",
      "metadata": {
        "id": "view-in-github",
        "colab_type": "text"
      },
      "source": [
        "<a href=\"https://colab.research.google.com/github/YonniYe/WebGIS_Learning/blob/main/lfptools-example.ipynb\" target=\"_parent\"><img src=\"https://colab.research.google.com/assets/colab-badge.svg\" alt=\"Open In Colab\"/></a>"
      ]
    },
    {
      "cell_type": "markdown",
      "metadata": {
        "id": "ieYBtfUenyte"
      },
      "source": [
        "Prepared by Jeison Sosa\n",
        "\n",
        "University of Bristol\n",
        "\n",
        "https://jsosa.github.io\n"
      ]
    },
    {
      "cell_type": "code",
      "metadata": {
        "id": "DINZjZdH3H4s"
      },
      "source": [
        ""
      ],
      "execution_count": null,
      "outputs": []
    },
    {
      "cell_type": "markdown",
      "metadata": {
        "id": "5CCgkRIpGuyz"
      },
      "source": [
        "# 1. LISFLOOD-FP\n",
        "***"
      ]
    },
    {
      "cell_type": "markdown",
      "metadata": {
        "id": "mUlZsiXqH3JG"
      },
      "source": [
        "**LISFLOOD-FP** is a two-dimensional hydrodynamic model specifically designed to simulate floodplain inundation in a computationally efficient manner over complex topography. It is capable of simulating grids up to 106 cells for dynamic flood events and can take advantage of new sources of terrain information from remote sensing techniques such as airborne laser altimetry and satellite interferometric radar.\n",
        "\n",
        "The model predicts water depths in each grid cell at each time step, and hence **can simulate the dynamic propagation of flood waves over fluvial, coastal and estuarine floodplains**. It is a non-commercial, research code developed as part of an effort to improve our fundamental understanding of flood hydraulics, flood inundation prediction and flood risk assessment.\n",
        "\n",
        "**LISFLOOD-FP has been used as a research tool:**\n",
        "\n",
        "* within the pre-operational European Flood Alert System (EFAS) being developed by Dr. Ad De Roo at the EU Joint Research Centre,\n",
        "* as part of the RASP tiered methodology for flood risk assessment being developed on behalf of the Environment Agency of England and Wales and DEFRA\n",
        "* and for research studies at a number of institutions, including Ohio State and the University of Washington in the USA and the University of Messina in Italy.\n",
        "\n",
        "**LISFLOOD-FP has also stimulated the development of a number of academic and commercial codes based on its principles including:**\n",
        "\n",
        "* MDSFLOOD, developed by University of Bristol for Halcrow Ltd as a storage cell code demonstrator.\n",
        "* JFLOW, developed by JBA Consulting as a broad-scale flood risk assessment tool and used, among other projects, to produce the Extreme Flood Outline maps for the whole of the England and Wales on Behalf of the Environment Agency and as a generic method for the Scottish Executive.\n",
        "* FLOWROUTETM, developed by Ambiental Risk Analytics as a flood risk assessment tool for the insurance and planning industries on behalf of clients including Norwich Union, Aon and BP.\n",
        "* Numerous research codes including those developed by **Venere and Clausse (2002)**, **Dhondia and Stelling (2002)**, **Coe et al., (2002)**, **Bradbrook et al. (2004)** and **Yu and Lane (2006)**.\n",
        "\n",
        "After **Sampson et al., (2015)**\n",
        "\n",
        "![picture](https://drive.google.com/uc?export=view&id=1ZAx8ZnH7k9MF9zlDX3QztCw7Z6aJzPoQ)"
      ]
    },
    {
      "cell_type": "markdown",
      "metadata": {
        "id": "ZjdPLw8x_Si0"
      },
      "source": [
        "# 2. LFPtools\n",
        "***"
      ]
    },
    {
      "cell_type": "markdown",
      "metadata": {
        "id": "472FlHyh_puD"
      },
      "source": [
        "`LFPtools` is an open-source Python CLI package which encompass most methods commonly used to prepare input data for large scale flood inundation studies using the [LISFLOOD-FP](http://www.bristol.ac.uk/geography/research/hydrology/models/lisflood/) hydrodynamic model."
      ]
    },
    {
      "cell_type": "markdown",
      "metadata": {
        "id": "VZ8265my_9Kx"
      },
      "source": [
        "## Description of tools\n",
        "\n",
        "**lfp-getdepths:** Get river depths, three methods availables: 1) get depths from a raster of depths 2) get depths by using hydraulic geometry equation depth = r * width ^ p and 3) get depths by using simplified mannings equation\n",
        "\n",
        "**lfp-getwidths:** Retrieve river widths from a external data set (e.g. [GRWL](http://science.sciencemag.org/content/early/2018/06/27/science.aat0636), [GWD-LR](https://agupubs.onlinelibrary.wiley.com/doi/full/10.1002/2013WR014664))\n",
        "\n",
        "**lfp-getbankelevs:** Get river banks elevations from a high resolution DEM by reductions method like nearest neighbour, mean, min or meanmin. Additionally, an outlier detection can be applied to before running the reduction method.\n",
        "\n",
        "**lfp-fixelevs:** Fix DEM elevations using either of two methods: `yamazaki` (**Yamazaki et al., 2012 J. Hydrol**), `lowless` (Locally Weighted Scatterplot Smoothing)\n",
        "\n",
        "**lfp-getbedelevs:** Get bed elevations by substracting depth from banks\n",
        "\n",
        "**lfp-getdischarge:** Retrieve discharge from a netCDF source following a predefined inflows locations (e.g. from lfp-getinflows)\n",
        "\n",
        "**lfp-getinflows:** Locate inflow points that can be used as boundary condition from a source (e.g. discharge gridded data)\n",
        "\n",
        "**lfp-getslopes:** Estimate slopes from a bank file (e.g. from lfp-fixelevs), slope is estimated by fitting a 1st order model on the elevations. The number of elevations to take is based on the parameter `step` in the `config.txt` file\n",
        "\n",
        "**lfp-rasterresample:** Resample a DEM by upscaling. It applies a reductions method like mean, min or meanmin. Outlier detection is also available before running the reduction method. `nproc` option defines number of cores to be used when resampling."
      ]
    },
    {
      "cell_type": "markdown",
      "metadata": {
        "id": "w5QHsv-wAHrJ"
      },
      "source": [
        "## Installation\n",
        "\n",
        "### 1. Via pip\n",
        "Just run this line after installing all dependencies\n",
        "\n",
        "``` pip install git+https://github.com/jsosa/LFPtools.git```\n",
        "\n",
        "### 2. Docker\n",
        "To facilitate the installation process, we have published the [Dockerfile](https://github.com/jsosa/LFPtools/blob/master/docker/Dockerfile) so you can get `LFPtools` running in a docker container\n",
        "\n",
        "```bash\n",
        "docker pull jsosa/dkr-lfptools\n",
        "docker run --rm -it jsosa/dkr-lfptools\n",
        "```"
      ]
    },
    {
      "cell_type": "markdown",
      "metadata": {
        "id": "ggaOlfdGBolU"
      },
      "source": [
        "## Dependencies\n",
        "\n",
        "- [Pandas](https://pandas.pydata.org/)\n",
        "- [Geopandas](http://geopandas.org/)\n",
        "- [xarray](http://xarray.pydata.org/en/stable/)\n",
        "- [Cython](https://cython.org/)\n",
        "- [TauDEM](http://hydrology.usu.edu/taudem/taudem5/index.html)\n",
        "- [gdalutils](https://github.com/jsosa/gdalutils.git)"
      ]
    },
    {
      "cell_type": "markdown",
      "metadata": {
        "id": "8jmmJK0OBwF4"
      },
      "source": [
        "# 3. What's Colab?\n",
        "***\n",
        "\n"
      ]
    },
    {
      "cell_type": "markdown",
      "metadata": {
        "id": "UPnId3JZCA1Z"
      },
      "source": [
        "Colaboratory (Colab) is a Google research project created to help disseminate machine learning education and research. It's a Jupyter notebook environment that requires no setup to use and runs entirely in the cloud.\n",
        "\n"
      ]
    },
    {
      "cell_type": "markdown",
      "metadata": {
        "id": "FQSkw0z2EvSa"
      },
      "source": [
        "This quick video will explain what's Colab and its basic functionalities"
      ]
    },
    {
      "cell_type": "code",
      "metadata": {
        "id": "EsiJ5oYlEago",
        "colab": {
          "base_uri": "https://localhost:8080/",
          "height": 321
        },
        "outputId": "e19dc809-93f2-470f-aa9b-a29674a9e953"
      },
      "source": [
        "from IPython.display import YouTubeVideo\n",
        "YouTubeVideo('inN8seMm7UI')"
      ],
      "execution_count": null,
      "outputs": [
        {
          "output_type": "execute_result",
          "data": {
            "text/html": [
              "\n",
              "        <iframe\n",
              "            width=\"400\"\n",
              "            height=\"300\"\n",
              "            src=\"https://www.youtube.com/embed/inN8seMm7UI\"\n",
              "            frameborder=\"0\"\n",
              "            allowfullscreen\n",
              "        ></iframe>\n",
              "        "
            ],
            "text/plain": [
              "<IPython.lib.display.YouTubeVideo at 0x7f8b2a64cc88>"
            ],
            "image/jpeg": "[encoded data removed]"
          },
          "metadata": {
            "tags": []
          },
          "execution_count": 7
        }
      ]
    },
    {
      "cell_type": "markdown",
      "metadata": {
        "id": "yKgVpxPRFKXu"
      },
      "source": [
        "# 4. Using LFPtools in Colab\n",
        "***"
      ]
    },
    {
      "cell_type": "markdown",
      "metadata": {
        "id": "bw0JoT-jCLDy"
      },
      "source": [
        "The following notebook will guide you on how to use LFPtools in Colab!\n",
        "\n",
        "Some advantages:\n",
        "\n",
        "* The tools run directly in the cloud using the Google servers\n",
        "* No need to install anything in your local computer\n",
        "* No need to deal with Python dependencies"
      ]
    },
    {
      "cell_type": "markdown",
      "metadata": {
        "id": "Em_qhJNpCnvS"
      },
      "source": [
        "#### Installing LFPtools dependencies"
      ]
    },
    {
      "cell_type": "code",
      "metadata": {
        "id": "l_H1oPLLnY_W",
        "colab": {
          "base_uri": "https://localhost:8080/"
        },
        "outputId": "b771dcdf-fede-494d-ca27-cd580b29e722"
      },
      "source": [
        "!apt-get install -qq curl g++ make\n",
        "!curl -L http://download.osgeo.org/libspatialindex/spatialindex-src-1.8.5.tar.gz | tar xz\n",
        "import io\n",
        "import os\n",
        "import shutil\n",
        "from glob import glob\n",
        "os.chdir('spatialindex-src-1.8.5')\n",
        "!./configure\n",
        "!make\n",
        "!make install\n",
        "!pip install rtree\n",
        "!ldconfig\n",
        "!pip install geopandas\n",
        "!pip install git+https://github.com/jsosa/gdalutils.git\n",
        "os.chdir('/content')\n",
        "shutil.rmtree('sample_data')\n",
        "shutil.rmtree('spatialindex-src-1.8.5')"
      ],
      "execution_count": 2,
      "outputs": [
        {
          "output_type": "stream",
          "text": [
            "  % Total    % Received % Xferd  Average Speed   Time    Time     Time  Current\n",
            "                                 Dload  Upload   Total   Spent    Left  Speed\n",
            "100  556k  100  556k    0     0   809k      0 --:--:-- --:--:-- --:--:--  808k\n",
            "checking build system type... x86_64-unknown-linux-gnu\n",
            "checking for g++... g++\n",
            "checking whether the C++ compiler works... yes\n",
            "checking for C++ compiler default output file name... a.out\n",
            "checking for suffix of executables... \n",
            "checking whether we are cross compiling... no\n",
            "checking for suffix of object files... o\n",
            "checking whether we are using the GNU C++ compiler... yes\n",
            "checking whether g++ accepts -g... yes\n",
            "checking how to run the C++ preprocessor... g++ -E\n",
            "checking for a BSD-compatible install... /usr/bin/install -c\n",
            "checking whether ln -s works... yes\n",
            "checking whether make sets $(MAKE)... yes\n",
            "checking host system type... x86_64-unknown-linux-gnu\n",
            "checking how to print strings... printf\n",
            "checking for gcc... gcc\n",
            "checking whether we are using the GNU C compiler... yes\n",
            "checking whether gcc accepts -g... yes\n",
            "checking for gcc option to accept ISO C89... none needed\n",
            "checking whether gcc understands -c and -o together... yes\n",
            "checking for a sed that does not truncate output... /bin/sed\n",
            "checking for grep that handles long lines and -e... /bin/grep\n",
            "checking for egrep... /bin/grep -E\n",
            "checking for fgrep... /bin/grep -F\n",
            "checking for ld used by gcc... /usr/bin/ld\n",
            "checking if the linker (/usr/bin/ld) is GNU ld... yes\n",
            "checking for BSD- or MS-compatible name lister (nm)... /usr/bin/nm -B\n",
            "checking the name lister (/usr/bin/nm -B) interface... BSD nm\n",
            "checking the maximum length of command line arguments... 1572864\n",
            "checking whether the shell understands some XSI constructs... yes\n",
            "checking whether the shell understands \"+=\"... yes\n",
            "checking how to convert x86_64-unknown-linux-gnu file names to x86_64-unknown-linux-gnu format... func_convert_file_noop\n",
            "checking how to convert x86_64-unknown-linux-gnu file names to toolchain format... func_convert_file_noop\n",
            "checking for /usr/bin/ld option to reload object files... -r\n",
            "checking for objdump... objdump\n",
            "checking how to recognize dependent libraries... pass_all\n",
            "checking for dlltool... no\n",
            "checking how to associate runtime and link libraries... printf %s\\n\n",
            "checking for ar... ar\n",
            "checking for archiver @FILE support... @\n",
            "checking for strip... strip\n",
            "checking for ranlib... ranlib\n",
            "checking for gawk... no\n",
            "checking for mawk... mawk\n",
            "checking command to parse /usr/bin/nm -B output from gcc object... ok\n",
            "checking for sysroot... no\n",
            "./configure: line 6204: /usr/bin/file: No such file or directory\n",
            "checking for mt... no\n",
            "checking if : is a manifest tool... no\n",
            "checking how to run the C preprocessor... gcc -E\n",
            "checking for ANSI C header files... yes\n",
            "checking for sys/types.h... yes\n",
            "checking for sys/stat.h... yes\n",
            "checking for stdlib.h... yes\n",
            "checking for string.h... yes\n",
            "checking for memory.h... yes\n",
            "checking for strings.h... yes\n",
            "checking for inttypes.h... yes\n",
            "checking for stdint.h... yes\n",
            "checking for unistd.h... yes\n",
            "checking for dlfcn.h... yes\n",
            "checking for objdir... .libs\n",
            "checking if gcc supports -fno-rtti -fno-exceptions... no\n",
            "checking for gcc option to produce PIC... -fPIC -DPIC\n",
            "checking if gcc PIC flag -fPIC -DPIC works... yes\n",
            "checking if gcc static flag -static works... yes\n",
            "checking if gcc supports -c -o file.o... yes\n",
            "checking if gcc supports -c -o file.o... (cached) yes\n",
            "checking whether the gcc linker (/usr/bin/ld) supports shared libraries... yes\n",
            "checking whether -lc should be explicitly linked in... no\n",
            "checking dynamic linker characteristics... GNU/Linux ld.so\n",
            "checking how to hardcode library paths into programs... immediate\n",
            "checking whether stripping libraries is possible... yes\n",
            "checking if libtool supports shared libraries... yes\n",
            "checking whether to build shared libraries... yes\n",
            "checking whether to build static libraries... yes\n",
            "checking how to run the C++ preprocessor... g++ -E\n",
            "checking for ld used by g++... /usr/bin/ld\n",
            "checking if the linker (/usr/bin/ld) is GNU ld... yes\n",
            "checking whether the g++ linker (/usr/bin/ld) supports shared libraries... yes\n",
            "checking for g++ option to produce PIC... -fPIC -DPIC\n",
            "checking if g++ PIC flag -fPIC -DPIC works... yes\n",
            "checking if g++ static flag -static works... yes\n",
            "checking if g++ supports -c -o file.o... yes\n",
            "checking if g++ supports -c -o file.o... (cached) yes\n",
            "checking whether the g++ linker (/usr/bin/ld) supports shared libraries... yes\n",
            "checking dynamic linker characteristics... (cached) GNU/Linux ld.so\n",
            "checking how to hardcode library paths into programs... immediate\n",
            "checking whether build environment is sane... yes\n",
            "/content/spatialindex-src-1.8.5/missing: Unknown `--is-lightweight' option\n",
            "Try `/content/spatialindex-src-1.8.5/missing --help' for more information\n",
            "configure: WARNING: 'missing' script is too old or missing\n",
            "checking for a thread-safe mkdir -p... /bin/mkdir -p\n",
            "checking for style of include used by make... GNU\n",
            "checking whether make supports nested variables... yes\n",
            "checking dependency style of gcc... gcc3\n",
            "checking dependency style of g++... gcc3\n",
            "checking fcntl.h usability... yes\n",
            "checking fcntl.h presence... yes\n",
            "checking for fcntl.h... yes\n",
            "checking for unistd.h... (cached) yes\n",
            "checking for sys/types.h... (cached) yes\n",
            "checking for sys/stat.h... (cached) yes\n",
            "checking pthread.h usability... yes\n",
            "checking pthread.h presence... yes\n",
            "checking for pthread.h... yes\n",
            "checking sys/resource.h usability... yes\n",
            "checking sys/resource.h presence... yes\n",
            "checking for sys/resource.h... yes\n",
            "checking sys/time.h usability... yes\n",
            "checking sys/time.h presence... yes\n",
            "checking for sys/time.h... yes\n",
            "checking for stdint.h... (cached) yes\n",
            "checking features.h usability... yes\n",
            "checking features.h presence... yes\n",
            "checking for features.h... yes\n",
            "checking wether debug information is enabled... no\n",
            "checking for gettimeofday... yes\n",
            "checking for memset... yes\n",
            "checking for memcpy... yes\n",
            "checking for bcopy... yes\n",
            "checking for srand48... yes\n",
            "checking that generated files are newer than configure... done\n",
            "configure: creating ./config.status\n",
            "config.status: creating Makefile\n",
            "config.status: creating include/Makefile\n",
            "config.status: creating src/Makefile\n",
            "config.status: creating src/libspatialindex.pc\n",
            "config.status: creating src/capi/Makefile\n",
            "config.status: creating src/spatialindex/Makefile\n",
            "config.status: creating src/storagemanager/Makefile\n",
            "config.status: creating src/rtree/Makefile\n",
            "config.status: creating src/mvrtree/Makefile\n",
            "config.status: creating src/tprtree/Makefile\n",
            "config.status: creating src/tools/Makefile\n",
            "config.status: creating test/Makefile\n",
            "config.status: creating test/geometry/Makefile\n",
            "config.status: creating test/rtree/Makefile\n",
            "config.status: creating test/mvrtree/Makefile\n",
            "config.status: creating test/tprtree/Makefile\n",
            "config.status: executing libtool commands\n",
            "config.status: executing depfiles commands\n",
            "Making all in src\n",
            "make[1]: Entering directory '/content/spatialindex-src-1.8.5/src'\n",
            "Making all in storagemanager\n",
            "make[2]: Entering directory '/content/spatialindex-src-1.8.5/src/storagemanager'\n",
            "depbase=`echo Buffer.lo | sed 's|[^/]*$|.deps/&|;s|\\.lo$||'`;\\\n",
            "/bin/bash ../../libtool  --tag=CXX   --mode=compile g++ -DPACKAGE_NAME=\\\"spatialindex\\\" -DPACKAGE_TARNAME=\\\"spatialindex-src\\\" -DPACKAGE_VERSION=\\\"1.8.5\\\" -DPACKAGE_STRING=\\\"spatialindex\\ 1.8.5\\\" -DPACKAGE_BUGREPORT=\\\"mhadji@gmail.com\\\" -DPACKAGE_URL=\\\"\\\" -DSTDC_HEADERS=1 -DHAVE_SYS_TYPES_H=1 -DHAVE_SYS_STAT_H=1 -DHAVE_STDLIB_H=1 -DHAVE_STRING_H=1 -DHAVE_MEMORY_H=1 -DHAVE_STRINGS_H=1 -DHAVE_INTTYPES_H=1 -DHAVE_STDINT_H=1 -DHAVE_UNISTD_H=1 -DHAVE_DLFCN_H=1 -DLT_OBJDIR=\\\".libs/\\\" -DPACKAGE=\\\"spatialindex-src\\\" -DVERSION=\\\"1.8.5\\\" -DHAVE_FCNTL_H=1 -DHAVE_UNISTD_H=1 -DHAVE_SYS_TYPES_H=1 -DHAVE_SYS_STAT_H=1 -DHAVE_PTHREAD_H=1 -DHAVE_SYS_RESOURCE_H=1 -DHAVE_SYS_TIME_H=1 -DHAVE_STDINT_H=1 -DHAVE_FEATURES_H=1 -DHAVE_GETTIMEOFDAY=1 -DHAVE_MEMSET=1 -DHAVE_MEMCPY=1 -DHAVE_BCOPY=1 -DHAVE_SRAND48=1 -I. -I../../include     -Wall -Wno-long-long -pedantic -std=c++98  -O2 -DNDEBUG -MT Buffer.lo -MD -MP -MF $depbase.Tpo -c -o Buffer.lo Buffer.cc &&\\\n",
            "mv -f $depbase.Tpo $depbase.Plo\n",
            "libtool: compile:  g++ -DPACKAGE_NAME=\\\"spatialindex\\\" -DPACKAGE_TARNAME=\\\"spatialindex-src\\\" -DPACKAGE_VERSION=\\\"1.8.5\\\" \"-DPACKAGE_STRING=\\\"spatialindex 1.8.5\\\"\" -DPACKAGE_BUGREPORT=\\\"mhadji@gmail.com\\\" -DPACKAGE_URL=\\\"\\\" -DSTDC_HEADERS=1 -DHAVE_SYS_TYPES_H=1 -DHAVE_SYS_STAT_H=1 -DHAVE_STDLIB_H=1 -DHAVE_STRING_H=1 -DHAVE_MEMORY_H=1 -DHAVE_STRINGS_H=1 -DHAVE_INTTYPES_H=1 -DHAVE_STDINT_H=1 -DHAVE_UNISTD_H=1 -DHAVE_DLFCN_H=1 -DLT_OBJDIR=\\\".libs/\\\" -DPACKAGE=\\\"spatialindex-src\\\" -DVERSION=\\\"1.8.5\\\" -DHAVE_FCNTL_H=1 -DHAVE_UNISTD_H=1 -DHAVE_SYS_TYPES_H=1 -DHAVE_SYS_STAT_H=1 -DHAVE_PTHREAD_H=1 -DHAVE_SYS_RESOURCE_H=1 -DHAVE_SYS_TIME_H=1 -DHAVE_STDINT_H=1 -DHAVE_FEATURES_H=1 -DHAVE_GETTIMEOFDAY=1 -DHAVE_MEMSET=1 -DHAVE_MEMCPY=1 -DHAVE_BCOPY=1 -DHAVE_SRAND48=1 -I. -I../../include -Wall -Wno-long-long -pedantic -std=c++98 -O2 -DNDEBUG -MT Buffer.lo -MD -MP -MF .deps/Buffer.Tpo -c Buffer.cc  -fPIC -DPIC -o .libs/Buffer.o\n",
            "libtool: compile:  g++ -DPACKAGE_NAME=\\\"spatialindex\\\" -DPACKAGE_TARNAME=\\\"spatialindex-src\\\" -DPACKAGE_VERSION=\\\"1.8.5\\\" \"-DPACKAGE_STRING=\\\"spatialindex 1.8.5\\\"\" -DPACKAGE_BUGREPORT=\\\"mhadji@gmail.com\\\" -DPACKAGE_URL=\\\"\\\" -DSTDC_HEADERS=1 -DHAVE_SYS_TYPES_H=1 -DHAVE_SYS_STAT_H=1 -DHAVE_STDLIB_H=1 -DHAVE_STRING_H=1 -DHAVE_MEMORY_H=1 -DHAVE_STRINGS_H=1 -DHAVE_INTTYPES_H=1 -DHAVE_STDINT_H=1 -DHAVE_UNISTD_H=1 -DHAVE_DLFCN_H=1 -DLT_OBJDIR=\\\".libs/\\\" -DPACKAGE=\\\"spatialindex-src\\\" -DVERSION=\\\"1.8.5\\\" -DHAVE_FCNTL_H=1 -DHAVE_UNISTD_H=1 -DHAVE_SYS_TYPES_H=1 -DHAVE_SYS_STAT_H=1 -DHAVE_PTHREAD_H=1 -DHAVE_SYS_RESOURCE_H=1 -DHAVE_SYS_TIME_H=1 -DHAVE_STDINT_H=1 -DHAVE_FEATURES_H=1 -DHAVE_GETTIMEOFDAY=1 -DHAVE_MEMSET=1 -DHAVE_MEMCPY=1 -DHAVE_BCOPY=1 -DHAVE_SRAND48=1 -I. -I../../include -Wall -Wno-long-long -pedantic -std=c++98 -O2 -DNDEBUG -MT Buffer.lo -MD -MP -MF .deps/Buffer.Tpo -c Buffer.cc -o Buffer.o >/dev/null 2>&1\n",
            "depbase=`echo DiskStorageManager.lo | sed 's|[^/]*$|.deps/&|;s|\\.lo$||'`;\\\n",
            "/bin/bash ../../libtool  --tag=CXX   --mode=compile g++ -DPACKAGE_NAME=\\\"spatialindex\\\" -DPACKAGE_TARNAME=\\\"spatialindex-src\\\" -DPACKAGE_VERSION=\\\"1.8.5\\\" -DPACKAGE_STRING=\\\"spatialindex\\ 1.8.5\\\" -DPACKAGE_BUGREPORT=\\\"mhadji@gmail.com\\\" -DPACKAGE_URL=\\\"\\\" -DSTDC_HEADERS=1 -DHAVE_SYS_TYPES_H=1 -DHAVE_SYS_STAT_H=1 -DHAVE_STDLIB_H=1 -DHAVE_STRING_H=1 -DHAVE_MEMORY_H=1 -DHAVE_STRINGS_H=1 -DHAVE_INTTYPES_H=1 -DHAVE_STDINT_H=1 -DHAVE_UNISTD_H=1 -DHAVE_DLFCN_H=1 -DLT_OBJDIR=\\\".libs/\\\" -DPACKAGE=\\\"spatialindex-src\\\" -DVERSION=\\\"1.8.5\\\" -DHAVE_FCNTL_H=1 -DHAVE_UNISTD_H=1 -DHAVE_SYS_TYPES_H=1 -DHAVE_SYS_STAT_H=1 -DHAVE_PTHREAD_H=1 -DHAVE_SYS_RESOURCE_H=1 -DHAVE_SYS_TIME_H=1 -DHAVE_STDINT_H=1 -DHAVE_FEATURES_H=1 -DHAVE_GETTIMEOFDAY=1 -DHAVE_MEMSET=1 -DHAVE_MEMCPY=1 -DHAVE_BCOPY=1 -DHAVE_SRAND48=1 -I. -I../../include     -Wall -Wno-long-long -pedantic -std=c++98  -O2 -DNDEBUG -MT DiskStorageManager.lo -MD -MP -MF $depbase.Tpo -c -o DiskStorageManager.lo DiskStorageManager.cc &&\\\n",
            "mv -f $depbase.Tpo $depbase.Plo\n",
            "libtool: compile:  g++ -DPACKAGE_NAME=\\\"spatialindex\\\" -DPACKAGE_TARNAME=\\\"spatialindex-src\\\" -DPACKAGE_VERSION=\\\"1.8.5\\\" \"-DPACKAGE_STRING=\\\"spatialindex 1.8.5\\\"\" -DPACKAGE_BUGREPORT=\\\"mhadji@gmail.com\\\" -DPACKAGE_URL=\\\"\\\" -DSTDC_HEADERS=1 -DHAVE_SYS_TYPES_H=1 -DHAVE_SYS_STAT_H=1 -DHAVE_STDLIB_H=1 -DHAVE_STRING_H=1 -DHAVE_MEMORY_H=1 -DHAVE_STRINGS_H=1 -DHAVE_INTTYPES_H=1 -DHAVE_STDINT_H=1 -DHAVE_UNISTD_H=1 -DHAVE_DLFCN_H=1 -DLT_OBJDIR=\\\".libs/\\\" -DPACKAGE=\\\"spatialindex-src\\\" -DVERSION=\\\"1.8.5\\\" -DHAVE_FCNTL_H=1 -DHAVE_UNISTD_H=1 -DHAVE_SYS_TYPES_H=1 -DHAVE_SYS_STAT_H=1 -DHAVE_PTHREAD_H=1 -DHAVE_SYS_RESOURCE_H=1 -DHAVE_SYS_TIME_H=1 -DHAVE_STDINT_H=1 -DHAVE_FEATURES_H=1 -DHAVE_GETTIMEOFDAY=1 -DHAVE_MEMSET=1 -DHAVE_MEMCPY=1 -DHAVE_BCOPY=1 -DHAVE_SRAND48=1 -I. -I../../include -Wall -Wno-long-long -pedantic -std=c++98 -O2 -DNDEBUG -MT DiskStorageManager.lo -MD -MP -MF .deps/DiskStorageManager.Tpo -c DiskStorageManager.cc  -fPIC -DPIC -o .libs/DiskStorageManager.o\n",
            "libtool: compile:  g++ -DPACKAGE_NAME=\\\"spatialindex\\\" -DPACKAGE_TARNAME=\\\"spatialindex-src\\\" -DPACKAGE_VERSION=\\\"1.8.5\\\" \"-DPACKAGE_STRING=\\\"spatialindex 1.8.5\\\"\" -DPACKAGE_BUGREPORT=\\\"mhadji@gmail.com\\\" -DPACKAGE_URL=\\\"\\\" -DSTDC_HEADERS=1 -DHAVE_SYS_TYPES_H=1 -DHAVE_SYS_STAT_H=1 -DHAVE_STDLIB_H=1 -DHAVE_STRING_H=1 -DHAVE_MEMORY_H=1 -DHAVE_STRINGS_H=1 -DHAVE_INTTYPES_H=1 -DHAVE_STDINT_H=1 -DHAVE_UNISTD_H=1 -DHAVE_DLFCN_H=1 -DLT_OBJDIR=\\\".libs/\\\" -DPACKAGE=\\\"spatialindex-src\\\" -DVERSION=\\\"1.8.5\\\" -DHAVE_FCNTL_H=1 -DHAVE_UNISTD_H=1 -DHAVE_SYS_TYPES_H=1 -DHAVE_SYS_STAT_H=1 -DHAVE_PTHREAD_H=1 -DHAVE_SYS_RESOURCE_H=1 -DHAVE_SYS_TIME_H=1 -DHAVE_STDINT_H=1 -DHAVE_FEATURES_H=1 -DHAVE_GETTIMEOFDAY=1 -DHAVE_MEMSET=1 -DHAVE_MEMCPY=1 -DHAVE_BCOPY=1 -DHAVE_SRAND48=1 -I. -I../../include -Wall -Wno-long-long -pedantic -std=c++98 -O2 -DNDEBUG -MT DiskStorageManager.lo -MD -MP -MF .deps/DiskStorageManager.Tpo -c DiskStorageManager.cc -o DiskStorageManager.o >/dev/null 2>&1\n",
            "depbase=`echo MemoryStorageManager.lo | sed 's|[^/]*$|.deps/&|;s|\\.lo$||'`;\\\n",
            "/bin/bash ../../libtool  --tag=CXX   --mode=compile g++ -DPACKAGE_NAME=\\\"spatialindex\\\" -DPACKAGE_TARNAME=\\\"spatialindex-src\\\" -DPACKAGE_VERSION=\\\"1.8.5\\\" -DPACKAGE_STRING=\\\"spatialindex\\ 1.8.5\\\" -DPACKAGE_BUGREPORT=\\\"mhadji@gmail.com\\\" -DPACKAGE_URL=\\\"\\\" -DSTDC_HEADERS=1 -DHAVE_SYS_TYPES_H=1 -DHAVE_SYS_STAT_H=1 -DHAVE_STDLIB_H=1 -DHAVE_STRING_H=1 -DHAVE_MEMORY_H=1 -DHAVE_STRINGS_H=1 -DHAVE_INTTYPES_H=1 -DHAVE_STDINT_H=1 -DHAVE_UNISTD_H=1 -DHAVE_DLFCN_H=1 -DLT_OBJDIR=\\\".libs/\\\" -DPACKAGE=\\\"spatialindex-src\\\" -DVERSION=\\\"1.8.5\\\" -DHAVE_FCNTL_H=1 -DHAVE_UNISTD_H=1 -DHAVE_SYS_TYPES_H=1 -DHAVE_SYS_STAT_H=1 -DHAVE_PTHREAD_H=1 -DHAVE_SYS_RESOURCE_H=1 -DHAVE_SYS_TIME_H=1 -DHAVE_STDINT_H=1 -DHAVE_FEATURES_H=1 -DHAVE_GETTIMEOFDAY=1 -DHAVE_MEMSET=1 -DHAVE_MEMCPY=1 -DHAVE_BCOPY=1 -DHAVE_SRAND48=1 -I. -I../../include     -Wall -Wno-long-long -pedantic -std=c++98  -O2 -DNDEBUG -MT MemoryStorageManager.lo -MD -MP -MF $depbase.Tpo -c -o MemoryStorageManager.lo MemoryStorageManager.cc &&\\\n",
            "mv -f $depbase.Tpo $depbase.Plo\n",
            "libtool: compile:  g++ -DPACKAGE_NAME=\\\"spatialindex\\\" -DPACKAGE_TARNAME=\\\"spatialindex-src\\\" -DPACKAGE_VERSION=\\\"1.8.5\\\" \"-DPACKAGE_STRING=\\\"spatialindex 1.8.5\\\"\" -DPACKAGE_BUGREPORT=\\\"mhadji@gmail.com\\\" -DPACKAGE_URL=\\\"\\\" -DSTDC_HEADERS=1 -DHAVE_SYS_TYPES_H=1 -DHAVE_SYS_STAT_H=1 -DHAVE_STDLIB_H=1 -DHAVE_STRING_H=1 -DHAVE_MEMORY_H=1 -DHAVE_STRINGS_H=1 -DHAVE_INTTYPES_H=1 -DHAVE_STDINT_H=1 -DHAVE_UNISTD_H=1 -DHAVE_DLFCN_H=1 -DLT_OBJDIR=\\\".libs/\\\" -DPACKAGE=\\\"spatialindex-src\\\" -DVERSION=\\\"1.8.5\\\" -DHAVE_FCNTL_H=1 -DHAVE_UNISTD_H=1 -DHAVE_SYS_TYPES_H=1 -DHAVE_SYS_STAT_H=1 -DHAVE_PTHREAD_H=1 -DHAVE_SYS_RESOURCE_H=1 -DHAVE_SYS_TIME_H=1 -DHAVE_STDINT_H=1 -DHAVE_FEATURES_H=1 -DHAVE_GETTIMEOFDAY=1 -DHAVE_MEMSET=1 -DHAVE_MEMCPY=1 -DHAVE_BCOPY=1 -DHAVE_SRAND48=1 -I. -I../../include -Wall -Wno-long-long -pedantic -std=c++98 -O2 -DNDEBUG -MT MemoryStorageManager.lo -MD -MP -MF .deps/MemoryStorageManager.Tpo -c MemoryStorageManager.cc  -fPIC -DPIC -o .libs/MemoryStorageManager.o\n",
            "libtool: compile:  g++ -DPACKAGE_NAME=\\\"spatialindex\\\" -DPACKAGE_TARNAME=\\\"spatialindex-src\\\" -DPACKAGE_VERSION=\\\"1.8.5\\\" \"-DPACKAGE_STRING=\\\"spatialindex 1.8.5\\\"\" -DPACKAGE_BUGREPORT=\\\"mhadji@gmail.com\\\" -DPACKAGE_URL=\\\"\\\" -DSTDC_HEADERS=1 -DHAVE_SYS_TYPES_H=1 -DHAVE_SYS_STAT_H=1 -DHAVE_STDLIB_H=1 -DHAVE_STRING_H=1 -DHAVE_MEMORY_H=1 -DHAVE_STRINGS_H=1 -DHAVE_INTTYPES_H=1 -DHAVE_STDINT_H=1 -DHAVE_UNISTD_H=1 -DHAVE_DLFCN_H=1 -DLT_OBJDIR=\\\".libs/\\\" -DPACKAGE=\\\"spatialindex-src\\\" -DVERSION=\\\"1.8.5\\\" -DHAVE_FCNTL_H=1 -DHAVE_UNISTD_H=1 -DHAVE_SYS_TYPES_H=1 -DHAVE_SYS_STAT_H=1 -DHAVE_PTHREAD_H=1 -DHAVE_SYS_RESOURCE_H=1 -DHAVE_SYS_TIME_H=1 -DHAVE_STDINT_H=1 -DHAVE_FEATURES_H=1 -DHAVE_GETTIMEOFDAY=1 -DHAVE_MEMSET=1 -DHAVE_MEMCPY=1 -DHAVE_BCOPY=1 -DHAVE_SRAND48=1 -I. -I../../include -Wall -Wno-long-long -pedantic -std=c++98 -O2 -DNDEBUG -MT MemoryStorageManager.lo -MD -MP -MF .deps/MemoryStorageManager.Tpo -c MemoryStorageManager.cc -o MemoryStorageManager.o >/dev/null 2>&1\n",
            "depbase=`echo RandomEvictionsBuffer.lo | sed 's|[^/]*$|.deps/&|;s|\\.lo$||'`;\\\n",
            "/bin/bash ../../libtool  --tag=CXX   --mode=compile g++ -DPACKAGE_NAME=\\\"spatialindex\\\" -DPACKAGE_TARNAME=\\\"spatialindex-src\\\" -DPACKAGE_VERSION=\\\"1.8.5\\\" -DPACKAGE_STRING=\\\"spatialindex\\ 1.8.5\\\" -DPACKAGE_BUGREPORT=\\\"mhadji@gmail.com\\\" -DPACKAGE_URL=\\\"\\\" -DSTDC_HEADERS=1 -DHAVE_SYS_TYPES_H=1 -DHAVE_SYS_STAT_H=1 -DHAVE_STDLIB_H=1 -DHAVE_STRING_H=1 -DHAVE_MEMORY_H=1 -DHAVE_STRINGS_H=1 -DHAVE_INTTYPES_H=1 -DHAVE_STDINT_H=1 -DHAVE_UNISTD_H=1 -DHAVE_DLFCN_H=1 -DLT_OBJDIR=\\\".libs/\\\" -DPACKAGE=\\\"spatialindex-src\\\" -DVERSION=\\\"1.8.5\\\" -DHAVE_FCNTL_H=1 -DHAVE_UNISTD_H=1 -DHAVE_SYS_TYPES_H=1 -DHAVE_SYS_STAT_H=1 -DHAVE_PTHREAD_H=1 -DHAVE_SYS_RESOURCE_H=1 -DHAVE_SYS_TIME_H=1 -DHAVE_STDINT_H=1 -DHAVE_FEATURES_H=1 -DHAVE_GETTIMEOFDAY=1 -DHAVE_MEMSET=1 -DHAVE_MEMCPY=1 -DHAVE_BCOPY=1 -DHAVE_SRAND48=1 -I. -I../../include     -Wall -Wno-long-long -pedantic -std=c++98  -O2 -DNDEBUG -MT RandomEvictionsBuffer.lo -MD -MP -MF $depbase.Tpo -c -o RandomEvictionsBuffer.lo RandomEvictionsBuffer.cc &&\\\n",
            "mv -f $depbase.Tpo $depbase.Plo\n",
            "libtool: compile:  g++ -DPACKAGE_NAME=\\\"spatialindex\\\" -DPACKAGE_TARNAME=\\\"spatialindex-src\\\" -DPACKAGE_VERSION=\\\"1.8.5\\\" \"-DPACKAGE_STRING=\\\"spatialindex 1.8.5\\\"\" -DPACKAGE_BUGREPORT=\\\"mhadji@gmail.com\\\" -DPACKAGE_URL=\\\"\\\" -DSTDC_HEADERS=1 -DHAVE_SYS_TYPES_H=1 -DHAVE_SYS_STAT_H=1 -DHAVE_STDLIB_H=1 -DHAVE_STRING_H=1 -DHAVE_MEMORY_H=1 -DHAVE_STRINGS_H=1 -DHAVE_INTTYPES_H=1 -DHAVE_STDINT_H=1 -DHAVE_UNISTD_H=1 -DHAVE_DLFCN_H=1 -DLT_OBJDIR=\\\".libs/\\\" -DPACKAGE=\\\"spatialindex-src\\\" -DVERSION=\\\"1.8.5\\\" -DHAVE_FCNTL_H=1 -DHAVE_UNISTD_H=1 -DHAVE_SYS_TYPES_H=1 -DHAVE_SYS_STAT_H=1 -DHAVE_PTHREAD_H=1 -DHAVE_SYS_RESOURCE_H=1 -DHAVE_SYS_TIME_H=1 -DHAVE_STDINT_H=1 -DHAVE_FEATURES_H=1 -DHAVE_GETTIMEOFDAY=1 -DHAVE_MEMSET=1 -DHAVE_MEMCPY=1 -DHAVE_BCOPY=1 -DHAVE_SRAND48=1 -I. -I../../include -Wall -Wno-long-long -pedantic -std=c++98 -O2 -DNDEBUG -MT RandomEvictionsBuffer.lo -MD -MP -MF .deps/RandomEvictionsBuffer.Tpo -c RandomEvictionsBuffer.cc  -fPIC -DPIC -o .libs/RandomEvictionsBuffer.o\n",
            "libtool: compile:  g++ -DPACKAGE_NAME=\\\"spatialindex\\\" -DPACKAGE_TARNAME=\\\"spatialindex-src\\\" -DPACKAGE_VERSION=\\\"1.8.5\\\" \"-DPACKAGE_STRING=\\\"spatialindex 1.8.5\\\"\" -DPACKAGE_BUGREPORT=\\\"mhadji@gmail.com\\\" -DPACKAGE_URL=\\\"\\\" -DSTDC_HEADERS=1 -DHAVE_SYS_TYPES_H=1 -DHAVE_SYS_STAT_H=1 -DHAVE_STDLIB_H=1 -DHAVE_STRING_H=1 -DHAVE_MEMORY_H=1 -DHAVE_STRINGS_H=1 -DHAVE_INTTYPES_H=1 -DHAVE_STDINT_H=1 -DHAVE_UNISTD_H=1 -DHAVE_DLFCN_H=1 -DLT_OBJDIR=\\\".libs/\\\" -DPACKAGE=\\\"spatialindex-src\\\" -DVERSION=\\\"1.8.5\\\" -DHAVE_FCNTL_H=1 -DHAVE_UNISTD_H=1 -DHAVE_SYS_TYPES_H=1 -DHAVE_SYS_STAT_H=1 -DHAVE_PTHREAD_H=1 -DHAVE_SYS_RESOURCE_H=1 -DHAVE_SYS_TIME_H=1 -DHAVE_STDINT_H=1 -DHAVE_FEATURES_H=1 -DHAVE_GETTIMEOFDAY=1 -DHAVE_MEMSET=1 -DHAVE_MEMCPY=1 -DHAVE_BCOPY=1 -DHAVE_SRAND48=1 -I. -I../../include -Wall -Wno-long-long -pedantic -std=c++98 -O2 -DNDEBUG -MT RandomEvictionsBuffer.lo -MD -MP -MF .deps/RandomEvictionsBuffer.Tpo -c RandomEvictionsBuffer.cc -o RandomEvictionsBuffer.o >/dev/null 2>&1\n",
            "/bin/bash ../../libtool  --tag=CXX   --mode=link g++  -Wall -Wno-long-long -pedantic -std=c++98  -O2 -DNDEBUG   -o libstoragemanager.la  Buffer.lo DiskStorageManager.lo MemoryStorageManager.lo RandomEvictionsBuffer.lo  -lpthread\n",
            "libtool: link: ar cru .libs/libstoragemanager.a .libs/Buffer.o .libs/DiskStorageManager.o .libs/MemoryStorageManager.o .libs/RandomEvictionsBuffer.o \n",
            "ar: `u' modifier ignored since `D' is the default (see `U')\n",
            "libtool: link: ranlib .libs/libstoragemanager.a\n",
            "libtool: link: ( cd \".libs\" && rm -f \"libstoragemanager.la\" && ln -s \"../libstoragemanager.la\" \"libstoragemanager.la\" )\n",
            "make[2]: Leaving directory '/content/spatialindex-src-1.8.5/src/storagemanager'\n",
            "Making all in spatialindex\n",
            "make[2]: Entering directory '/content/spatialindex-src-1.8.5/src/spatialindex'\n",
            "depbase=`echo Point.lo | sed 's|[^/]*$|.deps/&|;s|\\.lo$||'`;\\\n",
            "/bin/bash ../../libtool  --tag=CXX   --mode=compile g++ -DPACKAGE_NAME=\\\"spatialindex\\\" -DPACKAGE_TARNAME=\\\"spatialindex-src\\\" -DPACKAGE_VERSION=\\\"1.8.5\\\" -DPACKAGE_STRING=\\\"spatialindex\\ 1.8.5\\\" -DPACKAGE_BUGREPORT=\\\"mhadji@gmail.com\\\" -DPACKAGE_URL=\\\"\\\" -DSTDC_HEADERS=1 -DHAVE_SYS_TYPES_H=1 -DHAVE_SYS_STAT_H=1 -DHAVE_STDLIB_H=1 -DHAVE_STRING_H=1 -DHAVE_MEMORY_H=1 -DHAVE_STRINGS_H=1 -DHAVE_INTTYPES_H=1 -DHAVE_STDINT_H=1 -DHAVE_UNISTD_H=1 -DHAVE_DLFCN_H=1 -DLT_OBJDIR=\\\".libs/\\\" -DPACKAGE=\\\"spatialindex-src\\\" -DVERSION=\\\"1.8.5\\\" -DHAVE_FCNTL_H=1 -DHAVE_UNISTD_H=1 -DHAVE_SYS_TYPES_H=1 -DHAVE_SYS_STAT_H=1 -DHAVE_PTHREAD_H=1 -DHAVE_SYS_RESOURCE_H=1 -DHAVE_SYS_TIME_H=1 -DHAVE_STDINT_H=1 -DHAVE_FEATURES_H=1 -DHAVE_GETTIMEOFDAY=1 -DHAVE_MEMSET=1 -DHAVE_MEMCPY=1 -DHAVE_BCOPY=1 -DHAVE_SRAND48=1 -I. -I../../include    -Wall -Wno-long-long -pedantic -std=c++98  -O2 -DNDEBUG -MT Point.lo -MD -MP -MF $depbase.Tpo -c -o Point.lo Point.cc &&\\\n",
            "mv -f $depbase.Tpo $depbase.Plo\n",
            "libtool: compile:  g++ -DPACKAGE_NAME=\\\"spatialindex\\\" -DPACKAGE_TARNAME=\\\"spatialindex-src\\\" -DPACKAGE_VERSION=\\\"1.8.5\\\" \"-DPACKAGE_STRING=\\\"spatialindex 1.8.5\\\"\" -DPACKAGE_BUGREPORT=\\\"mhadji@gmail.com\\\" -DPACKAGE_URL=\\\"\\\" -DSTDC_HEADERS=1 -DHAVE_SYS_TYPES_H=1 -DHAVE_SYS_STAT_H=1 -DHAVE_STDLIB_H=1 -DHAVE_STRING_H=1 -DHAVE_MEMORY_H=1 -DHAVE_STRINGS_H=1 -DHAVE_INTTYPES_H=1 -DHAVE_STDINT_H=1 -DHAVE_UNISTD_H=1 -DHAVE_DLFCN_H=1 -DLT_OBJDIR=\\\".libs/\\\" -DPACKAGE=\\\"spatialindex-src\\\" -DVERSION=\\\"1.8.5\\\" -DHAVE_FCNTL_H=1 -DHAVE_UNISTD_H=1 -DHAVE_SYS_TYPES_H=1 -DHAVE_SYS_STAT_H=1 -DHAVE_PTHREAD_H=1 -DHAVE_SYS_RESOURCE_H=1 -DHAVE_SYS_TIME_H=1 -DHAVE_STDINT_H=1 -DHAVE_FEATURES_H=1 -DHAVE_GETTIMEOFDAY=1 -DHAVE_MEMSET=1 -DHAVE_MEMCPY=1 -DHAVE_BCOPY=1 -DHAVE_SRAND48=1 -I. -I../../include -Wall -Wno-long-long -pedantic -std=c++98 -O2 -DNDEBUG -MT Point.lo -MD -MP -MF .deps/Point.Tpo -c Point.cc  -fPIC -DPIC -o .libs/Point.o\n",
            "libtool: compile:  g++ -DPACKAGE_NAME=\\\"spatialindex\\\" -DPACKAGE_TARNAME=\\\"spatialindex-src\\\" -DPACKAGE_VERSION=\\\"1.8.5\\\" \"-DPACKAGE_STRING=\\\"spatialindex 1.8.5\\\"\" -DPACKAGE_BUGREPORT=\\\"mhadji@gmail.com\\\" -DPACKAGE_URL=\\\"\\\" -DSTDC_HEADERS=1 -DHAVE_SYS_TYPES_H=1 -DHAVE_SYS_STAT_H=1 -DHAVE_STDLIB_H=1 -DHAVE_STRING_H=1 -DHAVE_MEMORY_H=1 -DHAVE_STRINGS_H=1 -DHAVE_INTTYPES_H=1 -DHAVE_STDINT_H=1 -DHAVE_UNISTD_H=1 -DHAVE_DLFCN_H=1 -DLT_OBJDIR=\\\".libs/\\\" -DPACKAGE=\\\"spatialindex-src\\\" -DVERSION=\\\"1.8.5\\\" -DHAVE_FCNTL_H=1 -DHAVE_UNISTD_H=1 -DHAVE_SYS_TYPES_H=1 -DHAVE_SYS_STAT_H=1 -DHAVE_PTHREAD_H=1 -DHAVE_SYS_RESOURCE_H=1 -DHAVE_SYS_TIME_H=1 -DHAVE_STDINT_H=1 -DHAVE_FEATURES_H=1 -DHAVE_GETTIMEOFDAY=1 -DHAVE_MEMSET=1 -DHAVE_MEMCPY=1 -DHAVE_BCOPY=1 -DHAVE_SRAND48=1 -I. -I../../include -Wall -Wno-long-long -pedantic -std=c++98 -O2 -DNDEBUG -MT Point.lo -MD -MP -MF .deps/Point.Tpo -c Point.cc -o Point.o >/dev/null 2>&1\n",
            "depbase=`echo Region.lo | sed 's|[^/]*$|.deps/&|;s|\\.lo$||'`;\\\n",
            "/bin/bash ../../libtool  --tag=CXX   --mode=compile g++ -DPACKAGE_NAME=\\\"spatialindex\\\" -DPACKAGE_TARNAME=\\\"spatialindex-src\\\" -DPACKAGE_VERSION=\\\"1.8.5\\\" -DPACKAGE_STRING=\\\"spatialindex\\ 1.8.5\\\" -DPACKAGE_BUGREPORT=\\\"mhadji@gmail.com\\\" -DPACKAGE_URL=\\\"\\\" -DSTDC_HEADERS=1 -DHAVE_SYS_TYPES_H=1 -DHAVE_SYS_STAT_H=1 -DHAVE_STDLIB_H=1 -DHAVE_STRING_H=1 -DHAVE_MEMORY_H=1 -DHAVE_STRINGS_H=1 -DHAVE_INTTYPES_H=1 -DHAVE_STDINT_H=1 -DHAVE_UNISTD_H=1 -DHAVE_DLFCN_H=1 -DLT_OBJDIR=\\\".libs/\\\" -DPACKAGE=\\\"spatialindex-src\\\" -DVERSION=\\\"1.8.5\\\" -DHAVE_FCNTL_H=1 -DHAVE_UNISTD_H=1 -DHAVE_SYS_TYPES_H=1 -DHAVE_SYS_STAT_H=1 -DHAVE_PTHREAD_H=1 -DHAVE_SYS_RESOURCE_H=1 -DHAVE_SYS_TIME_H=1 -DHAVE_STDINT_H=1 -DHAVE_FEATURES_H=1 -DHAVE_GETTIMEOFDAY=1 -DHAVE_MEMSET=1 -DHAVE_MEMCPY=1 -DHAVE_BCOPY=1 -DHAVE_SRAND48=1 -I. -I../../include    -Wall -Wno-long-long -pedantic -std=c++98  -O2 -DNDEBUG -MT Region.lo -MD -MP -MF $depbase.Tpo -c -o Region.lo Region.cc &&\\\n",
            "mv -f $depbase.Tpo $depbase.Plo\n",
            "libtool: compile:  g++ -DPACKAGE_NAME=\\\"spatialindex\\\" -DPACKAGE_TARNAME=\\\"spatialindex-src\\\" -DPACKAGE_VERSION=\\\"1.8.5\\\" \"-DPACKAGE_STRING=\\\"spatialindex 1.8.5\\\"\" -DPACKAGE_BUGREPORT=\\\"mhadji@gmail.com\\\" -DPACKAGE_URL=\\\"\\\" -DSTDC_HEADERS=1 -DHAVE_SYS_TYPES_H=1 -DHAVE_SYS_STAT_H=1 -DHAVE_STDLIB_H=1 -DHAVE_STRING_H=1 -DHAVE_MEMORY_H=1 -DHAVE_STRINGS_H=1 -DHAVE_INTTYPES_H=1 -DHAVE_STDINT_H=1 -DHAVE_UNISTD_H=1 -DHAVE_DLFCN_H=1 -DLT_OBJDIR=\\\".libs/\\\" -DPACKAGE=\\\"spatialindex-src\\\" -DVERSION=\\\"1.8.5\\\" -DHAVE_FCNTL_H=1 -DHAVE_UNISTD_H=1 -DHAVE_SYS_TYPES_H=1 -DHAVE_SYS_STAT_H=1 -DHAVE_PTHREAD_H=1 -DHAVE_SYS_RESOURCE_H=1 -DHAVE_SYS_TIME_H=1 -DHAVE_STDINT_H=1 -DHAVE_FEATURES_H=1 -DHAVE_GETTIMEOFDAY=1 -DHAVE_MEMSET=1 -DHAVE_MEMCPY=1 -DHAVE_BCOPY=1 -DHAVE_SRAND48=1 -I. -I../../include -Wall -Wno-long-long -pedantic -std=c++98 -O2 -DNDEBUG -MT Region.lo -MD -MP -MF .deps/Region.Tpo -c Region.cc  -fPIC -DPIC -o .libs/Region.o\n",
            "libtool: compile:  g++ -DPACKAGE_NAME=\\\"spatialindex\\\" -DPACKAGE_TARNAME=\\\"spatialindex-src\\\" -DPACKAGE_VERSION=\\\"1.8.5\\\" \"-DPACKAGE_STRING=\\\"spatialindex 1.8.5\\\"\" -DPACKAGE_BUGREPORT=\\\"mhadji@gmail.com\\\" -DPACKAGE_URL=\\\"\\\" -DSTDC_HEADERS=1 -DHAVE_SYS_TYPES_H=1 -DHAVE_SYS_STAT_H=1 -DHAVE_STDLIB_H=1 -DHAVE_STRING_H=1 -DHAVE_MEMORY_H=1 -DHAVE_STRINGS_H=1 -DHAVE_INTTYPES_H=1 -DHAVE_STDINT_H=1 -DHAVE_UNISTD_H=1 -DHAVE_DLFCN_H=1 -DLT_OBJDIR=\\\".libs/\\\" -DPACKAGE=\\\"spatialindex-src\\\" -DVERSION=\\\"1.8.5\\\" -DHAVE_FCNTL_H=1 -DHAVE_UNISTD_H=1 -DHAVE_SYS_TYPES_H=1 -DHAVE_SYS_STAT_H=1 -DHAVE_PTHREAD_H=1 -DHAVE_SYS_RESOURCE_H=1 -DHAVE_SYS_TIME_H=1 -DHAVE_STDINT_H=1 -DHAVE_FEATURES_H=1 -DHAVE_GETTIMEOFDAY=1 -DHAVE_MEMSET=1 -DHAVE_MEMCPY=1 -DHAVE_BCOPY=1 -DHAVE_SRAND48=1 -I. -I../../include -Wall -Wno-long-long -pedantic -std=c++98 -O2 -DNDEBUG -MT Region.lo -MD -MP -MF .deps/Region.Tpo -c Region.cc -o Region.o >/dev/null 2>&1\n",
            "depbase=`echo LineSegment.lo | sed 's|[^/]*$|.deps/&|;s|\\.lo$||'`;\\\n",
            "/bin/bash ../../libtool  --tag=CXX   --mode=compile g++ -DPACKAGE_NAME=\\\"spatialindex\\\" -DPACKAGE_TARNAME=\\\"spatialindex-src\\\" -DPACKAGE_VERSION=\\\"1.8.5\\\" -DPACKAGE_STRING=\\\"spatialindex\\ 1.8.5\\\" -DPACKAGE_BUGREPORT=\\\"mhadji@gmail.com\\\" -DPACKAGE_URL=\\\"\\\" -DSTDC_HEADERS=1 -DHAVE_SYS_TYPES_H=1 -DHAVE_SYS_STAT_H=1 -DHAVE_STDLIB_H=1 -DHAVE_STRING_H=1 -DHAVE_MEMORY_H=1 -DHAVE_STRINGS_H=1 -DHAVE_INTTYPES_H=1 -DHAVE_STDINT_H=1 -DHAVE_UNISTD_H=1 -DHAVE_DLFCN_H=1 -DLT_OBJDIR=\\\".libs/\\\" -DPACKAGE=\\\"spatialindex-src\\\" -DVERSION=\\\"1.8.5\\\" -DHAVE_FCNTL_H=1 -DHAVE_UNISTD_H=1 -DHAVE_SYS_TYPES_H=1 -DHAVE_SYS_STAT_H=1 -DHAVE_PTHREAD_H=1 -DHAVE_SYS_RESOURCE_H=1 -DHAVE_SYS_TIME_H=1 -DHAVE_STDINT_H=1 -DHAVE_FEATURES_H=1 -DHAVE_GETTIMEOFDAY=1 -DHAVE_MEMSET=1 -DHAVE_MEMCPY=1 -DHAVE_BCOPY=1 -DHAVE_SRAND48=1 -I. -I../../include    -Wall -Wno-long-long -pedantic -std=c++98  -O2 -DNDEBUG -MT LineSegment.lo -MD -MP -MF $depbase.Tpo -c -o LineSegment.lo LineSegment.cc &&\\\n",
            "mv -f $depbase.Tpo $depbase.Plo\n",
            "libtool: compile:  g++ -DPACKAGE_NAME=\\\"spatialindex\\\" -DPACKAGE_TARNAME=\\\"spatialindex-src\\\" -DPACKAGE_VERSION=\\\"1.8.5\\\" \"-DPACKAGE_STRING=\\\"spatialindex 1.8.5\\\"\" -DPACKAGE_BUGREPORT=\\\"mhadji@gmail.com\\\" -DPACKAGE_URL=\\\"\\\" -DSTDC_HEADERS=1 -DHAVE_SYS_TYPES_H=1 -DHAVE_SYS_STAT_H=1 -DHAVE_STDLIB_H=1 -DHAVE_STRING_H=1 -DHAVE_MEMORY_H=1 -DHAVE_STRINGS_H=1 -DHAVE_INTTYPES_H=1 -DHAVE_STDINT_H=1 -DHAVE_UNISTD_H=1 -DHAVE_DLFCN_H=1 -DLT_OBJDIR=\\\".libs/\\\" -DPACKAGE=\\\"spatialindex-src\\\" -DVERSION=\\\"1.8.5\\\" -DHAVE_FCNTL_H=1 -DHAVE_UNISTD_H=1 -DHAVE_SYS_TYPES_H=1 -DHAVE_SYS_STAT_H=1 -DHAVE_PTHREAD_H=1 -DHAVE_SYS_RESOURCE_H=1 -DHAVE_SYS_TIME_H=1 -DHAVE_STDINT_H=1 -DHAVE_FEATURES_H=1 -DHAVE_GETTIMEOFDAY=1 -DHAVE_MEMSET=1 -DHAVE_MEMCPY=1 -DHAVE_BCOPY=1 -DHAVE_SRAND48=1 -I. -I../../include -Wall -Wno-long-long -pedantic -std=c++98 -O2 -DNDEBUG -MT LineSegment.lo -MD -MP -MF .deps/LineSegment.Tpo -c LineSegment.cc  -fPIC -DPIC -o .libs/LineSegment.o\n",
            "libtool: compile:  g++ -DPACKAGE_NAME=\\\"spatialindex\\\" -DPACKAGE_TARNAME=\\\"spatialindex-src\\\" -DPACKAGE_VERSION=\\\"1.8.5\\\" \"-DPACKAGE_STRING=\\\"spatialindex 1.8.5\\\"\" -DPACKAGE_BUGREPORT=\\\"mhadji@gmail.com\\\" -DPACKAGE_URL=\\\"\\\" -DSTDC_HEADERS=1 -DHAVE_SYS_TYPES_H=1 -DHAVE_SYS_STAT_H=1 -DHAVE_STDLIB_H=1 -DHAVE_STRING_H=1 -DHAVE_MEMORY_H=1 -DHAVE_STRINGS_H=1 -DHAVE_INTTYPES_H=1 -DHAVE_STDINT_H=1 -DHAVE_UNISTD_H=1 -DHAVE_DLFCN_H=1 -DLT_OBJDIR=\\\".libs/\\\" -DPACKAGE=\\\"spatialindex-src\\\" -DVERSION=\\\"1.8.5\\\" -DHAVE_FCNTL_H=1 -DHAVE_UNISTD_H=1 -DHAVE_SYS_TYPES_H=1 -DHAVE_SYS_STAT_H=1 -DHAVE_PTHREAD_H=1 -DHAVE_SYS_RESOURCE_H=1 -DHAVE_SYS_TIME_H=1 -DHAVE_STDINT_H=1 -DHAVE_FEATURES_H=1 -DHAVE_GETTIMEOFDAY=1 -DHAVE_MEMSET=1 -DHAVE_MEMCPY=1 -DHAVE_BCOPY=1 -DHAVE_SRAND48=1 -I. -I../../include -Wall -Wno-long-long -pedantic -std=c++98 -O2 -DNDEBUG -MT LineSegment.lo -MD -MP -MF .deps/LineSegment.Tpo -c LineSegment.cc -o LineSegment.o >/dev/null 2>&1\n",
            "depbase=`echo MovingPoint.lo | sed 's|[^/]*$|.deps/&|;s|\\.lo$||'`;\\\n",
            "/bin/bash ../../libtool  --tag=CXX   --mode=compile g++ -DPACKAGE_NAME=\\\"spatialindex\\\" -DPACKAGE_TARNAME=\\\"spatialindex-src\\\" -DPACKAGE_VERSION=\\\"1.8.5\\\" -DPACKAGE_STRING=\\\"spatialindex\\ 1.8.5\\\" -DPACKAGE_BUGREPORT=\\\"mhadji@gmail.com\\\" -DPACKAGE_URL=\\\"\\\" -DSTDC_HEADERS=1 -DHAVE_SYS_TYPES_H=1 -DHAVE_SYS_STAT_H=1 -DHAVE_STDLIB_H=1 -DHAVE_STRING_H=1 -DHAVE_MEMORY_H=1 -DHAVE_STRINGS_H=1 -DHAVE_INTTYPES_H=1 -DHAVE_STDINT_H=1 -DHAVE_UNISTD_H=1 -DHAVE_DLFCN_H=1 -DLT_OBJDIR=\\\".libs/\\\" -DPACKAGE=\\\"spatialindex-src\\\" -DVERSION=\\\"1.8.5\\\" -DHAVE_FCNTL_H=1 -DHAVE_UNISTD_H=1 -DHAVE_SYS_TYPES_H=1 -DHAVE_SYS_STAT_H=1 -DHAVE_PTHREAD_H=1 -DHAVE_SYS_RESOURCE_H=1 -DHAVE_SYS_TIME_H=1 -DHAVE_STDINT_H=1 -DHAVE_FEATURES_H=1 -DHAVE_GETTIMEOFDAY=1 -DHAVE_MEMSET=1 -DHAVE_MEMCPY=1 -DHAVE_BCOPY=1 -DHAVE_SRAND48=1 -I. -I../../include    -Wall -Wno-long-long -pedantic -std=c++98  -O2 -DNDEBUG -MT MovingPoint.lo -MD -MP -MF $depbase.Tpo -c -o MovingPoint.lo MovingPoint.cc &&\\\n",
            "mv -f $depbase.Tpo $depbase.Plo\n",
            "libtool: compile:  g++ -DPACKAGE_NAME=\\\"spatialindex\\\" -DPACKAGE_TARNAME=\\\"spatialindex-src\\\" -DPACKAGE_VERSION=\\\"1.8.5\\\" \"-DPACKAGE_STRING=\\\"spatialindex 1.8.5\\\"\" -DPACKAGE_BUGREPORT=\\\"mhadji@gmail.com\\\" -DPACKAGE_URL=\\\"\\\" -DSTDC_HEADERS=1 -DHAVE_SYS_TYPES_H=1 -DHAVE_SYS_STAT_H=1 -DHAVE_STDLIB_H=1 -DHAVE_STRING_H=1 -DHAVE_MEMORY_H=1 -DHAVE_STRINGS_H=1 -DHAVE_INTTYPES_H=1 -DHAVE_STDINT_H=1 -DHAVE_UNISTD_H=1 -DHAVE_DLFCN_H=1 -DLT_OBJDIR=\\\".libs/\\\" -DPACKAGE=\\\"spatialindex-src\\\" -DVERSION=\\\"1.8.5\\\" -DHAVE_FCNTL_H=1 -DHAVE_UNISTD_H=1 -DHAVE_SYS_TYPES_H=1 -DHAVE_SYS_STAT_H=1 -DHAVE_PTHREAD_H=1 -DHAVE_SYS_RESOURCE_H=1 -DHAVE_SYS_TIME_H=1 -DHAVE_STDINT_H=1 -DHAVE_FEATURES_H=1 -DHAVE_GETTIMEOFDAY=1 -DHAVE_MEMSET=1 -DHAVE_MEMCPY=1 -DHAVE_BCOPY=1 -DHAVE_SRAND48=1 -I. -I../../include -Wall -Wno-long-long -pedantic -std=c++98 -O2 -DNDEBUG -MT MovingPoint.lo -MD -MP -MF .deps/MovingPoint.Tpo -c MovingPoint.cc  -fPIC -DPIC -o .libs/MovingPoint.o\n",
            "libtool: compile:  g++ -DPACKAGE_NAME=\\\"spatialindex\\\" -DPACKAGE_TARNAME=\\\"spatialindex-src\\\" -DPACKAGE_VERSION=\\\"1.8.5\\\" \"-DPACKAGE_STRING=\\\"spatialindex 1.8.5\\\"\" -DPACKAGE_BUGREPORT=\\\"mhadji@gmail.com\\\" -DPACKAGE_URL=\\\"\\\" -DSTDC_HEADERS=1 -DHAVE_SYS_TYPES_H=1 -DHAVE_SYS_STAT_H=1 -DHAVE_STDLIB_H=1 -DHAVE_STRING_H=1 -DHAVE_MEMORY_H=1 -DHAVE_STRINGS_H=1 -DHAVE_INTTYPES_H=1 -DHAVE_STDINT_H=1 -DHAVE_UNISTD_H=1 -DHAVE_DLFCN_H=1 -DLT_OBJDIR=\\\".libs/\\\" -DPACKAGE=\\\"spatialindex-src\\\" -DVERSION=\\\"1.8.5\\\" -DHAVE_FCNTL_H=1 -DHAVE_UNISTD_H=1 -DHAVE_SYS_TYPES_H=1 -DHAVE_SYS_STAT_H=1 -DHAVE_PTHREAD_H=1 -DHAVE_SYS_RESOURCE_H=1 -DHAVE_SYS_TIME_H=1 -DHAVE_STDINT_H=1 -DHAVE_FEATURES_H=1 -DHAVE_GETTIMEOFDAY=1 -DHAVE_MEMSET=1 -DHAVE_MEMCPY=1 -DHAVE_BCOPY=1 -DHAVE_SRAND48=1 -I. -I../../include -Wall -Wno-long-long -pedantic -std=c++98 -O2 -DNDEBUG -MT MovingPoint.lo -MD -MP -MF .deps/MovingPoint.Tpo -c MovingPoint.cc -o MovingPoint.o >/dev/null 2>&1\n",
            "depbase=`echo MovingRegion.lo | sed 's|[^/]*$|.deps/&|;s|\\.lo$||'`;\\\n",
            "/bin/bash ../../libtool  --tag=CXX   --mode=compile g++ -DPACKAGE_NAME=\\\"spatialindex\\\" -DPACKAGE_TARNAME=\\\"spatialindex-src\\\" -DPACKAGE_VERSION=\\\"1.8.5\\\" -DPACKAGE_STRING=\\\"spatialindex\\ 1.8.5\\\" -DPACKAGE_BUGREPORT=\\\"mhadji@gmail.com\\\" -DPACKAGE_URL=\\\"\\\" -DSTDC_HEADERS=1 -DHAVE_SYS_TYPES_H=1 -DHAVE_SYS_STAT_H=1 -DHAVE_STDLIB_H=1 -DHAVE_STRING_H=1 -DHAVE_MEMORY_H=1 -DHAVE_STRINGS_H=1 -DHAVE_INTTYPES_H=1 -DHAVE_STDINT_H=1 -DHAVE_UNISTD_H=1 -DHAVE_DLFCN_H=1 -DLT_OBJDIR=\\\".libs/\\\" -DPACKAGE=\\\"spatialindex-src\\\" -DVERSION=\\\"1.8.5\\\" -DHAVE_FCNTL_H=1 -DHAVE_UNISTD_H=1 -DHAVE_SYS_TYPES_H=1 -DHAVE_SYS_STAT_H=1 -DHAVE_PTHREAD_H=1 -DHAVE_SYS_RESOURCE_H=1 -DHAVE_SYS_TIME_H=1 -DHAVE_STDINT_H=1 -DHAVE_FEATURES_H=1 -DHAVE_GETTIMEOFDAY=1 -DHAVE_MEMSET=1 -DHAVE_MEMCPY=1 -DHAVE_BCOPY=1 -DHAVE_SRAND48=1 -I. -I../../include    -Wall -Wno-long-long -pedantic -std=c++98  -O2 -DNDEBUG -MT MovingRegion.lo -MD -MP -MF $depbase.Tpo -c -o MovingRegion.lo MovingRegion.cc &&\\\n",
            "mv -f $depbase.Tpo $depbase.Plo\n",
            "libtool: compile:  g++ -DPACKAGE_NAME=\\\"spatialindex\\\" -DPACKAGE_TARNAME=\\\"spatialindex-src\\\" -DPACKAGE_VERSION=\\\"1.8.5\\\" \"-DPACKAGE_STRING=\\\"spatialindex 1.8.5\\\"\" -DPACKAGE_BUGREPORT=\\\"mhadji@gmail.com\\\" -DPACKAGE_URL=\\\"\\\" -DSTDC_HEADERS=1 -DHAVE_SYS_TYPES_H=1 -DHAVE_SYS_STAT_H=1 -DHAVE_STDLIB_H=1 -DHAVE_STRING_H=1 -DHAVE_MEMORY_H=1 -DHAVE_STRINGS_H=1 -DHAVE_INTTYPES_H=1 -DHAVE_STDINT_H=1 -DHAVE_UNISTD_H=1 -DHAVE_DLFCN_H=1 -DLT_OBJDIR=\\\".libs/\\\" -DPACKAGE=\\\"spatialindex-src\\\" -DVERSION=\\\"1.8.5\\\" -DHAVE_FCNTL_H=1 -DHAVE_UNISTD_H=1 -DHAVE_SYS_TYPES_H=1 -DHAVE_SYS_STAT_H=1 -DHAVE_PTHREAD_H=1 -DHAVE_SYS_RESOURCE_H=1 -DHAVE_SYS_TIME_H=1 -DHAVE_STDINT_H=1 -DHAVE_FEATURES_H=1 -DHAVE_GETTIMEOFDAY=1 -DHAVE_MEMSET=1 -DHAVE_MEMCPY=1 -DHAVE_BCOPY=1 -DHAVE_SRAND48=1 -I. -I../../include -Wall -Wno-long-long -pedantic -std=c++98 -O2 -DNDEBUG -MT MovingRegion.lo -MD -MP -MF .deps/MovingRegion.Tpo -c MovingRegion.cc  -fPIC -DPIC -o .libs/MovingRegion.o\n",
            "libtool: compile:  g++ -DPACKAGE_NAME=\\\"spatialindex\\\" -DPACKAGE_TARNAME=\\\"spatialindex-src\\\" -DPACKAGE_VERSION=\\\"1.8.5\\\" \"-DPACKAGE_STRING=\\\"spatialindex 1.8.5\\\"\" -DPACKAGE_BUGREPORT=\\\"mhadji@gmail.com\\\" -DPACKAGE_URL=\\\"\\\" -DSTDC_HEADERS=1 -DHAVE_SYS_TYPES_H=1 -DHAVE_SYS_STAT_H=1 -DHAVE_STDLIB_H=1 -DHAVE_STRING_H=1 -DHAVE_MEMORY_H=1 -DHAVE_STRINGS_H=1 -DHAVE_INTTYPES_H=1 -DHAVE_STDINT_H=1 -DHAVE_UNISTD_H=1 -DHAVE_DLFCN_H=1 -DLT_OBJDIR=\\\".libs/\\\" -DPACKAGE=\\\"spatialindex-src\\\" -DVERSION=\\\"1.8.5\\\" -DHAVE_FCNTL_H=1 -DHAVE_UNISTD_H=1 -DHAVE_SYS_TYPES_H=1 -DHAVE_SYS_STAT_H=1 -DHAVE_PTHREAD_H=1 -DHAVE_SYS_RESOURCE_H=1 -DHAVE_SYS_TIME_H=1 -DHAVE_STDINT_H=1 -DHAVE_FEATURES_H=1 -DHAVE_GETTIMEOFDAY=1 -DHAVE_MEMSET=1 -DHAVE_MEMCPY=1 -DHAVE_BCOPY=1 -DHAVE_SRAND48=1 -I. -I../../include -Wall -Wno-long-long -pedantic -std=c++98 -O2 -DNDEBUG -MT MovingRegion.lo -MD -MP -MF .deps/MovingRegion.Tpo -c MovingRegion.cc -o MovingRegion.o >/dev/null 2>&1\n",
            "depbase=`echo TimePoint.lo | sed 's|[^/]*$|.deps/&|;s|\\.lo$||'`;\\\n",
            "/bin/bash ../../libtool  --tag=CXX   --mode=compile g++ -DPACKAGE_NAME=\\\"spatialindex\\\" -DPACKAGE_TARNAME=\\\"spatialindex-src\\\" -DPACKAGE_VERSION=\\\"1.8.5\\\" -DPACKAGE_STRING=\\\"spatialindex\\ 1.8.5\\\" -DPACKAGE_BUGREPORT=\\\"mhadji@gmail.com\\\" -DPACKAGE_URL=\\\"\\\" -DSTDC_HEADERS=1 -DHAVE_SYS_TYPES_H=1 -DHAVE_SYS_STAT_H=1 -DHAVE_STDLIB_H=1 -DHAVE_STRING_H=1 -DHAVE_MEMORY_H=1 -DHAVE_STRINGS_H=1 -DHAVE_INTTYPES_H=1 -DHAVE_STDINT_H=1 -DHAVE_UNISTD_H=1 -DHAVE_DLFCN_H=1 -DLT_OBJDIR=\\\".libs/\\\" -DPACKAGE=\\\"spatialindex-src\\\" -DVERSION=\\\"1.8.5\\\" -DHAVE_FCNTL_H=1 -DHAVE_UNISTD_H=1 -DHAVE_SYS_TYPES_H=1 -DHAVE_SYS_STAT_H=1 -DHAVE_PTHREAD_H=1 -DHAVE_SYS_RESOURCE_H=1 -DHAVE_SYS_TIME_H=1 -DHAVE_STDINT_H=1 -DHAVE_FEATURES_H=1 -DHAVE_GETTIMEOFDAY=1 -DHAVE_MEMSET=1 -DHAVE_MEMCPY=1 -DHAVE_BCOPY=1 -DHAVE_SRAND48=1 -I. -I../../include    -Wall -Wno-long-long -pedantic -std=c++98  -O2 -DNDEBUG -MT TimePoint.lo -MD -MP -MF $depbase.Tpo -c -o TimePoint.lo TimePoint.cc &&\\\n",
            "mv -f $depbase.Tpo $depbase.Plo\n",
            "libtool: compile:  g++ -DPACKAGE_NAME=\\\"spatialindex\\\" -DPACKAGE_TARNAME=\\\"spatialindex-src\\\" -DPACKAGE_VERSION=\\\"1.8.5\\\" \"-DPACKAGE_STRING=\\\"spatialindex 1.8.5\\\"\" -DPACKAGE_BUGREPORT=\\\"mhadji@gmail.com\\\" -DPACKAGE_URL=\\\"\\\" -DSTDC_HEADERS=1 -DHAVE_SYS_TYPES_H=1 -DHAVE_SYS_STAT_H=1 -DHAVE_STDLIB_H=1 -DHAVE_STRING_H=1 -DHAVE_MEMORY_H=1 -DHAVE_STRINGS_H=1 -DHAVE_INTTYPES_H=1 -DHAVE_STDINT_H=1 -DHAVE_UNISTD_H=1 -DHAVE_DLFCN_H=1 -DLT_OBJDIR=\\\".libs/\\\" -DPACKAGE=\\\"spatialindex-src\\\" -DVERSION=\\\"1.8.5\\\" -DHAVE_FCNTL_H=1 -DHAVE_UNISTD_H=1 -DHAVE_SYS_TYPES_H=1 -DHAVE_SYS_STAT_H=1 -DHAVE_PTHREAD_H=1 -DHAVE_SYS_RESOURCE_H=1 -DHAVE_SYS_TIME_H=1 -DHAVE_STDINT_H=1 -DHAVE_FEATURES_H=1 -DHAVE_GETTIMEOFDAY=1 -DHAVE_MEMSET=1 -DHAVE_MEMCPY=1 -DHAVE_BCOPY=1 -DHAVE_SRAND48=1 -I. -I../../include -Wall -Wno-long-long -pedantic -std=c++98 -O2 -DNDEBUG -MT TimePoint.lo -MD -MP -MF .deps/TimePoint.Tpo -c TimePoint.cc  -fPIC -DPIC -o .libs/TimePoint.o\n",
            "libtool: compile:  g++ -DPACKAGE_NAME=\\\"spatialindex\\\" -DPACKAGE_TARNAME=\\\"spatialindex-src\\\" -DPACKAGE_VERSION=\\\"1.8.5\\\" \"-DPACKAGE_STRING=\\\"spatialindex 1.8.5\\\"\" -DPACKAGE_BUGREPORT=\\\"mhadji@gmail.com\\\" -DPACKAGE_URL=\\\"\\\" -DSTDC_HEADERS=1 -DHAVE_SYS_TYPES_H=1 -DHAVE_SYS_STAT_H=1 -DHAVE_STDLIB_H=1 -DHAVE_STRING_H=1 -DHAVE_MEMORY_H=1 -DHAVE_STRINGS_H=1 -DHAVE_INTTYPES_H=1 -DHAVE_STDINT_H=1 -DHAVE_UNISTD_H=1 -DHAVE_DLFCN_H=1 -DLT_OBJDIR=\\\".libs/\\\" -DPACKAGE=\\\"spatialindex-src\\\" -DVERSION=\\\"1.8.5\\\" -DHAVE_FCNTL_H=1 -DHAVE_UNISTD_H=1 -DHAVE_SYS_TYPES_H=1 -DHAVE_SYS_STAT_H=1 -DHAVE_PTHREAD_H=1 -DHAVE_SYS_RESOURCE_H=1 -DHAVE_SYS_TIME_H=1 -DHAVE_STDINT_H=1 -DHAVE_FEATURES_H=1 -DHAVE_GETTIMEOFDAY=1 -DHAVE_MEMSET=1 -DHAVE_MEMCPY=1 -DHAVE_BCOPY=1 -DHAVE_SRAND48=1 -I. -I../../include -Wall -Wno-long-long -pedantic -std=c++98 -O2 -DNDEBUG -MT TimePoint.lo -MD -MP -MF .deps/TimePoint.Tpo -c TimePoint.cc -o TimePoint.o >/dev/null 2>&1\n",
            "depbase=`echo TimeRegion.lo | sed 's|[^/]*$|.deps/&|;s|\\.lo$||'`;\\\n",
            "/bin/bash ../../libtool  --tag=CXX   --mode=compile g++ -DPACKAGE_NAME=\\\"spatialindex\\\" -DPACKAGE_TARNAME=\\\"spatialindex-src\\\" -DPACKAGE_VERSION=\\\"1.8.5\\\" -DPACKAGE_STRING=\\\"spatialindex\\ 1.8.5\\\" -DPACKAGE_BUGREPORT=\\\"mhadji@gmail.com\\\" -DPACKAGE_URL=\\\"\\\" -DSTDC_HEADERS=1 -DHAVE_SYS_TYPES_H=1 -DHAVE_SYS_STAT_H=1 -DHAVE_STDLIB_H=1 -DHAVE_STRING_H=1 -DHAVE_MEMORY_H=1 -DHAVE_STRINGS_H=1 -DHAVE_INTTYPES_H=1 -DHAVE_STDINT_H=1 -DHAVE_UNISTD_H=1 -DHAVE_DLFCN_H=1 -DLT_OBJDIR=\\\".libs/\\\" -DPACKAGE=\\\"spatialindex-src\\\" -DVERSION=\\\"1.8.5\\\" -DHAVE_FCNTL_H=1 -DHAVE_UNISTD_H=1 -DHAVE_SYS_TYPES_H=1 -DHAVE_SYS_STAT_H=1 -DHAVE_PTHREAD_H=1 -DHAVE_SYS_RESOURCE_H=1 -DHAVE_SYS_TIME_H=1 -DHAVE_STDINT_H=1 -DHAVE_FEATURES_H=1 -DHAVE_GETTIMEOFDAY=1 -DHAVE_MEMSET=1 -DHAVE_MEMCPY=1 -DHAVE_BCOPY=1 -DHAVE_SRAND48=1 -I. -I../../include    -Wall -Wno-long-long -pedantic -std=c++98  -O2 -DNDEBUG -MT TimeRegion.lo -MD -MP -MF $depbase.Tpo -c -o TimeRegion.lo TimeRegion.cc &&\\\n",
            "mv -f $depbase.Tpo $depbase.Plo\n",
            "libtool: compile:  g++ -DPACKAGE_NAME=\\\"spatialindex\\\" -DPACKAGE_TARNAME=\\\"spatialindex-src\\\" -DPACKAGE_VERSION=\\\"1.8.5\\\" \"-DPACKAGE_STRING=\\\"spatialindex 1.8.5\\\"\" -DPACKAGE_BUGREPORT=\\\"mhadji@gmail.com\\\" -DPACKAGE_URL=\\\"\\\" -DSTDC_HEADERS=1 -DHAVE_SYS_TYPES_H=1 -DHAVE_SYS_STAT_H=1 -DHAVE_STDLIB_H=1 -DHAVE_STRING_H=1 -DHAVE_MEMORY_H=1 -DHAVE_STRINGS_H=1 -DHAVE_INTTYPES_H=1 -DHAVE_STDINT_H=1 -DHAVE_UNISTD_H=1 -DHAVE_DLFCN_H=1 -DLT_OBJDIR=\\\".libs/\\\" -DPACKAGE=\\\"spatialindex-src\\\" -DVERSION=\\\"1.8.5\\\" -DHAVE_FCNTL_H=1 -DHAVE_UNISTD_H=1 -DHAVE_SYS_TYPES_H=1 -DHAVE_SYS_STAT_H=1 -DHAVE_PTHREAD_H=1 -DHAVE_SYS_RESOURCE_H=1 -DHAVE_SYS_TIME_H=1 -DHAVE_STDINT_H=1 -DHAVE_FEATURES_H=1 -DHAVE_GETTIMEOFDAY=1 -DHAVE_MEMSET=1 -DHAVE_MEMCPY=1 -DHAVE_BCOPY=1 -DHAVE_SRAND48=1 -I. -I../../include -Wall -Wno-long-long -pedantic -std=c++98 -O2 -DNDEBUG -MT TimeRegion.lo -MD -MP -MF .deps/TimeRegion.Tpo -c TimeRegion.cc  -fPIC -DPIC -o .libs/TimeRegion.o\n",
            "libtool: compile:  g++ -DPACKAGE_NAME=\\\"spatialindex\\\" -DPACKAGE_TARNAME=\\\"spatialindex-src\\\" -DPACKAGE_VERSION=\\\"1.8.5\\\" \"-DPACKAGE_STRING=\\\"spatialindex 1.8.5\\\"\" -DPACKAGE_BUGREPORT=\\\"mhadji@gmail.com\\\" -DPACKAGE_URL=\\\"\\\" -DSTDC_HEADERS=1 -DHAVE_SYS_TYPES_H=1 -DHAVE_SYS_STAT_H=1 -DHAVE_STDLIB_H=1 -DHAVE_STRING_H=1 -DHAVE_MEMORY_H=1 -DHAVE_STRINGS_H=1 -DHAVE_INTTYPES_H=1 -DHAVE_STDINT_H=1 -DHAVE_UNISTD_H=1 -DHAVE_DLFCN_H=1 -DLT_OBJDIR=\\\".libs/\\\" -DPACKAGE=\\\"spatialindex-src\\\" -DVERSION=\\\"1.8.5\\\" -DHAVE_FCNTL_H=1 -DHAVE_UNISTD_H=1 -DHAVE_SYS_TYPES_H=1 -DHAVE_SYS_STAT_H=1 -DHAVE_PTHREAD_H=1 -DHAVE_SYS_RESOURCE_H=1 -DHAVE_SYS_TIME_H=1 -DHAVE_STDINT_H=1 -DHAVE_FEATURES_H=1 -DHAVE_GETTIMEOFDAY=1 -DHAVE_MEMSET=1 -DHAVE_MEMCPY=1 -DHAVE_BCOPY=1 -DHAVE_SRAND48=1 -I. -I../../include -Wall -Wno-long-long -pedantic -std=c++98 -O2 -DNDEBUG -MT TimeRegion.lo -MD -MP -MF .deps/TimeRegion.Tpo -c TimeRegion.cc -o TimeRegion.o >/dev/null 2>&1\n",
            "depbase=`echo SpatialIndexImpl.lo | sed 's|[^/]*$|.deps/&|;s|\\.lo$||'`;\\\n",
            "/bin/bash ../../libtool  --tag=CXX   --mode=compile g++ -DPACKAGE_NAME=\\\"spatialindex\\\" -DPACKAGE_TARNAME=\\\"spatialindex-src\\\" -DPACKAGE_VERSION=\\\"1.8.5\\\" -DPACKAGE_STRING=\\\"spatialindex\\ 1.8.5\\\" -DPACKAGE_BUGREPORT=\\\"mhadji@gmail.com\\\" -DPACKAGE_URL=\\\"\\\" -DSTDC_HEADERS=1 -DHAVE_SYS_TYPES_H=1 -DHAVE_SYS_STAT_H=1 -DHAVE_STDLIB_H=1 -DHAVE_STRING_H=1 -DHAVE_MEMORY_H=1 -DHAVE_STRINGS_H=1 -DHAVE_INTTYPES_H=1 -DHAVE_STDINT_H=1 -DHAVE_UNISTD_H=1 -DHAVE_DLFCN_H=1 -DLT_OBJDIR=\\\".libs/\\\" -DPACKAGE=\\\"spatialindex-src\\\" -DVERSION=\\\"1.8.5\\\" -DHAVE_FCNTL_H=1 -DHAVE_UNISTD_H=1 -DHAVE_SYS_TYPES_H=1 -DHAVE_SYS_STAT_H=1 -DHAVE_PTHREAD_H=1 -DHAVE_SYS_RESOURCE_H=1 -DHAVE_SYS_TIME_H=1 -DHAVE_STDINT_H=1 -DHAVE_FEATURES_H=1 -DHAVE_GETTIMEOFDAY=1 -DHAVE_MEMSET=1 -DHAVE_MEMCPY=1 -DHAVE_BCOPY=1 -DHAVE_SRAND48=1 -I. -I../../include    -Wall -Wno-long-long -pedantic -std=c++98  -O2 -DNDEBUG -MT SpatialIndexImpl.lo -MD -MP -MF $depbase.Tpo -c -o SpatialIndexImpl.lo SpatialIndexImpl.cc &&\\\n",
            "mv -f $depbase.Tpo $depbase.Plo\n",
            "libtool: compile:  g++ -DPACKAGE_NAME=\\\"spatialindex\\\" -DPACKAGE_TARNAME=\\\"spatialindex-src\\\" -DPACKAGE_VERSION=\\\"1.8.5\\\" \"-DPACKAGE_STRING=\\\"spatialindex 1.8.5\\\"\" -DPACKAGE_BUGREPORT=\\\"mhadji@gmail.com\\\" -DPACKAGE_URL=\\\"\\\" -DSTDC_HEADERS=1 -DHAVE_SYS_TYPES_H=1 -DHAVE_SYS_STAT_H=1 -DHAVE_STDLIB_H=1 -DHAVE_STRING_H=1 -DHAVE_MEMORY_H=1 -DHAVE_STRINGS_H=1 -DHAVE_INTTYPES_H=1 -DHAVE_STDINT_H=1 -DHAVE_UNISTD_H=1 -DHAVE_DLFCN_H=1 -DLT_OBJDIR=\\\".libs/\\\" -DPACKAGE=\\\"spatialindex-src\\\" -DVERSION=\\\"1.8.5\\\" -DHAVE_FCNTL_H=1 -DHAVE_UNISTD_H=1 -DHAVE_SYS_TYPES_H=1 -DHAVE_SYS_STAT_H=1 -DHAVE_PTHREAD_H=1 -DHAVE_SYS_RESOURCE_H=1 -DHAVE_SYS_TIME_H=1 -DHAVE_STDINT_H=1 -DHAVE_FEATURES_H=1 -DHAVE_GETTIMEOFDAY=1 -DHAVE_MEMSET=1 -DHAVE_MEMCPY=1 -DHAVE_BCOPY=1 -DHAVE_SRAND48=1 -I. -I../../include -Wall -Wno-long-long -pedantic -std=c++98 -O2 -DNDEBUG -MT SpatialIndexImpl.lo -MD -MP -MF .deps/SpatialIndexImpl.Tpo -c SpatialIndexImpl.cc  -fPIC -DPIC -o .libs/SpatialIndexImpl.o\n",
            "libtool: compile:  g++ -DPACKAGE_NAME=\\\"spatialindex\\\" -DPACKAGE_TARNAME=\\\"spatialindex-src\\\" -DPACKAGE_VERSION=\\\"1.8.5\\\" \"-DPACKAGE_STRING=\\\"spatialindex 1.8.5\\\"\" -DPACKAGE_BUGREPORT=\\\"mhadji@gmail.com\\\" -DPACKAGE_URL=\\\"\\\" -DSTDC_HEADERS=1 -DHAVE_SYS_TYPES_H=1 -DHAVE_SYS_STAT_H=1 -DHAVE_STDLIB_H=1 -DHAVE_STRING_H=1 -DHAVE_MEMORY_H=1 -DHAVE_STRINGS_H=1 -DHAVE_INTTYPES_H=1 -DHAVE_STDINT_H=1 -DHAVE_UNISTD_H=1 -DHAVE_DLFCN_H=1 -DLT_OBJDIR=\\\".libs/\\\" -DPACKAGE=\\\"spatialindex-src\\\" -DVERSION=\\\"1.8.5\\\" -DHAVE_FCNTL_H=1 -DHAVE_UNISTD_H=1 -DHAVE_SYS_TYPES_H=1 -DHAVE_SYS_STAT_H=1 -DHAVE_PTHREAD_H=1 -DHAVE_SYS_RESOURCE_H=1 -DHAVE_SYS_TIME_H=1 -DHAVE_STDINT_H=1 -DHAVE_FEATURES_H=1 -DHAVE_GETTIMEOFDAY=1 -DHAVE_MEMSET=1 -DHAVE_MEMCPY=1 -DHAVE_BCOPY=1 -DHAVE_SRAND48=1 -I. -I../../include -Wall -Wno-long-long -pedantic -std=c++98 -O2 -DNDEBUG -MT SpatialIndexImpl.lo -MD -MP -MF .deps/SpatialIndexImpl.Tpo -c SpatialIndexImpl.cc -o SpatialIndexImpl.o >/dev/null 2>&1\n",
            "/bin/bash ../../libtool  --tag=CXX   --mode=link g++  -Wall -Wno-long-long -pedantic -std=c++98  -O2 -DNDEBUG   -o liblibrary.la  Point.lo Region.lo LineSegment.lo MovingPoint.lo MovingRegion.lo TimePoint.lo TimeRegion.lo SpatialIndexImpl.lo  -lpthread\n",
            "libtool: link: ar cru .libs/liblibrary.a .libs/Point.o .libs/Region.o .libs/LineSegment.o .libs/MovingPoint.o .libs/MovingRegion.o .libs/TimePoint.o .libs/TimeRegion.o .libs/SpatialIndexImpl.o \n",
            "ar: `u' modifier ignored since `D' is the default (see `U')\n",
            "libtool: link: ranlib .libs/liblibrary.a\n",
            "libtool: link: ( cd \".libs\" && rm -f \"liblibrary.la\" && ln -s \"../liblibrary.la\" \"liblibrary.la\" )\n",
            "make[2]: Leaving directory '/content/spatialindex-src-1.8.5/src/spatialindex'\n",
            "Making all in rtree\n",
            "make[2]: Entering directory '/content/spatialindex-src-1.8.5/src/rtree'\n",
            "depbase=`echo BulkLoader.lo | sed 's|[^/]*$|.deps/&|;s|\\.lo$||'`;\\\n",
            "/bin/bash ../../libtool  --tag=CXX   --mode=compile g++ -DPACKAGE_NAME=\\\"spatialindex\\\" -DPACKAGE_TARNAME=\\\"spatialindex-src\\\" -DPACKAGE_VERSION=\\\"1.8.5\\\" -DPACKAGE_STRING=\\\"spatialindex\\ 1.8.5\\\" -DPACKAGE_BUGREPORT=\\\"mhadji@gmail.com\\\" -DPACKAGE_URL=\\\"\\\" -DSTDC_HEADERS=1 -DHAVE_SYS_TYPES_H=1 -DHAVE_SYS_STAT_H=1 -DHAVE_STDLIB_H=1 -DHAVE_STRING_H=1 -DHAVE_MEMORY_H=1 -DHAVE_STRINGS_H=1 -DHAVE_INTTYPES_H=1 -DHAVE_STDINT_H=1 -DHAVE_UNISTD_H=1 -DHAVE_DLFCN_H=1 -DLT_OBJDIR=\\\".libs/\\\" -DPACKAGE=\\\"spatialindex-src\\\" -DVERSION=\\\"1.8.5\\\" -DHAVE_FCNTL_H=1 -DHAVE_UNISTD_H=1 -DHAVE_SYS_TYPES_H=1 -DHAVE_SYS_STAT_H=1 -DHAVE_PTHREAD_H=1 -DHAVE_SYS_RESOURCE_H=1 -DHAVE_SYS_TIME_H=1 -DHAVE_STDINT_H=1 -DHAVE_FEATURES_H=1 -DHAVE_GETTIMEOFDAY=1 -DHAVE_MEMSET=1 -DHAVE_MEMCPY=1 -DHAVE_BCOPY=1 -DHAVE_SRAND48=1 -I. -I../../include     -Wall -Wno-long-long -pedantic -std=c++98  -O2 -DNDEBUG -MT BulkLoader.lo -MD -MP -MF $depbase.Tpo -c -o BulkLoader.lo BulkLoader.cc &&\\\n",
            "mv -f $depbase.Tpo $depbase.Plo\n",
            "libtool: compile:  g++ -DPACKAGE_NAME=\\\"spatialindex\\\" -DPACKAGE_TARNAME=\\\"spatialindex-src\\\" -DPACKAGE_VERSION=\\\"1.8.5\\\" \"-DPACKAGE_STRING=\\\"spatialindex 1.8.5\\\"\" -DPACKAGE_BUGREPORT=\\\"mhadji@gmail.com\\\" -DPACKAGE_URL=\\\"\\\" -DSTDC_HEADERS=1 -DHAVE_SYS_TYPES_H=1 -DHAVE_SYS_STAT_H=1 -DHAVE_STDLIB_H=1 -DHAVE_STRING_H=1 -DHAVE_MEMORY_H=1 -DHAVE_STRINGS_H=1 -DHAVE_INTTYPES_H=1 -DHAVE_STDINT_H=1 -DHAVE_UNISTD_H=1 -DHAVE_DLFCN_H=1 -DLT_OBJDIR=\\\".libs/\\\" -DPACKAGE=\\\"spatialindex-src\\\" -DVERSION=\\\"1.8.5\\\" -DHAVE_FCNTL_H=1 -DHAVE_UNISTD_H=1 -DHAVE_SYS_TYPES_H=1 -DHAVE_SYS_STAT_H=1 -DHAVE_PTHREAD_H=1 -DHAVE_SYS_RESOURCE_H=1 -DHAVE_SYS_TIME_H=1 -DHAVE_STDINT_H=1 -DHAVE_FEATURES_H=1 -DHAVE_GETTIMEOFDAY=1 -DHAVE_MEMSET=1 -DHAVE_MEMCPY=1 -DHAVE_BCOPY=1 -DHAVE_SRAND48=1 -I. -I../../include -Wall -Wno-long-long -pedantic -std=c++98 -O2 -DNDEBUG -MT BulkLoader.lo -MD -MP -MF .deps/BulkLoader.Tpo -c BulkLoader.cc  -fPIC -DPIC -o .libs/BulkLoader.o\n",
            "libtool: compile:  g++ -DPACKAGE_NAME=\\\"spatialindex\\\" -DPACKAGE_TARNAME=\\\"spatialindex-src\\\" -DPACKAGE_VERSION=\\\"1.8.5\\\" \"-DPACKAGE_STRING=\\\"spatialindex 1.8.5\\\"\" -DPACKAGE_BUGREPORT=\\\"mhadji@gmail.com\\\" -DPACKAGE_URL=\\\"\\\" -DSTDC_HEADERS=1 -DHAVE_SYS_TYPES_H=1 -DHAVE_SYS_STAT_H=1 -DHAVE_STDLIB_H=1 -DHAVE_STRING_H=1 -DHAVE_MEMORY_H=1 -DHAVE_STRINGS_H=1 -DHAVE_INTTYPES_H=1 -DHAVE_STDINT_H=1 -DHAVE_UNISTD_H=1 -DHAVE_DLFCN_H=1 -DLT_OBJDIR=\\\".libs/\\\" -DPACKAGE=\\\"spatialindex-src\\\" -DVERSION=\\\"1.8.5\\\" -DHAVE_FCNTL_H=1 -DHAVE_UNISTD_H=1 -DHAVE_SYS_TYPES_H=1 -DHAVE_SYS_STAT_H=1 -DHAVE_PTHREAD_H=1 -DHAVE_SYS_RESOURCE_H=1 -DHAVE_SYS_TIME_H=1 -DHAVE_STDINT_H=1 -DHAVE_FEATURES_H=1 -DHAVE_GETTIMEOFDAY=1 -DHAVE_MEMSET=1 -DHAVE_MEMCPY=1 -DHAVE_BCOPY=1 -DHAVE_SRAND48=1 -I. -I../../include -Wall -Wno-long-long -pedantic -std=c++98 -O2 -DNDEBUG -MT BulkLoader.lo -MD -MP -MF .deps/BulkLoader.Tpo -c BulkLoader.cc -o BulkLoader.o >/dev/null 2>&1\n",
            "depbase=`echo Index.lo | sed 's|[^/]*$|.deps/&|;s|\\.lo$||'`;\\\n",
            "/bin/bash ../../libtool  --tag=CXX   --mode=compile g++ -DPACKAGE_NAME=\\\"spatialindex\\\" -DPACKAGE_TARNAME=\\\"spatialindex-src\\\" -DPACKAGE_VERSION=\\\"1.8.5\\\" -DPACKAGE_STRING=\\\"spatialindex\\ 1.8.5\\\" -DPACKAGE_BUGREPORT=\\\"mhadji@gmail.com\\\" -DPACKAGE_URL=\\\"\\\" -DSTDC_HEADERS=1 -DHAVE_SYS_TYPES_H=1 -DHAVE_SYS_STAT_H=1 -DHAVE_STDLIB_H=1 -DHAVE_STRING_H=1 -DHAVE_MEMORY_H=1 -DHAVE_STRINGS_H=1 -DHAVE_INTTYPES_H=1 -DHAVE_STDINT_H=1 -DHAVE_UNISTD_H=1 -DHAVE_DLFCN_H=1 -DLT_OBJDIR=\\\".libs/\\\" -DPACKAGE=\\\"spatialindex-src\\\" -DVERSION=\\\"1.8.5\\\" -DHAVE_FCNTL_H=1 -DHAVE_UNISTD_H=1 -DHAVE_SYS_TYPES_H=1 -DHAVE_SYS_STAT_H=1 -DHAVE_PTHREAD_H=1 -DHAVE_SYS_RESOURCE_H=1 -DHAVE_SYS_TIME_H=1 -DHAVE_STDINT_H=1 -DHAVE_FEATURES_H=1 -DHAVE_GETTIMEOFDAY=1 -DHAVE_MEMSET=1 -DHAVE_MEMCPY=1 -DHAVE_BCOPY=1 -DHAVE_SRAND48=1 -I. -I../../include     -Wall -Wno-long-long -pedantic -std=c++98  -O2 -DNDEBUG -MT Index.lo -MD -MP -MF $depbase.Tpo -c -o Index.lo Index.cc &&\\\n",
            "mv -f $depbase.Tpo $depbase.Plo\n",
            "libtool: compile:  g++ -DPACKAGE_NAME=\\\"spatialindex\\\" -DPACKAGE_TARNAME=\\\"spatialindex-src\\\" -DPACKAGE_VERSION=\\\"1.8.5\\\" \"-DPACKAGE_STRING=\\\"spatialindex 1.8.5\\\"\" -DPACKAGE_BUGREPORT=\\\"mhadji@gmail.com\\\" -DPACKAGE_URL=\\\"\\\" -DSTDC_HEADERS=1 -DHAVE_SYS_TYPES_H=1 -DHAVE_SYS_STAT_H=1 -DHAVE_STDLIB_H=1 -DHAVE_STRING_H=1 -DHAVE_MEMORY_H=1 -DHAVE_STRINGS_H=1 -DHAVE_INTTYPES_H=1 -DHAVE_STDINT_H=1 -DHAVE_UNISTD_H=1 -DHAVE_DLFCN_H=1 -DLT_OBJDIR=\\\".libs/\\\" -DPACKAGE=\\\"spatialindex-src\\\" -DVERSION=\\\"1.8.5\\\" -DHAVE_FCNTL_H=1 -DHAVE_UNISTD_H=1 -DHAVE_SYS_TYPES_H=1 -DHAVE_SYS_STAT_H=1 -DHAVE_PTHREAD_H=1 -DHAVE_SYS_RESOURCE_H=1 -DHAVE_SYS_TIME_H=1 -DHAVE_STDINT_H=1 -DHAVE_FEATURES_H=1 -DHAVE_GETTIMEOFDAY=1 -DHAVE_MEMSET=1 -DHAVE_MEMCPY=1 -DHAVE_BCOPY=1 -DHAVE_SRAND48=1 -I. -I../../include -Wall -Wno-long-long -pedantic -std=c++98 -O2 -DNDEBUG -MT Index.lo -MD -MP -MF .deps/Index.Tpo -c Index.cc  -fPIC -DPIC -o .libs/Index.o\n",
            "libtool: compile:  g++ -DPACKAGE_NAME=\\\"spatialindex\\\" -DPACKAGE_TARNAME=\\\"spatialindex-src\\\" -DPACKAGE_VERSION=\\\"1.8.5\\\" \"-DPACKAGE_STRING=\\\"spatialindex 1.8.5\\\"\" -DPACKAGE_BUGREPORT=\\\"mhadji@gmail.com\\\" -DPACKAGE_URL=\\\"\\\" -DSTDC_HEADERS=1 -DHAVE_SYS_TYPES_H=1 -DHAVE_SYS_STAT_H=1 -DHAVE_STDLIB_H=1 -DHAVE_STRING_H=1 -DHAVE_MEMORY_H=1 -DHAVE_STRINGS_H=1 -DHAVE_INTTYPES_H=1 -DHAVE_STDINT_H=1 -DHAVE_UNISTD_H=1 -DHAVE_DLFCN_H=1 -DLT_OBJDIR=\\\".libs/\\\" -DPACKAGE=\\\"spatialindex-src\\\" -DVERSION=\\\"1.8.5\\\" -DHAVE_FCNTL_H=1 -DHAVE_UNISTD_H=1 -DHAVE_SYS_TYPES_H=1 -DHAVE_SYS_STAT_H=1 -DHAVE_PTHREAD_H=1 -DHAVE_SYS_RESOURCE_H=1 -DHAVE_SYS_TIME_H=1 -DHAVE_STDINT_H=1 -DHAVE_FEATURES_H=1 -DHAVE_GETTIMEOFDAY=1 -DHAVE_MEMSET=1 -DHAVE_MEMCPY=1 -DHAVE_BCOPY=1 -DHAVE_SRAND48=1 -I. -I../../include -Wall -Wno-long-long -pedantic -std=c++98 -O2 -DNDEBUG -MT Index.lo -MD -MP -MF .deps/Index.Tpo -c Index.cc -o Index.o >/dev/null 2>&1\n",
            "depbase=`echo Leaf.lo | sed 's|[^/]*$|.deps/&|;s|\\.lo$||'`;\\\n",
            "/bin/bash ../../libtool  --tag=CXX   --mode=compile g++ -DPACKAGE_NAME=\\\"spatialindex\\\" -DPACKAGE_TARNAME=\\\"spatialindex-src\\\" -DPACKAGE_VERSION=\\\"1.8.5\\\" -DPACKAGE_STRING=\\\"spatialindex\\ 1.8.5\\\" -DPACKAGE_BUGREPORT=\\\"mhadji@gmail.com\\\" -DPACKAGE_URL=\\\"\\\" -DSTDC_HEADERS=1 -DHAVE_SYS_TYPES_H=1 -DHAVE_SYS_STAT_H=1 -DHAVE_STDLIB_H=1 -DHAVE_STRING_H=1 -DHAVE_MEMORY_H=1 -DHAVE_STRINGS_H=1 -DHAVE_INTTYPES_H=1 -DHAVE_STDINT_H=1 -DHAVE_UNISTD_H=1 -DHAVE_DLFCN_H=1 -DLT_OBJDIR=\\\".libs/\\\" -DPACKAGE=\\\"spatialindex-src\\\" -DVERSION=\\\"1.8.5\\\" -DHAVE_FCNTL_H=1 -DHAVE_UNISTD_H=1 -DHAVE_SYS_TYPES_H=1 -DHAVE_SYS_STAT_H=1 -DHAVE_PTHREAD_H=1 -DHAVE_SYS_RESOURCE_H=1 -DHAVE_SYS_TIME_H=1 -DHAVE_STDINT_H=1 -DHAVE_FEATURES_H=1 -DHAVE_GETTIMEOFDAY=1 -DHAVE_MEMSET=1 -DHAVE_MEMCPY=1 -DHAVE_BCOPY=1 -DHAVE_SRAND48=1 -I. -I../../include     -Wall -Wno-long-long -pedantic -std=c++98  -O2 -DNDEBUG -MT Leaf.lo -MD -MP -MF $depbase.Tpo -c -o Leaf.lo Leaf.cc &&\\\n",
            "mv -f $depbase.Tpo $depbase.Plo\n",
            "libtool: compile:  g++ -DPACKAGE_NAME=\\\"spatialindex\\\" -DPACKAGE_TARNAME=\\\"spatialindex-src\\\" -DPACKAGE_VERSION=\\\"1.8.5\\\" \"-DPACKAGE_STRING=\\\"spatialindex 1.8.5\\\"\" -DPACKAGE_BUGREPORT=\\\"mhadji@gmail.com\\\" -DPACKAGE_URL=\\\"\\\" -DSTDC_HEADERS=1 -DHAVE_SYS_TYPES_H=1 -DHAVE_SYS_STAT_H=1 -DHAVE_STDLIB_H=1 -DHAVE_STRING_H=1 -DHAVE_MEMORY_H=1 -DHAVE_STRINGS_H=1 -DHAVE_INTTYPES_H=1 -DHAVE_STDINT_H=1 -DHAVE_UNISTD_H=1 -DHAVE_DLFCN_H=1 -DLT_OBJDIR=\\\".libs/\\\" -DPACKAGE=\\\"spatialindex-src\\\" -DVERSION=\\\"1.8.5\\\" -DHAVE_FCNTL_H=1 -DHAVE_UNISTD_H=1 -DHAVE_SYS_TYPES_H=1 -DHAVE_SYS_STAT_H=1 -DHAVE_PTHREAD_H=1 -DHAVE_SYS_RESOURCE_H=1 -DHAVE_SYS_TIME_H=1 -DHAVE_STDINT_H=1 -DHAVE_FEATURES_H=1 -DHAVE_GETTIMEOFDAY=1 -DHAVE_MEMSET=1 -DHAVE_MEMCPY=1 -DHAVE_BCOPY=1 -DHAVE_SRAND48=1 -I. -I../../include -Wall -Wno-long-long -pedantic -std=c++98 -O2 -DNDEBUG -MT Leaf.lo -MD -MP -MF .deps/Leaf.Tpo -c Leaf.cc  -fPIC -DPIC -o .libs/Leaf.o\n",
            "libtool: compile:  g++ -DPACKAGE_NAME=\\\"spatialindex\\\" -DPACKAGE_TARNAME=\\\"spatialindex-src\\\" -DPACKAGE_VERSION=\\\"1.8.5\\\" \"-DPACKAGE_STRING=\\\"spatialindex 1.8.5\\\"\" -DPACKAGE_BUGREPORT=\\\"mhadji@gmail.com\\\" -DPACKAGE_URL=\\\"\\\" -DSTDC_HEADERS=1 -DHAVE_SYS_TYPES_H=1 -DHAVE_SYS_STAT_H=1 -DHAVE_STDLIB_H=1 -DHAVE_STRING_H=1 -DHAVE_MEMORY_H=1 -DHAVE_STRINGS_H=1 -DHAVE_INTTYPES_H=1 -DHAVE_STDINT_H=1 -DHAVE_UNISTD_H=1 -DHAVE_DLFCN_H=1 -DLT_OBJDIR=\\\".libs/\\\" -DPACKAGE=\\\"spatialindex-src\\\" -DVERSION=\\\"1.8.5\\\" -DHAVE_FCNTL_H=1 -DHAVE_UNISTD_H=1 -DHAVE_SYS_TYPES_H=1 -DHAVE_SYS_STAT_H=1 -DHAVE_PTHREAD_H=1 -DHAVE_SYS_RESOURCE_H=1 -DHAVE_SYS_TIME_H=1 -DHAVE_STDINT_H=1 -DHAVE_FEATURES_H=1 -DHAVE_GETTIMEOFDAY=1 -DHAVE_MEMSET=1 -DHAVE_MEMCPY=1 -DHAVE_BCOPY=1 -DHAVE_SRAND48=1 -I. -I../../include -Wall -Wno-long-long -pedantic -std=c++98 -O2 -DNDEBUG -MT Leaf.lo -MD -MP -MF .deps/Leaf.Tpo -c Leaf.cc -o Leaf.o >/dev/null 2>&1\n",
            "depbase=`echo Node.lo | sed 's|[^/]*$|.deps/&|;s|\\.lo$||'`;\\\n",
            "/bin/bash ../../libtool  --tag=CXX   --mode=compile g++ -DPACKAGE_NAME=\\\"spatialindex\\\" -DPACKAGE_TARNAME=\\\"spatialindex-src\\\" -DPACKAGE_VERSION=\\\"1.8.5\\\" -DPACKAGE_STRING=\\\"spatialindex\\ 1.8.5\\\" -DPACKAGE_BUGREPORT=\\\"mhadji@gmail.com\\\" -DPACKAGE_URL=\\\"\\\" -DSTDC_HEADERS=1 -DHAVE_SYS_TYPES_H=1 -DHAVE_SYS_STAT_H=1 -DHAVE_STDLIB_H=1 -DHAVE_STRING_H=1 -DHAVE_MEMORY_H=1 -DHAVE_STRINGS_H=1 -DHAVE_INTTYPES_H=1 -DHAVE_STDINT_H=1 -DHAVE_UNISTD_H=1 -DHAVE_DLFCN_H=1 -DLT_OBJDIR=\\\".libs/\\\" -DPACKAGE=\\\"spatialindex-src\\\" -DVERSION=\\\"1.8.5\\\" -DHAVE_FCNTL_H=1 -DHAVE_UNISTD_H=1 -DHAVE_SYS_TYPES_H=1 -DHAVE_SYS_STAT_H=1 -DHAVE_PTHREAD_H=1 -DHAVE_SYS_RESOURCE_H=1 -DHAVE_SYS_TIME_H=1 -DHAVE_STDINT_H=1 -DHAVE_FEATURES_H=1 -DHAVE_GETTIMEOFDAY=1 -DHAVE_MEMSET=1 -DHAVE_MEMCPY=1 -DHAVE_BCOPY=1 -DHAVE_SRAND48=1 -I. -I../../include     -Wall -Wno-long-long -pedantic -std=c++98  -O2 -DNDEBUG -MT Node.lo -MD -MP -MF $depbase.Tpo -c -o Node.lo Node.cc &&\\\n",
            "mv -f $depbase.Tpo $depbase.Plo\n",
            "libtool: compile:  g++ -DPACKAGE_NAME=\\\"spatialindex\\\" -DPACKAGE_TARNAME=\\\"spatialindex-src\\\" -DPACKAGE_VERSION=\\\"1.8.5\\\" \"-DPACKAGE_STRING=\\\"spatialindex 1.8.5\\\"\" -DPACKAGE_BUGREPORT=\\\"mhadji@gmail.com\\\" -DPACKAGE_URL=\\\"\\\" -DSTDC_HEADERS=1 -DHAVE_SYS_TYPES_H=1 -DHAVE_SYS_STAT_H=1 -DHAVE_STDLIB_H=1 -DHAVE_STRING_H=1 -DHAVE_MEMORY_H=1 -DHAVE_STRINGS_H=1 -DHAVE_INTTYPES_H=1 -DHAVE_STDINT_H=1 -DHAVE_UNISTD_H=1 -DHAVE_DLFCN_H=1 -DLT_OBJDIR=\\\".libs/\\\" -DPACKAGE=\\\"spatialindex-src\\\" -DVERSION=\\\"1.8.5\\\" -DHAVE_FCNTL_H=1 -DHAVE_UNISTD_H=1 -DHAVE_SYS_TYPES_H=1 -DHAVE_SYS_STAT_H=1 -DHAVE_PTHREAD_H=1 -DHAVE_SYS_RESOURCE_H=1 -DHAVE_SYS_TIME_H=1 -DHAVE_STDINT_H=1 -DHAVE_FEATURES_H=1 -DHAVE_GETTIMEOFDAY=1 -DHAVE_MEMSET=1 -DHAVE_MEMCPY=1 -DHAVE_BCOPY=1 -DHAVE_SRAND48=1 -I. -I../../include -Wall -Wno-long-long -pedantic -std=c++98 -O2 -DNDEBUG -MT Node.lo -MD -MP -MF .deps/Node.Tpo -c Node.cc  -fPIC -DPIC -o .libs/Node.o\n",
            "libtool: compile:  g++ -DPACKAGE_NAME=\\\"spatialindex\\\" -DPACKAGE_TARNAME=\\\"spatialindex-src\\\" -DPACKAGE_VERSION=\\\"1.8.5\\\" \"-DPACKAGE_STRING=\\\"spatialindex 1.8.5\\\"\" -DPACKAGE_BUGREPORT=\\\"mhadji@gmail.com\\\" -DPACKAGE_URL=\\\"\\\" -DSTDC_HEADERS=1 -DHAVE_SYS_TYPES_H=1 -DHAVE_SYS_STAT_H=1 -DHAVE_STDLIB_H=1 -DHAVE_STRING_H=1 -DHAVE_MEMORY_H=1 -DHAVE_STRINGS_H=1 -DHAVE_INTTYPES_H=1 -DHAVE_STDINT_H=1 -DHAVE_UNISTD_H=1 -DHAVE_DLFCN_H=1 -DLT_OBJDIR=\\\".libs/\\\" -DPACKAGE=\\\"spatialindex-src\\\" -DVERSION=\\\"1.8.5\\\" -DHAVE_FCNTL_H=1 -DHAVE_UNISTD_H=1 -DHAVE_SYS_TYPES_H=1 -DHAVE_SYS_STAT_H=1 -DHAVE_PTHREAD_H=1 -DHAVE_SYS_RESOURCE_H=1 -DHAVE_SYS_TIME_H=1 -DHAVE_STDINT_H=1 -DHAVE_FEATURES_H=1 -DHAVE_GETTIMEOFDAY=1 -DHAVE_MEMSET=1 -DHAVE_MEMCPY=1 -DHAVE_BCOPY=1 -DHAVE_SRAND48=1 -I. -I../../include -Wall -Wno-long-long -pedantic -std=c++98 -O2 -DNDEBUG -MT Node.lo -MD -MP -MF .deps/Node.Tpo -c Node.cc -o Node.o >/dev/null 2>&1\n",
            "depbase=`echo RTree.lo | sed 's|[^/]*$|.deps/&|;s|\\.lo$||'`;\\\n",
            "/bin/bash ../../libtool  --tag=CXX   --mode=compile g++ -DPACKAGE_NAME=\\\"spatialindex\\\" -DPACKAGE_TARNAME=\\\"spatialindex-src\\\" -DPACKAGE_VERSION=\\\"1.8.5\\\" -DPACKAGE_STRING=\\\"spatialindex\\ 1.8.5\\\" -DPACKAGE_BUGREPORT=\\\"mhadji@gmail.com\\\" -DPACKAGE_URL=\\\"\\\" -DSTDC_HEADERS=1 -DHAVE_SYS_TYPES_H=1 -DHAVE_SYS_STAT_H=1 -DHAVE_STDLIB_H=1 -DHAVE_STRING_H=1 -DHAVE_MEMORY_H=1 -DHAVE_STRINGS_H=1 -DHAVE_INTTYPES_H=1 -DHAVE_STDINT_H=1 -DHAVE_UNISTD_H=1 -DHAVE_DLFCN_H=1 -DLT_OBJDIR=\\\".libs/\\\" -DPACKAGE=\\\"spatialindex-src\\\" -DVERSION=\\\"1.8.5\\\" -DHAVE_FCNTL_H=1 -DHAVE_UNISTD_H=1 -DHAVE_SYS_TYPES_H=1 -DHAVE_SYS_STAT_H=1 -DHAVE_PTHREAD_H=1 -DHAVE_SYS_RESOURCE_H=1 -DHAVE_SYS_TIME_H=1 -DHAVE_STDINT_H=1 -DHAVE_FEATURES_H=1 -DHAVE_GETTIMEOFDAY=1 -DHAVE_MEMSET=1 -DHAVE_MEMCPY=1 -DHAVE_BCOPY=1 -DHAVE_SRAND48=1 -I. -I../../include     -Wall -Wno-long-long -pedantic -std=c++98  -O2 -DNDEBUG -MT RTree.lo -MD -MP -MF $depbase.Tpo -c -o RTree.lo RTree.cc &&\\\n",
            "mv -f $depbase.Tpo $depbase.Plo\n",
            "libtool: compile:  g++ -DPACKAGE_NAME=\\\"spatialindex\\\" -DPACKAGE_TARNAME=\\\"spatialindex-src\\\" -DPACKAGE_VERSION=\\\"1.8.5\\\" \"-DPACKAGE_STRING=\\\"spatialindex 1.8.5\\\"\" -DPACKAGE_BUGREPORT=\\\"mhadji@gmail.com\\\" -DPACKAGE_URL=\\\"\\\" -DSTDC_HEADERS=1 -DHAVE_SYS_TYPES_H=1 -DHAVE_SYS_STAT_H=1 -DHAVE_STDLIB_H=1 -DHAVE_STRING_H=1 -DHAVE_MEMORY_H=1 -DHAVE_STRINGS_H=1 -DHAVE_INTTYPES_H=1 -DHAVE_STDINT_H=1 -DHAVE_UNISTD_H=1 -DHAVE_DLFCN_H=1 -DLT_OBJDIR=\\\".libs/\\\" -DPACKAGE=\\\"spatialindex-src\\\" -DVERSION=\\\"1.8.5\\\" -DHAVE_FCNTL_H=1 -DHAVE_UNISTD_H=1 -DHAVE_SYS_TYPES_H=1 -DHAVE_SYS_STAT_H=1 -DHAVE_PTHREAD_H=1 -DHAVE_SYS_RESOURCE_H=1 -DHAVE_SYS_TIME_H=1 -DHAVE_STDINT_H=1 -DHAVE_FEATURES_H=1 -DHAVE_GETTIMEOFDAY=1 -DHAVE_MEMSET=1 -DHAVE_MEMCPY=1 -DHAVE_BCOPY=1 -DHAVE_SRAND48=1 -I. -I../../include -Wall -Wno-long-long -pedantic -std=c++98 -O2 -DNDEBUG -MT RTree.lo -MD -MP -MF .deps/RTree.Tpo -c RTree.cc  -fPIC -DPIC -o .libs/RTree.o\n",
            "libtool: compile:  g++ -DPACKAGE_NAME=\\\"spatialindex\\\" -DPACKAGE_TARNAME=\\\"spatialindex-src\\\" -DPACKAGE_VERSION=\\\"1.8.5\\\" \"-DPACKAGE_STRING=\\\"spatialindex 1.8.5\\\"\" -DPACKAGE_BUGREPORT=\\\"mhadji@gmail.com\\\" -DPACKAGE_URL=\\\"\\\" -DSTDC_HEADERS=1 -DHAVE_SYS_TYPES_H=1 -DHAVE_SYS_STAT_H=1 -DHAVE_STDLIB_H=1 -DHAVE_STRING_H=1 -DHAVE_MEMORY_H=1 -DHAVE_STRINGS_H=1 -DHAVE_INTTYPES_H=1 -DHAVE_STDINT_H=1 -DHAVE_UNISTD_H=1 -DHAVE_DLFCN_H=1 -DLT_OBJDIR=\\\".libs/\\\" -DPACKAGE=\\\"spatialindex-src\\\" -DVERSION=\\\"1.8.5\\\" -DHAVE_FCNTL_H=1 -DHAVE_UNISTD_H=1 -DHAVE_SYS_TYPES_H=1 -DHAVE_SYS_STAT_H=1 -DHAVE_PTHREAD_H=1 -DHAVE_SYS_RESOURCE_H=1 -DHAVE_SYS_TIME_H=1 -DHAVE_STDINT_H=1 -DHAVE_FEATURES_H=1 -DHAVE_GETTIMEOFDAY=1 -DHAVE_MEMSET=1 -DHAVE_MEMCPY=1 -DHAVE_BCOPY=1 -DHAVE_SRAND48=1 -I. -I../../include -Wall -Wno-long-long -pedantic -std=c++98 -O2 -DNDEBUG -MT RTree.lo -MD -MP -MF .deps/RTree.Tpo -c RTree.cc -o RTree.o >/dev/null 2>&1\n",
            "depbase=`echo Statistics.lo | sed 's|[^/]*$|.deps/&|;s|\\.lo$||'`;\\\n",
            "/bin/bash ../../libtool  --tag=CXX   --mode=compile g++ -DPACKAGE_NAME=\\\"spatialindex\\\" -DPACKAGE_TARNAME=\\\"spatialindex-src\\\" -DPACKAGE_VERSION=\\\"1.8.5\\\" -DPACKAGE_STRING=\\\"spatialindex\\ 1.8.5\\\" -DPACKAGE_BUGREPORT=\\\"mhadji@gmail.com\\\" -DPACKAGE_URL=\\\"\\\" -DSTDC_HEADERS=1 -DHAVE_SYS_TYPES_H=1 -DHAVE_SYS_STAT_H=1 -DHAVE_STDLIB_H=1 -DHAVE_STRING_H=1 -DHAVE_MEMORY_H=1 -DHAVE_STRINGS_H=1 -DHAVE_INTTYPES_H=1 -DHAVE_STDINT_H=1 -DHAVE_UNISTD_H=1 -DHAVE_DLFCN_H=1 -DLT_OBJDIR=\\\".libs/\\\" -DPACKAGE=\\\"spatialindex-src\\\" -DVERSION=\\\"1.8.5\\\" -DHAVE_FCNTL_H=1 -DHAVE_UNISTD_H=1 -DHAVE_SYS_TYPES_H=1 -DHAVE_SYS_STAT_H=1 -DHAVE_PTHREAD_H=1 -DHAVE_SYS_RESOURCE_H=1 -DHAVE_SYS_TIME_H=1 -DHAVE_STDINT_H=1 -DHAVE_FEATURES_H=1 -DHAVE_GETTIMEOFDAY=1 -DHAVE_MEMSET=1 -DHAVE_MEMCPY=1 -DHAVE_BCOPY=1 -DHAVE_SRAND48=1 -I. -I../../include     -Wall -Wno-long-long -pedantic -std=c++98  -O2 -DNDEBUG -MT Statistics.lo -MD -MP -MF $depbase.Tpo -c -o Statistics.lo Statistics.cc &&\\\n",
            "mv -f $depbase.Tpo $depbase.Plo\n",
            "libtool: compile:  g++ -DPACKAGE_NAME=\\\"spatialindex\\\" -DPACKAGE_TARNAME=\\\"spatialindex-src\\\" -DPACKAGE_VERSION=\\\"1.8.5\\\" \"-DPACKAGE_STRING=\\\"spatialindex 1.8.5\\\"\" -DPACKAGE_BUGREPORT=\\\"mhadji@gmail.com\\\" -DPACKAGE_URL=\\\"\\\" -DSTDC_HEADERS=1 -DHAVE_SYS_TYPES_H=1 -DHAVE_SYS_STAT_H=1 -DHAVE_STDLIB_H=1 -DHAVE_STRING_H=1 -DHAVE_MEMORY_H=1 -DHAVE_STRINGS_H=1 -DHAVE_INTTYPES_H=1 -DHAVE_STDINT_H=1 -DHAVE_UNISTD_H=1 -DHAVE_DLFCN_H=1 -DLT_OBJDIR=\\\".libs/\\\" -DPACKAGE=\\\"spatialindex-src\\\" -DVERSION=\\\"1.8.5\\\" -DHAVE_FCNTL_H=1 -DHAVE_UNISTD_H=1 -DHAVE_SYS_TYPES_H=1 -DHAVE_SYS_STAT_H=1 -DHAVE_PTHREAD_H=1 -DHAVE_SYS_RESOURCE_H=1 -DHAVE_SYS_TIME_H=1 -DHAVE_STDINT_H=1 -DHAVE_FEATURES_H=1 -DHAVE_GETTIMEOFDAY=1 -DHAVE_MEMSET=1 -DHAVE_MEMCPY=1 -DHAVE_BCOPY=1 -DHAVE_SRAND48=1 -I. -I../../include -Wall -Wno-long-long -pedantic -std=c++98 -O2 -DNDEBUG -MT Statistics.lo -MD -MP -MF .deps/Statistics.Tpo -c Statistics.cc  -fPIC -DPIC -o .libs/Statistics.o\n",
            "libtool: compile:  g++ -DPACKAGE_NAME=\\\"spatialindex\\\" -DPACKAGE_TARNAME=\\\"spatialindex-src\\\" -DPACKAGE_VERSION=\\\"1.8.5\\\" \"-DPACKAGE_STRING=\\\"spatialindex 1.8.5\\\"\" -DPACKAGE_BUGREPORT=\\\"mhadji@gmail.com\\\" -DPACKAGE_URL=\\\"\\\" -DSTDC_HEADERS=1 -DHAVE_SYS_TYPES_H=1 -DHAVE_SYS_STAT_H=1 -DHAVE_STDLIB_H=1 -DHAVE_STRING_H=1 -DHAVE_MEMORY_H=1 -DHAVE_STRINGS_H=1 -DHAVE_INTTYPES_H=1 -DHAVE_STDINT_H=1 -DHAVE_UNISTD_H=1 -DHAVE_DLFCN_H=1 -DLT_OBJDIR=\\\".libs/\\\" -DPACKAGE=\\\"spatialindex-src\\\" -DVERSION=\\\"1.8.5\\\" -DHAVE_FCNTL_H=1 -DHAVE_UNISTD_H=1 -DHAVE_SYS_TYPES_H=1 -DHAVE_SYS_STAT_H=1 -DHAVE_PTHREAD_H=1 -DHAVE_SYS_RESOURCE_H=1 -DHAVE_SYS_TIME_H=1 -DHAVE_STDINT_H=1 -DHAVE_FEATURES_H=1 -DHAVE_GETTIMEOFDAY=1 -DHAVE_MEMSET=1 -DHAVE_MEMCPY=1 -DHAVE_BCOPY=1 -DHAVE_SRAND48=1 -I. -I../../include -Wall -Wno-long-long -pedantic -std=c++98 -O2 -DNDEBUG -MT Statistics.lo -MD -MP -MF .deps/Statistics.Tpo -c Statistics.cc -o Statistics.o >/dev/null 2>&1\n",
            "/bin/bash ../../libtool  --tag=CXX   --mode=link g++  -Wall -Wno-long-long -pedantic -std=c++98  -O2 -DNDEBUG   -o librtree.la  BulkLoader.lo Index.lo Leaf.lo Node.lo RTree.lo Statistics.lo  -lpthread\n",
            "libtool: link: ar cru .libs/librtree.a .libs/BulkLoader.o .libs/Index.o .libs/Leaf.o .libs/Node.o .libs/RTree.o .libs/Statistics.o \n",
            "ar: `u' modifier ignored since `D' is the default (see `U')\n",
            "libtool: link: ranlib .libs/librtree.a\n",
            "libtool: link: ( cd \".libs\" && rm -f \"librtree.la\" && ln -s \"../librtree.la\" \"librtree.la\" )\n",
            "make[2]: Leaving directory '/content/spatialindex-src-1.8.5/src/rtree'\n",
            "Making all in mvrtree\n",
            "make[2]: Entering directory '/content/spatialindex-src-1.8.5/src/mvrtree'\n",
            "depbase=`echo Index.lo | sed 's|[^/]*$|.deps/&|;s|\\.lo$||'`;\\\n",
            "/bin/bash ../../libtool  --tag=CXX   --mode=compile g++ -DPACKAGE_NAME=\\\"spatialindex\\\" -DPACKAGE_TARNAME=\\\"spatialindex-src\\\" -DPACKAGE_VERSION=\\\"1.8.5\\\" -DPACKAGE_STRING=\\\"spatialindex\\ 1.8.5\\\" -DPACKAGE_BUGREPORT=\\\"mhadji@gmail.com\\\" -DPACKAGE_URL=\\\"\\\" -DSTDC_HEADERS=1 -DHAVE_SYS_TYPES_H=1 -DHAVE_SYS_STAT_H=1 -DHAVE_STDLIB_H=1 -DHAVE_STRING_H=1 -DHAVE_MEMORY_H=1 -DHAVE_STRINGS_H=1 -DHAVE_INTTYPES_H=1 -DHAVE_STDINT_H=1 -DHAVE_UNISTD_H=1 -DHAVE_DLFCN_H=1 -DLT_OBJDIR=\\\".libs/\\\" -DPACKAGE=\\\"spatialindex-src\\\" -DVERSION=\\\"1.8.5\\\" -DHAVE_FCNTL_H=1 -DHAVE_UNISTD_H=1 -DHAVE_SYS_TYPES_H=1 -DHAVE_SYS_STAT_H=1 -DHAVE_PTHREAD_H=1 -DHAVE_SYS_RESOURCE_H=1 -DHAVE_SYS_TIME_H=1 -DHAVE_STDINT_H=1 -DHAVE_FEATURES_H=1 -DHAVE_GETTIMEOFDAY=1 -DHAVE_MEMSET=1 -DHAVE_MEMCPY=1 -DHAVE_BCOPY=1 -DHAVE_SRAND48=1 -I. -I../../include     -Wall -Wno-long-long -pedantic -std=c++98  -O2 -DNDEBUG -MT Index.lo -MD -MP -MF $depbase.Tpo -c -o Index.lo Index.cc &&\\\n",
            "mv -f $depbase.Tpo $depbase.Plo\n",
            "libtool: compile:  g++ -DPACKAGE_NAME=\\\"spatialindex\\\" -DPACKAGE_TARNAME=\\\"spatialindex-src\\\" -DPACKAGE_VERSION=\\\"1.8.5\\\" \"-DPACKAGE_STRING=\\\"spatialindex 1.8.5\\\"\" -DPACKAGE_BUGREPORT=\\\"mhadji@gmail.com\\\" -DPACKAGE_URL=\\\"\\\" -DSTDC_HEADERS=1 -DHAVE_SYS_TYPES_H=1 -DHAVE_SYS_STAT_H=1 -DHAVE_STDLIB_H=1 -DHAVE_STRING_H=1 -DHAVE_MEMORY_H=1 -DHAVE_STRINGS_H=1 -DHAVE_INTTYPES_H=1 -DHAVE_STDINT_H=1 -DHAVE_UNISTD_H=1 -DHAVE_DLFCN_H=1 -DLT_OBJDIR=\\\".libs/\\\" -DPACKAGE=\\\"spatialindex-src\\\" -DVERSION=\\\"1.8.5\\\" -DHAVE_FCNTL_H=1 -DHAVE_UNISTD_H=1 -DHAVE_SYS_TYPES_H=1 -DHAVE_SYS_STAT_H=1 -DHAVE_PTHREAD_H=1 -DHAVE_SYS_RESOURCE_H=1 -DHAVE_SYS_TIME_H=1 -DHAVE_STDINT_H=1 -DHAVE_FEATURES_H=1 -DHAVE_GETTIMEOFDAY=1 -DHAVE_MEMSET=1 -DHAVE_MEMCPY=1 -DHAVE_BCOPY=1 -DHAVE_SRAND48=1 -I. -I../../include -Wall -Wno-long-long -pedantic -std=c++98 -O2 -DNDEBUG -MT Index.lo -MD -MP -MF .deps/Index.Tpo -c Index.cc  -fPIC -DPIC -o .libs/Index.o\n",
            "libtool: compile:  g++ -DPACKAGE_NAME=\\\"spatialindex\\\" -DPACKAGE_TARNAME=\\\"spatialindex-src\\\" -DPACKAGE_VERSION=\\\"1.8.5\\\" \"-DPACKAGE_STRING=\\\"spatialindex 1.8.5\\\"\" -DPACKAGE_BUGREPORT=\\\"mhadji@gmail.com\\\" -DPACKAGE_URL=\\\"\\\" -DSTDC_HEADERS=1 -DHAVE_SYS_TYPES_H=1 -DHAVE_SYS_STAT_H=1 -DHAVE_STDLIB_H=1 -DHAVE_STRING_H=1 -DHAVE_MEMORY_H=1 -DHAVE_STRINGS_H=1 -DHAVE_INTTYPES_H=1 -DHAVE_STDINT_H=1 -DHAVE_UNISTD_H=1 -DHAVE_DLFCN_H=1 -DLT_OBJDIR=\\\".libs/\\\" -DPACKAGE=\\\"spatialindex-src\\\" -DVERSION=\\\"1.8.5\\\" -DHAVE_FCNTL_H=1 -DHAVE_UNISTD_H=1 -DHAVE_SYS_TYPES_H=1 -DHAVE_SYS_STAT_H=1 -DHAVE_PTHREAD_H=1 -DHAVE_SYS_RESOURCE_H=1 -DHAVE_SYS_TIME_H=1 -DHAVE_STDINT_H=1 -DHAVE_FEATURES_H=1 -DHAVE_GETTIMEOFDAY=1 -DHAVE_MEMSET=1 -DHAVE_MEMCPY=1 -DHAVE_BCOPY=1 -DHAVE_SRAND48=1 -I. -I../../include -Wall -Wno-long-long -pedantic -std=c++98 -O2 -DNDEBUG -MT Index.lo -MD -MP -MF .deps/Index.Tpo -c Index.cc -o Index.o >/dev/null 2>&1\n",
            "depbase=`echo Leaf.lo | sed 's|[^/]*$|.deps/&|;s|\\.lo$||'`;\\\n",
            "/bin/bash ../../libtool  --tag=CXX   --mode=compile g++ -DPACKAGE_NAME=\\\"spatialindex\\\" -DPACKAGE_TARNAME=\\\"spatialindex-src\\\" -DPACKAGE_VERSION=\\\"1.8.5\\\" -DPACKAGE_STRING=\\\"spatialindex\\ 1.8.5\\\" -DPACKAGE_BUGREPORT=\\\"mhadji@gmail.com\\\" -DPACKAGE_URL=\\\"\\\" -DSTDC_HEADERS=1 -DHAVE_SYS_TYPES_H=1 -DHAVE_SYS_STAT_H=1 -DHAVE_STDLIB_H=1 -DHAVE_STRING_H=1 -DHAVE_MEMORY_H=1 -DHAVE_STRINGS_H=1 -DHAVE_INTTYPES_H=1 -DHAVE_STDINT_H=1 -DHAVE_UNISTD_H=1 -DHAVE_DLFCN_H=1 -DLT_OBJDIR=\\\".libs/\\\" -DPACKAGE=\\\"spatialindex-src\\\" -DVERSION=\\\"1.8.5\\\" -DHAVE_FCNTL_H=1 -DHAVE_UNISTD_H=1 -DHAVE_SYS_TYPES_H=1 -DHAVE_SYS_STAT_H=1 -DHAVE_PTHREAD_H=1 -DHAVE_SYS_RESOURCE_H=1 -DHAVE_SYS_TIME_H=1 -DHAVE_STDINT_H=1 -DHAVE_FEATURES_H=1 -DHAVE_GETTIMEOFDAY=1 -DHAVE_MEMSET=1 -DHAVE_MEMCPY=1 -DHAVE_BCOPY=1 -DHAVE_SRAND48=1 -I. -I../../include     -Wall -Wno-long-long -pedantic -std=c++98  -O2 -DNDEBUG -MT Leaf.lo -MD -MP -MF $depbase.Tpo -c -o Leaf.lo Leaf.cc &&\\\n",
            "mv -f $depbase.Tpo $depbase.Plo\n",
            "libtool: compile:  g++ -DPACKAGE_NAME=\\\"spatialindex\\\" -DPACKAGE_TARNAME=\\\"spatialindex-src\\\" -DPACKAGE_VERSION=\\\"1.8.5\\\" \"-DPACKAGE_STRING=\\\"spatialindex 1.8.5\\\"\" -DPACKAGE_BUGREPORT=\\\"mhadji@gmail.com\\\" -DPACKAGE_URL=\\\"\\\" -DSTDC_HEADERS=1 -DHAVE_SYS_TYPES_H=1 -DHAVE_SYS_STAT_H=1 -DHAVE_STDLIB_H=1 -DHAVE_STRING_H=1 -DHAVE_MEMORY_H=1 -DHAVE_STRINGS_H=1 -DHAVE_INTTYPES_H=1 -DHAVE_STDINT_H=1 -DHAVE_UNISTD_H=1 -DHAVE_DLFCN_H=1 -DLT_OBJDIR=\\\".libs/\\\" -DPACKAGE=\\\"spatialindex-src\\\" -DVERSION=\\\"1.8.5\\\" -DHAVE_FCNTL_H=1 -DHAVE_UNISTD_H=1 -DHAVE_SYS_TYPES_H=1 -DHAVE_SYS_STAT_H=1 -DHAVE_PTHREAD_H=1 -DHAVE_SYS_RESOURCE_H=1 -DHAVE_SYS_TIME_H=1 -DHAVE_STDINT_H=1 -DHAVE_FEATURES_H=1 -DHAVE_GETTIMEOFDAY=1 -DHAVE_MEMSET=1 -DHAVE_MEMCPY=1 -DHAVE_BCOPY=1 -DHAVE_SRAND48=1 -I. -I../../include -Wall -Wno-long-long -pedantic -std=c++98 -O2 -DNDEBUG -MT Leaf.lo -MD -MP -MF .deps/Leaf.Tpo -c Leaf.cc  -fPIC -DPIC -o .libs/Leaf.o\n",
            "libtool: compile:  g++ -DPACKAGE_NAME=\\\"spatialindex\\\" -DPACKAGE_TARNAME=\\\"spatialindex-src\\\" -DPACKAGE_VERSION=\\\"1.8.5\\\" \"-DPACKAGE_STRING=\\\"spatialindex 1.8.5\\\"\" -DPACKAGE_BUGREPORT=\\\"mhadji@gmail.com\\\" -DPACKAGE_URL=\\\"\\\" -DSTDC_HEADERS=1 -DHAVE_SYS_TYPES_H=1 -DHAVE_SYS_STAT_H=1 -DHAVE_STDLIB_H=1 -DHAVE_STRING_H=1 -DHAVE_MEMORY_H=1 -DHAVE_STRINGS_H=1 -DHAVE_INTTYPES_H=1 -DHAVE_STDINT_H=1 -DHAVE_UNISTD_H=1 -DHAVE_DLFCN_H=1 -DLT_OBJDIR=\\\".libs/\\\" -DPACKAGE=\\\"spatialindex-src\\\" -DVERSION=\\\"1.8.5\\\" -DHAVE_FCNTL_H=1 -DHAVE_UNISTD_H=1 -DHAVE_SYS_TYPES_H=1 -DHAVE_SYS_STAT_H=1 -DHAVE_PTHREAD_H=1 -DHAVE_SYS_RESOURCE_H=1 -DHAVE_SYS_TIME_H=1 -DHAVE_STDINT_H=1 -DHAVE_FEATURES_H=1 -DHAVE_GETTIMEOFDAY=1 -DHAVE_MEMSET=1 -DHAVE_MEMCPY=1 -DHAVE_BCOPY=1 -DHAVE_SRAND48=1 -I. -I../../include -Wall -Wno-long-long -pedantic -std=c++98 -O2 -DNDEBUG -MT Leaf.lo -MD -MP -MF .deps/Leaf.Tpo -c Leaf.cc -o Leaf.o >/dev/null 2>&1\n",
            "depbase=`echo Node.lo | sed 's|[^/]*$|.deps/&|;s|\\.lo$||'`;\\\n",
            "/bin/bash ../../libtool  --tag=CXX   --mode=compile g++ -DPACKAGE_NAME=\\\"spatialindex\\\" -DPACKAGE_TARNAME=\\\"spatialindex-src\\\" -DPACKAGE_VERSION=\\\"1.8.5\\\" -DPACKAGE_STRING=\\\"spatialindex\\ 1.8.5\\\" -DPACKAGE_BUGREPORT=\\\"mhadji@gmail.com\\\" -DPACKAGE_URL=\\\"\\\" -DSTDC_HEADERS=1 -DHAVE_SYS_TYPES_H=1 -DHAVE_SYS_STAT_H=1 -DHAVE_STDLIB_H=1 -DHAVE_STRING_H=1 -DHAVE_MEMORY_H=1 -DHAVE_STRINGS_H=1 -DHAVE_INTTYPES_H=1 -DHAVE_STDINT_H=1 -DHAVE_UNISTD_H=1 -DHAVE_DLFCN_H=1 -DLT_OBJDIR=\\\".libs/\\\" -DPACKAGE=\\\"spatialindex-src\\\" -DVERSION=\\\"1.8.5\\\" -DHAVE_FCNTL_H=1 -DHAVE_UNISTD_H=1 -DHAVE_SYS_TYPES_H=1 -DHAVE_SYS_STAT_H=1 -DHAVE_PTHREAD_H=1 -DHAVE_SYS_RESOURCE_H=1 -DHAVE_SYS_TIME_H=1 -DHAVE_STDINT_H=1 -DHAVE_FEATURES_H=1 -DHAVE_GETTIMEOFDAY=1 -DHAVE_MEMSET=1 -DHAVE_MEMCPY=1 -DHAVE_BCOPY=1 -DHAVE_SRAND48=1 -I. -I../../include     -Wall -Wno-long-long -pedantic -std=c++98  -O2 -DNDEBUG -MT Node.lo -MD -MP -MF $depbase.Tpo -c -o Node.lo Node.cc &&\\\n",
            "mv -f $depbase.Tpo $depbase.Plo\n",
            "libtool: compile:  g++ -DPACKAGE_NAME=\\\"spatialindex\\\" -DPACKAGE_TARNAME=\\\"spatialindex-src\\\" -DPACKAGE_VERSION=\\\"1.8.5\\\" \"-DPACKAGE_STRING=\\\"spatialindex 1.8.5\\\"\" -DPACKAGE_BUGREPORT=\\\"mhadji@gmail.com\\\" -DPACKAGE_URL=\\\"\\\" -DSTDC_HEADERS=1 -DHAVE_SYS_TYPES_H=1 -DHAVE_SYS_STAT_H=1 -DHAVE_STDLIB_H=1 -DHAVE_STRING_H=1 -DHAVE_MEMORY_H=1 -DHAVE_STRINGS_H=1 -DHAVE_INTTYPES_H=1 -DHAVE_STDINT_H=1 -DHAVE_UNISTD_H=1 -DHAVE_DLFCN_H=1 -DLT_OBJDIR=\\\".libs/\\\" -DPACKAGE=\\\"spatialindex-src\\\" -DVERSION=\\\"1.8.5\\\" -DHAVE_FCNTL_H=1 -DHAVE_UNISTD_H=1 -DHAVE_SYS_TYPES_H=1 -DHAVE_SYS_STAT_H=1 -DHAVE_PTHREAD_H=1 -DHAVE_SYS_RESOURCE_H=1 -DHAVE_SYS_TIME_H=1 -DHAVE_STDINT_H=1 -DHAVE_FEATURES_H=1 -DHAVE_GETTIMEOFDAY=1 -DHAVE_MEMSET=1 -DHAVE_MEMCPY=1 -DHAVE_BCOPY=1 -DHAVE_SRAND48=1 -I. -I../../include -Wall -Wno-long-long -pedantic -std=c++98 -O2 -DNDEBUG -MT Node.lo -MD -MP -MF .deps/Node.Tpo -c Node.cc  -fPIC -DPIC -o .libs/Node.o\n",
            "libtool: compile:  g++ -DPACKAGE_NAME=\\\"spatialindex\\\" -DPACKAGE_TARNAME=\\\"spatialindex-src\\\" -DPACKAGE_VERSION=\\\"1.8.5\\\" \"-DPACKAGE_STRING=\\\"spatialindex 1.8.5\\\"\" -DPACKAGE_BUGREPORT=\\\"mhadji@gmail.com\\\" -DPACKAGE_URL=\\\"\\\" -DSTDC_HEADERS=1 -DHAVE_SYS_TYPES_H=1 -DHAVE_SYS_STAT_H=1 -DHAVE_STDLIB_H=1 -DHAVE_STRING_H=1 -DHAVE_MEMORY_H=1 -DHAVE_STRINGS_H=1 -DHAVE_INTTYPES_H=1 -DHAVE_STDINT_H=1 -DHAVE_UNISTD_H=1 -DHAVE_DLFCN_H=1 -DLT_OBJDIR=\\\".libs/\\\" -DPACKAGE=\\\"spatialindex-src\\\" -DVERSION=\\\"1.8.5\\\" -DHAVE_FCNTL_H=1 -DHAVE_UNISTD_H=1 -DHAVE_SYS_TYPES_H=1 -DHAVE_SYS_STAT_H=1 -DHAVE_PTHREAD_H=1 -DHAVE_SYS_RESOURCE_H=1 -DHAVE_SYS_TIME_H=1 -DHAVE_STDINT_H=1 -DHAVE_FEATURES_H=1 -DHAVE_GETTIMEOFDAY=1 -DHAVE_MEMSET=1 -DHAVE_MEMCPY=1 -DHAVE_BCOPY=1 -DHAVE_SRAND48=1 -I. -I../../include -Wall -Wno-long-long -pedantic -std=c++98 -O2 -DNDEBUG -MT Node.lo -MD -MP -MF .deps/Node.Tpo -c Node.cc -o Node.o >/dev/null 2>&1\n",
            "depbase=`echo MVRTree.lo | sed 's|[^/]*$|.deps/&|;s|\\.lo$||'`;\\\n",
            "/bin/bash ../../libtool  --tag=CXX   --mode=compile g++ -DPACKAGE_NAME=\\\"spatialindex\\\" -DPACKAGE_TARNAME=\\\"spatialindex-src\\\" -DPACKAGE_VERSION=\\\"1.8.5\\\" -DPACKAGE_STRING=\\\"spatialindex\\ 1.8.5\\\" -DPACKAGE_BUGREPORT=\\\"mhadji@gmail.com\\\" -DPACKAGE_URL=\\\"\\\" -DSTDC_HEADERS=1 -DHAVE_SYS_TYPES_H=1 -DHAVE_SYS_STAT_H=1 -DHAVE_STDLIB_H=1 -DHAVE_STRING_H=1 -DHAVE_MEMORY_H=1 -DHAVE_STRINGS_H=1 -DHAVE_INTTYPES_H=1 -DHAVE_STDINT_H=1 -DHAVE_UNISTD_H=1 -DHAVE_DLFCN_H=1 -DLT_OBJDIR=\\\".libs/\\\" -DPACKAGE=\\\"spatialindex-src\\\" -DVERSION=\\\"1.8.5\\\" -DHAVE_FCNTL_H=1 -DHAVE_UNISTD_H=1 -DHAVE_SYS_TYPES_H=1 -DHAVE_SYS_STAT_H=1 -DHAVE_PTHREAD_H=1 -DHAVE_SYS_RESOURCE_H=1 -DHAVE_SYS_TIME_H=1 -DHAVE_STDINT_H=1 -DHAVE_FEATURES_H=1 -DHAVE_GETTIMEOFDAY=1 -DHAVE_MEMSET=1 -DHAVE_MEMCPY=1 -DHAVE_BCOPY=1 -DHAVE_SRAND48=1 -I. -I../../include     -Wall -Wno-long-long -pedantic -std=c++98  -O2 -DNDEBUG -MT MVRTree.lo -MD -MP -MF $depbase.Tpo -c -o MVRTree.lo MVRTree.cc &&\\\n",
            "mv -f $depbase.Tpo $depbase.Plo\n",
            "libtool: compile:  g++ -DPACKAGE_NAME=\\\"spatialindex\\\" -DPACKAGE_TARNAME=\\\"spatialindex-src\\\" -DPACKAGE_VERSION=\\\"1.8.5\\\" \"-DPACKAGE_STRING=\\\"spatialindex 1.8.5\\\"\" -DPACKAGE_BUGREPORT=\\\"mhadji@gmail.com\\\" -DPACKAGE_URL=\\\"\\\" -DSTDC_HEADERS=1 -DHAVE_SYS_TYPES_H=1 -DHAVE_SYS_STAT_H=1 -DHAVE_STDLIB_H=1 -DHAVE_STRING_H=1 -DHAVE_MEMORY_H=1 -DHAVE_STRINGS_H=1 -DHAVE_INTTYPES_H=1 -DHAVE_STDINT_H=1 -DHAVE_UNISTD_H=1 -DHAVE_DLFCN_H=1 -DLT_OBJDIR=\\\".libs/\\\" -DPACKAGE=\\\"spatialindex-src\\\" -DVERSION=\\\"1.8.5\\\" -DHAVE_FCNTL_H=1 -DHAVE_UNISTD_H=1 -DHAVE_SYS_TYPES_H=1 -DHAVE_SYS_STAT_H=1 -DHAVE_PTHREAD_H=1 -DHAVE_SYS_RESOURCE_H=1 -DHAVE_SYS_TIME_H=1 -DHAVE_STDINT_H=1 -DHAVE_FEATURES_H=1 -DHAVE_GETTIMEOFDAY=1 -DHAVE_MEMSET=1 -DHAVE_MEMCPY=1 -DHAVE_BCOPY=1 -DHAVE_SRAND48=1 -I. -I../../include -Wall -Wno-long-long -pedantic -std=c++98 -O2 -DNDEBUG -MT MVRTree.lo -MD -MP -MF .deps/MVRTree.Tpo -c MVRTree.cc  -fPIC -DPIC -o .libs/MVRTree.o\n",
            "libtool: compile:  g++ -DPACKAGE_NAME=\\\"spatialindex\\\" -DPACKAGE_TARNAME=\\\"spatialindex-src\\\" -DPACKAGE_VERSION=\\\"1.8.5\\\" \"-DPACKAGE_STRING=\\\"spatialindex 1.8.5\\\"\" -DPACKAGE_BUGREPORT=\\\"mhadji@gmail.com\\\" -DPACKAGE_URL=\\\"\\\" -DSTDC_HEADERS=1 -DHAVE_SYS_TYPES_H=1 -DHAVE_SYS_STAT_H=1 -DHAVE_STDLIB_H=1 -DHAVE_STRING_H=1 -DHAVE_MEMORY_H=1 -DHAVE_STRINGS_H=1 -DHAVE_INTTYPES_H=1 -DHAVE_STDINT_H=1 -DHAVE_UNISTD_H=1 -DHAVE_DLFCN_H=1 -DLT_OBJDIR=\\\".libs/\\\" -DPACKAGE=\\\"spatialindex-src\\\" -DVERSION=\\\"1.8.5\\\" -DHAVE_FCNTL_H=1 -DHAVE_UNISTD_H=1 -DHAVE_SYS_TYPES_H=1 -DHAVE_SYS_STAT_H=1 -DHAVE_PTHREAD_H=1 -DHAVE_SYS_RESOURCE_H=1 -DHAVE_SYS_TIME_H=1 -DHAVE_STDINT_H=1 -DHAVE_FEATURES_H=1 -DHAVE_GETTIMEOFDAY=1 -DHAVE_MEMSET=1 -DHAVE_MEMCPY=1 -DHAVE_BCOPY=1 -DHAVE_SRAND48=1 -I. -I../../include -Wall -Wno-long-long -pedantic -std=c++98 -O2 -DNDEBUG -MT MVRTree.lo -MD -MP -MF .deps/MVRTree.Tpo -c MVRTree.cc -o MVRTree.o >/dev/null 2>&1\n",
            "depbase=`echo Statistics.lo | sed 's|[^/]*$|.deps/&|;s|\\.lo$||'`;\\\n",
            "/bin/bash ../../libtool  --tag=CXX   --mode=compile g++ -DPACKAGE_NAME=\\\"spatialindex\\\" -DPACKAGE_TARNAME=\\\"spatialindex-src\\\" -DPACKAGE_VERSION=\\\"1.8.5\\\" -DPACKAGE_STRING=\\\"spatialindex\\ 1.8.5\\\" -DPACKAGE_BUGREPORT=\\\"mhadji@gmail.com\\\" -DPACKAGE_URL=\\\"\\\" -DSTDC_HEADERS=1 -DHAVE_SYS_TYPES_H=1 -DHAVE_SYS_STAT_H=1 -DHAVE_STDLIB_H=1 -DHAVE_STRING_H=1 -DHAVE_MEMORY_H=1 -DHAVE_STRINGS_H=1 -DHAVE_INTTYPES_H=1 -DHAVE_STDINT_H=1 -DHAVE_UNISTD_H=1 -DHAVE_DLFCN_H=1 -DLT_OBJDIR=\\\".libs/\\\" -DPACKAGE=\\\"spatialindex-src\\\" -DVERSION=\\\"1.8.5\\\" -DHAVE_FCNTL_H=1 -DHAVE_UNISTD_H=1 -DHAVE_SYS_TYPES_H=1 -DHAVE_SYS_STAT_H=1 -DHAVE_PTHREAD_H=1 -DHAVE_SYS_RESOURCE_H=1 -DHAVE_SYS_TIME_H=1 -DHAVE_STDINT_H=1 -DHAVE_FEATURES_H=1 -DHAVE_GETTIMEOFDAY=1 -DHAVE_MEMSET=1 -DHAVE_MEMCPY=1 -DHAVE_BCOPY=1 -DHAVE_SRAND48=1 -I. -I../../include     -Wall -Wno-long-long -pedantic -std=c++98  -O2 -DNDEBUG -MT Statistics.lo -MD -MP -MF $depbase.Tpo -c -o Statistics.lo Statistics.cc &&\\\n",
            "mv -f $depbase.Tpo $depbase.Plo\n",
            "libtool: compile:  g++ -DPACKAGE_NAME=\\\"spatialindex\\\" -DPACKAGE_TARNAME=\\\"spatialindex-src\\\" -DPACKAGE_VERSION=\\\"1.8.5\\\" \"-DPACKAGE_STRING=\\\"spatialindex 1.8.5\\\"\" -DPACKAGE_BUGREPORT=\\\"mhadji@gmail.com\\\" -DPACKAGE_URL=\\\"\\\" -DSTDC_HEADERS=1 -DHAVE_SYS_TYPES_H=1 -DHAVE_SYS_STAT_H=1 -DHAVE_STDLIB_H=1 -DHAVE_STRING_H=1 -DHAVE_MEMORY_H=1 -DHAVE_STRINGS_H=1 -DHAVE_INTTYPES_H=1 -DHAVE_STDINT_H=1 -DHAVE_UNISTD_H=1 -DHAVE_DLFCN_H=1 -DLT_OBJDIR=\\\".libs/\\\" -DPACKAGE=\\\"spatialindex-src\\\" -DVERSION=\\\"1.8.5\\\" -DHAVE_FCNTL_H=1 -DHAVE_UNISTD_H=1 -DHAVE_SYS_TYPES_H=1 -DHAVE_SYS_STAT_H=1 -DHAVE_PTHREAD_H=1 -DHAVE_SYS_RESOURCE_H=1 -DHAVE_SYS_TIME_H=1 -DHAVE_STDINT_H=1 -DHAVE_FEATURES_H=1 -DHAVE_GETTIMEOFDAY=1 -DHAVE_MEMSET=1 -DHAVE_MEMCPY=1 -DHAVE_BCOPY=1 -DHAVE_SRAND48=1 -I. -I../../include -Wall -Wno-long-long -pedantic -std=c++98 -O2 -DNDEBUG -MT Statistics.lo -MD -MP -MF .deps/Statistics.Tpo -c Statistics.cc  -fPIC -DPIC -o .libs/Statistics.o\n",
            "libtool: compile:  g++ -DPACKAGE_NAME=\\\"spatialindex\\\" -DPACKAGE_TARNAME=\\\"spatialindex-src\\\" -DPACKAGE_VERSION=\\\"1.8.5\\\" \"-DPACKAGE_STRING=\\\"spatialindex 1.8.5\\\"\" -DPACKAGE_BUGREPORT=\\\"mhadji@gmail.com\\\" -DPACKAGE_URL=\\\"\\\" -DSTDC_HEADERS=1 -DHAVE_SYS_TYPES_H=1 -DHAVE_SYS_STAT_H=1 -DHAVE_STDLIB_H=1 -DHAVE_STRING_H=1 -DHAVE_MEMORY_H=1 -DHAVE_STRINGS_H=1 -DHAVE_INTTYPES_H=1 -DHAVE_STDINT_H=1 -DHAVE_UNISTD_H=1 -DHAVE_DLFCN_H=1 -DLT_OBJDIR=\\\".libs/\\\" -DPACKAGE=\\\"spatialindex-src\\\" -DVERSION=\\\"1.8.5\\\" -DHAVE_FCNTL_H=1 -DHAVE_UNISTD_H=1 -DHAVE_SYS_TYPES_H=1 -DHAVE_SYS_STAT_H=1 -DHAVE_PTHREAD_H=1 -DHAVE_SYS_RESOURCE_H=1 -DHAVE_SYS_TIME_H=1 -DHAVE_STDINT_H=1 -DHAVE_FEATURES_H=1 -DHAVE_GETTIMEOFDAY=1 -DHAVE_MEMSET=1 -DHAVE_MEMCPY=1 -DHAVE_BCOPY=1 -DHAVE_SRAND48=1 -I. -I../../include -Wall -Wno-long-long -pedantic -std=c++98 -O2 -DNDEBUG -MT Statistics.lo -MD -MP -MF .deps/Statistics.Tpo -c Statistics.cc -o Statistics.o >/dev/null 2>&1\n",
            "/bin/bash ../../libtool  --tag=CXX   --mode=link g++  -Wall -Wno-long-long -pedantic -std=c++98  -O2 -DNDEBUG   -o libmvrtree.la  Index.lo Leaf.lo Node.lo MVRTree.lo Statistics.lo  -lpthread\n",
            "libtool: link: ar cru .libs/libmvrtree.a .libs/Index.o .libs/Leaf.o .libs/Node.o .libs/MVRTree.o .libs/Statistics.o \n",
            "ar: `u' modifier ignored since `D' is the default (see `U')\n",
            "libtool: link: ranlib .libs/libmvrtree.a\n",
            "libtool: link: ( cd \".libs\" && rm -f \"libmvrtree.la\" && ln -s \"../libmvrtree.la\" \"libmvrtree.la\" )\n",
            "make[2]: Leaving directory '/content/spatialindex-src-1.8.5/src/mvrtree'\n",
            "Making all in tprtree\n",
            "make[2]: Entering directory '/content/spatialindex-src-1.8.5/src/tprtree'\n",
            "depbase=`echo Index.lo | sed 's|[^/]*$|.deps/&|;s|\\.lo$||'`;\\\n",
            "/bin/bash ../../libtool  --tag=CXX   --mode=compile g++ -DPACKAGE_NAME=\\\"spatialindex\\\" -DPACKAGE_TARNAME=\\\"spatialindex-src\\\" -DPACKAGE_VERSION=\\\"1.8.5\\\" -DPACKAGE_STRING=\\\"spatialindex\\ 1.8.5\\\" -DPACKAGE_BUGREPORT=\\\"mhadji@gmail.com\\\" -DPACKAGE_URL=\\\"\\\" -DSTDC_HEADERS=1 -DHAVE_SYS_TYPES_H=1 -DHAVE_SYS_STAT_H=1 -DHAVE_STDLIB_H=1 -DHAVE_STRING_H=1 -DHAVE_MEMORY_H=1 -DHAVE_STRINGS_H=1 -DHAVE_INTTYPES_H=1 -DHAVE_STDINT_H=1 -DHAVE_UNISTD_H=1 -DHAVE_DLFCN_H=1 -DLT_OBJDIR=\\\".libs/\\\" -DPACKAGE=\\\"spatialindex-src\\\" -DVERSION=\\\"1.8.5\\\" -DHAVE_FCNTL_H=1 -DHAVE_UNISTD_H=1 -DHAVE_SYS_TYPES_H=1 -DHAVE_SYS_STAT_H=1 -DHAVE_PTHREAD_H=1 -DHAVE_SYS_RESOURCE_H=1 -DHAVE_SYS_TIME_H=1 -DHAVE_STDINT_H=1 -DHAVE_FEATURES_H=1 -DHAVE_GETTIMEOFDAY=1 -DHAVE_MEMSET=1 -DHAVE_MEMCPY=1 -DHAVE_BCOPY=1 -DHAVE_SRAND48=1 -I. -I../../include     -Wall -Wno-long-long -pedantic -std=c++98  -O2 -DNDEBUG -MT Index.lo -MD -MP -MF $depbase.Tpo -c -o Index.lo Index.cc &&\\\n",
            "mv -f $depbase.Tpo $depbase.Plo\n",
            "libtool: compile:  g++ -DPACKAGE_NAME=\\\"spatialindex\\\" -DPACKAGE_TARNAME=\\\"spatialindex-src\\\" -DPACKAGE_VERSION=\\\"1.8.5\\\" \"-DPACKAGE_STRING=\\\"spatialindex 1.8.5\\\"\" -DPACKAGE_BUGREPORT=\\\"mhadji@gmail.com\\\" -DPACKAGE_URL=\\\"\\\" -DSTDC_HEADERS=1 -DHAVE_SYS_TYPES_H=1 -DHAVE_SYS_STAT_H=1 -DHAVE_STDLIB_H=1 -DHAVE_STRING_H=1 -DHAVE_MEMORY_H=1 -DHAVE_STRINGS_H=1 -DHAVE_INTTYPES_H=1 -DHAVE_STDINT_H=1 -DHAVE_UNISTD_H=1 -DHAVE_DLFCN_H=1 -DLT_OBJDIR=\\\".libs/\\\" -DPACKAGE=\\\"spatialindex-src\\\" -DVERSION=\\\"1.8.5\\\" -DHAVE_FCNTL_H=1 -DHAVE_UNISTD_H=1 -DHAVE_SYS_TYPES_H=1 -DHAVE_SYS_STAT_H=1 -DHAVE_PTHREAD_H=1 -DHAVE_SYS_RESOURCE_H=1 -DHAVE_SYS_TIME_H=1 -DHAVE_STDINT_H=1 -DHAVE_FEATURES_H=1 -DHAVE_GETTIMEOFDAY=1 -DHAVE_MEMSET=1 -DHAVE_MEMCPY=1 -DHAVE_BCOPY=1 -DHAVE_SRAND48=1 -I. -I../../include -Wall -Wno-long-long -pedantic -std=c++98 -O2 -DNDEBUG -MT Index.lo -MD -MP -MF .deps/Index.Tpo -c Index.cc  -fPIC -DPIC -o .libs/Index.o\n",
            "libtool: compile:  g++ -DPACKAGE_NAME=\\\"spatialindex\\\" -DPACKAGE_TARNAME=\\\"spatialindex-src\\\" -DPACKAGE_VERSION=\\\"1.8.5\\\" \"-DPACKAGE_STRING=\\\"spatialindex 1.8.5\\\"\" -DPACKAGE_BUGREPORT=\\\"mhadji@gmail.com\\\" -DPACKAGE_URL=\\\"\\\" -DSTDC_HEADERS=1 -DHAVE_SYS_TYPES_H=1 -DHAVE_SYS_STAT_H=1 -DHAVE_STDLIB_H=1 -DHAVE_STRING_H=1 -DHAVE_MEMORY_H=1 -DHAVE_STRINGS_H=1 -DHAVE_INTTYPES_H=1 -DHAVE_STDINT_H=1 -DHAVE_UNISTD_H=1 -DHAVE_DLFCN_H=1 -DLT_OBJDIR=\\\".libs/\\\" -DPACKAGE=\\\"spatialindex-src\\\" -DVERSION=\\\"1.8.5\\\" -DHAVE_FCNTL_H=1 -DHAVE_UNISTD_H=1 -DHAVE_SYS_TYPES_H=1 -DHAVE_SYS_STAT_H=1 -DHAVE_PTHREAD_H=1 -DHAVE_SYS_RESOURCE_H=1 -DHAVE_SYS_TIME_H=1 -DHAVE_STDINT_H=1 -DHAVE_FEATURES_H=1 -DHAVE_GETTIMEOFDAY=1 -DHAVE_MEMSET=1 -DHAVE_MEMCPY=1 -DHAVE_BCOPY=1 -DHAVE_SRAND48=1 -I. -I../../include -Wall -Wno-long-long -pedantic -std=c++98 -O2 -DNDEBUG -MT Index.lo -MD -MP -MF .deps/Index.Tpo -c Index.cc -o Index.o >/dev/null 2>&1\n",
            "depbase=`echo Leaf.lo | sed 's|[^/]*$|.deps/&|;s|\\.lo$||'`;\\\n",
            "/bin/bash ../../libtool  --tag=CXX   --mode=compile g++ -DPACKAGE_NAME=\\\"spatialindex\\\" -DPACKAGE_TARNAME=\\\"spatialindex-src\\\" -DPACKAGE_VERSION=\\\"1.8.5\\\" -DPACKAGE_STRING=\\\"spatialindex\\ 1.8.5\\\" -DPACKAGE_BUGREPORT=\\\"mhadji@gmail.com\\\" -DPACKAGE_URL=\\\"\\\" -DSTDC_HEADERS=1 -DHAVE_SYS_TYPES_H=1 -DHAVE_SYS_STAT_H=1 -DHAVE_STDLIB_H=1 -DHAVE_STRING_H=1 -DHAVE_MEMORY_H=1 -DHAVE_STRINGS_H=1 -DHAVE_INTTYPES_H=1 -DHAVE_STDINT_H=1 -DHAVE_UNISTD_H=1 -DHAVE_DLFCN_H=1 -DLT_OBJDIR=\\\".libs/\\\" -DPACKAGE=\\\"spatialindex-src\\\" -DVERSION=\\\"1.8.5\\\" -DHAVE_FCNTL_H=1 -DHAVE_UNISTD_H=1 -DHAVE_SYS_TYPES_H=1 -DHAVE_SYS_STAT_H=1 -DHAVE_PTHREAD_H=1 -DHAVE_SYS_RESOURCE_H=1 -DHAVE_SYS_TIME_H=1 -DHAVE_STDINT_H=1 -DHAVE_FEATURES_H=1 -DHAVE_GETTIMEOFDAY=1 -DHAVE_MEMSET=1 -DHAVE_MEMCPY=1 -DHAVE_BCOPY=1 -DHAVE_SRAND48=1 -I. -I../../include     -Wall -Wno-long-long -pedantic -std=c++98  -O2 -DNDEBUG -MT Leaf.lo -MD -MP -MF $depbase.Tpo -c -o Leaf.lo Leaf.cc &&\\\n",
            "mv -f $depbase.Tpo $depbase.Plo\n",
            "libtool: compile:  g++ -DPACKAGE_NAME=\\\"spatialindex\\\" -DPACKAGE_TARNAME=\\\"spatialindex-src\\\" -DPACKAGE_VERSION=\\\"1.8.5\\\" \"-DPACKAGE_STRING=\\\"spatialindex 1.8.5\\\"\" -DPACKAGE_BUGREPORT=\\\"mhadji@gmail.com\\\" -DPACKAGE_URL=\\\"\\\" -DSTDC_HEADERS=1 -DHAVE_SYS_TYPES_H=1 -DHAVE_SYS_STAT_H=1 -DHAVE_STDLIB_H=1 -DHAVE_STRING_H=1 -DHAVE_MEMORY_H=1 -DHAVE_STRINGS_H=1 -DHAVE_INTTYPES_H=1 -DHAVE_STDINT_H=1 -DHAVE_UNISTD_H=1 -DHAVE_DLFCN_H=1 -DLT_OBJDIR=\\\".libs/\\\" -DPACKAGE=\\\"spatialindex-src\\\" -DVERSION=\\\"1.8.5\\\" -DHAVE_FCNTL_H=1 -DHAVE_UNISTD_H=1 -DHAVE_SYS_TYPES_H=1 -DHAVE_SYS_STAT_H=1 -DHAVE_PTHREAD_H=1 -DHAVE_SYS_RESOURCE_H=1 -DHAVE_SYS_TIME_H=1 -DHAVE_STDINT_H=1 -DHAVE_FEATURES_H=1 -DHAVE_GETTIMEOFDAY=1 -DHAVE_MEMSET=1 -DHAVE_MEMCPY=1 -DHAVE_BCOPY=1 -DHAVE_SRAND48=1 -I. -I../../include -Wall -Wno-long-long -pedantic -std=c++98 -O2 -DNDEBUG -MT Leaf.lo -MD -MP -MF .deps/Leaf.Tpo -c Leaf.cc  -fPIC -DPIC -o .libs/Leaf.o\n",
            "libtool: compile:  g++ -DPACKAGE_NAME=\\\"spatialindex\\\" -DPACKAGE_TARNAME=\\\"spatialindex-src\\\" -DPACKAGE_VERSION=\\\"1.8.5\\\" \"-DPACKAGE_STRING=\\\"spatialindex 1.8.5\\\"\" -DPACKAGE_BUGREPORT=\\\"mhadji@gmail.com\\\" -DPACKAGE_URL=\\\"\\\" -DSTDC_HEADERS=1 -DHAVE_SYS_TYPES_H=1 -DHAVE_SYS_STAT_H=1 -DHAVE_STDLIB_H=1 -DHAVE_STRING_H=1 -DHAVE_MEMORY_H=1 -DHAVE_STRINGS_H=1 -DHAVE_INTTYPES_H=1 -DHAVE_STDINT_H=1 -DHAVE_UNISTD_H=1 -DHAVE_DLFCN_H=1 -DLT_OBJDIR=\\\".libs/\\\" -DPACKAGE=\\\"spatialindex-src\\\" -DVERSION=\\\"1.8.5\\\" -DHAVE_FCNTL_H=1 -DHAVE_UNISTD_H=1 -DHAVE_SYS_TYPES_H=1 -DHAVE_SYS_STAT_H=1 -DHAVE_PTHREAD_H=1 -DHAVE_SYS_RESOURCE_H=1 -DHAVE_SYS_TIME_H=1 -DHAVE_STDINT_H=1 -DHAVE_FEATURES_H=1 -DHAVE_GETTIMEOFDAY=1 -DHAVE_MEMSET=1 -DHAVE_MEMCPY=1 -DHAVE_BCOPY=1 -DHAVE_SRAND48=1 -I. -I../../include -Wall -Wno-long-long -pedantic -std=c++98 -O2 -DNDEBUG -MT Leaf.lo -MD -MP -MF .deps/Leaf.Tpo -c Leaf.cc -o Leaf.o >/dev/null 2>&1\n",
            "depbase=`echo Node.lo | sed 's|[^/]*$|.deps/&|;s|\\.lo$||'`;\\\n",
            "/bin/bash ../../libtool  --tag=CXX   --mode=compile g++ -DPACKAGE_NAME=\\\"spatialindex\\\" -DPACKAGE_TARNAME=\\\"spatialindex-src\\\" -DPACKAGE_VERSION=\\\"1.8.5\\\" -DPACKAGE_STRING=\\\"spatialindex\\ 1.8.5\\\" -DPACKAGE_BUGREPORT=\\\"mhadji@gmail.com\\\" -DPACKAGE_URL=\\\"\\\" -DSTDC_HEADERS=1 -DHAVE_SYS_TYPES_H=1 -DHAVE_SYS_STAT_H=1 -DHAVE_STDLIB_H=1 -DHAVE_STRING_H=1 -DHAVE_MEMORY_H=1 -DHAVE_STRINGS_H=1 -DHAVE_INTTYPES_H=1 -DHAVE_STDINT_H=1 -DHAVE_UNISTD_H=1 -DHAVE_DLFCN_H=1 -DLT_OBJDIR=\\\".libs/\\\" -DPACKAGE=\\\"spatialindex-src\\\" -DVERSION=\\\"1.8.5\\\" -DHAVE_FCNTL_H=1 -DHAVE_UNISTD_H=1 -DHAVE_SYS_TYPES_H=1 -DHAVE_SYS_STAT_H=1 -DHAVE_PTHREAD_H=1 -DHAVE_SYS_RESOURCE_H=1 -DHAVE_SYS_TIME_H=1 -DHAVE_STDINT_H=1 -DHAVE_FEATURES_H=1 -DHAVE_GETTIMEOFDAY=1 -DHAVE_MEMSET=1 -DHAVE_MEMCPY=1 -DHAVE_BCOPY=1 -DHAVE_SRAND48=1 -I. -I../../include     -Wall -Wno-long-long -pedantic -std=c++98  -O2 -DNDEBUG -MT Node.lo -MD -MP -MF $depbase.Tpo -c -o Node.lo Node.cc &&\\\n",
            "mv -f $depbase.Tpo $depbase.Plo\n",
            "libtool: compile:  g++ -DPACKAGE_NAME=\\\"spatialindex\\\" -DPACKAGE_TARNAME=\\\"spatialindex-src\\\" -DPACKAGE_VERSION=\\\"1.8.5\\\" \"-DPACKAGE_STRING=\\\"spatialindex 1.8.5\\\"\" -DPACKAGE_BUGREPORT=\\\"mhadji@gmail.com\\\" -DPACKAGE_URL=\\\"\\\" -DSTDC_HEADERS=1 -DHAVE_SYS_TYPES_H=1 -DHAVE_SYS_STAT_H=1 -DHAVE_STDLIB_H=1 -DHAVE_STRING_H=1 -DHAVE_MEMORY_H=1 -DHAVE_STRINGS_H=1 -DHAVE_INTTYPES_H=1 -DHAVE_STDINT_H=1 -DHAVE_UNISTD_H=1 -DHAVE_DLFCN_H=1 -DLT_OBJDIR=\\\".libs/\\\" -DPACKAGE=\\\"spatialindex-src\\\" -DVERSION=\\\"1.8.5\\\" -DHAVE_FCNTL_H=1 -DHAVE_UNISTD_H=1 -DHAVE_SYS_TYPES_H=1 -DHAVE_SYS_STAT_H=1 -DHAVE_PTHREAD_H=1 -DHAVE_SYS_RESOURCE_H=1 -DHAVE_SYS_TIME_H=1 -DHAVE_STDINT_H=1 -DHAVE_FEATURES_H=1 -DHAVE_GETTIMEOFDAY=1 -DHAVE_MEMSET=1 -DHAVE_MEMCPY=1 -DHAVE_BCOPY=1 -DHAVE_SRAND48=1 -I. -I../../include -Wall -Wno-long-long -pedantic -std=c++98 -O2 -DNDEBUG -MT Node.lo -MD -MP -MF .deps/Node.Tpo -c Node.cc  -fPIC -DPIC -o .libs/Node.o\n",
            "libtool: compile:  g++ -DPACKAGE_NAME=\\\"spatialindex\\\" -DPACKAGE_TARNAME=\\\"spatialindex-src\\\" -DPACKAGE_VERSION=\\\"1.8.5\\\" \"-DPACKAGE_STRING=\\\"spatialindex 1.8.5\\\"\" -DPACKAGE_BUGREPORT=\\\"mhadji@gmail.com\\\" -DPACKAGE_URL=\\\"\\\" -DSTDC_HEADERS=1 -DHAVE_SYS_TYPES_H=1 -DHAVE_SYS_STAT_H=1 -DHAVE_STDLIB_H=1 -DHAVE_STRING_H=1 -DHAVE_MEMORY_H=1 -DHAVE_STRINGS_H=1 -DHAVE_INTTYPES_H=1 -DHAVE_STDINT_H=1 -DHAVE_UNISTD_H=1 -DHAVE_DLFCN_H=1 -DLT_OBJDIR=\\\".libs/\\\" -DPACKAGE=\\\"spatialindex-src\\\" -DVERSION=\\\"1.8.5\\\" -DHAVE_FCNTL_H=1 -DHAVE_UNISTD_H=1 -DHAVE_SYS_TYPES_H=1 -DHAVE_SYS_STAT_H=1 -DHAVE_PTHREAD_H=1 -DHAVE_SYS_RESOURCE_H=1 -DHAVE_SYS_TIME_H=1 -DHAVE_STDINT_H=1 -DHAVE_FEATURES_H=1 -DHAVE_GETTIMEOFDAY=1 -DHAVE_MEMSET=1 -DHAVE_MEMCPY=1 -DHAVE_BCOPY=1 -DHAVE_SRAND48=1 -I. -I../../include -Wall -Wno-long-long -pedantic -std=c++98 -O2 -DNDEBUG -MT Node.lo -MD -MP -MF .deps/Node.Tpo -c Node.cc -o Node.o >/dev/null 2>&1\n",
            "depbase=`echo TPRTree.lo | sed 's|[^/]*$|.deps/&|;s|\\.lo$||'`;\\\n",
            "/bin/bash ../../libtool  --tag=CXX   --mode=compile g++ -DPACKAGE_NAME=\\\"spatialindex\\\" -DPACKAGE_TARNAME=\\\"spatialindex-src\\\" -DPACKAGE_VERSION=\\\"1.8.5\\\" -DPACKAGE_STRING=\\\"spatialindex\\ 1.8.5\\\" -DPACKAGE_BUGREPORT=\\\"mhadji@gmail.com\\\" -DPACKAGE_URL=\\\"\\\" -DSTDC_HEADERS=1 -DHAVE_SYS_TYPES_H=1 -DHAVE_SYS_STAT_H=1 -DHAVE_STDLIB_H=1 -DHAVE_STRING_H=1 -DHAVE_MEMORY_H=1 -DHAVE_STRINGS_H=1 -DHAVE_INTTYPES_H=1 -DHAVE_STDINT_H=1 -DHAVE_UNISTD_H=1 -DHAVE_DLFCN_H=1 -DLT_OBJDIR=\\\".libs/\\\" -DPACKAGE=\\\"spatialindex-src\\\" -DVERSION=\\\"1.8.5\\\" -DHAVE_FCNTL_H=1 -DHAVE_UNISTD_H=1 -DHAVE_SYS_TYPES_H=1 -DHAVE_SYS_STAT_H=1 -DHAVE_PTHREAD_H=1 -DHAVE_SYS_RESOURCE_H=1 -DHAVE_SYS_TIME_H=1 -DHAVE_STDINT_H=1 -DHAVE_FEATURES_H=1 -DHAVE_GETTIMEOFDAY=1 -DHAVE_MEMSET=1 -DHAVE_MEMCPY=1 -DHAVE_BCOPY=1 -DHAVE_SRAND48=1 -I. -I../../include     -Wall -Wno-long-long -pedantic -std=c++98  -O2 -DNDEBUG -MT TPRTree.lo -MD -MP -MF $depbase.Tpo -c -o TPRTree.lo TPRTree.cc &&\\\n",
            "mv -f $depbase.Tpo $depbase.Plo\n",
            "libtool: compile:  g++ -DPACKAGE_NAME=\\\"spatialindex\\\" -DPACKAGE_TARNAME=\\\"spatialindex-src\\\" -DPACKAGE_VERSION=\\\"1.8.5\\\" \"-DPACKAGE_STRING=\\\"spatialindex 1.8.5\\\"\" -DPACKAGE_BUGREPORT=\\\"mhadji@gmail.com\\\" -DPACKAGE_URL=\\\"\\\" -DSTDC_HEADERS=1 -DHAVE_SYS_TYPES_H=1 -DHAVE_SYS_STAT_H=1 -DHAVE_STDLIB_H=1 -DHAVE_STRING_H=1 -DHAVE_MEMORY_H=1 -DHAVE_STRINGS_H=1 -DHAVE_INTTYPES_H=1 -DHAVE_STDINT_H=1 -DHAVE_UNISTD_H=1 -DHAVE_DLFCN_H=1 -DLT_OBJDIR=\\\".libs/\\\" -DPACKAGE=\\\"spatialindex-src\\\" -DVERSION=\\\"1.8.5\\\" -DHAVE_FCNTL_H=1 -DHAVE_UNISTD_H=1 -DHAVE_SYS_TYPES_H=1 -DHAVE_SYS_STAT_H=1 -DHAVE_PTHREAD_H=1 -DHAVE_SYS_RESOURCE_H=1 -DHAVE_SYS_TIME_H=1 -DHAVE_STDINT_H=1 -DHAVE_FEATURES_H=1 -DHAVE_GETTIMEOFDAY=1 -DHAVE_MEMSET=1 -DHAVE_MEMCPY=1 -DHAVE_BCOPY=1 -DHAVE_SRAND48=1 -I. -I../../include -Wall -Wno-long-long -pedantic -std=c++98 -O2 -DNDEBUG -MT TPRTree.lo -MD -MP -MF .deps/TPRTree.Tpo -c TPRTree.cc  -fPIC -DPIC -o .libs/TPRTree.o\n",
            "libtool: compile:  g++ -DPACKAGE_NAME=\\\"spatialindex\\\" -DPACKAGE_TARNAME=\\\"spatialindex-src\\\" -DPACKAGE_VERSION=\\\"1.8.5\\\" \"-DPACKAGE_STRING=\\\"spatialindex 1.8.5\\\"\" -DPACKAGE_BUGREPORT=\\\"mhadji@gmail.com\\\" -DPACKAGE_URL=\\\"\\\" -DSTDC_HEADERS=1 -DHAVE_SYS_TYPES_H=1 -DHAVE_SYS_STAT_H=1 -DHAVE_STDLIB_H=1 -DHAVE_STRING_H=1 -DHAVE_MEMORY_H=1 -DHAVE_STRINGS_H=1 -DHAVE_INTTYPES_H=1 -DHAVE_STDINT_H=1 -DHAVE_UNISTD_H=1 -DHAVE_DLFCN_H=1 -DLT_OBJDIR=\\\".libs/\\\" -DPACKAGE=\\\"spatialindex-src\\\" -DVERSION=\\\"1.8.5\\\" -DHAVE_FCNTL_H=1 -DHAVE_UNISTD_H=1 -DHAVE_SYS_TYPES_H=1 -DHAVE_SYS_STAT_H=1 -DHAVE_PTHREAD_H=1 -DHAVE_SYS_RESOURCE_H=1 -DHAVE_SYS_TIME_H=1 -DHAVE_STDINT_H=1 -DHAVE_FEATURES_H=1 -DHAVE_GETTIMEOFDAY=1 -DHAVE_MEMSET=1 -DHAVE_MEMCPY=1 -DHAVE_BCOPY=1 -DHAVE_SRAND48=1 -I. -I../../include -Wall -Wno-long-long -pedantic -std=c++98 -O2 -DNDEBUG -MT TPRTree.lo -MD -MP -MF .deps/TPRTree.Tpo -c TPRTree.cc -o TPRTree.o >/dev/null 2>&1\n",
            "depbase=`echo Statistics.lo | sed 's|[^/]*$|.deps/&|;s|\\.lo$||'`;\\\n",
            "/bin/bash ../../libtool  --tag=CXX   --mode=compile g++ -DPACKAGE_NAME=\\\"spatialindex\\\" -DPACKAGE_TARNAME=\\\"spatialindex-src\\\" -DPACKAGE_VERSION=\\\"1.8.5\\\" -DPACKAGE_STRING=\\\"spatialindex\\ 1.8.5\\\" -DPACKAGE_BUGREPORT=\\\"mhadji@gmail.com\\\" -DPACKAGE_URL=\\\"\\\" -DSTDC_HEADERS=1 -DHAVE_SYS_TYPES_H=1 -DHAVE_SYS_STAT_H=1 -DHAVE_STDLIB_H=1 -DHAVE_STRING_H=1 -DHAVE_MEMORY_H=1 -DHAVE_STRINGS_H=1 -DHAVE_INTTYPES_H=1 -DHAVE_STDINT_H=1 -DHAVE_UNISTD_H=1 -DHAVE_DLFCN_H=1 -DLT_OBJDIR=\\\".libs/\\\" -DPACKAGE=\\\"spatialindex-src\\\" -DVERSION=\\\"1.8.5\\\" -DHAVE_FCNTL_H=1 -DHAVE_UNISTD_H=1 -DHAVE_SYS_TYPES_H=1 -DHAVE_SYS_STAT_H=1 -DHAVE_PTHREAD_H=1 -DHAVE_SYS_RESOURCE_H=1 -DHAVE_SYS_TIME_H=1 -DHAVE_STDINT_H=1 -DHAVE_FEATURES_H=1 -DHAVE_GETTIMEOFDAY=1 -DHAVE_MEMSET=1 -DHAVE_MEMCPY=1 -DHAVE_BCOPY=1 -DHAVE_SRAND48=1 -I. -I../../include     -Wall -Wno-long-long -pedantic -std=c++98  -O2 -DNDEBUG -MT Statistics.lo -MD -MP -MF $depbase.Tpo -c -o Statistics.lo Statistics.cc &&\\\n",
            "mv -f $depbase.Tpo $depbase.Plo\n",
            "libtool: compile:  g++ -DPACKAGE_NAME=\\\"spatialindex\\\" -DPACKAGE_TARNAME=\\\"spatialindex-src\\\" -DPACKAGE_VERSION=\\\"1.8.5\\\" \"-DPACKAGE_STRING=\\\"spatialindex 1.8.5\\\"\" -DPACKAGE_BUGREPORT=\\\"mhadji@gmail.com\\\" -DPACKAGE_URL=\\\"\\\" -DSTDC_HEADERS=1 -DHAVE_SYS_TYPES_H=1 -DHAVE_SYS_STAT_H=1 -DHAVE_STDLIB_H=1 -DHAVE_STRING_H=1 -DHAVE_MEMORY_H=1 -DHAVE_STRINGS_H=1 -DHAVE_INTTYPES_H=1 -DHAVE_STDINT_H=1 -DHAVE_UNISTD_H=1 -DHAVE_DLFCN_H=1 -DLT_OBJDIR=\\\".libs/\\\" -DPACKAGE=\\\"spatialindex-src\\\" -DVERSION=\\\"1.8.5\\\" -DHAVE_FCNTL_H=1 -DHAVE_UNISTD_H=1 -DHAVE_SYS_TYPES_H=1 -DHAVE_SYS_STAT_H=1 -DHAVE_PTHREAD_H=1 -DHAVE_SYS_RESOURCE_H=1 -DHAVE_SYS_TIME_H=1 -DHAVE_STDINT_H=1 -DHAVE_FEATURES_H=1 -DHAVE_GETTIMEOFDAY=1 -DHAVE_MEMSET=1 -DHAVE_MEMCPY=1 -DHAVE_BCOPY=1 -DHAVE_SRAND48=1 -I. -I../../include -Wall -Wno-long-long -pedantic -std=c++98 -O2 -DNDEBUG -MT Statistics.lo -MD -MP -MF .deps/Statistics.Tpo -c Statistics.cc  -fPIC -DPIC -o .libs/Statistics.o\n",
            "libtool: compile:  g++ -DPACKAGE_NAME=\\\"spatialindex\\\" -DPACKAGE_TARNAME=\\\"spatialindex-src\\\" -DPACKAGE_VERSION=\\\"1.8.5\\\" \"-DPACKAGE_STRING=\\\"spatialindex 1.8.5\\\"\" -DPACKAGE_BUGREPORT=\\\"mhadji@gmail.com\\\" -DPACKAGE_URL=\\\"\\\" -DSTDC_HEADERS=1 -DHAVE_SYS_TYPES_H=1 -DHAVE_SYS_STAT_H=1 -DHAVE_STDLIB_H=1 -DHAVE_STRING_H=1 -DHAVE_MEMORY_H=1 -DHAVE_STRINGS_H=1 -DHAVE_INTTYPES_H=1 -DHAVE_STDINT_H=1 -DHAVE_UNISTD_H=1 -DHAVE_DLFCN_H=1 -DLT_OBJDIR=\\\".libs/\\\" -DPACKAGE=\\\"spatialindex-src\\\" -DVERSION=\\\"1.8.5\\\" -DHAVE_FCNTL_H=1 -DHAVE_UNISTD_H=1 -DHAVE_SYS_TYPES_H=1 -DHAVE_SYS_STAT_H=1 -DHAVE_PTHREAD_H=1 -DHAVE_SYS_RESOURCE_H=1 -DHAVE_SYS_TIME_H=1 -DHAVE_STDINT_H=1 -DHAVE_FEATURES_H=1 -DHAVE_GETTIMEOFDAY=1 -DHAVE_MEMSET=1 -DHAVE_MEMCPY=1 -DHAVE_BCOPY=1 -DHAVE_SRAND48=1 -I. -I../../include -Wall -Wno-long-long -pedantic -std=c++98 -O2 -DNDEBUG -MT Statistics.lo -MD -MP -MF .deps/Statistics.Tpo -c Statistics.cc -o Statistics.o >/dev/null 2>&1\n",
            "/bin/bash ../../libtool  --tag=CXX   --mode=link g++  -Wall -Wno-long-long -pedantic -std=c++98  -O2 -DNDEBUG   -o libtprtree.la  Index.lo Leaf.lo Node.lo TPRTree.lo Statistics.lo  -lpthread\n",
            "libtool: link: ar cru .libs/libtprtree.a .libs/Index.o .libs/Leaf.o .libs/Node.o .libs/TPRTree.o .libs/Statistics.o \n",
            "ar: `u' modifier ignored since `D' is the default (see `U')\n",
            "libtool: link: ranlib .libs/libtprtree.a\n",
            "libtool: link: ( cd \".libs\" && rm -f \"libtprtree.la\" && ln -s \"../libtprtree.la\" \"libtprtree.la\" )\n",
            "make[2]: Leaving directory '/content/spatialindex-src-1.8.5/src/tprtree'\n",
            "Making all in tools\n",
            "make[2]: Entering directory '/content/spatialindex-src-1.8.5/src/tools'\n",
            "depbase=`echo Tools.lo | sed 's|[^/]*$|.deps/&|;s|\\.lo$||'`;\\\n",
            "/bin/bash ../../libtool  --tag=CXX   --mode=compile g++ -DPACKAGE_NAME=\\\"spatialindex\\\" -DPACKAGE_TARNAME=\\\"spatialindex-src\\\" -DPACKAGE_VERSION=\\\"1.8.5\\\" -DPACKAGE_STRING=\\\"spatialindex\\ 1.8.5\\\" -DPACKAGE_BUGREPORT=\\\"mhadji@gmail.com\\\" -DPACKAGE_URL=\\\"\\\" -DSTDC_HEADERS=1 -DHAVE_SYS_TYPES_H=1 -DHAVE_SYS_STAT_H=1 -DHAVE_STDLIB_H=1 -DHAVE_STRING_H=1 -DHAVE_MEMORY_H=1 -DHAVE_STRINGS_H=1 -DHAVE_INTTYPES_H=1 -DHAVE_STDINT_H=1 -DHAVE_UNISTD_H=1 -DHAVE_DLFCN_H=1 -DLT_OBJDIR=\\\".libs/\\\" -DPACKAGE=\\\"spatialindex-src\\\" -DVERSION=\\\"1.8.5\\\" -DHAVE_FCNTL_H=1 -DHAVE_UNISTD_H=1 -DHAVE_SYS_TYPES_H=1 -DHAVE_SYS_STAT_H=1 -DHAVE_PTHREAD_H=1 -DHAVE_SYS_RESOURCE_H=1 -DHAVE_SYS_TIME_H=1 -DHAVE_STDINT_H=1 -DHAVE_FEATURES_H=1 -DHAVE_GETTIMEOFDAY=1 -DHAVE_MEMSET=1 -DHAVE_MEMCPY=1 -DHAVE_BCOPY=1 -DHAVE_SRAND48=1 -I. -I../../include    -Wall -Wno-long-long -pedantic -std=c++98  -O2 -DNDEBUG -MT Tools.lo -MD -MP -MF $depbase.Tpo -c -o Tools.lo Tools.cc &&\\\n",
            "mv -f $depbase.Tpo $depbase.Plo\n",
            "libtool: compile:  g++ -DPACKAGE_NAME=\\\"spatialindex\\\" -DPACKAGE_TARNAME=\\\"spatialindex-src\\\" -DPACKAGE_VERSION=\\\"1.8.5\\\" \"-DPACKAGE_STRING=\\\"spatialindex 1.8.5\\\"\" -DPACKAGE_BUGREPORT=\\\"mhadji@gmail.com\\\" -DPACKAGE_URL=\\\"\\\" -DSTDC_HEADERS=1 -DHAVE_SYS_TYPES_H=1 -DHAVE_SYS_STAT_H=1 -DHAVE_STDLIB_H=1 -DHAVE_STRING_H=1 -DHAVE_MEMORY_H=1 -DHAVE_STRINGS_H=1 -DHAVE_INTTYPES_H=1 -DHAVE_STDINT_H=1 -DHAVE_UNISTD_H=1 -DHAVE_DLFCN_H=1 -DLT_OBJDIR=\\\".libs/\\\" -DPACKAGE=\\\"spatialindex-src\\\" -DVERSION=\\\"1.8.5\\\" -DHAVE_FCNTL_H=1 -DHAVE_UNISTD_H=1 -DHAVE_SYS_TYPES_H=1 -DHAVE_SYS_STAT_H=1 -DHAVE_PTHREAD_H=1 -DHAVE_SYS_RESOURCE_H=1 -DHAVE_SYS_TIME_H=1 -DHAVE_STDINT_H=1 -DHAVE_FEATURES_H=1 -DHAVE_GETTIMEOFDAY=1 -DHAVE_MEMSET=1 -DHAVE_MEMCPY=1 -DHAVE_BCOPY=1 -DHAVE_SRAND48=1 -I. -I../../include -Wall -Wno-long-long -pedantic -std=c++98 -O2 -DNDEBUG -MT Tools.lo -MD -MP -MF .deps/Tools.Tpo -c Tools.cc  -fPIC -DPIC -o .libs/Tools.o\n",
            "libtool: compile:  g++ -DPACKAGE_NAME=\\\"spatialindex\\\" -DPACKAGE_TARNAME=\\\"spatialindex-src\\\" -DPACKAGE_VERSION=\\\"1.8.5\\\" \"-DPACKAGE_STRING=\\\"spatialindex 1.8.5\\\"\" -DPACKAGE_BUGREPORT=\\\"mhadji@gmail.com\\\" -DPACKAGE_URL=\\\"\\\" -DSTDC_HEADERS=1 -DHAVE_SYS_TYPES_H=1 -DHAVE_SYS_STAT_H=1 -DHAVE_STDLIB_H=1 -DHAVE_STRING_H=1 -DHAVE_MEMORY_H=1 -DHAVE_STRINGS_H=1 -DHAVE_INTTYPES_H=1 -DHAVE_STDINT_H=1 -DHAVE_UNISTD_H=1 -DHAVE_DLFCN_H=1 -DLT_OBJDIR=\\\".libs/\\\" -DPACKAGE=\\\"spatialindex-src\\\" -DVERSION=\\\"1.8.5\\\" -DHAVE_FCNTL_H=1 -DHAVE_UNISTD_H=1 -DHAVE_SYS_TYPES_H=1 -DHAVE_SYS_STAT_H=1 -DHAVE_PTHREAD_H=1 -DHAVE_SYS_RESOURCE_H=1 -DHAVE_SYS_TIME_H=1 -DHAVE_STDINT_H=1 -DHAVE_FEATURES_H=1 -DHAVE_GETTIMEOFDAY=1 -DHAVE_MEMSET=1 -DHAVE_MEMCPY=1 -DHAVE_BCOPY=1 -DHAVE_SRAND48=1 -I. -I../../include -Wall -Wno-long-long -pedantic -std=c++98 -O2 -DNDEBUG -MT Tools.lo -MD -MP -MF .deps/Tools.Tpo -c Tools.cc -o Tools.o >/dev/null 2>&1\n",
            "depbase=`echo rand48.lo | sed 's|[^/]*$|.deps/&|;s|\\.lo$||'`;\\\n",
            "/bin/bash ../../libtool  --tag=CXX   --mode=compile g++ -DPACKAGE_NAME=\\\"spatialindex\\\" -DPACKAGE_TARNAME=\\\"spatialindex-src\\\" -DPACKAGE_VERSION=\\\"1.8.5\\\" -DPACKAGE_STRING=\\\"spatialindex\\ 1.8.5\\\" -DPACKAGE_BUGREPORT=\\\"mhadji@gmail.com\\\" -DPACKAGE_URL=\\\"\\\" -DSTDC_HEADERS=1 -DHAVE_SYS_TYPES_H=1 -DHAVE_SYS_STAT_H=1 -DHAVE_STDLIB_H=1 -DHAVE_STRING_H=1 -DHAVE_MEMORY_H=1 -DHAVE_STRINGS_H=1 -DHAVE_INTTYPES_H=1 -DHAVE_STDINT_H=1 -DHAVE_UNISTD_H=1 -DHAVE_DLFCN_H=1 -DLT_OBJDIR=\\\".libs/\\\" -DPACKAGE=\\\"spatialindex-src\\\" -DVERSION=\\\"1.8.5\\\" -DHAVE_FCNTL_H=1 -DHAVE_UNISTD_H=1 -DHAVE_SYS_TYPES_H=1 -DHAVE_SYS_STAT_H=1 -DHAVE_PTHREAD_H=1 -DHAVE_SYS_RESOURCE_H=1 -DHAVE_SYS_TIME_H=1 -DHAVE_STDINT_H=1 -DHAVE_FEATURES_H=1 -DHAVE_GETTIMEOFDAY=1 -DHAVE_MEMSET=1 -DHAVE_MEMCPY=1 -DHAVE_BCOPY=1 -DHAVE_SRAND48=1 -I. -I../../include    -Wall -Wno-long-long -pedantic -std=c++98  -O2 -DNDEBUG -MT rand48.lo -MD -MP -MF $depbase.Tpo -c -o rand48.lo rand48.cc &&\\\n",
            "mv -f $depbase.Tpo $depbase.Plo\n",
            "libtool: compile:  g++ -DPACKAGE_NAME=\\\"spatialindex\\\" -DPACKAGE_TARNAME=\\\"spatialindex-src\\\" -DPACKAGE_VERSION=\\\"1.8.5\\\" \"-DPACKAGE_STRING=\\\"spatialindex 1.8.5\\\"\" -DPACKAGE_BUGREPORT=\\\"mhadji@gmail.com\\\" -DPACKAGE_URL=\\\"\\\" -DSTDC_HEADERS=1 -DHAVE_SYS_TYPES_H=1 -DHAVE_SYS_STAT_H=1 -DHAVE_STDLIB_H=1 -DHAVE_STRING_H=1 -DHAVE_MEMORY_H=1 -DHAVE_STRINGS_H=1 -DHAVE_INTTYPES_H=1 -DHAVE_STDINT_H=1 -DHAVE_UNISTD_H=1 -DHAVE_DLFCN_H=1 -DLT_OBJDIR=\\\".libs/\\\" -DPACKAGE=\\\"spatialindex-src\\\" -DVERSION=\\\"1.8.5\\\" -DHAVE_FCNTL_H=1 -DHAVE_UNISTD_H=1 -DHAVE_SYS_TYPES_H=1 -DHAVE_SYS_STAT_H=1 -DHAVE_PTHREAD_H=1 -DHAVE_SYS_RESOURCE_H=1 -DHAVE_SYS_TIME_H=1 -DHAVE_STDINT_H=1 -DHAVE_FEATURES_H=1 -DHAVE_GETTIMEOFDAY=1 -DHAVE_MEMSET=1 -DHAVE_MEMCPY=1 -DHAVE_BCOPY=1 -DHAVE_SRAND48=1 -I. -I../../include -Wall -Wno-long-long -pedantic -std=c++98 -O2 -DNDEBUG -MT rand48.lo -MD -MP -MF .deps/rand48.Tpo -c rand48.cc  -fPIC -DPIC -o .libs/rand48.o\n",
            "libtool: compile:  g++ -DPACKAGE_NAME=\\\"spatialindex\\\" -DPACKAGE_TARNAME=\\\"spatialindex-src\\\" -DPACKAGE_VERSION=\\\"1.8.5\\\" \"-DPACKAGE_STRING=\\\"spatialindex 1.8.5\\\"\" -DPACKAGE_BUGREPORT=\\\"mhadji@gmail.com\\\" -DPACKAGE_URL=\\\"\\\" -DSTDC_HEADERS=1 -DHAVE_SYS_TYPES_H=1 -DHAVE_SYS_STAT_H=1 -DHAVE_STDLIB_H=1 -DHAVE_STRING_H=1 -DHAVE_MEMORY_H=1 -DHAVE_STRINGS_H=1 -DHAVE_INTTYPES_H=1 -DHAVE_STDINT_H=1 -DHAVE_UNISTD_H=1 -DHAVE_DLFCN_H=1 -DLT_OBJDIR=\\\".libs/\\\" -DPACKAGE=\\\"spatialindex-src\\\" -DVERSION=\\\"1.8.5\\\" -DHAVE_FCNTL_H=1 -DHAVE_UNISTD_H=1 -DHAVE_SYS_TYPES_H=1 -DHAVE_SYS_STAT_H=1 -DHAVE_PTHREAD_H=1 -DHAVE_SYS_RESOURCE_H=1 -DHAVE_SYS_TIME_H=1 -DHAVE_STDINT_H=1 -DHAVE_FEATURES_H=1 -DHAVE_GETTIMEOFDAY=1 -DHAVE_MEMSET=1 -DHAVE_MEMCPY=1 -DHAVE_BCOPY=1 -DHAVE_SRAND48=1 -I. -I../../include -Wall -Wno-long-long -pedantic -std=c++98 -O2 -DNDEBUG -MT rand48.lo -MD -MP -MF .deps/rand48.Tpo -c rand48.cc -o rand48.o >/dev/null 2>&1\n",
            "/bin/bash ../../libtool  --tag=CXX   --mode=link g++  -Wall -Wno-long-long -pedantic -std=c++98  -O2 -DNDEBUG   -o libtools.la  Tools.lo rand48.lo  -lpthread\n",
            "libtool: link: ar cru .libs/libtools.a .libs/Tools.o .libs/rand48.o \n",
            "ar: `u' modifier ignored since `D' is the default (see `U')\n",
            "libtool: link: ranlib .libs/libtools.a\n",
            "libtool: link: ( cd \".libs\" && rm -f \"libtools.la\" && ln -s \"../libtools.la\" \"libtools.la\" )\n",
            "make[2]: Leaving directory '/content/spatialindex-src-1.8.5/src/tools'\n",
            "Making all in capi\n",
            "make[2]: Entering directory '/content/spatialindex-src-1.8.5/src/capi'\n",
            "depbase=`echo BoundsQuery.lo | sed 's|[^/]*$|.deps/&|;s|\\.lo$||'`;\\\n",
            "/bin/bash ../../libtool  --tag=CXX   --mode=compile g++ -DPACKAGE_NAME=\\\"spatialindex\\\" -DPACKAGE_TARNAME=\\\"spatialindex-src\\\" -DPACKAGE_VERSION=\\\"1.8.5\\\" -DPACKAGE_STRING=\\\"spatialindex\\ 1.8.5\\\" -DPACKAGE_BUGREPORT=\\\"mhadji@gmail.com\\\" -DPACKAGE_URL=\\\"\\\" -DSTDC_HEADERS=1 -DHAVE_SYS_TYPES_H=1 -DHAVE_SYS_STAT_H=1 -DHAVE_STDLIB_H=1 -DHAVE_STRING_H=1 -DHAVE_MEMORY_H=1 -DHAVE_STRINGS_H=1 -DHAVE_INTTYPES_H=1 -DHAVE_STDINT_H=1 -DHAVE_UNISTD_H=1 -DHAVE_DLFCN_H=1 -DLT_OBJDIR=\\\".libs/\\\" -DPACKAGE=\\\"spatialindex-src\\\" -DVERSION=\\\"1.8.5\\\" -DHAVE_FCNTL_H=1 -DHAVE_UNISTD_H=1 -DHAVE_SYS_TYPES_H=1 -DHAVE_SYS_STAT_H=1 -DHAVE_PTHREAD_H=1 -DHAVE_SYS_RESOURCE_H=1 -DHAVE_SYS_TIME_H=1 -DHAVE_STDINT_H=1 -DHAVE_FEATURES_H=1 -DHAVE_GETTIMEOFDAY=1 -DHAVE_MEMSET=1 -DHAVE_MEMCPY=1 -DHAVE_BCOPY=1 -DHAVE_SRAND48=1 -I. -I../../include -I../../include/capi    -Wall -Wno-long-long -pedantic -std=c++98  -O2 -DNDEBUG -MT BoundsQuery.lo -MD -MP -MF $depbase.Tpo -c -o BoundsQuery.lo BoundsQuery.cc &&\\\n",
            "mv -f $depbase.Tpo $depbase.Plo\n",
            "libtool: compile:  g++ -DPACKAGE_NAME=\\\"spatialindex\\\" -DPACKAGE_TARNAME=\\\"spatialindex-src\\\" -DPACKAGE_VERSION=\\\"1.8.5\\\" \"-DPACKAGE_STRING=\\\"spatialindex 1.8.5\\\"\" -DPACKAGE_BUGREPORT=\\\"mhadji@gmail.com\\\" -DPACKAGE_URL=\\\"\\\" -DSTDC_HEADERS=1 -DHAVE_SYS_TYPES_H=1 -DHAVE_SYS_STAT_H=1 -DHAVE_STDLIB_H=1 -DHAVE_STRING_H=1 -DHAVE_MEMORY_H=1 -DHAVE_STRINGS_H=1 -DHAVE_INTTYPES_H=1 -DHAVE_STDINT_H=1 -DHAVE_UNISTD_H=1 -DHAVE_DLFCN_H=1 -DLT_OBJDIR=\\\".libs/\\\" -DPACKAGE=\\\"spatialindex-src\\\" -DVERSION=\\\"1.8.5\\\" -DHAVE_FCNTL_H=1 -DHAVE_UNISTD_H=1 -DHAVE_SYS_TYPES_H=1 -DHAVE_SYS_STAT_H=1 -DHAVE_PTHREAD_H=1 -DHAVE_SYS_RESOURCE_H=1 -DHAVE_SYS_TIME_H=1 -DHAVE_STDINT_H=1 -DHAVE_FEATURES_H=1 -DHAVE_GETTIMEOFDAY=1 -DHAVE_MEMSET=1 -DHAVE_MEMCPY=1 -DHAVE_BCOPY=1 -DHAVE_SRAND48=1 -I. -I../../include -I../../include/capi -Wall -Wno-long-long -pedantic -std=c++98 -O2 -DNDEBUG -MT BoundsQuery.lo -MD -MP -MF .deps/BoundsQuery.Tpo -c BoundsQuery.cc  -fPIC -DPIC -o .libs/BoundsQuery.o\n",
            "libtool: compile:  g++ -DPACKAGE_NAME=\\\"spatialindex\\\" -DPACKAGE_TARNAME=\\\"spatialindex-src\\\" -DPACKAGE_VERSION=\\\"1.8.5\\\" \"-DPACKAGE_STRING=\\\"spatialindex 1.8.5\\\"\" -DPACKAGE_BUGREPORT=\\\"mhadji@gmail.com\\\" -DPACKAGE_URL=\\\"\\\" -DSTDC_HEADERS=1 -DHAVE_SYS_TYPES_H=1 -DHAVE_SYS_STAT_H=1 -DHAVE_STDLIB_H=1 -DHAVE_STRING_H=1 -DHAVE_MEMORY_H=1 -DHAVE_STRINGS_H=1 -DHAVE_INTTYPES_H=1 -DHAVE_STDINT_H=1 -DHAVE_UNISTD_H=1 -DHAVE_DLFCN_H=1 -DLT_OBJDIR=\\\".libs/\\\" -DPACKAGE=\\\"spatialindex-src\\\" -DVERSION=\\\"1.8.5\\\" -DHAVE_FCNTL_H=1 -DHAVE_UNISTD_H=1 -DHAVE_SYS_TYPES_H=1 -DHAVE_SYS_STAT_H=1 -DHAVE_PTHREAD_H=1 -DHAVE_SYS_RESOURCE_H=1 -DHAVE_SYS_TIME_H=1 -DHAVE_STDINT_H=1 -DHAVE_FEATURES_H=1 -DHAVE_GETTIMEOFDAY=1 -DHAVE_MEMSET=1 -DHAVE_MEMCPY=1 -DHAVE_BCOPY=1 -DHAVE_SRAND48=1 -I. -I../../include -I../../include/capi -Wall -Wno-long-long -pedantic -std=c++98 -O2 -DNDEBUG -MT BoundsQuery.lo -MD -MP -MF .deps/BoundsQuery.Tpo -c BoundsQuery.cc -o BoundsQuery.o >/dev/null 2>&1\n",
            "depbase=`echo CountVisitor.lo | sed 's|[^/]*$|.deps/&|;s|\\.lo$||'`;\\\n",
            "/bin/bash ../../libtool  --tag=CXX   --mode=compile g++ -DPACKAGE_NAME=\\\"spatialindex\\\" -DPACKAGE_TARNAME=\\\"spatialindex-src\\\" -DPACKAGE_VERSION=\\\"1.8.5\\\" -DPACKAGE_STRING=\\\"spatialindex\\ 1.8.5\\\" -DPACKAGE_BUGREPORT=\\\"mhadji@gmail.com\\\" -DPACKAGE_URL=\\\"\\\" -DSTDC_HEADERS=1 -DHAVE_SYS_TYPES_H=1 -DHAVE_SYS_STAT_H=1 -DHAVE_STDLIB_H=1 -DHAVE_STRING_H=1 -DHAVE_MEMORY_H=1 -DHAVE_STRINGS_H=1 -DHAVE_INTTYPES_H=1 -DHAVE_STDINT_H=1 -DHAVE_UNISTD_H=1 -DHAVE_DLFCN_H=1 -DLT_OBJDIR=\\\".libs/\\\" -DPACKAGE=\\\"spatialindex-src\\\" -DVERSION=\\\"1.8.5\\\" -DHAVE_FCNTL_H=1 -DHAVE_UNISTD_H=1 -DHAVE_SYS_TYPES_H=1 -DHAVE_SYS_STAT_H=1 -DHAVE_PTHREAD_H=1 -DHAVE_SYS_RESOURCE_H=1 -DHAVE_SYS_TIME_H=1 -DHAVE_STDINT_H=1 -DHAVE_FEATURES_H=1 -DHAVE_GETTIMEOFDAY=1 -DHAVE_MEMSET=1 -DHAVE_MEMCPY=1 -DHAVE_BCOPY=1 -DHAVE_SRAND48=1 -I. -I../../include -I../../include/capi    -Wall -Wno-long-long -pedantic -std=c++98  -O2 -DNDEBUG -MT CountVisitor.lo -MD -MP -MF $depbase.Tpo -c -o CountVisitor.lo CountVisitor.cc &&\\\n",
            "mv -f $depbase.Tpo $depbase.Plo\n",
            "libtool: compile:  g++ -DPACKAGE_NAME=\\\"spatialindex\\\" -DPACKAGE_TARNAME=\\\"spatialindex-src\\\" -DPACKAGE_VERSION=\\\"1.8.5\\\" \"-DPACKAGE_STRING=\\\"spatialindex 1.8.5\\\"\" -DPACKAGE_BUGREPORT=\\\"mhadji@gmail.com\\\" -DPACKAGE_URL=\\\"\\\" -DSTDC_HEADERS=1 -DHAVE_SYS_TYPES_H=1 -DHAVE_SYS_STAT_H=1 -DHAVE_STDLIB_H=1 -DHAVE_STRING_H=1 -DHAVE_MEMORY_H=1 -DHAVE_STRINGS_H=1 -DHAVE_INTTYPES_H=1 -DHAVE_STDINT_H=1 -DHAVE_UNISTD_H=1 -DHAVE_DLFCN_H=1 -DLT_OBJDIR=\\\".libs/\\\" -DPACKAGE=\\\"spatialindex-src\\\" -DVERSION=\\\"1.8.5\\\" -DHAVE_FCNTL_H=1 -DHAVE_UNISTD_H=1 -DHAVE_SYS_TYPES_H=1 -DHAVE_SYS_STAT_H=1 -DHAVE_PTHREAD_H=1 -DHAVE_SYS_RESOURCE_H=1 -DHAVE_SYS_TIME_H=1 -DHAVE_STDINT_H=1 -DHAVE_FEATURES_H=1 -DHAVE_GETTIMEOFDAY=1 -DHAVE_MEMSET=1 -DHAVE_MEMCPY=1 -DHAVE_BCOPY=1 -DHAVE_SRAND48=1 -I. -I../../include -I../../include/capi -Wall -Wno-long-long -pedantic -std=c++98 -O2 -DNDEBUG -MT CountVisitor.lo -MD -MP -MF .deps/CountVisitor.Tpo -c CountVisitor.cc  -fPIC -DPIC -o .libs/CountVisitor.o\n",
            "libtool: compile:  g++ -DPACKAGE_NAME=\\\"spatialindex\\\" -DPACKAGE_TARNAME=\\\"spatialindex-src\\\" -DPACKAGE_VERSION=\\\"1.8.5\\\" \"-DPACKAGE_STRING=\\\"spatialindex 1.8.5\\\"\" -DPACKAGE_BUGREPORT=\\\"mhadji@gmail.com\\\" -DPACKAGE_URL=\\\"\\\" -DSTDC_HEADERS=1 -DHAVE_SYS_TYPES_H=1 -DHAVE_SYS_STAT_H=1 -DHAVE_STDLIB_H=1 -DHAVE_STRING_H=1 -DHAVE_MEMORY_H=1 -DHAVE_STRINGS_H=1 -DHAVE_INTTYPES_H=1 -DHAVE_STDINT_H=1 -DHAVE_UNISTD_H=1 -DHAVE_DLFCN_H=1 -DLT_OBJDIR=\\\".libs/\\\" -DPACKAGE=\\\"spatialindex-src\\\" -DVERSION=\\\"1.8.5\\\" -DHAVE_FCNTL_H=1 -DHAVE_UNISTD_H=1 -DHAVE_SYS_TYPES_H=1 -DHAVE_SYS_STAT_H=1 -DHAVE_PTHREAD_H=1 -DHAVE_SYS_RESOURCE_H=1 -DHAVE_SYS_TIME_H=1 -DHAVE_STDINT_H=1 -DHAVE_FEATURES_H=1 -DHAVE_GETTIMEOFDAY=1 -DHAVE_MEMSET=1 -DHAVE_MEMCPY=1 -DHAVE_BCOPY=1 -DHAVE_SRAND48=1 -I. -I../../include -I../../include/capi -Wall -Wno-long-long -pedantic -std=c++98 -O2 -DNDEBUG -MT CountVisitor.lo -MD -MP -MF .deps/CountVisitor.Tpo -c CountVisitor.cc -o CountVisitor.o >/dev/null 2>&1\n",
            "depbase=`echo CustomStorage.lo | sed 's|[^/]*$|.deps/&|;s|\\.lo$||'`;\\\n",
            "/bin/bash ../../libtool  --tag=CXX   --mode=compile g++ -DPACKAGE_NAME=\\\"spatialindex\\\" -DPACKAGE_TARNAME=\\\"spatialindex-src\\\" -DPACKAGE_VERSION=\\\"1.8.5\\\" -DPACKAGE_STRING=\\\"spatialindex\\ 1.8.5\\\" -DPACKAGE_BUGREPORT=\\\"mhadji@gmail.com\\\" -DPACKAGE_URL=\\\"\\\" -DSTDC_HEADERS=1 -DHAVE_SYS_TYPES_H=1 -DHAVE_SYS_STAT_H=1 -DHAVE_STDLIB_H=1 -DHAVE_STRING_H=1 -DHAVE_MEMORY_H=1 -DHAVE_STRINGS_H=1 -DHAVE_INTTYPES_H=1 -DHAVE_STDINT_H=1 -DHAVE_UNISTD_H=1 -DHAVE_DLFCN_H=1 -DLT_OBJDIR=\\\".libs/\\\" -DPACKAGE=\\\"spatialindex-src\\\" -DVERSION=\\\"1.8.5\\\" -DHAVE_FCNTL_H=1 -DHAVE_UNISTD_H=1 -DHAVE_SYS_TYPES_H=1 -DHAVE_SYS_STAT_H=1 -DHAVE_PTHREAD_H=1 -DHAVE_SYS_RESOURCE_H=1 -DHAVE_SYS_TIME_H=1 -DHAVE_STDINT_H=1 -DHAVE_FEATURES_H=1 -DHAVE_GETTIMEOFDAY=1 -DHAVE_MEMSET=1 -DHAVE_MEMCPY=1 -DHAVE_BCOPY=1 -DHAVE_SRAND48=1 -I. -I../../include -I../../include/capi    -Wall -Wno-long-long -pedantic -std=c++98  -O2 -DNDEBUG -MT CustomStorage.lo -MD -MP -MF $depbase.Tpo -c -o CustomStorage.lo CustomStorage.cc &&\\\n",
            "mv -f $depbase.Tpo $depbase.Plo\n",
            "libtool: compile:  g++ -DPACKAGE_NAME=\\\"spatialindex\\\" -DPACKAGE_TARNAME=\\\"spatialindex-src\\\" -DPACKAGE_VERSION=\\\"1.8.5\\\" \"-DPACKAGE_STRING=\\\"spatialindex 1.8.5\\\"\" -DPACKAGE_BUGREPORT=\\\"mhadji@gmail.com\\\" -DPACKAGE_URL=\\\"\\\" -DSTDC_HEADERS=1 -DHAVE_SYS_TYPES_H=1 -DHAVE_SYS_STAT_H=1 -DHAVE_STDLIB_H=1 -DHAVE_STRING_H=1 -DHAVE_MEMORY_H=1 -DHAVE_STRINGS_H=1 -DHAVE_INTTYPES_H=1 -DHAVE_STDINT_H=1 -DHAVE_UNISTD_H=1 -DHAVE_DLFCN_H=1 -DLT_OBJDIR=\\\".libs/\\\" -DPACKAGE=\\\"spatialindex-src\\\" -DVERSION=\\\"1.8.5\\\" -DHAVE_FCNTL_H=1 -DHAVE_UNISTD_H=1 -DHAVE_SYS_TYPES_H=1 -DHAVE_SYS_STAT_H=1 -DHAVE_PTHREAD_H=1 -DHAVE_SYS_RESOURCE_H=1 -DHAVE_SYS_TIME_H=1 -DHAVE_STDINT_H=1 -DHAVE_FEATURES_H=1 -DHAVE_GETTIMEOFDAY=1 -DHAVE_MEMSET=1 -DHAVE_MEMCPY=1 -DHAVE_BCOPY=1 -DHAVE_SRAND48=1 -I. -I../../include -I../../include/capi -Wall -Wno-long-long -pedantic -std=c++98 -O2 -DNDEBUG -MT CustomStorage.lo -MD -MP -MF .deps/CustomStorage.Tpo -c CustomStorage.cc  -fPIC -DPIC -o .libs/CustomStorage.o\n",
            "libtool: compile:  g++ -DPACKAGE_NAME=\\\"spatialindex\\\" -DPACKAGE_TARNAME=\\\"spatialindex-src\\\" -DPACKAGE_VERSION=\\\"1.8.5\\\" \"-DPACKAGE_STRING=\\\"spatialindex 1.8.5\\\"\" -DPACKAGE_BUGREPORT=\\\"mhadji@gmail.com\\\" -DPACKAGE_URL=\\\"\\\" -DSTDC_HEADERS=1 -DHAVE_SYS_TYPES_H=1 -DHAVE_SYS_STAT_H=1 -DHAVE_STDLIB_H=1 -DHAVE_STRING_H=1 -DHAVE_MEMORY_H=1 -DHAVE_STRINGS_H=1 -DHAVE_INTTYPES_H=1 -DHAVE_STDINT_H=1 -DHAVE_UNISTD_H=1 -DHAVE_DLFCN_H=1 -DLT_OBJDIR=\\\".libs/\\\" -DPACKAGE=\\\"spatialindex-src\\\" -DVERSION=\\\"1.8.5\\\" -DHAVE_FCNTL_H=1 -DHAVE_UNISTD_H=1 -DHAVE_SYS_TYPES_H=1 -DHAVE_SYS_STAT_H=1 -DHAVE_PTHREAD_H=1 -DHAVE_SYS_RESOURCE_H=1 -DHAVE_SYS_TIME_H=1 -DHAVE_STDINT_H=1 -DHAVE_FEATURES_H=1 -DHAVE_GETTIMEOFDAY=1 -DHAVE_MEMSET=1 -DHAVE_MEMCPY=1 -DHAVE_BCOPY=1 -DHAVE_SRAND48=1 -I. -I../../include -I../../include/capi -Wall -Wno-long-long -pedantic -std=c++98 -O2 -DNDEBUG -MT CustomStorage.lo -MD -MP -MF .deps/CustomStorage.Tpo -c CustomStorage.cc -o CustomStorage.o >/dev/null 2>&1\n",
            "depbase=`echo DataStream.lo | sed 's|[^/]*$|.deps/&|;s|\\.lo$||'`;\\\n",
            "/bin/bash ../../libtool  --tag=CXX   --mode=compile g++ -DPACKAGE_NAME=\\\"spatialindex\\\" -DPACKAGE_TARNAME=\\\"spatialindex-src\\\" -DPACKAGE_VERSION=\\\"1.8.5\\\" -DPACKAGE_STRING=\\\"spatialindex\\ 1.8.5\\\" -DPACKAGE_BUGREPORT=\\\"mhadji@gmail.com\\\" -DPACKAGE_URL=\\\"\\\" -DSTDC_HEADERS=1 -DHAVE_SYS_TYPES_H=1 -DHAVE_SYS_STAT_H=1 -DHAVE_STDLIB_H=1 -DHAVE_STRING_H=1 -DHAVE_MEMORY_H=1 -DHAVE_STRINGS_H=1 -DHAVE_INTTYPES_H=1 -DHAVE_STDINT_H=1 -DHAVE_UNISTD_H=1 -DHAVE_DLFCN_H=1 -DLT_OBJDIR=\\\".libs/\\\" -DPACKAGE=\\\"spatialindex-src\\\" -DVERSION=\\\"1.8.5\\\" -DHAVE_FCNTL_H=1 -DHAVE_UNISTD_H=1 -DHAVE_SYS_TYPES_H=1 -DHAVE_SYS_STAT_H=1 -DHAVE_PTHREAD_H=1 -DHAVE_SYS_RESOURCE_H=1 -DHAVE_SYS_TIME_H=1 -DHAVE_STDINT_H=1 -DHAVE_FEATURES_H=1 -DHAVE_GETTIMEOFDAY=1 -DHAVE_MEMSET=1 -DHAVE_MEMCPY=1 -DHAVE_BCOPY=1 -DHAVE_SRAND48=1 -I. -I../../include -I../../include/capi    -Wall -Wno-long-long -pedantic -std=c++98  -O2 -DNDEBUG -MT DataStream.lo -MD -MP -MF $depbase.Tpo -c -o DataStream.lo DataStream.cc &&\\\n",
            "mv -f $depbase.Tpo $depbase.Plo\n",
            "libtool: compile:  g++ -DPACKAGE_NAME=\\\"spatialindex\\\" -DPACKAGE_TARNAME=\\\"spatialindex-src\\\" -DPACKAGE_VERSION=\\\"1.8.5\\\" \"-DPACKAGE_STRING=\\\"spatialindex 1.8.5\\\"\" -DPACKAGE_BUGREPORT=\\\"mhadji@gmail.com\\\" -DPACKAGE_URL=\\\"\\\" -DSTDC_HEADERS=1 -DHAVE_SYS_TYPES_H=1 -DHAVE_SYS_STAT_H=1 -DHAVE_STDLIB_H=1 -DHAVE_STRING_H=1 -DHAVE_MEMORY_H=1 -DHAVE_STRINGS_H=1 -DHAVE_INTTYPES_H=1 -DHAVE_STDINT_H=1 -DHAVE_UNISTD_H=1 -DHAVE_DLFCN_H=1 -DLT_OBJDIR=\\\".libs/\\\" -DPACKAGE=\\\"spatialindex-src\\\" -DVERSION=\\\"1.8.5\\\" -DHAVE_FCNTL_H=1 -DHAVE_UNISTD_H=1 -DHAVE_SYS_TYPES_H=1 -DHAVE_SYS_STAT_H=1 -DHAVE_PTHREAD_H=1 -DHAVE_SYS_RESOURCE_H=1 -DHAVE_SYS_TIME_H=1 -DHAVE_STDINT_H=1 -DHAVE_FEATURES_H=1 -DHAVE_GETTIMEOFDAY=1 -DHAVE_MEMSET=1 -DHAVE_MEMCPY=1 -DHAVE_BCOPY=1 -DHAVE_SRAND48=1 -I. -I../../include -I../../include/capi -Wall -Wno-long-long -pedantic -std=c++98 -O2 -DNDEBUG -MT DataStream.lo -MD -MP -MF .deps/DataStream.Tpo -c DataStream.cc  -fPIC -DPIC -o .libs/DataStream.o\n",
            "libtool: compile:  g++ -DPACKAGE_NAME=\\\"spatialindex\\\" -DPACKAGE_TARNAME=\\\"spatialindex-src\\\" -DPACKAGE_VERSION=\\\"1.8.5\\\" \"-DPACKAGE_STRING=\\\"spatialindex 1.8.5\\\"\" -DPACKAGE_BUGREPORT=\\\"mhadji@gmail.com\\\" -DPACKAGE_URL=\\\"\\\" -DSTDC_HEADERS=1 -DHAVE_SYS_TYPES_H=1 -DHAVE_SYS_STAT_H=1 -DHAVE_STDLIB_H=1 -DHAVE_STRING_H=1 -DHAVE_MEMORY_H=1 -DHAVE_STRINGS_H=1 -DHAVE_INTTYPES_H=1 -DHAVE_STDINT_H=1 -DHAVE_UNISTD_H=1 -DHAVE_DLFCN_H=1 -DLT_OBJDIR=\\\".libs/\\\" -DPACKAGE=\\\"spatialindex-src\\\" -DVERSION=\\\"1.8.5\\\" -DHAVE_FCNTL_H=1 -DHAVE_UNISTD_H=1 -DHAVE_SYS_TYPES_H=1 -DHAVE_SYS_STAT_H=1 -DHAVE_PTHREAD_H=1 -DHAVE_SYS_RESOURCE_H=1 -DHAVE_SYS_TIME_H=1 -DHAVE_STDINT_H=1 -DHAVE_FEATURES_H=1 -DHAVE_GETTIMEOFDAY=1 -DHAVE_MEMSET=1 -DHAVE_MEMCPY=1 -DHAVE_BCOPY=1 -DHAVE_SRAND48=1 -I. -I../../include -I../../include/capi -Wall -Wno-long-long -pedantic -std=c++98 -O2 -DNDEBUG -MT DataStream.lo -MD -MP -MF .deps/DataStream.Tpo -c DataStream.cc -o DataStream.o >/dev/null 2>&1\n",
            "depbase=`echo Error.lo | sed 's|[^/]*$|.deps/&|;s|\\.lo$||'`;\\\n",
            "/bin/bash ../../libtool  --tag=CXX   --mode=compile g++ -DPACKAGE_NAME=\\\"spatialindex\\\" -DPACKAGE_TARNAME=\\\"spatialindex-src\\\" -DPACKAGE_VERSION=\\\"1.8.5\\\" -DPACKAGE_STRING=\\\"spatialindex\\ 1.8.5\\\" -DPACKAGE_BUGREPORT=\\\"mhadji@gmail.com\\\" -DPACKAGE_URL=\\\"\\\" -DSTDC_HEADERS=1 -DHAVE_SYS_TYPES_H=1 -DHAVE_SYS_STAT_H=1 -DHAVE_STDLIB_H=1 -DHAVE_STRING_H=1 -DHAVE_MEMORY_H=1 -DHAVE_STRINGS_H=1 -DHAVE_INTTYPES_H=1 -DHAVE_STDINT_H=1 -DHAVE_UNISTD_H=1 -DHAVE_DLFCN_H=1 -DLT_OBJDIR=\\\".libs/\\\" -DPACKAGE=\\\"spatialindex-src\\\" -DVERSION=\\\"1.8.5\\\" -DHAVE_FCNTL_H=1 -DHAVE_UNISTD_H=1 -DHAVE_SYS_TYPES_H=1 -DHAVE_SYS_STAT_H=1 -DHAVE_PTHREAD_H=1 -DHAVE_SYS_RESOURCE_H=1 -DHAVE_SYS_TIME_H=1 -DHAVE_STDINT_H=1 -DHAVE_FEATURES_H=1 -DHAVE_GETTIMEOFDAY=1 -DHAVE_MEMSET=1 -DHAVE_MEMCPY=1 -DHAVE_BCOPY=1 -DHAVE_SRAND48=1 -I. -I../../include -I../../include/capi    -Wall -Wno-long-long -pedantic -std=c++98  -O2 -DNDEBUG -MT Error.lo -MD -MP -MF $depbase.Tpo -c -o Error.lo Error.cc &&\\\n",
            "mv -f $depbase.Tpo $depbase.Plo\n",
            "libtool: compile:  g++ -DPACKAGE_NAME=\\\"spatialindex\\\" -DPACKAGE_TARNAME=\\\"spatialindex-src\\\" -DPACKAGE_VERSION=\\\"1.8.5\\\" \"-DPACKAGE_STRING=\\\"spatialindex 1.8.5\\\"\" -DPACKAGE_BUGREPORT=\\\"mhadji@gmail.com\\\" -DPACKAGE_URL=\\\"\\\" -DSTDC_HEADERS=1 -DHAVE_SYS_TYPES_H=1 -DHAVE_SYS_STAT_H=1 -DHAVE_STDLIB_H=1 -DHAVE_STRING_H=1 -DHAVE_MEMORY_H=1 -DHAVE_STRINGS_H=1 -DHAVE_INTTYPES_H=1 -DHAVE_STDINT_H=1 -DHAVE_UNISTD_H=1 -DHAVE_DLFCN_H=1 -DLT_OBJDIR=\\\".libs/\\\" -DPACKAGE=\\\"spatialindex-src\\\" -DVERSION=\\\"1.8.5\\\" -DHAVE_FCNTL_H=1 -DHAVE_UNISTD_H=1 -DHAVE_SYS_TYPES_H=1 -DHAVE_SYS_STAT_H=1 -DHAVE_PTHREAD_H=1 -DHAVE_SYS_RESOURCE_H=1 -DHAVE_SYS_TIME_H=1 -DHAVE_STDINT_H=1 -DHAVE_FEATURES_H=1 -DHAVE_GETTIMEOFDAY=1 -DHAVE_MEMSET=1 -DHAVE_MEMCPY=1 -DHAVE_BCOPY=1 -DHAVE_SRAND48=1 -I. -I../../include -I../../include/capi -Wall -Wno-long-long -pedantic -std=c++98 -O2 -DNDEBUG -MT Error.lo -MD -MP -MF .deps/Error.Tpo -c Error.cc  -fPIC -DPIC -o .libs/Error.o\n",
            "libtool: compile:  g++ -DPACKAGE_NAME=\\\"spatialindex\\\" -DPACKAGE_TARNAME=\\\"spatialindex-src\\\" -DPACKAGE_VERSION=\\\"1.8.5\\\" \"-DPACKAGE_STRING=\\\"spatialindex 1.8.5\\\"\" -DPACKAGE_BUGREPORT=\\\"mhadji@gmail.com\\\" -DPACKAGE_URL=\\\"\\\" -DSTDC_HEADERS=1 -DHAVE_SYS_TYPES_H=1 -DHAVE_SYS_STAT_H=1 -DHAVE_STDLIB_H=1 -DHAVE_STRING_H=1 -DHAVE_MEMORY_H=1 -DHAVE_STRINGS_H=1 -DHAVE_INTTYPES_H=1 -DHAVE_STDINT_H=1 -DHAVE_UNISTD_H=1 -DHAVE_DLFCN_H=1 -DLT_OBJDIR=\\\".libs/\\\" -DPACKAGE=\\\"spatialindex-src\\\" -DVERSION=\\\"1.8.5\\\" -DHAVE_FCNTL_H=1 -DHAVE_UNISTD_H=1 -DHAVE_SYS_TYPES_H=1 -DHAVE_SYS_STAT_H=1 -DHAVE_PTHREAD_H=1 -DHAVE_SYS_RESOURCE_H=1 -DHAVE_SYS_TIME_H=1 -DHAVE_STDINT_H=1 -DHAVE_FEATURES_H=1 -DHAVE_GETTIMEOFDAY=1 -DHAVE_MEMSET=1 -DHAVE_MEMCPY=1 -DHAVE_BCOPY=1 -DHAVE_SRAND48=1 -I. -I../../include -I../../include/capi -Wall -Wno-long-long -pedantic -std=c++98 -O2 -DNDEBUG -MT Error.lo -MD -MP -MF .deps/Error.Tpo -c Error.cc -o Error.o >/dev/null 2>&1\n",
            "depbase=`echo IdVisitor.lo | sed 's|[^/]*$|.deps/&|;s|\\.lo$||'`;\\\n",
            "/bin/bash ../../libtool  --tag=CXX   --mode=compile g++ -DPACKAGE_NAME=\\\"spatialindex\\\" -DPACKAGE_TARNAME=\\\"spatialindex-src\\\" -DPACKAGE_VERSION=\\\"1.8.5\\\" -DPACKAGE_STRING=\\\"spatialindex\\ 1.8.5\\\" -DPACKAGE_BUGREPORT=\\\"mhadji@gmail.com\\\" -DPACKAGE_URL=\\\"\\\" -DSTDC_HEADERS=1 -DHAVE_SYS_TYPES_H=1 -DHAVE_SYS_STAT_H=1 -DHAVE_STDLIB_H=1 -DHAVE_STRING_H=1 -DHAVE_MEMORY_H=1 -DHAVE_STRINGS_H=1 -DHAVE_INTTYPES_H=1 -DHAVE_STDINT_H=1 -DHAVE_UNISTD_H=1 -DHAVE_DLFCN_H=1 -DLT_OBJDIR=\\\".libs/\\\" -DPACKAGE=\\\"spatialindex-src\\\" -DVERSION=\\\"1.8.5\\\" -DHAVE_FCNTL_H=1 -DHAVE_UNISTD_H=1 -DHAVE_SYS_TYPES_H=1 -DHAVE_SYS_STAT_H=1 -DHAVE_PTHREAD_H=1 -DHAVE_SYS_RESOURCE_H=1 -DHAVE_SYS_TIME_H=1 -DHAVE_STDINT_H=1 -DHAVE_FEATURES_H=1 -DHAVE_GETTIMEOFDAY=1 -DHAVE_MEMSET=1 -DHAVE_MEMCPY=1 -DHAVE_BCOPY=1 -DHAVE_SRAND48=1 -I. -I../../include -I../../include/capi    -Wall -Wno-long-long -pedantic -std=c++98  -O2 -DNDEBUG -MT IdVisitor.lo -MD -MP -MF $depbase.Tpo -c -o IdVisitor.lo IdVisitor.cc &&\\\n",
            "mv -f $depbase.Tpo $depbase.Plo\n",
            "libtool: compile:  g++ -DPACKAGE_NAME=\\\"spatialindex\\\" -DPACKAGE_TARNAME=\\\"spatialindex-src\\\" -DPACKAGE_VERSION=\\\"1.8.5\\\" \"-DPACKAGE_STRING=\\\"spatialindex 1.8.5\\\"\" -DPACKAGE_BUGREPORT=\\\"mhadji@gmail.com\\\" -DPACKAGE_URL=\\\"\\\" -DSTDC_HEADERS=1 -DHAVE_SYS_TYPES_H=1 -DHAVE_SYS_STAT_H=1 -DHAVE_STDLIB_H=1 -DHAVE_STRING_H=1 -DHAVE_MEMORY_H=1 -DHAVE_STRINGS_H=1 -DHAVE_INTTYPES_H=1 -DHAVE_STDINT_H=1 -DHAVE_UNISTD_H=1 -DHAVE_DLFCN_H=1 -DLT_OBJDIR=\\\".libs/\\\" -DPACKAGE=\\\"spatialindex-src\\\" -DVERSION=\\\"1.8.5\\\" -DHAVE_FCNTL_H=1 -DHAVE_UNISTD_H=1 -DHAVE_SYS_TYPES_H=1 -DHAVE_SYS_STAT_H=1 -DHAVE_PTHREAD_H=1 -DHAVE_SYS_RESOURCE_H=1 -DHAVE_SYS_TIME_H=1 -DHAVE_STDINT_H=1 -DHAVE_FEATURES_H=1 -DHAVE_GETTIMEOFDAY=1 -DHAVE_MEMSET=1 -DHAVE_MEMCPY=1 -DHAVE_BCOPY=1 -DHAVE_SRAND48=1 -I. -I../../include -I../../include/capi -Wall -Wno-long-long -pedantic -std=c++98 -O2 -DNDEBUG -MT IdVisitor.lo -MD -MP -MF .deps/IdVisitor.Tpo -c IdVisitor.cc  -fPIC -DPIC -o .libs/IdVisitor.o\n",
            "libtool: compile:  g++ -DPACKAGE_NAME=\\\"spatialindex\\\" -DPACKAGE_TARNAME=\\\"spatialindex-src\\\" -DPACKAGE_VERSION=\\\"1.8.5\\\" \"-DPACKAGE_STRING=\\\"spatialindex 1.8.5\\\"\" -DPACKAGE_BUGREPORT=\\\"mhadji@gmail.com\\\" -DPACKAGE_URL=\\\"\\\" -DSTDC_HEADERS=1 -DHAVE_SYS_TYPES_H=1 -DHAVE_SYS_STAT_H=1 -DHAVE_STDLIB_H=1 -DHAVE_STRING_H=1 -DHAVE_MEMORY_H=1 -DHAVE_STRINGS_H=1 -DHAVE_INTTYPES_H=1 -DHAVE_STDINT_H=1 -DHAVE_UNISTD_H=1 -DHAVE_DLFCN_H=1 -DLT_OBJDIR=\\\".libs/\\\" -DPACKAGE=\\\"spatialindex-src\\\" -DVERSION=\\\"1.8.5\\\" -DHAVE_FCNTL_H=1 -DHAVE_UNISTD_H=1 -DHAVE_SYS_TYPES_H=1 -DHAVE_SYS_STAT_H=1 -DHAVE_PTHREAD_H=1 -DHAVE_SYS_RESOURCE_H=1 -DHAVE_SYS_TIME_H=1 -DHAVE_STDINT_H=1 -DHAVE_FEATURES_H=1 -DHAVE_GETTIMEOFDAY=1 -DHAVE_MEMSET=1 -DHAVE_MEMCPY=1 -DHAVE_BCOPY=1 -DHAVE_SRAND48=1 -I. -I../../include -I../../include/capi -Wall -Wno-long-long -pedantic -std=c++98 -O2 -DNDEBUG -MT IdVisitor.lo -MD -MP -MF .deps/IdVisitor.Tpo -c IdVisitor.cc -o IdVisitor.o >/dev/null 2>&1\n",
            "depbase=`echo Index.lo | sed 's|[^/]*$|.deps/&|;s|\\.lo$||'`;\\\n",
            "/bin/bash ../../libtool  --tag=CXX   --mode=compile g++ -DPACKAGE_NAME=\\\"spatialindex\\\" -DPACKAGE_TARNAME=\\\"spatialindex-src\\\" -DPACKAGE_VERSION=\\\"1.8.5\\\" -DPACKAGE_STRING=\\\"spatialindex\\ 1.8.5\\\" -DPACKAGE_BUGREPORT=\\\"mhadji@gmail.com\\\" -DPACKAGE_URL=\\\"\\\" -DSTDC_HEADERS=1 -DHAVE_SYS_TYPES_H=1 -DHAVE_SYS_STAT_H=1 -DHAVE_STDLIB_H=1 -DHAVE_STRING_H=1 -DHAVE_MEMORY_H=1 -DHAVE_STRINGS_H=1 -DHAVE_INTTYPES_H=1 -DHAVE_STDINT_H=1 -DHAVE_UNISTD_H=1 -DHAVE_DLFCN_H=1 -DLT_OBJDIR=\\\".libs/\\\" -DPACKAGE=\\\"spatialindex-src\\\" -DVERSION=\\\"1.8.5\\\" -DHAVE_FCNTL_H=1 -DHAVE_UNISTD_H=1 -DHAVE_SYS_TYPES_H=1 -DHAVE_SYS_STAT_H=1 -DHAVE_PTHREAD_H=1 -DHAVE_SYS_RESOURCE_H=1 -DHAVE_SYS_TIME_H=1 -DHAVE_STDINT_H=1 -DHAVE_FEATURES_H=1 -DHAVE_GETTIMEOFDAY=1 -DHAVE_MEMSET=1 -DHAVE_MEMCPY=1 -DHAVE_BCOPY=1 -DHAVE_SRAND48=1 -I. -I../../include -I../../include/capi    -Wall -Wno-long-long -pedantic -std=c++98  -O2 -DNDEBUG -MT Index.lo -MD -MP -MF $depbase.Tpo -c -o Index.lo Index.cc &&\\\n",
            "mv -f $depbase.Tpo $depbase.Plo\n",
            "libtool: compile:  g++ -DPACKAGE_NAME=\\\"spatialindex\\\" -DPACKAGE_TARNAME=\\\"spatialindex-src\\\" -DPACKAGE_VERSION=\\\"1.8.5\\\" \"-DPACKAGE_STRING=\\\"spatialindex 1.8.5\\\"\" -DPACKAGE_BUGREPORT=\\\"mhadji@gmail.com\\\" -DPACKAGE_URL=\\\"\\\" -DSTDC_HEADERS=1 -DHAVE_SYS_TYPES_H=1 -DHAVE_SYS_STAT_H=1 -DHAVE_STDLIB_H=1 -DHAVE_STRING_H=1 -DHAVE_MEMORY_H=1 -DHAVE_STRINGS_H=1 -DHAVE_INTTYPES_H=1 -DHAVE_STDINT_H=1 -DHAVE_UNISTD_H=1 -DHAVE_DLFCN_H=1 -DLT_OBJDIR=\\\".libs/\\\" -DPACKAGE=\\\"spatialindex-src\\\" -DVERSION=\\\"1.8.5\\\" -DHAVE_FCNTL_H=1 -DHAVE_UNISTD_H=1 -DHAVE_SYS_TYPES_H=1 -DHAVE_SYS_STAT_H=1 -DHAVE_PTHREAD_H=1 -DHAVE_SYS_RESOURCE_H=1 -DHAVE_SYS_TIME_H=1 -DHAVE_STDINT_H=1 -DHAVE_FEATURES_H=1 -DHAVE_GETTIMEOFDAY=1 -DHAVE_MEMSET=1 -DHAVE_MEMCPY=1 -DHAVE_BCOPY=1 -DHAVE_SRAND48=1 -I. -I../../include -I../../include/capi -Wall -Wno-long-long -pedantic -std=c++98 -O2 -DNDEBUG -MT Index.lo -MD -MP -MF .deps/Index.Tpo -c Index.cc  -fPIC -DPIC -o .libs/Index.o\n",
            "libtool: compile:  g++ -DPACKAGE_NAME=\\\"spatialindex\\\" -DPACKAGE_TARNAME=\\\"spatialindex-src\\\" -DPACKAGE_VERSION=\\\"1.8.5\\\" \"-DPACKAGE_STRING=\\\"spatialindex 1.8.5\\\"\" -DPACKAGE_BUGREPORT=\\\"mhadji@gmail.com\\\" -DPACKAGE_URL=\\\"\\\" -DSTDC_HEADERS=1 -DHAVE_SYS_TYPES_H=1 -DHAVE_SYS_STAT_H=1 -DHAVE_STDLIB_H=1 -DHAVE_STRING_H=1 -DHAVE_MEMORY_H=1 -DHAVE_STRINGS_H=1 -DHAVE_INTTYPES_H=1 -DHAVE_STDINT_H=1 -DHAVE_UNISTD_H=1 -DHAVE_DLFCN_H=1 -DLT_OBJDIR=\\\".libs/\\\" -DPACKAGE=\\\"spatialindex-src\\\" -DVERSION=\\\"1.8.5\\\" -DHAVE_FCNTL_H=1 -DHAVE_UNISTD_H=1 -DHAVE_SYS_TYPES_H=1 -DHAVE_SYS_STAT_H=1 -DHAVE_PTHREAD_H=1 -DHAVE_SYS_RESOURCE_H=1 -DHAVE_SYS_TIME_H=1 -DHAVE_STDINT_H=1 -DHAVE_FEATURES_H=1 -DHAVE_GETTIMEOFDAY=1 -DHAVE_MEMSET=1 -DHAVE_MEMCPY=1 -DHAVE_BCOPY=1 -DHAVE_SRAND48=1 -I. -I../../include -I../../include/capi -Wall -Wno-long-long -pedantic -std=c++98 -O2 -DNDEBUG -MT Index.lo -MD -MP -MF .deps/Index.Tpo -c Index.cc -o Index.o >/dev/null 2>&1\n",
            "depbase=`echo LeafQuery.lo | sed 's|[^/]*$|.deps/&|;s|\\.lo$||'`;\\\n",
            "/bin/bash ../../libtool  --tag=CXX   --mode=compile g++ -DPACKAGE_NAME=\\\"spatialindex\\\" -DPACKAGE_TARNAME=\\\"spatialindex-src\\\" -DPACKAGE_VERSION=\\\"1.8.5\\\" -DPACKAGE_STRING=\\\"spatialindex\\ 1.8.5\\\" -DPACKAGE_BUGREPORT=\\\"mhadji@gmail.com\\\" -DPACKAGE_URL=\\\"\\\" -DSTDC_HEADERS=1 -DHAVE_SYS_TYPES_H=1 -DHAVE_SYS_STAT_H=1 -DHAVE_STDLIB_H=1 -DHAVE_STRING_H=1 -DHAVE_MEMORY_H=1 -DHAVE_STRINGS_H=1 -DHAVE_INTTYPES_H=1 -DHAVE_STDINT_H=1 -DHAVE_UNISTD_H=1 -DHAVE_DLFCN_H=1 -DLT_OBJDIR=\\\".libs/\\\" -DPACKAGE=\\\"spatialindex-src\\\" -DVERSION=\\\"1.8.5\\\" -DHAVE_FCNTL_H=1 -DHAVE_UNISTD_H=1 -DHAVE_SYS_TYPES_H=1 -DHAVE_SYS_STAT_H=1 -DHAVE_PTHREAD_H=1 -DHAVE_SYS_RESOURCE_H=1 -DHAVE_SYS_TIME_H=1 -DHAVE_STDINT_H=1 -DHAVE_FEATURES_H=1 -DHAVE_GETTIMEOFDAY=1 -DHAVE_MEMSET=1 -DHAVE_MEMCPY=1 -DHAVE_BCOPY=1 -DHAVE_SRAND48=1 -I. -I../../include -I../../include/capi    -Wall -Wno-long-long -pedantic -std=c++98  -O2 -DNDEBUG -MT LeafQuery.lo -MD -MP -MF $depbase.Tpo -c -o LeafQuery.lo LeafQuery.cc &&\\\n",
            "mv -f $depbase.Tpo $depbase.Plo\n",
            "libtool: compile:  g++ -DPACKAGE_NAME=\\\"spatialindex\\\" -DPACKAGE_TARNAME=\\\"spatialindex-src\\\" -DPACKAGE_VERSION=\\\"1.8.5\\\" \"-DPACKAGE_STRING=\\\"spatialindex 1.8.5\\\"\" -DPACKAGE_BUGREPORT=\\\"mhadji@gmail.com\\\" -DPACKAGE_URL=\\\"\\\" -DSTDC_HEADERS=1 -DHAVE_SYS_TYPES_H=1 -DHAVE_SYS_STAT_H=1 -DHAVE_STDLIB_H=1 -DHAVE_STRING_H=1 -DHAVE_MEMORY_H=1 -DHAVE_STRINGS_H=1 -DHAVE_INTTYPES_H=1 -DHAVE_STDINT_H=1 -DHAVE_UNISTD_H=1 -DHAVE_DLFCN_H=1 -DLT_OBJDIR=\\\".libs/\\\" -DPACKAGE=\\\"spatialindex-src\\\" -DVERSION=\\\"1.8.5\\\" -DHAVE_FCNTL_H=1 -DHAVE_UNISTD_H=1 -DHAVE_SYS_TYPES_H=1 -DHAVE_SYS_STAT_H=1 -DHAVE_PTHREAD_H=1 -DHAVE_SYS_RESOURCE_H=1 -DHAVE_SYS_TIME_H=1 -DHAVE_STDINT_H=1 -DHAVE_FEATURES_H=1 -DHAVE_GETTIMEOFDAY=1 -DHAVE_MEMSET=1 -DHAVE_MEMCPY=1 -DHAVE_BCOPY=1 -DHAVE_SRAND48=1 -I. -I../../include -I../../include/capi -Wall -Wno-long-long -pedantic -std=c++98 -O2 -DNDEBUG -MT LeafQuery.lo -MD -MP -MF .deps/LeafQuery.Tpo -c LeafQuery.cc  -fPIC -DPIC -o .libs/LeafQuery.o\n",
            "libtool: compile:  g++ -DPACKAGE_NAME=\\\"spatialindex\\\" -DPACKAGE_TARNAME=\\\"spatialindex-src\\\" -DPACKAGE_VERSION=\\\"1.8.5\\\" \"-DPACKAGE_STRING=\\\"spatialindex 1.8.5\\\"\" -DPACKAGE_BUGREPORT=\\\"mhadji@gmail.com\\\" -DPACKAGE_URL=\\\"\\\" -DSTDC_HEADERS=1 -DHAVE_SYS_TYPES_H=1 -DHAVE_SYS_STAT_H=1 -DHAVE_STDLIB_H=1 -DHAVE_STRING_H=1 -DHAVE_MEMORY_H=1 -DHAVE_STRINGS_H=1 -DHAVE_INTTYPES_H=1 -DHAVE_STDINT_H=1 -DHAVE_UNISTD_H=1 -DHAVE_DLFCN_H=1 -DLT_OBJDIR=\\\".libs/\\\" -DPACKAGE=\\\"spatialindex-src\\\" -DVERSION=\\\"1.8.5\\\" -DHAVE_FCNTL_H=1 -DHAVE_UNISTD_H=1 -DHAVE_SYS_TYPES_H=1 -DHAVE_SYS_STAT_H=1 -DHAVE_PTHREAD_H=1 -DHAVE_SYS_RESOURCE_H=1 -DHAVE_SYS_TIME_H=1 -DHAVE_STDINT_H=1 -DHAVE_FEATURES_H=1 -DHAVE_GETTIMEOFDAY=1 -DHAVE_MEMSET=1 -DHAVE_MEMCPY=1 -DHAVE_BCOPY=1 -DHAVE_SRAND48=1 -I. -I../../include -I../../include/capi -Wall -Wno-long-long -pedantic -std=c++98 -O2 -DNDEBUG -MT LeafQuery.lo -MD -MP -MF .deps/LeafQuery.Tpo -c LeafQuery.cc -o LeafQuery.o >/dev/null 2>&1\n",
            "depbase=`echo ObjVisitor.lo | sed 's|[^/]*$|.deps/&|;s|\\.lo$||'`;\\\n",
            "/bin/bash ../../libtool  --tag=CXX   --mode=compile g++ -DPACKAGE_NAME=\\\"spatialindex\\\" -DPACKAGE_TARNAME=\\\"spatialindex-src\\\" -DPACKAGE_VERSION=\\\"1.8.5\\\" -DPACKAGE_STRING=\\\"spatialindex\\ 1.8.5\\\" -DPACKAGE_BUGREPORT=\\\"mhadji@gmail.com\\\" -DPACKAGE_URL=\\\"\\\" -DSTDC_HEADERS=1 -DHAVE_SYS_TYPES_H=1 -DHAVE_SYS_STAT_H=1 -DHAVE_STDLIB_H=1 -DHAVE_STRING_H=1 -DHAVE_MEMORY_H=1 -DHAVE_STRINGS_H=1 -DHAVE_INTTYPES_H=1 -DHAVE_STDINT_H=1 -DHAVE_UNISTD_H=1 -DHAVE_DLFCN_H=1 -DLT_OBJDIR=\\\".libs/\\\" -DPACKAGE=\\\"spatialindex-src\\\" -DVERSION=\\\"1.8.5\\\" -DHAVE_FCNTL_H=1 -DHAVE_UNISTD_H=1 -DHAVE_SYS_TYPES_H=1 -DHAVE_SYS_STAT_H=1 -DHAVE_PTHREAD_H=1 -DHAVE_SYS_RESOURCE_H=1 -DHAVE_SYS_TIME_H=1 -DHAVE_STDINT_H=1 -DHAVE_FEATURES_H=1 -DHAVE_GETTIMEOFDAY=1 -DHAVE_MEMSET=1 -DHAVE_MEMCPY=1 -DHAVE_BCOPY=1 -DHAVE_SRAND48=1 -I. -I../../include -I../../include/capi    -Wall -Wno-long-long -pedantic -std=c++98  -O2 -DNDEBUG -MT ObjVisitor.lo -MD -MP -MF $depbase.Tpo -c -o ObjVisitor.lo ObjVisitor.cc &&\\\n",
            "mv -f $depbase.Tpo $depbase.Plo\n",
            "libtool: compile:  g++ -DPACKAGE_NAME=\\\"spatialindex\\\" -DPACKAGE_TARNAME=\\\"spatialindex-src\\\" -DPACKAGE_VERSION=\\\"1.8.5\\\" \"-DPACKAGE_STRING=\\\"spatialindex 1.8.5\\\"\" -DPACKAGE_BUGREPORT=\\\"mhadji@gmail.com\\\" -DPACKAGE_URL=\\\"\\\" -DSTDC_HEADERS=1 -DHAVE_SYS_TYPES_H=1 -DHAVE_SYS_STAT_H=1 -DHAVE_STDLIB_H=1 -DHAVE_STRING_H=1 -DHAVE_MEMORY_H=1 -DHAVE_STRINGS_H=1 -DHAVE_INTTYPES_H=1 -DHAVE_STDINT_H=1 -DHAVE_UNISTD_H=1 -DHAVE_DLFCN_H=1 -DLT_OBJDIR=\\\".libs/\\\" -DPACKAGE=\\\"spatialindex-src\\\" -DVERSION=\\\"1.8.5\\\" -DHAVE_FCNTL_H=1 -DHAVE_UNISTD_H=1 -DHAVE_SYS_TYPES_H=1 -DHAVE_SYS_STAT_H=1 -DHAVE_PTHREAD_H=1 -DHAVE_SYS_RESOURCE_H=1 -DHAVE_SYS_TIME_H=1 -DHAVE_STDINT_H=1 -DHAVE_FEATURES_H=1 -DHAVE_GETTIMEOFDAY=1 -DHAVE_MEMSET=1 -DHAVE_MEMCPY=1 -DHAVE_BCOPY=1 -DHAVE_SRAND48=1 -I. -I../../include -I../../include/capi -Wall -Wno-long-long -pedantic -std=c++98 -O2 -DNDEBUG -MT ObjVisitor.lo -MD -MP -MF .deps/ObjVisitor.Tpo -c ObjVisitor.cc  -fPIC -DPIC -o .libs/ObjVisitor.o\n",
            "libtool: compile:  g++ -DPACKAGE_NAME=\\\"spatialindex\\\" -DPACKAGE_TARNAME=\\\"spatialindex-src\\\" -DPACKAGE_VERSION=\\\"1.8.5\\\" \"-DPACKAGE_STRING=\\\"spatialindex 1.8.5\\\"\" -DPACKAGE_BUGREPORT=\\\"mhadji@gmail.com\\\" -DPACKAGE_URL=\\\"\\\" -DSTDC_HEADERS=1 -DHAVE_SYS_TYPES_H=1 -DHAVE_SYS_STAT_H=1 -DHAVE_STDLIB_H=1 -DHAVE_STRING_H=1 -DHAVE_MEMORY_H=1 -DHAVE_STRINGS_H=1 -DHAVE_INTTYPES_H=1 -DHAVE_STDINT_H=1 -DHAVE_UNISTD_H=1 -DHAVE_DLFCN_H=1 -DLT_OBJDIR=\\\".libs/\\\" -DPACKAGE=\\\"spatialindex-src\\\" -DVERSION=\\\"1.8.5\\\" -DHAVE_FCNTL_H=1 -DHAVE_UNISTD_H=1 -DHAVE_SYS_TYPES_H=1 -DHAVE_SYS_STAT_H=1 -DHAVE_PTHREAD_H=1 -DHAVE_SYS_RESOURCE_H=1 -DHAVE_SYS_TIME_H=1 -DHAVE_STDINT_H=1 -DHAVE_FEATURES_H=1 -DHAVE_GETTIMEOFDAY=1 -DHAVE_MEMSET=1 -DHAVE_MEMCPY=1 -DHAVE_BCOPY=1 -DHAVE_SRAND48=1 -I. -I../../include -I../../include/capi -Wall -Wno-long-long -pedantic -std=c++98 -O2 -DNDEBUG -MT ObjVisitor.lo -MD -MP -MF .deps/ObjVisitor.Tpo -c ObjVisitor.cc -o ObjVisitor.o >/dev/null 2>&1\n",
            "depbase=`echo sidx_api.lo | sed 's|[^/]*$|.deps/&|;s|\\.lo$||'`;\\\n",
            "/bin/bash ../../libtool  --tag=CXX   --mode=compile g++ -DPACKAGE_NAME=\\\"spatialindex\\\" -DPACKAGE_TARNAME=\\\"spatialindex-src\\\" -DPACKAGE_VERSION=\\\"1.8.5\\\" -DPACKAGE_STRING=\\\"spatialindex\\ 1.8.5\\\" -DPACKAGE_BUGREPORT=\\\"mhadji@gmail.com\\\" -DPACKAGE_URL=\\\"\\\" -DSTDC_HEADERS=1 -DHAVE_SYS_TYPES_H=1 -DHAVE_SYS_STAT_H=1 -DHAVE_STDLIB_H=1 -DHAVE_STRING_H=1 -DHAVE_MEMORY_H=1 -DHAVE_STRINGS_H=1 -DHAVE_INTTYPES_H=1 -DHAVE_STDINT_H=1 -DHAVE_UNISTD_H=1 -DHAVE_DLFCN_H=1 -DLT_OBJDIR=\\\".libs/\\\" -DPACKAGE=\\\"spatialindex-src\\\" -DVERSION=\\\"1.8.5\\\" -DHAVE_FCNTL_H=1 -DHAVE_UNISTD_H=1 -DHAVE_SYS_TYPES_H=1 -DHAVE_SYS_STAT_H=1 -DHAVE_PTHREAD_H=1 -DHAVE_SYS_RESOURCE_H=1 -DHAVE_SYS_TIME_H=1 -DHAVE_STDINT_H=1 -DHAVE_FEATURES_H=1 -DHAVE_GETTIMEOFDAY=1 -DHAVE_MEMSET=1 -DHAVE_MEMCPY=1 -DHAVE_BCOPY=1 -DHAVE_SRAND48=1 -I. -I../../include -I../../include/capi    -Wall -Wno-long-long -pedantic -std=c++98  -O2 -DNDEBUG -MT sidx_api.lo -MD -MP -MF $depbase.Tpo -c -o sidx_api.lo sidx_api.cc &&\\\n",
            "mv -f $depbase.Tpo $depbase.Plo\n",
            "libtool: compile:  g++ -DPACKAGE_NAME=\\\"spatialindex\\\" -DPACKAGE_TARNAME=\\\"spatialindex-src\\\" -DPACKAGE_VERSION=\\\"1.8.5\\\" \"-DPACKAGE_STRING=\\\"spatialindex 1.8.5\\\"\" -DPACKAGE_BUGREPORT=\\\"mhadji@gmail.com\\\" -DPACKAGE_URL=\\\"\\\" -DSTDC_HEADERS=1 -DHAVE_SYS_TYPES_H=1 -DHAVE_SYS_STAT_H=1 -DHAVE_STDLIB_H=1 -DHAVE_STRING_H=1 -DHAVE_MEMORY_H=1 -DHAVE_STRINGS_H=1 -DHAVE_INTTYPES_H=1 -DHAVE_STDINT_H=1 -DHAVE_UNISTD_H=1 -DHAVE_DLFCN_H=1 -DLT_OBJDIR=\\\".libs/\\\" -DPACKAGE=\\\"spatialindex-src\\\" -DVERSION=\\\"1.8.5\\\" -DHAVE_FCNTL_H=1 -DHAVE_UNISTD_H=1 -DHAVE_SYS_TYPES_H=1 -DHAVE_SYS_STAT_H=1 -DHAVE_PTHREAD_H=1 -DHAVE_SYS_RESOURCE_H=1 -DHAVE_SYS_TIME_H=1 -DHAVE_STDINT_H=1 -DHAVE_FEATURES_H=1 -DHAVE_GETTIMEOFDAY=1 -DHAVE_MEMSET=1 -DHAVE_MEMCPY=1 -DHAVE_BCOPY=1 -DHAVE_SRAND48=1 -I. -I../../include -I../../include/capi -Wall -Wno-long-long -pedantic -std=c++98 -O2 -DNDEBUG -MT sidx_api.lo -MD -MP -MF .deps/sidx_api.Tpo -c sidx_api.cc  -fPIC -DPIC -o .libs/sidx_api.o\n",
            "libtool: compile:  g++ -DPACKAGE_NAME=\\\"spatialindex\\\" -DPACKAGE_TARNAME=\\\"spatialindex-src\\\" -DPACKAGE_VERSION=\\\"1.8.5\\\" \"-DPACKAGE_STRING=\\\"spatialindex 1.8.5\\\"\" -DPACKAGE_BUGREPORT=\\\"mhadji@gmail.com\\\" -DPACKAGE_URL=\\\"\\\" -DSTDC_HEADERS=1 -DHAVE_SYS_TYPES_H=1 -DHAVE_SYS_STAT_H=1 -DHAVE_STDLIB_H=1 -DHAVE_STRING_H=1 -DHAVE_MEMORY_H=1 -DHAVE_STRINGS_H=1 -DHAVE_INTTYPES_H=1 -DHAVE_STDINT_H=1 -DHAVE_UNISTD_H=1 -DHAVE_DLFCN_H=1 -DLT_OBJDIR=\\\".libs/\\\" -DPACKAGE=\\\"spatialindex-src\\\" -DVERSION=\\\"1.8.5\\\" -DHAVE_FCNTL_H=1 -DHAVE_UNISTD_H=1 -DHAVE_SYS_TYPES_H=1 -DHAVE_SYS_STAT_H=1 -DHAVE_PTHREAD_H=1 -DHAVE_SYS_RESOURCE_H=1 -DHAVE_SYS_TIME_H=1 -DHAVE_STDINT_H=1 -DHAVE_FEATURES_H=1 -DHAVE_GETTIMEOFDAY=1 -DHAVE_MEMSET=1 -DHAVE_MEMCPY=1 -DHAVE_BCOPY=1 -DHAVE_SRAND48=1 -I. -I../../include -I../../include/capi -Wall -Wno-long-long -pedantic -std=c++98 -O2 -DNDEBUG -MT sidx_api.lo -MD -MP -MF .deps/sidx_api.Tpo -c sidx_api.cc -o sidx_api.o >/dev/null 2>&1\n",
            "depbase=`echo Utility.lo | sed 's|[^/]*$|.deps/&|;s|\\.lo$||'`;\\\n",
            "/bin/bash ../../libtool  --tag=CXX   --mode=compile g++ -DPACKAGE_NAME=\\\"spatialindex\\\" -DPACKAGE_TARNAME=\\\"spatialindex-src\\\" -DPACKAGE_VERSION=\\\"1.8.5\\\" -DPACKAGE_STRING=\\\"spatialindex\\ 1.8.5\\\" -DPACKAGE_BUGREPORT=\\\"mhadji@gmail.com\\\" -DPACKAGE_URL=\\\"\\\" -DSTDC_HEADERS=1 -DHAVE_SYS_TYPES_H=1 -DHAVE_SYS_STAT_H=1 -DHAVE_STDLIB_H=1 -DHAVE_STRING_H=1 -DHAVE_MEMORY_H=1 -DHAVE_STRINGS_H=1 -DHAVE_INTTYPES_H=1 -DHAVE_STDINT_H=1 -DHAVE_UNISTD_H=1 -DHAVE_DLFCN_H=1 -DLT_OBJDIR=\\\".libs/\\\" -DPACKAGE=\\\"spatialindex-src\\\" -DVERSION=\\\"1.8.5\\\" -DHAVE_FCNTL_H=1 -DHAVE_UNISTD_H=1 -DHAVE_SYS_TYPES_H=1 -DHAVE_SYS_STAT_H=1 -DHAVE_PTHREAD_H=1 -DHAVE_SYS_RESOURCE_H=1 -DHAVE_SYS_TIME_H=1 -DHAVE_STDINT_H=1 -DHAVE_FEATURES_H=1 -DHAVE_GETTIMEOFDAY=1 -DHAVE_MEMSET=1 -DHAVE_MEMCPY=1 -DHAVE_BCOPY=1 -DHAVE_SRAND48=1 -I. -I../../include -I../../include/capi    -Wall -Wno-long-long -pedantic -std=c++98  -O2 -DNDEBUG -MT Utility.lo -MD -MP -MF $depbase.Tpo -c -o Utility.lo Utility.cc &&\\\n",
            "mv -f $depbase.Tpo $depbase.Plo\n",
            "libtool: compile:  g++ -DPACKAGE_NAME=\\\"spatialindex\\\" -DPACKAGE_TARNAME=\\\"spatialindex-src\\\" -DPACKAGE_VERSION=\\\"1.8.5\\\" \"-DPACKAGE_STRING=\\\"spatialindex 1.8.5\\\"\" -DPACKAGE_BUGREPORT=\\\"mhadji@gmail.com\\\" -DPACKAGE_URL=\\\"\\\" -DSTDC_HEADERS=1 -DHAVE_SYS_TYPES_H=1 -DHAVE_SYS_STAT_H=1 -DHAVE_STDLIB_H=1 -DHAVE_STRING_H=1 -DHAVE_MEMORY_H=1 -DHAVE_STRINGS_H=1 -DHAVE_INTTYPES_H=1 -DHAVE_STDINT_H=1 -DHAVE_UNISTD_H=1 -DHAVE_DLFCN_H=1 -DLT_OBJDIR=\\\".libs/\\\" -DPACKAGE=\\\"spatialindex-src\\\" -DVERSION=\\\"1.8.5\\\" -DHAVE_FCNTL_H=1 -DHAVE_UNISTD_H=1 -DHAVE_SYS_TYPES_H=1 -DHAVE_SYS_STAT_H=1 -DHAVE_PTHREAD_H=1 -DHAVE_SYS_RESOURCE_H=1 -DHAVE_SYS_TIME_H=1 -DHAVE_STDINT_H=1 -DHAVE_FEATURES_H=1 -DHAVE_GETTIMEOFDAY=1 -DHAVE_MEMSET=1 -DHAVE_MEMCPY=1 -DHAVE_BCOPY=1 -DHAVE_SRAND48=1 -I. -I../../include -I../../include/capi -Wall -Wno-long-long -pedantic -std=c++98 -O2 -DNDEBUG -MT Utility.lo -MD -MP -MF .deps/Utility.Tpo -c Utility.cc  -fPIC -DPIC -o .libs/Utility.o\n",
            "libtool: compile:  g++ -DPACKAGE_NAME=\\\"spatialindex\\\" -DPACKAGE_TARNAME=\\\"spatialindex-src\\\" -DPACKAGE_VERSION=\\\"1.8.5\\\" \"-DPACKAGE_STRING=\\\"spatialindex 1.8.5\\\"\" -DPACKAGE_BUGREPORT=\\\"mhadji@gmail.com\\\" -DPACKAGE_URL=\\\"\\\" -DSTDC_HEADERS=1 -DHAVE_SYS_TYPES_H=1 -DHAVE_SYS_STAT_H=1 -DHAVE_STDLIB_H=1 -DHAVE_STRING_H=1 -DHAVE_MEMORY_H=1 -DHAVE_STRINGS_H=1 -DHAVE_INTTYPES_H=1 -DHAVE_STDINT_H=1 -DHAVE_UNISTD_H=1 -DHAVE_DLFCN_H=1 -DLT_OBJDIR=\\\".libs/\\\" -DPACKAGE=\\\"spatialindex-src\\\" -DVERSION=\\\"1.8.5\\\" -DHAVE_FCNTL_H=1 -DHAVE_UNISTD_H=1 -DHAVE_SYS_TYPES_H=1 -DHAVE_SYS_STAT_H=1 -DHAVE_PTHREAD_H=1 -DHAVE_SYS_RESOURCE_H=1 -DHAVE_SYS_TIME_H=1 -DHAVE_STDINT_H=1 -DHAVE_FEATURES_H=1 -DHAVE_GETTIMEOFDAY=1 -DHAVE_MEMSET=1 -DHAVE_MEMCPY=1 -DHAVE_BCOPY=1 -DHAVE_SRAND48=1 -I. -I../../include -I../../include/capi -Wall -Wno-long-long -pedantic -std=c++98 -O2 -DNDEBUG -MT Utility.lo -MD -MP -MF .deps/Utility.Tpo -c Utility.cc -o Utility.o >/dev/null 2>&1\n",
            "/bin/bash ../../libtool  --tag=CXX   --mode=link g++  -Wall -Wno-long-long -pedantic -std=c++98  -O2 -DNDEBUG   -o libsidxc.la  BoundsQuery.lo CountVisitor.lo CustomStorage.lo DataStream.lo Error.lo IdVisitor.lo Index.lo LeafQuery.lo ObjVisitor.lo sidx_api.lo Utility.lo  -lpthread\n",
            "libtool: link: ar cru .libs/libsidxc.a .libs/BoundsQuery.o .libs/CountVisitor.o .libs/CustomStorage.o .libs/DataStream.o .libs/Error.o .libs/IdVisitor.o .libs/Index.o .libs/LeafQuery.o .libs/ObjVisitor.o .libs/sidx_api.o .libs/Utility.o \n",
            "ar: `u' modifier ignored since `D' is the default (see `U')\n",
            "libtool: link: ranlib .libs/libsidxc.a\n",
            "libtool: link: ( cd \".libs\" && rm -f \"libsidxc.la\" && ln -s \"../libsidxc.la\" \"libsidxc.la\" )\n",
            "make[2]: Leaving directory '/content/spatialindex-src-1.8.5/src/capi'\n",
            "make[2]: Entering directory '/content/spatialindex-src-1.8.5/src'\n",
            "make[2]: Nothing to be done for 'all-am'.\n",
            "make[2]: Leaving directory '/content/spatialindex-src-1.8.5/src'\n",
            "make[1]: Leaving directory '/content/spatialindex-src-1.8.5/src'\n",
            "Making all in .\n",
            "make[1]: Entering directory '/content/spatialindex-src-1.8.5'\n",
            "/bin/bash ./libtool  --tag=CC   --mode=link gcc  -Wall -Wno-long-long -pedantic  -version-info 4:1:0 -no-undefined -lstdc++  -o libspatialindex.la -rpath /usr/local/lib  src/spatialindex/liblibrary.la src/storagemanager/libstoragemanager.la src/rtree/librtree.la src/mvrtree/libmvrtree.la src/tprtree/libtprtree.la src/tools/libtools.la -lpthread\n",
            "libtool: link: gcc -shared  -fPIC -DPIC  -Wl,--whole-archive src/spatialindex/.libs/liblibrary.a src/storagemanager/.libs/libstoragemanager.a src/rtree/.libs/librtree.a src/mvrtree/.libs/libmvrtree.a src/tprtree/.libs/libtprtree.a src/tools/.libs/libtools.a -Wl,--no-whole-archive  -lstdc++ -lpthread    -Wl,-soname -Wl,libspatialindex.so.4 -o .libs/libspatialindex.so.4.0.1\n",
            "src/tools/.libs/libtools.a(Tools.o): In function `Tools::TemporaryFile::TemporaryFile()':\n",
            "Tools.cc:(.text+0x3d35): warning: the use of `mktemp' is dangerous, better use `mkstemp' or `mkdtemp'\n",
            "libtool: link: (cd \".libs\" && rm -f \"libspatialindex.so.4\" && ln -s \"libspatialindex.so.4.0.1\" \"libspatialindex.so.4\")\n",
            "libtool: link: (cd \".libs\" && rm -f \"libspatialindex.so\" && ln -s \"libspatialindex.so.4.0.1\" \"libspatialindex.so\")\n",
            "libtool: link: (cd .libs/libspatialindex.lax/liblibrary.a && ar x \"/content/spatialindex-src-1.8.5/src/spatialindex/.libs/liblibrary.a\")\n",
            "libtool: link: (cd .libs/libspatialindex.lax/libstoragemanager.a && ar x \"/content/spatialindex-src-1.8.5/src/storagemanager/.libs/libstoragemanager.a\")\n",
            "libtool: link: (cd .libs/libspatialindex.lax/librtree.a && ar x \"/content/spatialindex-src-1.8.5/src/rtree/.libs/librtree.a\")\n",
            "libtool: link: (cd .libs/libspatialindex.lax/libmvrtree.a && ar x \"/content/spatialindex-src-1.8.5/src/mvrtree/.libs/libmvrtree.a\")\n",
            "libtool: link: (cd .libs/libspatialindex.lax/libtprtree.a && ar x \"/content/spatialindex-src-1.8.5/src/tprtree/.libs/libtprtree.a\")\n",
            "libtool: link: (cd .libs/libspatialindex.lax/libtools.a && ar x \"/content/spatialindex-src-1.8.5/src/tools/.libs/libtools.a\")\n",
            "copying selected object files to avoid basename conflicts...\n",
            "libtool: link: ln .libs/libspatialindex.lax/libmvrtree.a/Index.o .libs/libspatialindex.lax/lt1-Index.o || cp .libs/libspatialindex.lax/libmvrtree.a/Index.o .libs/libspatialindex.lax/lt1-Index.o\n",
            "libtool: link: ln .libs/libspatialindex.lax/libmvrtree.a/Leaf.o .libs/libspatialindex.lax/lt2-Leaf.o || cp .libs/libspatialindex.lax/libmvrtree.a/Leaf.o .libs/libspatialindex.lax/lt2-Leaf.o\n",
            "libtool: link: ln .libs/libspatialindex.lax/libmvrtree.a/Node.o .libs/libspatialindex.lax/lt3-Node.o || cp .libs/libspatialindex.lax/libmvrtree.a/Node.o .libs/libspatialindex.lax/lt3-Node.o\n",
            "libtool: link: ln .libs/libspatialindex.lax/libmvrtree.a/Statistics.o .libs/libspatialindex.lax/lt4-Statistics.o || cp .libs/libspatialindex.lax/libmvrtree.a/Statistics.o .libs/libspatialindex.lax/lt4-Statistics.o\n",
            "libtool: link: ln .libs/libspatialindex.lax/libtprtree.a/Index.o .libs/libspatialindex.lax/lt5-Index.o || cp .libs/libspatialindex.lax/libtprtree.a/Index.o .libs/libspatialindex.lax/lt5-Index.o\n",
            "libtool: link: ln .libs/libspatialindex.lax/libtprtree.a/Leaf.o .libs/libspatialindex.lax/lt6-Leaf.o || cp .libs/libspatialindex.lax/libtprtree.a/Leaf.o .libs/libspatialindex.lax/lt6-Leaf.o\n",
            "libtool: link: ln .libs/libspatialindex.lax/libtprtree.a/Node.o .libs/libspatialindex.lax/lt7-Node.o || cp .libs/libspatialindex.lax/libtprtree.a/Node.o .libs/libspatialindex.lax/lt7-Node.o\n",
            "libtool: link: ln .libs/libspatialindex.lax/libtprtree.a/Statistics.o .libs/libspatialindex.lax/lt8-Statistics.o || cp .libs/libspatialindex.lax/libtprtree.a/Statistics.o .libs/libspatialindex.lax/lt8-Statistics.o\n",
            "libtool: link: ar cru .libs/libspatialindex.a .libs/libspatialindex.lax/liblibrary.a/LineSegment.o .libs/libspatialindex.lax/liblibrary.a/MovingPoint.o .libs/libspatialindex.lax/liblibrary.a/MovingRegion.o .libs/libspatialindex.lax/liblibrary.a/Point.o .libs/libspatialindex.lax/liblibrary.a/Region.o .libs/libspatialindex.lax/liblibrary.a/SpatialIndexImpl.o .libs/libspatialindex.lax/liblibrary.a/TimePoint.o .libs/libspatialindex.lax/liblibrary.a/TimeRegion.o .libs/libspatialindex.lax/libstoragemanager.a/Buffer.o .libs/libspatialindex.lax/libstoragemanager.a/DiskStorageManager.o .libs/libspatialindex.lax/libstoragemanager.a/MemoryStorageManager.o .libs/libspatialindex.lax/libstoragemanager.a/RandomEvictionsBuffer.o .libs/libspatialindex.lax/librtree.a/BulkLoader.o .libs/libspatialindex.lax/librtree.a/Index.o .libs/libspatialindex.lax/librtree.a/Leaf.o .libs/libspatialindex.lax/librtree.a/Node.o .libs/libspatialindex.lax/librtree.a/RTree.o .libs/libspatialindex.lax/librtree.a/Statistics.o .libs/libspatialindex.lax/lt1-Index.o .libs/libspatialindex.lax/lt2-Leaf.o .libs/libspatialindex.lax/libmvrtree.a/MVRTree.o .libs/libspatialindex.lax/lt3-Node.o .libs/libspatialindex.lax/lt4-Statistics.o .libs/libspatialindex.lax/lt5-Index.o .libs/libspatialindex.lax/lt6-Leaf.o .libs/libspatialindex.lax/lt7-Node.o .libs/libspatialindex.lax/lt8-Statistics.o .libs/libspatialindex.lax/libtprtree.a/TPRTree.o .libs/libspatialindex.lax/libtools.a/Tools.o .libs/libspatialindex.lax/libtools.a/rand48.o\n",
            "ar: `u' modifier ignored since `D' is the default (see `U')\n",
            "libtool: link: ranlib .libs/libspatialindex.a\n",
            "libtool: link: rm -fr .libs/libspatialindex.lax .libs/libspatialindex.lax\n",
            "libtool: link: ( cd \".libs\" && rm -f \"libspatialindex.la\" && ln -s \"../libspatialindex.la\" \"libspatialindex.la\" )\n",
            "/bin/bash ./libtool  --tag=CC   --mode=link gcc  -Wall -Wno-long-long -pedantic  -version-info 4:1:0 -no-undefined -lstdc++  -o libspatialindex_c.la -rpath /usr/local/lib  libspatialindex.la src/capi/libsidxc.la -lpthread\n",
            "libtool: link: gcc -shared  -fPIC -DPIC  -Wl,--whole-archive src/capi/.libs/libsidxc.a -Wl,--no-whole-archive  -Wl,-rpath -Wl,/content/spatialindex-src-1.8.5/.libs -lstdc++ ./.libs/libspatialindex.so -lpthread    -Wl,-soname -Wl,libspatialindex_c.so.4 -o .libs/libspatialindex_c.so.4.0.1\n",
            "libtool: link: (cd \".libs\" && rm -f \"libspatialindex_c.so.4\" && ln -s \"libspatialindex_c.so.4.0.1\" \"libspatialindex_c.so.4\")\n",
            "libtool: link: (cd \".libs\" && rm -f \"libspatialindex_c.so\" && ln -s \"libspatialindex_c.so.4.0.1\" \"libspatialindex_c.so\")\n",
            "libtool: link: (cd .libs/libspatialindex_c.lax/libsidxc.a && ar x \"/content/spatialindex-src-1.8.5/src/capi/.libs/libsidxc.a\")\n",
            "libtool: link: ar cru .libs/libspatialindex_c.a   .libs/libspatialindex_c.lax/libsidxc.a/BoundsQuery.o .libs/libspatialindex_c.lax/libsidxc.a/CountVisitor.o .libs/libspatialindex_c.lax/libsidxc.a/CustomStorage.o .libs/libspatialindex_c.lax/libsidxc.a/DataStream.o .libs/libspatialindex_c.lax/libsidxc.a/Error.o .libs/libspatialindex_c.lax/libsidxc.a/IdVisitor.o .libs/libspatialindex_c.lax/libsidxc.a/Index.o .libs/libspatialindex_c.lax/libsidxc.a/LeafQuery.o .libs/libspatialindex_c.lax/libsidxc.a/ObjVisitor.o .libs/libspatialindex_c.lax/libsidxc.a/Utility.o .libs/libspatialindex_c.lax/libsidxc.a/sidx_api.o \n",
            "ar: `u' modifier ignored since `D' is the default (see `U')\n",
            "libtool: link: ranlib .libs/libspatialindex_c.a\n",
            "libtool: link: rm -fr .libs/libspatialindex_c.lax\n",
            "libtool: link: ( cd \".libs\" && rm -f \"libspatialindex_c.la\" && ln -s \"../libspatialindex_c.la\" \"libspatialindex_c.la\" )\n",
            "make[1]: Leaving directory '/content/spatialindex-src-1.8.5'\n",
            "Making all in test\n",
            "make[1]: Entering directory '/content/spatialindex-src-1.8.5/test'\n",
            "Making all in geometry\n",
            "make[2]: Entering directory '/content/spatialindex-src-1.8.5/test/geometry'\n",
            "depbase=`echo Intersection.o | sed 's|[^/]*$|.deps/&|;s|\\.o$||'`;\\\n",
            "g++ -DPACKAGE_NAME=\\\"spatialindex\\\" -DPACKAGE_TARNAME=\\\"spatialindex-src\\\" -DPACKAGE_VERSION=\\\"1.8.5\\\" -DPACKAGE_STRING=\\\"spatialindex\\ 1.8.5\\\" -DPACKAGE_BUGREPORT=\\\"mhadji@gmail.com\\\" -DPACKAGE_URL=\\\"\\\" -DSTDC_HEADERS=1 -DHAVE_SYS_TYPES_H=1 -DHAVE_SYS_STAT_H=1 -DHAVE_STDLIB_H=1 -DHAVE_STRING_H=1 -DHAVE_MEMORY_H=1 -DHAVE_STRINGS_H=1 -DHAVE_INTTYPES_H=1 -DHAVE_STDINT_H=1 -DHAVE_UNISTD_H=1 -DHAVE_DLFCN_H=1 -DLT_OBJDIR=\\\".libs/\\\" -DPACKAGE=\\\"spatialindex-src\\\" -DVERSION=\\\"1.8.5\\\" -DHAVE_FCNTL_H=1 -DHAVE_UNISTD_H=1 -DHAVE_SYS_TYPES_H=1 -DHAVE_SYS_STAT_H=1 -DHAVE_PTHREAD_H=1 -DHAVE_SYS_RESOURCE_H=1 -DHAVE_SYS_TIME_H=1 -DHAVE_STDINT_H=1 -DHAVE_FEATURES_H=1 -DHAVE_GETTIMEOFDAY=1 -DHAVE_MEMSET=1 -DHAVE_MEMCPY=1 -DHAVE_BCOPY=1 -DHAVE_SRAND48=1 -I. -I../../include    -Wall -Wno-long-long -pedantic -std=c++98  -O2 -DNDEBUG -MT Intersection.o -MD -MP -MF $depbase.Tpo -c -o Intersection.o Intersection.cc &&\\\n",
            "mv -f $depbase.Tpo $depbase.Po\n",
            "/bin/bash ../../libtool  --tag=CXX   --mode=link g++  -Wall -Wno-long-long -pedantic -std=c++98  -O2 -DNDEBUG   -o Intersection Intersection.o ../../libspatialindex.la -lpthread\n",
            "libtool: link: g++ -Wall -Wno-long-long -pedantic -std=c++98 -O2 -DNDEBUG -o .libs/Intersection Intersection.o  ../../.libs/libspatialindex.so -lpthread\n",
            "make[2]: Leaving directory '/content/spatialindex-src-1.8.5/test/geometry'\n",
            "Making all in rtree\n",
            "make[2]: Entering directory '/content/spatialindex-src-1.8.5/test/rtree'\n",
            "depbase=`echo Generator.o | sed 's|[^/]*$|.deps/&|;s|\\.o$||'`;\\\n",
            "g++ -DPACKAGE_NAME=\\\"spatialindex\\\" -DPACKAGE_TARNAME=\\\"spatialindex-src\\\" -DPACKAGE_VERSION=\\\"1.8.5\\\" -DPACKAGE_STRING=\\\"spatialindex\\ 1.8.5\\\" -DPACKAGE_BUGREPORT=\\\"mhadji@gmail.com\\\" -DPACKAGE_URL=\\\"\\\" -DSTDC_HEADERS=1 -DHAVE_SYS_TYPES_H=1 -DHAVE_SYS_STAT_H=1 -DHAVE_STDLIB_H=1 -DHAVE_STRING_H=1 -DHAVE_MEMORY_H=1 -DHAVE_STRINGS_H=1 -DHAVE_INTTYPES_H=1 -DHAVE_STDINT_H=1 -DHAVE_UNISTD_H=1 -DHAVE_DLFCN_H=1 -DLT_OBJDIR=\\\".libs/\\\" -DPACKAGE=\\\"spatialindex-src\\\" -DVERSION=\\\"1.8.5\\\" -DHAVE_FCNTL_H=1 -DHAVE_UNISTD_H=1 -DHAVE_SYS_TYPES_H=1 -DHAVE_SYS_STAT_H=1 -DHAVE_PTHREAD_H=1 -DHAVE_SYS_RESOURCE_H=1 -DHAVE_SYS_TIME_H=1 -DHAVE_STDINT_H=1 -DHAVE_FEATURES_H=1 -DHAVE_GETTIMEOFDAY=1 -DHAVE_MEMSET=1 -DHAVE_MEMCPY=1 -DHAVE_BCOPY=1 -DHAVE_SRAND48=1 -I. -I../../include     -Wall -Wno-long-long -pedantic -std=c++98  -O2 -DNDEBUG -MT Generator.o -MD -MP -MF $depbase.Tpo -c -o Generator.o Generator.cc &&\\\n",
            "mv -f $depbase.Tpo $depbase.Po\n",
            "/bin/bash ../../libtool  --tag=CXX   --mode=link g++  -Wall -Wno-long-long -pedantic -std=c++98  -O2 -DNDEBUG   -o Generator Generator.o ../../libspatialindex.la -lpthread\n",
            "libtool: link: g++ -Wall -Wno-long-long -pedantic -std=c++98 -O2 -DNDEBUG -o .libs/Generator Generator.o  ../../.libs/libspatialindex.so -lpthread\n",
            "depbase=`echo Exhaustive.o | sed 's|[^/]*$|.deps/&|;s|\\.o$||'`;\\\n",
            "g++ -DPACKAGE_NAME=\\\"spatialindex\\\" -DPACKAGE_TARNAME=\\\"spatialindex-src\\\" -DPACKAGE_VERSION=\\\"1.8.5\\\" -DPACKAGE_STRING=\\\"spatialindex\\ 1.8.5\\\" -DPACKAGE_BUGREPORT=\\\"mhadji@gmail.com\\\" -DPACKAGE_URL=\\\"\\\" -DSTDC_HEADERS=1 -DHAVE_SYS_TYPES_H=1 -DHAVE_SYS_STAT_H=1 -DHAVE_STDLIB_H=1 -DHAVE_STRING_H=1 -DHAVE_MEMORY_H=1 -DHAVE_STRINGS_H=1 -DHAVE_INTTYPES_H=1 -DHAVE_STDINT_H=1 -DHAVE_UNISTD_H=1 -DHAVE_DLFCN_H=1 -DLT_OBJDIR=\\\".libs/\\\" -DPACKAGE=\\\"spatialindex-src\\\" -DVERSION=\\\"1.8.5\\\" -DHAVE_FCNTL_H=1 -DHAVE_UNISTD_H=1 -DHAVE_SYS_TYPES_H=1 -DHAVE_SYS_STAT_H=1 -DHAVE_PTHREAD_H=1 -DHAVE_SYS_RESOURCE_H=1 -DHAVE_SYS_TIME_H=1 -DHAVE_STDINT_H=1 -DHAVE_FEATURES_H=1 -DHAVE_GETTIMEOFDAY=1 -DHAVE_MEMSET=1 -DHAVE_MEMCPY=1 -DHAVE_BCOPY=1 -DHAVE_SRAND48=1 -I. -I../../include     -Wall -Wno-long-long -pedantic -std=c++98  -O2 -DNDEBUG -MT Exhaustive.o -MD -MP -MF $depbase.Tpo -c -o Exhaustive.o Exhaustive.cc &&\\\n",
            "mv -f $depbase.Tpo $depbase.Po\n",
            "/bin/bash ../../libtool  --tag=CXX   --mode=link g++  -Wall -Wno-long-long -pedantic -std=c++98  -O2 -DNDEBUG   -o Exhaustive Exhaustive.o ../../libspatialindex.la -lpthread\n",
            "libtool: link: g++ -Wall -Wno-long-long -pedantic -std=c++98 -O2 -DNDEBUG -o .libs/Exhaustive Exhaustive.o  ../../.libs/libspatialindex.so -lpthread\n",
            "depbase=`echo RTreeLoad.o | sed 's|[^/]*$|.deps/&|;s|\\.o$||'`;\\\n",
            "g++ -DPACKAGE_NAME=\\\"spatialindex\\\" -DPACKAGE_TARNAME=\\\"spatialindex-src\\\" -DPACKAGE_VERSION=\\\"1.8.5\\\" -DPACKAGE_STRING=\\\"spatialindex\\ 1.8.5\\\" -DPACKAGE_BUGREPORT=\\\"mhadji@gmail.com\\\" -DPACKAGE_URL=\\\"\\\" -DSTDC_HEADERS=1 -DHAVE_SYS_TYPES_H=1 -DHAVE_SYS_STAT_H=1 -DHAVE_STDLIB_H=1 -DHAVE_STRING_H=1 -DHAVE_MEMORY_H=1 -DHAVE_STRINGS_H=1 -DHAVE_INTTYPES_H=1 -DHAVE_STDINT_H=1 -DHAVE_UNISTD_H=1 -DHAVE_DLFCN_H=1 -DLT_OBJDIR=\\\".libs/\\\" -DPACKAGE=\\\"spatialindex-src\\\" -DVERSION=\\\"1.8.5\\\" -DHAVE_FCNTL_H=1 -DHAVE_UNISTD_H=1 -DHAVE_SYS_TYPES_H=1 -DHAVE_SYS_STAT_H=1 -DHAVE_PTHREAD_H=1 -DHAVE_SYS_RESOURCE_H=1 -DHAVE_SYS_TIME_H=1 -DHAVE_STDINT_H=1 -DHAVE_FEATURES_H=1 -DHAVE_GETTIMEOFDAY=1 -DHAVE_MEMSET=1 -DHAVE_MEMCPY=1 -DHAVE_BCOPY=1 -DHAVE_SRAND48=1 -I. -I../../include     -Wall -Wno-long-long -pedantic -std=c++98  -O2 -DNDEBUG -MT RTreeLoad.o -MD -MP -MF $depbase.Tpo -c -o RTreeLoad.o RTreeLoad.cc &&\\\n",
            "mv -f $depbase.Tpo $depbase.Po\n",
            "/bin/bash ../../libtool  --tag=CXX   --mode=link g++  -Wall -Wno-long-long -pedantic -std=c++98  -O2 -DNDEBUG   -o RTreeLoad RTreeLoad.o ../../libspatialindex.la -lpthread\n",
            "libtool: link: g++ -Wall -Wno-long-long -pedantic -std=c++98 -O2 -DNDEBUG -o .libs/RTreeLoad RTreeLoad.o  ../../.libs/libspatialindex.so -lpthread\n",
            "depbase=`echo RTreeQuery.o | sed 's|[^/]*$|.deps/&|;s|\\.o$||'`;\\\n",
            "g++ -DPACKAGE_NAME=\\\"spatialindex\\\" -DPACKAGE_TARNAME=\\\"spatialindex-src\\\" -DPACKAGE_VERSION=\\\"1.8.5\\\" -DPACKAGE_STRING=\\\"spatialindex\\ 1.8.5\\\" -DPACKAGE_BUGREPORT=\\\"mhadji@gmail.com\\\" -DPACKAGE_URL=\\\"\\\" -DSTDC_HEADERS=1 -DHAVE_SYS_TYPES_H=1 -DHAVE_SYS_STAT_H=1 -DHAVE_STDLIB_H=1 -DHAVE_STRING_H=1 -DHAVE_MEMORY_H=1 -DHAVE_STRINGS_H=1 -DHAVE_INTTYPES_H=1 -DHAVE_STDINT_H=1 -DHAVE_UNISTD_H=1 -DHAVE_DLFCN_H=1 -DLT_OBJDIR=\\\".libs/\\\" -DPACKAGE=\\\"spatialindex-src\\\" -DVERSION=\\\"1.8.5\\\" -DHAVE_FCNTL_H=1 -DHAVE_UNISTD_H=1 -DHAVE_SYS_TYPES_H=1 -DHAVE_SYS_STAT_H=1 -DHAVE_PTHREAD_H=1 -DHAVE_SYS_RESOURCE_H=1 -DHAVE_SYS_TIME_H=1 -DHAVE_STDINT_H=1 -DHAVE_FEATURES_H=1 -DHAVE_GETTIMEOFDAY=1 -DHAVE_MEMSET=1 -DHAVE_MEMCPY=1 -DHAVE_BCOPY=1 -DHAVE_SRAND48=1 -I. -I../../include     -Wall -Wno-long-long -pedantic -std=c++98  -O2 -DNDEBUG -MT RTreeQuery.o -MD -MP -MF $depbase.Tpo -c -o RTreeQuery.o RTreeQuery.cc &&\\\n",
            "mv -f $depbase.Tpo $depbase.Po\n",
            "/bin/bash ../../libtool  --tag=CXX   --mode=link g++  -Wall -Wno-long-long -pedantic -std=c++98  -O2 -DNDEBUG   -o RTreeQuery RTreeQuery.o ../../libspatialindex.la -lpthread\n",
            "libtool: link: g++ -Wall -Wno-long-long -pedantic -std=c++98 -O2 -DNDEBUG -o .libs/RTreeQuery RTreeQuery.o  ../../.libs/libspatialindex.so -lpthread\n",
            "depbase=`echo RTreeBulkLoad.o | sed 's|[^/]*$|.deps/&|;s|\\.o$||'`;\\\n",
            "g++ -DPACKAGE_NAME=\\\"spatialindex\\\" -DPACKAGE_TARNAME=\\\"spatialindex-src\\\" -DPACKAGE_VERSION=\\\"1.8.5\\\" -DPACKAGE_STRING=\\\"spatialindex\\ 1.8.5\\\" -DPACKAGE_BUGREPORT=\\\"mhadji@gmail.com\\\" -DPACKAGE_URL=\\\"\\\" -DSTDC_HEADERS=1 -DHAVE_SYS_TYPES_H=1 -DHAVE_SYS_STAT_H=1 -DHAVE_STDLIB_H=1 -DHAVE_STRING_H=1 -DHAVE_MEMORY_H=1 -DHAVE_STRINGS_H=1 -DHAVE_INTTYPES_H=1 -DHAVE_STDINT_H=1 -DHAVE_UNISTD_H=1 -DHAVE_DLFCN_H=1 -DLT_OBJDIR=\\\".libs/\\\" -DPACKAGE=\\\"spatialindex-src\\\" -DVERSION=\\\"1.8.5\\\" -DHAVE_FCNTL_H=1 -DHAVE_UNISTD_H=1 -DHAVE_SYS_TYPES_H=1 -DHAVE_SYS_STAT_H=1 -DHAVE_PTHREAD_H=1 -DHAVE_SYS_RESOURCE_H=1 -DHAVE_SYS_TIME_H=1 -DHAVE_STDINT_H=1 -DHAVE_FEATURES_H=1 -DHAVE_GETTIMEOFDAY=1 -DHAVE_MEMSET=1 -DHAVE_MEMCPY=1 -DHAVE_BCOPY=1 -DHAVE_SRAND48=1 -I. -I../../include     -Wall -Wno-long-long -pedantic -std=c++98  -O2 -DNDEBUG -MT RTreeBulkLoad.o -MD -MP -MF $depbase.Tpo -c -o RTreeBulkLoad.o RTreeBulkLoad.cc &&\\\n",
            "mv -f $depbase.Tpo $depbase.Po\n",
            "/bin/bash ../../libtool  --tag=CXX   --mode=link g++  -Wall -Wno-long-long -pedantic -std=c++98  -O2 -DNDEBUG   -o RTreeBulkLoad RTreeBulkLoad.o ../../libspatialindex.la -lpthread\n",
            "libtool: link: g++ -Wall -Wno-long-long -pedantic -std=c++98 -O2 -DNDEBUG -o .libs/RTreeBulkLoad RTreeBulkLoad.o  ../../.libs/libspatialindex.so -lpthread\n",
            "make[2]: Leaving directory '/content/spatialindex-src-1.8.5/test/rtree'\n",
            "Making all in mvrtree\n",
            "make[2]: Entering directory '/content/spatialindex-src-1.8.5/test/mvrtree'\n",
            "depbase=`echo Generator.o | sed 's|[^/]*$|.deps/&|;s|\\.o$||'`;\\\n",
            "g++ -DPACKAGE_NAME=\\\"spatialindex\\\" -DPACKAGE_TARNAME=\\\"spatialindex-src\\\" -DPACKAGE_VERSION=\\\"1.8.5\\\" -DPACKAGE_STRING=\\\"spatialindex\\ 1.8.5\\\" -DPACKAGE_BUGREPORT=\\\"mhadji@gmail.com\\\" -DPACKAGE_URL=\\\"\\\" -DSTDC_HEADERS=1 -DHAVE_SYS_TYPES_H=1 -DHAVE_SYS_STAT_H=1 -DHAVE_STDLIB_H=1 -DHAVE_STRING_H=1 -DHAVE_MEMORY_H=1 -DHAVE_STRINGS_H=1 -DHAVE_INTTYPES_H=1 -DHAVE_STDINT_H=1 -DHAVE_UNISTD_H=1 -DHAVE_DLFCN_H=1 -DLT_OBJDIR=\\\".libs/\\\" -DPACKAGE=\\\"spatialindex-src\\\" -DVERSION=\\\"1.8.5\\\" -DHAVE_FCNTL_H=1 -DHAVE_UNISTD_H=1 -DHAVE_SYS_TYPES_H=1 -DHAVE_SYS_STAT_H=1 -DHAVE_PTHREAD_H=1 -DHAVE_SYS_RESOURCE_H=1 -DHAVE_SYS_TIME_H=1 -DHAVE_STDINT_H=1 -DHAVE_FEATURES_H=1 -DHAVE_GETTIMEOFDAY=1 -DHAVE_MEMSET=1 -DHAVE_MEMCPY=1 -DHAVE_BCOPY=1 -DHAVE_SRAND48=1 -I. -I../../include     -Wall -Wno-long-long -pedantic -std=c++98  -O2 -DNDEBUG -MT Generator.o -MD -MP -MF $depbase.Tpo -c -o Generator.o Generator.cc &&\\\n",
            "mv -f $depbase.Tpo $depbase.Po\n",
            "/bin/bash ../../libtool  --tag=CXX   --mode=link g++  -Wall -Wno-long-long -pedantic -std=c++98  -O2 -DNDEBUG   -o Generator Generator.o ../../libspatialindex.la -lpthread\n",
            "libtool: link: g++ -Wall -Wno-long-long -pedantic -std=c++98 -O2 -DNDEBUG -o .libs/Generator Generator.o  ../../.libs/libspatialindex.so -lpthread\n",
            "depbase=`echo Exhaustive.o | sed 's|[^/]*$|.deps/&|;s|\\.o$||'`;\\\n",
            "g++ -DPACKAGE_NAME=\\\"spatialindex\\\" -DPACKAGE_TARNAME=\\\"spatialindex-src\\\" -DPACKAGE_VERSION=\\\"1.8.5\\\" -DPACKAGE_STRING=\\\"spatialindex\\ 1.8.5\\\" -DPACKAGE_BUGREPORT=\\\"mhadji@gmail.com\\\" -DPACKAGE_URL=\\\"\\\" -DSTDC_HEADERS=1 -DHAVE_SYS_TYPES_H=1 -DHAVE_SYS_STAT_H=1 -DHAVE_STDLIB_H=1 -DHAVE_STRING_H=1 -DHAVE_MEMORY_H=1 -DHAVE_STRINGS_H=1 -DHAVE_INTTYPES_H=1 -DHAVE_STDINT_H=1 -DHAVE_UNISTD_H=1 -DHAVE_DLFCN_H=1 -DLT_OBJDIR=\\\".libs/\\\" -DPACKAGE=\\\"spatialindex-src\\\" -DVERSION=\\\"1.8.5\\\" -DHAVE_FCNTL_H=1 -DHAVE_UNISTD_H=1 -DHAVE_SYS_TYPES_H=1 -DHAVE_SYS_STAT_H=1 -DHAVE_PTHREAD_H=1 -DHAVE_SYS_RESOURCE_H=1 -DHAVE_SYS_TIME_H=1 -DHAVE_STDINT_H=1 -DHAVE_FEATURES_H=1 -DHAVE_GETTIMEOFDAY=1 -DHAVE_MEMSET=1 -DHAVE_MEMCPY=1 -DHAVE_BCOPY=1 -DHAVE_SRAND48=1 -I. -I../../include     -Wall -Wno-long-long -pedantic -std=c++98  -O2 -DNDEBUG -MT Exhaustive.o -MD -MP -MF $depbase.Tpo -c -o Exhaustive.o Exhaustive.cc &&\\\n",
            "mv -f $depbase.Tpo $depbase.Po\n",
            "/bin/bash ../../libtool  --tag=CXX   --mode=link g++  -Wall -Wno-long-long -pedantic -std=c++98  -O2 -DNDEBUG   -o Exhaustive Exhaustive.o ../../libspatialindex.la -lpthread\n",
            "libtool: link: g++ -Wall -Wno-long-long -pedantic -std=c++98 -O2 -DNDEBUG -o .libs/Exhaustive Exhaustive.o  ../../.libs/libspatialindex.so -lpthread\n",
            "depbase=`echo MVRTreeLoad.o | sed 's|[^/]*$|.deps/&|;s|\\.o$||'`;\\\n",
            "g++ -DPACKAGE_NAME=\\\"spatialindex\\\" -DPACKAGE_TARNAME=\\\"spatialindex-src\\\" -DPACKAGE_VERSION=\\\"1.8.5\\\" -DPACKAGE_STRING=\\\"spatialindex\\ 1.8.5\\\" -DPACKAGE_BUGREPORT=\\\"mhadji@gmail.com\\\" -DPACKAGE_URL=\\\"\\\" -DSTDC_HEADERS=1 -DHAVE_SYS_TYPES_H=1 -DHAVE_SYS_STAT_H=1 -DHAVE_STDLIB_H=1 -DHAVE_STRING_H=1 -DHAVE_MEMORY_H=1 -DHAVE_STRINGS_H=1 -DHAVE_INTTYPES_H=1 -DHAVE_STDINT_H=1 -DHAVE_UNISTD_H=1 -DHAVE_DLFCN_H=1 -DLT_OBJDIR=\\\".libs/\\\" -DPACKAGE=\\\"spatialindex-src\\\" -DVERSION=\\\"1.8.5\\\" -DHAVE_FCNTL_H=1 -DHAVE_UNISTD_H=1 -DHAVE_SYS_TYPES_H=1 -DHAVE_SYS_STAT_H=1 -DHAVE_PTHREAD_H=1 -DHAVE_SYS_RESOURCE_H=1 -DHAVE_SYS_TIME_H=1 -DHAVE_STDINT_H=1 -DHAVE_FEATURES_H=1 -DHAVE_GETTIMEOFDAY=1 -DHAVE_MEMSET=1 -DHAVE_MEMCPY=1 -DHAVE_BCOPY=1 -DHAVE_SRAND48=1 -I. -I../../include     -Wall -Wno-long-long -pedantic -std=c++98  -O2 -DNDEBUG -MT MVRTreeLoad.o -MD -MP -MF $depbase.Tpo -c -o MVRTreeLoad.o MVRTreeLoad.cc &&\\\n",
            "mv -f $depbase.Tpo $depbase.Po\n",
            "/bin/bash ../../libtool  --tag=CXX   --mode=link g++  -Wall -Wno-long-long -pedantic -std=c++98  -O2 -DNDEBUG   -o MVRTreeLoad MVRTreeLoad.o ../../libspatialindex.la -lpthread\n",
            "libtool: link: g++ -Wall -Wno-long-long -pedantic -std=c++98 -O2 -DNDEBUG -o .libs/MVRTreeLoad MVRTreeLoad.o  ../../.libs/libspatialindex.so -lpthread\n",
            "depbase=`echo MVRTreeQuery.o | sed 's|[^/]*$|.deps/&|;s|\\.o$||'`;\\\n",
            "g++ -DPACKAGE_NAME=\\\"spatialindex\\\" -DPACKAGE_TARNAME=\\\"spatialindex-src\\\" -DPACKAGE_VERSION=\\\"1.8.5\\\" -DPACKAGE_STRING=\\\"spatialindex\\ 1.8.5\\\" -DPACKAGE_BUGREPORT=\\\"mhadji@gmail.com\\\" -DPACKAGE_URL=\\\"\\\" -DSTDC_HEADERS=1 -DHAVE_SYS_TYPES_H=1 -DHAVE_SYS_STAT_H=1 -DHAVE_STDLIB_H=1 -DHAVE_STRING_H=1 -DHAVE_MEMORY_H=1 -DHAVE_STRINGS_H=1 -DHAVE_INTTYPES_H=1 -DHAVE_STDINT_H=1 -DHAVE_UNISTD_H=1 -DHAVE_DLFCN_H=1 -DLT_OBJDIR=\\\".libs/\\\" -DPACKAGE=\\\"spatialindex-src\\\" -DVERSION=\\\"1.8.5\\\" -DHAVE_FCNTL_H=1 -DHAVE_UNISTD_H=1 -DHAVE_SYS_TYPES_H=1 -DHAVE_SYS_STAT_H=1 -DHAVE_PTHREAD_H=1 -DHAVE_SYS_RESOURCE_H=1 -DHAVE_SYS_TIME_H=1 -DHAVE_STDINT_H=1 -DHAVE_FEATURES_H=1 -DHAVE_GETTIMEOFDAY=1 -DHAVE_MEMSET=1 -DHAVE_MEMCPY=1 -DHAVE_BCOPY=1 -DHAVE_SRAND48=1 -I. -I../../include     -Wall -Wno-long-long -pedantic -std=c++98  -O2 -DNDEBUG -MT MVRTreeQuery.o -MD -MP -MF $depbase.Tpo -c -o MVRTreeQuery.o MVRTreeQuery.cc &&\\\n",
            "mv -f $depbase.Tpo $depbase.Po\n",
            "/bin/bash ../../libtool  --tag=CXX   --mode=link g++  -Wall -Wno-long-long -pedantic -std=c++98  -O2 -DNDEBUG   -o MVRTreeQuery MVRTreeQuery.o ../../libspatialindex.la -lpthread\n",
            "libtool: link: g++ -Wall -Wno-long-long -pedantic -std=c++98 -O2 -DNDEBUG -o .libs/MVRTreeQuery MVRTreeQuery.o  ../../.libs/libspatialindex.so -lpthread\n",
            "make[2]: Leaving directory '/content/spatialindex-src-1.8.5/test/mvrtree'\n",
            "Making all in tprtree\n",
            "make[2]: Entering directory '/content/spatialindex-src-1.8.5/test/tprtree'\n",
            "depbase=`echo RandomGenerator.o | sed 's|[^/]*$|.deps/&|;s|\\.o$||'`;\\\n",
            "g++ -DPACKAGE_NAME=\\\"spatialindex\\\" -DPACKAGE_TARNAME=\\\"spatialindex-src\\\" -DPACKAGE_VERSION=\\\"1.8.5\\\" -DPACKAGE_STRING=\\\"spatialindex\\ 1.8.5\\\" -DPACKAGE_BUGREPORT=\\\"mhadji@gmail.com\\\" -DPACKAGE_URL=\\\"\\\" -DSTDC_HEADERS=1 -DHAVE_SYS_TYPES_H=1 -DHAVE_SYS_STAT_H=1 -DHAVE_STDLIB_H=1 -DHAVE_STRING_H=1 -DHAVE_MEMORY_H=1 -DHAVE_STRINGS_H=1 -DHAVE_INTTYPES_H=1 -DHAVE_STDINT_H=1 -DHAVE_UNISTD_H=1 -DHAVE_DLFCN_H=1 -DLT_OBJDIR=\\\".libs/\\\" -DPACKAGE=\\\"spatialindex-src\\\" -DVERSION=\\\"1.8.5\\\" -DHAVE_FCNTL_H=1 -DHAVE_UNISTD_H=1 -DHAVE_SYS_TYPES_H=1 -DHAVE_SYS_STAT_H=1 -DHAVE_PTHREAD_H=1 -DHAVE_SYS_RESOURCE_H=1 -DHAVE_SYS_TIME_H=1 -DHAVE_STDINT_H=1 -DHAVE_FEATURES_H=1 -DHAVE_GETTIMEOFDAY=1 -DHAVE_MEMSET=1 -DHAVE_MEMCPY=1 -DHAVE_BCOPY=1 -DHAVE_SRAND48=1 -I. -I../../include     -Wall -Wno-long-long -pedantic -std=c++98  -O2 -DNDEBUG -MT RandomGenerator.o -MD -MP -MF $depbase.Tpo -c -o RandomGenerator.o RandomGenerator.cc &&\\\n",
            "mv -f $depbase.Tpo $depbase.Po\n",
            "depbase=`echo Generator.o | sed 's|[^/]*$|.deps/&|;s|\\.o$||'`;\\\n",
            "g++ -DPACKAGE_NAME=\\\"spatialindex\\\" -DPACKAGE_TARNAME=\\\"spatialindex-src\\\" -DPACKAGE_VERSION=\\\"1.8.5\\\" -DPACKAGE_STRING=\\\"spatialindex\\ 1.8.5\\\" -DPACKAGE_BUGREPORT=\\\"mhadji@gmail.com\\\" -DPACKAGE_URL=\\\"\\\" -DSTDC_HEADERS=1 -DHAVE_SYS_TYPES_H=1 -DHAVE_SYS_STAT_H=1 -DHAVE_STDLIB_H=1 -DHAVE_STRING_H=1 -DHAVE_MEMORY_H=1 -DHAVE_STRINGS_H=1 -DHAVE_INTTYPES_H=1 -DHAVE_STDINT_H=1 -DHAVE_UNISTD_H=1 -DHAVE_DLFCN_H=1 -DLT_OBJDIR=\\\".libs/\\\" -DPACKAGE=\\\"spatialindex-src\\\" -DVERSION=\\\"1.8.5\\\" -DHAVE_FCNTL_H=1 -DHAVE_UNISTD_H=1 -DHAVE_SYS_TYPES_H=1 -DHAVE_SYS_STAT_H=1 -DHAVE_PTHREAD_H=1 -DHAVE_SYS_RESOURCE_H=1 -DHAVE_SYS_TIME_H=1 -DHAVE_STDINT_H=1 -DHAVE_FEATURES_H=1 -DHAVE_GETTIMEOFDAY=1 -DHAVE_MEMSET=1 -DHAVE_MEMCPY=1 -DHAVE_BCOPY=1 -DHAVE_SRAND48=1 -I. -I../../include     -Wall -Wno-long-long -pedantic -std=c++98  -O2 -DNDEBUG -MT Generator.o -MD -MP -MF $depbase.Tpo -c -o Generator.o Generator.cc &&\\\n",
            "mv -f $depbase.Tpo $depbase.Po\n",
            "/bin/bash ../../libtool  --tag=CXX   --mode=link g++  -Wall -Wno-long-long -pedantic -std=c++98  -O2 -DNDEBUG   -o Generator RandomGenerator.o Generator.o ../../libspatialindex.la -lpthread\n",
            "libtool: link: g++ -Wall -Wno-long-long -pedantic -std=c++98 -O2 -DNDEBUG -o .libs/Generator RandomGenerator.o Generator.o  ../../.libs/libspatialindex.so -lpthread\n",
            "depbase=`echo Exhaustive.o | sed 's|[^/]*$|.deps/&|;s|\\.o$||'`;\\\n",
            "g++ -DPACKAGE_NAME=\\\"spatialindex\\\" -DPACKAGE_TARNAME=\\\"spatialindex-src\\\" -DPACKAGE_VERSION=\\\"1.8.5\\\" -DPACKAGE_STRING=\\\"spatialindex\\ 1.8.5\\\" -DPACKAGE_BUGREPORT=\\\"mhadji@gmail.com\\\" -DPACKAGE_URL=\\\"\\\" -DSTDC_HEADERS=1 -DHAVE_SYS_TYPES_H=1 -DHAVE_SYS_STAT_H=1 -DHAVE_STDLIB_H=1 -DHAVE_STRING_H=1 -DHAVE_MEMORY_H=1 -DHAVE_STRINGS_H=1 -DHAVE_INTTYPES_H=1 -DHAVE_STDINT_H=1 -DHAVE_UNISTD_H=1 -DHAVE_DLFCN_H=1 -DLT_OBJDIR=\\\".libs/\\\" -DPACKAGE=\\\"spatialindex-src\\\" -DVERSION=\\\"1.8.5\\\" -DHAVE_FCNTL_H=1 -DHAVE_UNISTD_H=1 -DHAVE_SYS_TYPES_H=1 -DHAVE_SYS_STAT_H=1 -DHAVE_PTHREAD_H=1 -DHAVE_SYS_RESOURCE_H=1 -DHAVE_SYS_TIME_H=1 -DHAVE_STDINT_H=1 -DHAVE_FEATURES_H=1 -DHAVE_GETTIMEOFDAY=1 -DHAVE_MEMSET=1 -DHAVE_MEMCPY=1 -DHAVE_BCOPY=1 -DHAVE_SRAND48=1 -I. -I../../include     -Wall -Wno-long-long -pedantic -std=c++98  -O2 -DNDEBUG -MT Exhaustive.o -MD -MP -MF $depbase.Tpo -c -o Exhaustive.o Exhaustive.cc &&\\\n",
            "mv -f $depbase.Tpo $depbase.Po\n",
            "/bin/bash ../../libtool  --tag=CXX   --mode=link g++  -Wall -Wno-long-long -pedantic -std=c++98  -O2 -DNDEBUG   -o Exhaustive Exhaustive.o ../../libspatialindex.la -lpthread\n",
            "libtool: link: g++ -Wall -Wno-long-long -pedantic -std=c++98 -O2 -DNDEBUG -o .libs/Exhaustive Exhaustive.o  ../../.libs/libspatialindex.so -lpthread\n",
            "depbase=`echo TPRTreeLoad.o | sed 's|[^/]*$|.deps/&|;s|\\.o$||'`;\\\n",
            "g++ -DPACKAGE_NAME=\\\"spatialindex\\\" -DPACKAGE_TARNAME=\\\"spatialindex-src\\\" -DPACKAGE_VERSION=\\\"1.8.5\\\" -DPACKAGE_STRING=\\\"spatialindex\\ 1.8.5\\\" -DPACKAGE_BUGREPORT=\\\"mhadji@gmail.com\\\" -DPACKAGE_URL=\\\"\\\" -DSTDC_HEADERS=1 -DHAVE_SYS_TYPES_H=1 -DHAVE_SYS_STAT_H=1 -DHAVE_STDLIB_H=1 -DHAVE_STRING_H=1 -DHAVE_MEMORY_H=1 -DHAVE_STRINGS_H=1 -DHAVE_INTTYPES_H=1 -DHAVE_STDINT_H=1 -DHAVE_UNISTD_H=1 -DHAVE_DLFCN_H=1 -DLT_OBJDIR=\\\".libs/\\\" -DPACKAGE=\\\"spatialindex-src\\\" -DVERSION=\\\"1.8.5\\\" -DHAVE_FCNTL_H=1 -DHAVE_UNISTD_H=1 -DHAVE_SYS_TYPES_H=1 -DHAVE_SYS_STAT_H=1 -DHAVE_PTHREAD_H=1 -DHAVE_SYS_RESOURCE_H=1 -DHAVE_SYS_TIME_H=1 -DHAVE_STDINT_H=1 -DHAVE_FEATURES_H=1 -DHAVE_GETTIMEOFDAY=1 -DHAVE_MEMSET=1 -DHAVE_MEMCPY=1 -DHAVE_BCOPY=1 -DHAVE_SRAND48=1 -I. -I../../include     -Wall -Wno-long-long -pedantic -std=c++98  -O2 -DNDEBUG -MT TPRTreeLoad.o -MD -MP -MF $depbase.Tpo -c -o TPRTreeLoad.o TPRTreeLoad.cc &&\\\n",
            "mv -f $depbase.Tpo $depbase.Po\n",
            "/bin/bash ../../libtool  --tag=CXX   --mode=link g++  -Wall -Wno-long-long -pedantic -std=c++98  -O2 -DNDEBUG   -o TPRTreeLoad TPRTreeLoad.o ../../libspatialindex.la -lpthread\n",
            "libtool: link: g++ -Wall -Wno-long-long -pedantic -std=c++98 -O2 -DNDEBUG -o .libs/TPRTreeLoad TPRTreeLoad.o  ../../.libs/libspatialindex.so -lpthread\n",
            "depbase=`echo TPRTreeQuery.o | sed 's|[^/]*$|.deps/&|;s|\\.o$||'`;\\\n",
            "g++ -DPACKAGE_NAME=\\\"spatialindex\\\" -DPACKAGE_TARNAME=\\\"spatialindex-src\\\" -DPACKAGE_VERSION=\\\"1.8.5\\\" -DPACKAGE_STRING=\\\"spatialindex\\ 1.8.5\\\" -DPACKAGE_BUGREPORT=\\\"mhadji@gmail.com\\\" -DPACKAGE_URL=\\\"\\\" -DSTDC_HEADERS=1 -DHAVE_SYS_TYPES_H=1 -DHAVE_SYS_STAT_H=1 -DHAVE_STDLIB_H=1 -DHAVE_STRING_H=1 -DHAVE_MEMORY_H=1 -DHAVE_STRINGS_H=1 -DHAVE_INTTYPES_H=1 -DHAVE_STDINT_H=1 -DHAVE_UNISTD_H=1 -DHAVE_DLFCN_H=1 -DLT_OBJDIR=\\\".libs/\\\" -DPACKAGE=\\\"spatialindex-src\\\" -DVERSION=\\\"1.8.5\\\" -DHAVE_FCNTL_H=1 -DHAVE_UNISTD_H=1 -DHAVE_SYS_TYPES_H=1 -DHAVE_SYS_STAT_H=1 -DHAVE_PTHREAD_H=1 -DHAVE_SYS_RESOURCE_H=1 -DHAVE_SYS_TIME_H=1 -DHAVE_STDINT_H=1 -DHAVE_FEATURES_H=1 -DHAVE_GETTIMEOFDAY=1 -DHAVE_MEMSET=1 -DHAVE_MEMCPY=1 -DHAVE_BCOPY=1 -DHAVE_SRAND48=1 -I. -I../../include     -Wall -Wno-long-long -pedantic -std=c++98  -O2 -DNDEBUG -MT TPRTreeQuery.o -MD -MP -MF $depbase.Tpo -c -o TPRTreeQuery.o TPRTreeQuery.cc &&\\\n",
            "mv -f $depbase.Tpo $depbase.Po\n",
            "/bin/bash ../../libtool  --tag=CXX   --mode=link g++  -Wall -Wno-long-long -pedantic -std=c++98  -O2 -DNDEBUG   -o TPRTreeQuery TPRTreeQuery.o ../../libspatialindex.la -lpthread\n",
            "libtool: link: g++ -Wall -Wno-long-long -pedantic -std=c++98 -O2 -DNDEBUG -o .libs/TPRTreeQuery TPRTreeQuery.o  ../../.libs/libspatialindex.so -lpthread\n",
            "make[2]: Leaving directory '/content/spatialindex-src-1.8.5/test/tprtree'\n",
            "make[2]: Entering directory '/content/spatialindex-src-1.8.5/test'\n",
            "make[2]: Nothing to be done for 'all-am'.\n",
            "make[2]: Leaving directory '/content/spatialindex-src-1.8.5/test'\n",
            "make[1]: Leaving directory '/content/spatialindex-src-1.8.5/test'\n",
            "Making all in include\n",
            "make[1]: Entering directory '/content/spatialindex-src-1.8.5/include'\n",
            "make[1]: Nothing to be done for 'all'.\n",
            "make[1]: Leaving directory '/content/spatialindex-src-1.8.5/include'\n",
            "Making install in src\n",
            "make[1]: Entering directory '/content/spatialindex-src-1.8.5/src'\n",
            "Making install in storagemanager\n",
            "make[2]: Entering directory '/content/spatialindex-src-1.8.5/src/storagemanager'\n",
            "make[3]: Entering directory '/content/spatialindex-src-1.8.5/src/storagemanager'\n",
            "make[3]: Nothing to be done for 'install-exec-am'.\n",
            "make[3]: Nothing to be done for 'install-data-am'.\n",
            "make[3]: Leaving directory '/content/spatialindex-src-1.8.5/src/storagemanager'\n",
            "make[2]: Leaving directory '/content/spatialindex-src-1.8.5/src/storagemanager'\n",
            "Making install in spatialindex\n",
            "make[2]: Entering directory '/content/spatialindex-src-1.8.5/src/spatialindex'\n",
            "make[3]: Entering directory '/content/spatialindex-src-1.8.5/src/spatialindex'\n",
            "make[3]: Nothing to be done for 'install-exec-am'.\n",
            "make[3]: Nothing to be done for 'install-data-am'.\n",
            "make[3]: Leaving directory '/content/spatialindex-src-1.8.5/src/spatialindex'\n",
            "make[2]: Leaving directory '/content/spatialindex-src-1.8.5/src/spatialindex'\n",
            "Making install in rtree\n",
            "make[2]: Entering directory '/content/spatialindex-src-1.8.5/src/rtree'\n",
            "make[3]: Entering directory '/content/spatialindex-src-1.8.5/src/rtree'\n",
            "make[3]: Nothing to be done for 'install-exec-am'.\n",
            "make[3]: Nothing to be done for 'install-data-am'.\n",
            "make[3]: Leaving directory '/content/spatialindex-src-1.8.5/src/rtree'\n",
            "make[2]: Leaving directory '/content/spatialindex-src-1.8.5/src/rtree'\n",
            "Making install in mvrtree\n",
            "make[2]: Entering directory '/content/spatialindex-src-1.8.5/src/mvrtree'\n",
            "make[3]: Entering directory '/content/spatialindex-src-1.8.5/src/mvrtree'\n",
            "make[3]: Nothing to be done for 'install-exec-am'.\n",
            "make[3]: Nothing to be done for 'install-data-am'.\n",
            "make[3]: Leaving directory '/content/spatialindex-src-1.8.5/src/mvrtree'\n",
            "make[2]: Leaving directory '/content/spatialindex-src-1.8.5/src/mvrtree'\n",
            "Making install in tprtree\n",
            "make[2]: Entering directory '/content/spatialindex-src-1.8.5/src/tprtree'\n",
            "make[3]: Entering directory '/content/spatialindex-src-1.8.5/src/tprtree'\n",
            "make[3]: Nothing to be done for 'install-exec-am'.\n",
            "make[3]: Nothing to be done for 'install-data-am'.\n",
            "make[3]: Leaving directory '/content/spatialindex-src-1.8.5/src/tprtree'\n",
            "make[2]: Leaving directory '/content/spatialindex-src-1.8.5/src/tprtree'\n",
            "Making install in tools\n",
            "make[2]: Entering directory '/content/spatialindex-src-1.8.5/src/tools'\n",
            "make[3]: Entering directory '/content/spatialindex-src-1.8.5/src/tools'\n",
            "make[3]: Nothing to be done for 'install-exec-am'.\n",
            "make[3]: Nothing to be done for 'install-data-am'.\n",
            "make[3]: Leaving directory '/content/spatialindex-src-1.8.5/src/tools'\n",
            "make[2]: Leaving directory '/content/spatialindex-src-1.8.5/src/tools'\n",
            "Making install in capi\n",
            "make[2]: Entering directory '/content/spatialindex-src-1.8.5/src/capi'\n",
            "make[3]: Entering directory '/content/spatialindex-src-1.8.5/src/capi'\n",
            "make[3]: Nothing to be done for 'install-exec-am'.\n",
            "make[3]: Nothing to be done for 'install-data-am'.\n",
            "make[3]: Leaving directory '/content/spatialindex-src-1.8.5/src/capi'\n",
            "make[2]: Leaving directory '/content/spatialindex-src-1.8.5/src/capi'\n",
            "make[2]: Entering directory '/content/spatialindex-src-1.8.5/src'\n",
            "make[3]: Entering directory '/content/spatialindex-src-1.8.5/src'\n",
            "make[3]: Nothing to be done for 'install-exec-am'.\n",
            " /bin/mkdir -p '/usr/local/lib/pkgconfig'\n",
            " /usr/bin/install -c -m 644 libspatialindex.pc '/usr/local/lib/pkgconfig'\n",
            "make[3]: Leaving directory '/content/spatialindex-src-1.8.5/src'\n",
            "make[2]: Leaving directory '/content/spatialindex-src-1.8.5/src'\n",
            "make[1]: Leaving directory '/content/spatialindex-src-1.8.5/src'\n",
            "Making install in .\n",
            "make[1]: Entering directory '/content/spatialindex-src-1.8.5'\n",
            "make[2]: Entering directory '/content/spatialindex-src-1.8.5'\n",
            " /bin/mkdir -p '/usr/local/lib'\n",
            " /bin/bash ./libtool   --mode=install /usr/bin/install -c   libspatialindex.la libspatialindex_c.la '/usr/local/lib'\n",
            "libtool: install: /usr/bin/install -c .libs/libspatialindex.so.4.0.1 /usr/local/lib/libspatialindex.so.4.0.1\n",
            "libtool: install: (cd /usr/local/lib && { ln -s -f libspatialindex.so.4.0.1 libspatialindex.so.4 || { rm -f libspatialindex.so.4 && ln -s libspatialindex.so.4.0.1 libspatialindex.so.4; }; })\n",
            "libtool: install: (cd /usr/local/lib && { ln -s -f libspatialindex.so.4.0.1 libspatialindex.so || { rm -f libspatialindex.so && ln -s libspatialindex.so.4.0.1 libspatialindex.so; }; })\n",
            "libtool: install: /usr/bin/install -c .libs/libspatialindex.lai /usr/local/lib/libspatialindex.la\n",
            "libtool: install: warning: relinking `libspatialindex_c.la'\n",
            "libtool: install: (cd /content/spatialindex-src-1.8.5; /bin/bash /content/spatialindex-src-1.8.5/libtool  --tag CC --mode=relink gcc -Wall -Wno-long-long -pedantic -version-info 4:1:0 -no-undefined -lstdc++ -o libspatialindex_c.la -rpath /usr/local/lib libspatialindex.la src/capi/libsidxc.la -lpthread )\n",
            "libtool: relink: gcc -shared  -fPIC -DPIC  -Wl,--whole-archive src/capi/.libs/libsidxc.a -Wl,--no-whole-archive  -lstdc++ -L/usr/local/lib -lspatialindex -lpthread    -Wl,-soname -Wl,libspatialindex_c.so.4 -o .libs/libspatialindex_c.so.4.0.1\n",
            "libtool: install: /usr/bin/install -c .libs/libspatialindex_c.so.4.0.1T /usr/local/lib/libspatialindex_c.so.4.0.1\n",
            "libtool: install: (cd /usr/local/lib && { ln -s -f libspatialindex_c.so.4.0.1 libspatialindex_c.so.4 || { rm -f libspatialindex_c.so.4 && ln -s libspatialindex_c.so.4.0.1 libspatialindex_c.so.4; }; })\n",
            "libtool: install: (cd /usr/local/lib && { ln -s -f libspatialindex_c.so.4.0.1 libspatialindex_c.so || { rm -f libspatialindex_c.so && ln -s libspatialindex_c.so.4.0.1 libspatialindex_c.so; }; })\n",
            "libtool: install: /usr/bin/install -c .libs/libspatialindex_c.lai /usr/local/lib/libspatialindex_c.la\n",
            "libtool: install: /usr/bin/install -c .libs/libspatialindex.a /usr/local/lib/libspatialindex.a\n",
            "libtool: install: chmod 644 /usr/local/lib/libspatialindex.a\n",
            "libtool: install: ranlib /usr/local/lib/libspatialindex.a\n",
            "libtool: install: /usr/bin/install -c .libs/libspatialindex_c.a /usr/local/lib/libspatialindex_c.a\n",
            "libtool: install: chmod 644 /usr/local/lib/libspatialindex_c.a\n",
            "libtool: install: ranlib /usr/local/lib/libspatialindex_c.a\n",
            "libtool: finish: PATH=\"/usr/local/nvidia/bin:/usr/local/cuda/bin:/usr/local/sbin:/usr/local/bin:/usr/sbin:/usr/bin:/sbin:/bin:/tools/node/bin:/tools/google-cloud-sdk/bin:/opt/bin:/sbin\" ldconfig -n /usr/local/lib\n",
            "----------------------------------------------------------------------\n",
            "Libraries have been installed in:\n",
            "   /usr/local/lib\n",
            "\n",
            "If you ever happen to want to link against installed libraries\n",
            "in a given directory, LIBDIR, you must either use libtool, and\n",
            "specify the full pathname of the library, or use the `-LLIBDIR'\n",
            "flag during linking and do at least one of the following:\n",
            "   - add LIBDIR to the `LD_LIBRARY_PATH' environment variable\n",
            "     during execution\n",
            "   - add LIBDIR to the `LD_RUN_PATH' environment variable\n",
            "     during linking\n",
            "   - use the `-Wl,-rpath -Wl,LIBDIR' linker flag\n",
            "   - have your system administrator add LIBDIR to `/etc/ld.so.conf'\n",
            "\n",
            "See any operating system documentation about shared libraries for\n",
            "more information, such as the ld(1) and ld.so(8) manual pages.\n",
            "----------------------------------------------------------------------\n",
            "make[2]: Nothing to be done for 'install-data-am'.\n",
            "make[2]: Leaving directory '/content/spatialindex-src-1.8.5'\n",
            "make[1]: Leaving directory '/content/spatialindex-src-1.8.5'\n",
            "Making install in test\n",
            "make[1]: Entering directory '/content/spatialindex-src-1.8.5/test'\n",
            "Making install in geometry\n",
            "make[2]: Entering directory '/content/spatialindex-src-1.8.5/test/geometry'\n",
            "make[3]: Entering directory '/content/spatialindex-src-1.8.5/test/geometry'\n",
            "make[3]: Nothing to be done for 'install-exec-am'.\n",
            "make[3]: Nothing to be done for 'install-data-am'.\n",
            "make[3]: Leaving directory '/content/spatialindex-src-1.8.5/test/geometry'\n",
            "make[2]: Leaving directory '/content/spatialindex-src-1.8.5/test/geometry'\n",
            "Making install in rtree\n",
            "make[2]: Entering directory '/content/spatialindex-src-1.8.5/test/rtree'\n",
            "make[3]: Entering directory '/content/spatialindex-src-1.8.5/test/rtree'\n",
            "make[3]: Nothing to be done for 'install-exec-am'.\n",
            "make[3]: Nothing to be done for 'install-data-am'.\n",
            "make[3]: Leaving directory '/content/spatialindex-src-1.8.5/test/rtree'\n",
            "make[2]: Leaving directory '/content/spatialindex-src-1.8.5/test/rtree'\n",
            "Making install in mvrtree\n",
            "make[2]: Entering directory '/content/spatialindex-src-1.8.5/test/mvrtree'\n",
            "make[3]: Entering directory '/content/spatialindex-src-1.8.5/test/mvrtree'\n",
            "make[3]: Nothing to be done for 'install-exec-am'.\n",
            "make[3]: Nothing to be done for 'install-data-am'.\n",
            "make[3]: Leaving directory '/content/spatialindex-src-1.8.5/test/mvrtree'\n",
            "make[2]: Leaving directory '/content/spatialindex-src-1.8.5/test/mvrtree'\n",
            "Making install in tprtree\n",
            "make[2]: Entering directory '/content/spatialindex-src-1.8.5/test/tprtree'\n",
            "make[3]: Entering directory '/content/spatialindex-src-1.8.5/test/tprtree'\n",
            "make[3]: Nothing to be done for 'install-exec-am'.\n",
            "make[3]: Nothing to be done for 'install-data-am'.\n",
            "make[3]: Leaving directory '/content/spatialindex-src-1.8.5/test/tprtree'\n",
            "make[2]: Leaving directory '/content/spatialindex-src-1.8.5/test/tprtree'\n",
            "make[2]: Entering directory '/content/spatialindex-src-1.8.5/test'\n",
            "make[3]: Entering directory '/content/spatialindex-src-1.8.5/test'\n",
            "make[3]: Nothing to be done for 'install-exec-am'.\n",
            "make[3]: Nothing to be done for 'install-data-am'.\n",
            "make[3]: Leaving directory '/content/spatialindex-src-1.8.5/test'\n",
            "make[2]: Leaving directory '/content/spatialindex-src-1.8.5/test'\n",
            "make[1]: Leaving directory '/content/spatialindex-src-1.8.5/test'\n",
            "Making install in include\n",
            "make[1]: Entering directory '/content/spatialindex-src-1.8.5/include'\n",
            "make[2]: Entering directory '/content/spatialindex-src-1.8.5/include'\n",
            "make[2]: Nothing to be done for 'install-exec-am'.\n",
            " /bin/mkdir -p '/usr/local/include'\n",
            " /bin/mkdir -p '/usr/local/include/spatialindex/tools'\n",
            " /usr/bin/install -c -m 644  spatialindex/tools/PointerPool.h spatialindex/tools/PoolPointer.h spatialindex/tools/rand48.h spatialindex/tools/SmartPointer.h spatialindex/tools/Tools.h '/usr/local/include/spatialindex/tools'\n",
            " /bin/mkdir -p '/usr/local/include/spatialindex'\n",
            " /usr/bin/install -c -m 644  spatialindex/SpatialIndex.h spatialindex/RTree.h spatialindex/MVRTree.h spatialindex/TPRTree.h spatialindex/Point.h spatialindex/Region.h spatialindex/LineSegment.h spatialindex/TimePoint.h spatialindex/TimeRegion.h spatialindex/MovingPoint.h spatialindex/MovingRegion.h spatialindex/Version.h '/usr/local/include/spatialindex'\n",
            " /bin/mkdir -p '/usr/local/include/spatialindex/capi'\n",
            " /usr/bin/install -c -m 644  spatialindex/capi/BoundsQuery.h spatialindex/capi/CountVisitor.h spatialindex/capi/CustomStorage.h spatialindex/capi/DataStream.h spatialindex/capi/Error.h spatialindex/capi/IdVisitor.h spatialindex/capi/Index.h spatialindex/capi/LeafQuery.h spatialindex/capi/ObjVisitor.h spatialindex/capi/sidx_api.h spatialindex/capi/sidx_export.h spatialindex/capi/sidx_config.h spatialindex/capi/sidx_impl.h spatialindex/capi/Utility.h '/usr/local/include/spatialindex/capi'\n",
            "make[2]: Leaving directory '/content/spatialindex-src-1.8.5/include'\n",
            "make[1]: Leaving directory '/content/spatialindex-src-1.8.5/include'\n",
            "Collecting rtree\n",
            "\u001b[?25l  Downloading https://files.pythonhosted.org/packages/1f/f4/0d893e8fa281d370c728dc42dc457f4f6128ea4a96a98442eb20755daee6/Rtree-0.9.7-cp36-cp36m-manylinux2010_x86_64.whl (994kB)\n",
            "\u001b[K     |████████████████████████████████| 1.0MB 4.1MB/s \n",
            "\u001b[?25hInstalling collected packages: rtree\n",
            "Successfully installed rtree-0.9.7\n",
            "/sbin/ldconfig.real: /usr/local/lib/python3.6/dist-packages/ideep4py/lib/libmkldnn.so.0 is not a symbolic link\n",
            "\n",
            "Collecting geopandas\n",
            "\u001b[?25l  Downloading https://files.pythonhosted.org/packages/f7/a4/e66aafbefcbb717813bf3a355c8c4fc3ed04ea1dd7feb2920f2f4f868921/geopandas-0.8.1-py2.py3-none-any.whl (962kB)\n",
            "\u001b[K     |████████████████████████████████| 972kB 5.3MB/s \n",
            "\u001b[?25hRequirement already satisfied: shapely in /usr/local/lib/python3.6/dist-packages (from geopandas) (1.7.1)\n",
            "Requirement already satisfied: pandas>=0.23.0 in /usr/local/lib/python3.6/dist-packages (from geopandas) (1.1.5)\n",
            "Collecting pyproj>=2.2.0\n",
            "\u001b[?25l  Downloading https://files.pythonhosted.org/packages/e4/ab/280e80a67cfc109d15428c0ec56391fc03a65857b7727cf4e6e6f99a4204/pyproj-3.0.0.post1-cp36-cp36m-manylinux2010_x86_64.whl (6.4MB)\n",
            "\u001b[K     |████████████████████████████████| 6.5MB 12.1MB/s \n",
            "\u001b[?25hCollecting fiona\n",
            "\u001b[?25l  Downloading https://files.pythonhosted.org/packages/37/94/4910fd55246c1d963727b03885ead6ef1cd3748a465f7b0239ab25dfc9a3/Fiona-1.8.18-cp36-cp36m-manylinux1_x86_64.whl (14.8MB)\n",
            "\u001b[K     |████████████████████████████████| 14.8MB 316kB/s \n",
            "\u001b[?25hRequirement already satisfied: numpy>=1.15.4 in /usr/local/lib/python3.6/dist-packages (from pandas>=0.23.0->geopandas) (1.19.5)\n",
            "Requirement already satisfied: python-dateutil>=2.7.3 in /usr/local/lib/python3.6/dist-packages (from pandas>=0.23.0->geopandas) (2.8.1)\n",
            "Requirement already satisfied: pytz>=2017.2 in /usr/local/lib/python3.6/dist-packages (from pandas>=0.23.0->geopandas) (2018.9)\n",
            "Requirement already satisfied: certifi in /usr/local/lib/python3.6/dist-packages (from pyproj>=2.2.0->geopandas) (2020.12.5)\n",
            "Requirement already satisfied: six>=1.7 in /usr/local/lib/python3.6/dist-packages (from fiona->geopandas) (1.15.0)\n",
            "Collecting cligj>=0.5\n",
            "  Downloading https://files.pythonhosted.org/packages/42/1e/947eadf10d6804bf276eb8a038bd5307996dceaaa41cfd21b7a15ec62f5d/cligj-0.7.1-py3-none-any.whl\n",
            "Collecting munch\n",
            "  Downloading https://files.pythonhosted.org/packages/cc/ab/85d8da5c9a45e072301beb37ad7f833cd344e04c817d97e0cc75681d248f/munch-2.5.0-py2.py3-none-any.whl\n",
            "Requirement already satisfied: attrs>=17 in /usr/local/lib/python3.6/dist-packages (from fiona->geopandas) (20.3.0)\n",
            "Collecting click-plugins>=1.0\n",
            "  Downloading https://files.pythonhosted.org/packages/e9/da/824b92d9942f4e472702488857914bdd50f73021efea15b4cad9aca8ecef/click_plugins-1.1.1-py2.py3-none-any.whl\n",
            "Requirement already satisfied: click<8,>=4.0 in /usr/local/lib/python3.6/dist-packages (from fiona->geopandas) (7.1.2)\n",
            "Installing collected packages: pyproj, cligj, munch, click-plugins, fiona, geopandas\n",
            "Successfully installed click-plugins-1.1.1 cligj-0.7.1 fiona-1.8.18 geopandas-0.8.1 munch-2.5.0 pyproj-3.0.0.post1\n",
            "Collecting git+https://github.com/jsosa/gdalutils.git\n",
            "  Cloning https://github.com/jsosa/gdalutils.git to /tmp/pip-req-build-j41b4oag\n",
            "  Running command git clone -q https://github.com/jsosa/gdalutils.git /tmp/pip-req-build-j41b4oag\n",
            "Building wheels for collected packages: gdalutils\n",
            "  Building wheel for gdalutils (setup.py) ... \u001b[?25l\u001b[?25hdone\n",
            "  Created wheel for gdalutils: filename=gdalutils-0.1-cp36-cp36m-linux_x86_64.whl size=274587 sha256=7fba76ca17cb0977036e279e4eb26d5393e4186265e86ce9c2c87e1e80687766\n",
            "  Stored in directory: /tmp/pip-ephem-wheel-cache-o6yjvnk2/wheels/79/b9/d9/eab968494e4420ffa7983a15b2ce71ad45f19dae081f8dd58f\n",
            "Successfully built gdalutils\n",
            "Installing collected packages: gdalutils\n",
            "Successfully installed gdalutils-0.1\n"
          ],
          "name": "stdout"
        }
      ]
    },
    {
      "cell_type": "markdown",
      "metadata": {
        "id": "9MNBFRC1DIsr"
      },
      "source": [
        "#### Installing LFPtools via pip"
      ]
    },
    {
      "cell_type": "code",
      "metadata": {
        "id": "btOVANoOC21e",
        "colab": {
          "base_uri": "https://localhost:8080/"
        },
        "outputId": "7d8e523f-7dee-4641-8fb7-d2621affc405"
      },
      "source": [
        "!pip install git+https://github.com/jsosa/LFPtools.git"
      ],
      "execution_count": 3,
      "outputs": [
        {
          "output_type": "stream",
          "text": [
            "Collecting git+https://github.com/jsosa/LFPtools.git\n",
            "  Cloning https://github.com/jsosa/LFPtools.git to /tmp/pip-req-build-uttojapo\n",
            "  Running command git clone -q https://github.com/jsosa/LFPtools.git /tmp/pip-req-build-uttojapo\n",
            "Building wheels for collected packages: lfptools\n",
            "  Building wheel for lfptools (setup.py) ... \u001b[?25l\u001b[?25hdone\n",
            "  Created wheel for lfptools: filename=lfptools-0.1-cp36-cp36m-linux_x86_64.whl size=347886 sha256=94490fc3ceca32ebe19f11656eac39a6f4cb7715c17b2302d423c2524aa986b3\n",
            "  Stored in directory: /tmp/pip-ephem-wheel-cache-gespr3t3/wheels/37/5f/8d/2b12dab8f3fcf55676cdce40a431a858bbc05d8a1c099b8845\n",
            "Successfully built lfptools\n",
            "Installing collected packages: lfptools\n",
            "Successfully installed lfptools-0.1\n"
          ],
          "name": "stdout"
        }
      ]
    },
    {
      "cell_type": "code",
      "metadata": {
        "id": "29EErifxiCRm"
      },
      "source": [
        ""
      ],
      "execution_count": null,
      "outputs": []
    },
    {
      "cell_type": "code",
      "metadata": {
        "id": "BtGk6auCiCjR"
      },
      "source": [
        ""
      ],
      "execution_count": null,
      "outputs": []
    },
    {
      "cell_type": "markdown",
      "metadata": {
        "id": "NvPpTDU-iCx9"
      },
      "source": [
        ""
      ]
    },
    {
      "cell_type": "markdown",
      "metadata": {
        "id": "OCiH5E9ViDBa"
      },
      "source": [
        ""
      ]
    },
    {
      "cell_type": "markdown",
      "metadata": {
        "id": "u5WvdFF5McTz"
      },
      "source": [
        "#### Download now the needed files to preprocess to your local machine"
      ]
    },
    {
      "cell_type": "markdown",
      "metadata": {
        "id": "SMDh--I2Sfc_"
      },
      "source": [
        "Files of this example are available at:\n",
        "https://drive.google.com/open?id=1mBxrnV2NXlIViaTPVrGmjTxBVsyJbpLM\n",
        "\n",
        "There are 6 files in the folder\n",
        "\n",
        "* **062_dis.csv :** File containing streamflow data\n",
        "* **062_rec.csv :** Topological connectivity of the main channel and reaches\n",
        "* **062_dem_lidar.tif :** DEM derived from LIDAR\n",
        "* **062_dir.tif :** Directions map\n",
        "* **062_net.tif :** River network mask\n",
        "* **062_wth_grwl.tif :** River width data from GRWL\n",
        "\n",
        "These files can be generated manually or alternatively using **lfp-predata** and **lfp-split** also available in the LFPtools toolbox"
      ]
    },
    {
      "cell_type": "markdown",
      "metadata": {
        "id": "6E1hD11JUlJp"
      },
      "source": [
        "#### Upload previous files to the cloud using the following steps"
      ]
    },
    {
      "cell_type": "markdown",
      "metadata": {
        "id": "KaPDEisHpduL"
      },
      "source": [
        "![picture](https://drive.google.com/uc?export=view&id=1RQuRricnvaKPdqqtnlK3fqq18QXFnkt8)"
      ]
    },
    {
      "cell_type": "markdown",
      "metadata": {
        "id": "vJ8MwUWyaJTG"
      },
      "source": [
        "#### Check files are in the cloud\n"
      ]
    },
    {
      "cell_type": "code",
      "metadata": {
        "id": "D32REd1ZXr6c",
        "colab": {
          "base_uri": "https://localhost:8080/"
        },
        "outputId": "2d3a7bff-fd64-46a8-ca2e-5fb1885ba8db"
      },
      "source": [
        "!ls"
      ],
      "execution_count": 4,
      "outputs": [
        {
          "output_type": "stream",
          "text": [
            "062_dem_lidar.tif  062_dis.csv\t062_rec.csv\t  lisflood_euflood\n",
            "062_dir.tif\t   062_net.tif\t062_wth_grwl.tif\n"
          ],
          "name": "stdout"
        }
      ]
    },
    {
      "cell_type": "markdown",
      "metadata": {
        "id": "3YB2263AukTG"
      },
      "source": [
        "#### Importing LFPTools in Colab with one line"
      ]
    },
    {
      "cell_type": "code",
      "metadata": {
        "id": "ZQgswyVxn3Jt",
        "colab": {
          "base_uri": "https://localhost:8080/"
        },
        "outputId": "be1e22d4-3319-4c06-d686-1b5a1abb12aa"
      },
      "source": [
        "import lfptools as lfp"
      ],
      "execution_count": 5,
      "outputs": [
        {
          "output_type": "stream",
          "text": [
            "/usr/local/lib/python3.6/dist-packages/statsmodels/tools/_testing.py:19: FutureWarning: pandas.util.testing is deprecated. Use the functions in the public API at pandas.testing instead.\n",
            "  import pandas.util.testing as tm\n"
          ],
          "name": "stderr"
        }
      ]
    },
    {
      "cell_type": "markdown",
      "metadata": {
        "id": "06Wd_O64fqGt"
      },
      "source": [
        "# 5. A flood inundation model for the Severn River in England, UK\n",
        "***"
      ]
    },
    {
      "cell_type": "markdown",
      "metadata": {
        "id": "nVGKZxJMhDZE"
      },
      "source": [
        "LFPTools was used to build a flood inundation model for the Severn river basin in the UK. A one-month simulation (April 1998) was undertaken in order to capture an observed flood event that happened during this period.  An additional one month ‘warm-up’ period was included to bring the model into a hydraulic steady state condition prior to the commencement of the April 1998 period. The model was built from LIDAR-based terrain data (at 90 m resolution) where the floodplain terrain was upscaled to 1 km resolution using the ‘mean’ aggregation method and removing outliers. Bank heights were defined using the ‘nearest neighbour’ method. River channels were explicitly represented using HydroSHEDS (Lehner et al., 2008) as input hydrography at 1 km resolution. Channel widths were retrieved from the GRWL database while river depths were estimated through the hydraulic geometry method with r=0.12 and p=0.78. The model was forced using daily gauged flows from the UK National River Flow Archive (NRFA) for the simulation period mentioned before."
      ]
    },
    {
      "cell_type": "markdown",
      "metadata": {
        "id": "J_R6cEwT0YiQ"
      },
      "source": [
        "## Building the model using LFPtools\n",
        "***"
      ]
    },
    {
      "cell_type": "markdown",
      "metadata": {
        "id": "77QuBmRTurmm"
      },
      "source": [
        "### Channel widths\n",
        "Retrieve river widths from a external data set (e.g. GRWL, GWD-LR)"
      ]
    },
    {
      "cell_type": "code",
      "metadata": {
        "id": "wCYVDUmwn8mA",
        "colab": {
          "base_uri": "https://localhost:8080/"
        },
        "outputId": "ffaf6a84-e958-4325-b975-aa721297aa2c"
      },
      "source": [
        "lfp.getwidths(thresh=0.02,\n",
        "              output='./lfptools/062_wdt',\n",
        "              recf='./062_rec.csv',\n",
        "              netf='./062_net.tif',\n",
        "              proj='+proj=longlat +ellps=WGS84 +datum=WGS84 +no_defs',\n",
        "              fwidth='./062_wth_grwl.tif')"
      ],
      "execution_count": 6,
      "outputs": [
        {
          "output_type": "stream",
          "text": [
            "    running getwidths.py... constant threshold version\n",
            "    running getwidths.py...\n"
          ],
          "name": "stdout"
        }
      ]
    },
    {
      "cell_type": "markdown",
      "metadata": {
        "id": "xW-CtUyW03Pg"
      },
      "source": [
        "### Bank elevations\n",
        "Get river banks elevations from a high resolution DEM by reductions method like nearest neighbour, mean, min or meanmin. Additionally, an outlier detection can be applied to before running the reduction method."
      ]
    },
    {
      "cell_type": "code",
      "metadata": {
        "id": "kEsBLK6Ri1jl",
        "colab": {
          "base_uri": "https://localhost:8080/"
        },
        "outputId": "027d21d4-ec6b-45ce-b09f-c7ee2999c847"
      },
      "source": [
        "lfp.getbankelevs(outlier='yes',\n",
        "                 method='near',\n",
        "                 hrnodata=-9999,\n",
        "                 thresh=0.00416,\n",
        "                 output='./lfptools/062_bnk',\n",
        "                 netf='./062_net.tif',\n",
        "                 recf='./062_rec.csv',\n",
        "                 hrdemf='./062_dem_lidar.tif',\n",
        "                 proj='+proj=longlat + ellps=WGS84 + datum=WGS84 + no_defs')"
      ],
      "execution_count": 7,
      "outputs": [
        {
          "output_type": "stream",
          "text": [
            "    running getbankelevs.py...\n"
          ],
          "name": "stdout"
        }
      ]
    },
    {
      "cell_type": "markdown",
      "metadata": {
        "id": "EZfvrDRx038J"
      },
      "source": [
        "\n",
        "\n",
        "```\n",
        "# This is formatted as code\n",
        "```\n",
        "\n",
        "### Bank elevation smoothing\n",
        "Fix DEM elevations using either of two methods: yamazaki (Yamazaki et al., 2012 J. Hydrol), lowless (Locally Weighted Scatterplot Smoothing)"
      ]
    },
    {
      "cell_type": "code",
      "metadata": {
        "id": "a7ZeB8yoi7Gf",
        "colab": {
          "base_uri": "https://localhost:8080/"
        },
        "outputId": "26d12d1a-5f6b-49a9-c551-8ea2e479655f"
      },
      "source": [
        "lfp.fixelevs(method='yamazaki',\n",
        "             source='./lfptools/062_bnk.shp',\n",
        "             output='./lfptools/062_bnkfix',\n",
        "             netf='./062_net.tif',\n",
        "             recf='./062_rec.csv',\n",
        "             proj='+proj=longlat +ellps=WGS84 +datum=WGS84 +no_defs')"
      ],
      "execution_count": 8,
      "outputs": [
        {
          "output_type": "stream",
          "text": [
            "    running fixelevs.py...\n"
          ],
          "name": "stdout"
        },
        {
          "output_type": "stream",
          "text": [
            "/usr/local/lib/python3.6/dist-packages/lfptools/fixelevs.py:127: SettingWithCopyWarning: \n",
            "A value is trying to be set on a copy of a slice from a DataFrame\n",
            "\n",
            "See the caveats in the documentation: https://pandas.pydata.org/pandas-docs/stable/user_guide/indexing.html#returning-a-view-versus-a-copy\n",
            "  rec['bnk_adj'][ids] = adjusted_dem\n"
          ],
          "name": "stderr"
        }
      ]
    },
    {
      "cell_type": "markdown",
      "metadata": {
        "id": "VG6nPHqa05FN"
      },
      "source": [
        "### Floodplain elevation resampling\n",
        "Resample a DEM by upscaling. It applies a reductions method like mean, min or meanmin. Outlier detection is also available before running the reduction method. nproc option defines number of cores to be used when resampling."
      ]
    },
    {
      "cell_type": "code",
      "metadata": {
        "id": "hM2pwQKGi9IM",
        "colab": {
          "base_uri": "https://localhost:8080/"
        },
        "outputId": "02574bb0-8a3b-416e-d95e-edf22bfac6ab"
      },
      "source": [
        "lfp.rasterresample(nproc=4,\n",
        "                   outlier='yes',\n",
        "                   method='mean',\n",
        "                   hrnodata=-9999,\n",
        "                   thresh=0.00416,\n",
        "                   demf='./062_dem_lidar.tif',\n",
        "                   netf='./062_net.tif',\n",
        "                   output='./lfptools/062_dem30.tif')"
      ],
      "execution_count": 9,
      "outputs": [
        {
          "output_type": "stream",
          "text": [
            "    running rasterresample.py...\n"
          ],
          "name": "stdout"
        },
        {
          "output_type": "stream",
          "text": [
            "/usr/local/lib/python3.6/dist-packages/numpy/core/fromnumeric.py:748: UserWarning: Warning: 'partition' will ignore the 'mask' of the MaskedArray.\n",
            "  a.partition(kth, axis=axis, kind=kind, order=order)\n",
            "/usr/local/lib/python3.6/dist-packages/numpy/core/fromnumeric.py:748: UserWarning: Warning: 'partition' will ignore the 'mask' of the MaskedArray.\n",
            "  a.partition(kth, axis=axis, kind=kind, order=order)\n",
            "/usr/local/lib/python3.6/dist-packages/numpy/core/fromnumeric.py:748: UserWarning: Warning: 'partition' will ignore the 'mask' of the MaskedArray.\n",
            "  a.partition(kth, axis=axis, kind=kind, order=order)\n",
            "/usr/local/lib/python3.6/dist-packages/numpy/core/fromnumeric.py:748: UserWarning: Warning: 'partition' will ignore the 'mask' of the MaskedArray.\n",
            "  a.partition(kth, axis=axis, kind=kind, order=order)\n"
          ],
          "name": "stderr"
        }
      ]
    },
    {
      "cell_type": "markdown",
      "metadata": {
        "id": "24yNJ5Ca05s8"
      },
      "source": [
        "### Channel depths\n",
        "Get river depths, three methods available: 1) get depths from a raster of depths 2) get depths by using hydraulic geometry equation depth = r * width ^ p and 3) get depths by using simplified mannings equation"
      ]
    },
    {
      "cell_type": "code",
      "metadata": {
        "id": "L2Gw-LzKi_n6",
        "colab": {
          "base_uri": "https://localhost:8080/"
        },
        "outputId": "ce6dd59a-d4a0-4498-b51e-750e00188bac"
      },
      "source": [
        "lfp.getdepths(proj='+proj=longlat +ellps=WGS84 +datum=WGS84 +no_defs',\n",
        "              netf='./062_net.tif',\n",
        "              method='depth_geometry',\n",
        "              output='./lfptools/062_dpt',\n",
        "              wdtf='./lfptools/062_wdt.shp',\n",
        "              r=0.12,\n",
        "              p=0.78)"
      ],
      "execution_count": 10,
      "outputs": [
        {
          "output_type": "stream",
          "text": [
            "    runnning getdepths.py...\n",
            "getdepths.py - 614\n",
            "getdepths.py - 613\n",
            "getdepths.py - 612\n",
            "getdepths.py - 611\n",
            "getdepths.py - 610\n",
            "getdepths.py - 609\n",
            "getdepths.py - 608\n",
            "getdepths.py - 607\n",
            "getdepths.py - 606\n",
            "getdepths.py - 605\n",
            "getdepths.py - 604\n",
            "getdepths.py - 603\n",
            "getdepths.py - 602\n",
            "getdepths.py - 601\n",
            "getdepths.py - 600\n",
            "getdepths.py - 599\n",
            "getdepths.py - 598\n",
            "getdepths.py - 597\n",
            "getdepths.py - 596\n",
            "getdepths.py - 595\n",
            "getdepths.py - 594\n",
            "getdepths.py - 593\n",
            "getdepths.py - 592\n",
            "getdepths.py - 591\n",
            "getdepths.py - 590\n",
            "getdepths.py - 589\n",
            "getdepths.py - 588\n",
            "getdepths.py - 587\n",
            "getdepths.py - 586\n",
            "getdepths.py - 585\n",
            "getdepths.py - 584\n",
            "getdepths.py - 583\n",
            "getdepths.py - 582\n",
            "getdepths.py - 581\n",
            "getdepths.py - 580\n",
            "getdepths.py - 579\n",
            "getdepths.py - 578\n",
            "getdepths.py - 577\n",
            "getdepths.py - 576\n",
            "getdepths.py - 575\n",
            "getdepths.py - 574\n",
            "getdepths.py - 573\n",
            "getdepths.py - 572\n",
            "getdepths.py - 571\n",
            "getdepths.py - 570\n",
            "getdepths.py - 569\n",
            "getdepths.py - 568\n",
            "getdepths.py - 567\n",
            "getdepths.py - 566\n",
            "getdepths.py - 565\n",
            "getdepths.py - 564\n",
            "getdepths.py - 563\n",
            "getdepths.py - 562\n",
            "getdepths.py - 561\n",
            "getdepths.py - 560\n",
            "getdepths.py - 559\n",
            "getdepths.py - 558\n",
            "getdepths.py - 557\n",
            "getdepths.py - 556\n",
            "getdepths.py - 555\n",
            "getdepths.py - 554\n",
            "getdepths.py - 553\n",
            "getdepths.py - 552\n",
            "getdepths.py - 551\n",
            "getdepths.py - 550\n",
            "getdepths.py - 549\n",
            "getdepths.py - 548\n",
            "getdepths.py - 547\n",
            "getdepths.py - 546\n",
            "getdepths.py - 545\n",
            "getdepths.py - 544\n",
            "getdepths.py - 543\n",
            "getdepths.py - 542\n",
            "getdepths.py - 541\n",
            "getdepths.py - 540\n",
            "getdepths.py - 539\n",
            "getdepths.py - 538\n",
            "getdepths.py - 537\n",
            "getdepths.py - 536\n",
            "getdepths.py - 535\n",
            "getdepths.py - 534\n",
            "getdepths.py - 533\n",
            "getdepths.py - 532\n",
            "getdepths.py - 531\n",
            "getdepths.py - 530\n",
            "getdepths.py - 529\n",
            "getdepths.py - 528\n",
            "getdepths.py - 527\n",
            "getdepths.py - 526\n",
            "getdepths.py - 525\n",
            "getdepths.py - 524\n",
            "getdepths.py - 523\n",
            "getdepths.py - 522\n",
            "getdepths.py - 521\n",
            "getdepths.py - 520\n",
            "getdepths.py - 519\n",
            "getdepths.py - 518\n",
            "getdepths.py - 517\n",
            "getdepths.py - 516\n",
            "getdepths.py - 515\n",
            "getdepths.py - 514\n",
            "getdepths.py - 513\n",
            "getdepths.py - 512\n",
            "getdepths.py - 511\n",
            "getdepths.py - 510\n",
            "getdepths.py - 509\n",
            "getdepths.py - 508\n",
            "getdepths.py - 507\n",
            "getdepths.py - 506\n",
            "getdepths.py - 505\n",
            "getdepths.py - 504\n",
            "getdepths.py - 503\n",
            "getdepths.py - 502\n",
            "getdepths.py - 501\n",
            "getdepths.py - 500\n",
            "getdepths.py - 499\n",
            "getdepths.py - 498\n",
            "getdepths.py - 497\n",
            "getdepths.py - 496\n",
            "getdepths.py - 495\n",
            "getdepths.py - 494\n",
            "getdepths.py - 493\n",
            "getdepths.py - 492\n",
            "getdepths.py - 491\n",
            "getdepths.py - 490\n",
            "getdepths.py - 489\n",
            "getdepths.py - 488\n",
            "getdepths.py - 487\n",
            "getdepths.py - 486\n",
            "getdepths.py - 485\n",
            "getdepths.py - 484\n",
            "getdepths.py - 483\n",
            "getdepths.py - 482\n",
            "getdepths.py - 481\n",
            "getdepths.py - 480\n",
            "getdepths.py - 479\n",
            "getdepths.py - 478\n",
            "getdepths.py - 477\n",
            "getdepths.py - 476\n",
            "getdepths.py - 475\n",
            "getdepths.py - 474\n",
            "getdepths.py - 473\n",
            "getdepths.py - 472\n",
            "getdepths.py - 471\n",
            "getdepths.py - 470\n",
            "getdepths.py - 469\n",
            "getdepths.py - 468\n",
            "getdepths.py - 467\n",
            "getdepths.py - 466\n",
            "getdepths.py - 465\n",
            "getdepths.py - 464\n",
            "getdepths.py - 463\n",
            "getdepths.py - 462\n",
            "getdepths.py - 461\n",
            "getdepths.py - 460\n",
            "getdepths.py - 459\n",
            "getdepths.py - 458\n",
            "getdepths.py - 457\n",
            "getdepths.py - 456\n",
            "getdepths.py - 455\n",
            "getdepths.py - 454\n",
            "getdepths.py - 453\n",
            "getdepths.py - 452\n",
            "getdepths.py - 451\n",
            "getdepths.py - 450\n",
            "getdepths.py - 449\n",
            "getdepths.py - 448\n",
            "getdepths.py - 447\n",
            "getdepths.py - 446\n",
            "getdepths.py - 445\n",
            "getdepths.py - 444\n",
            "getdepths.py - 443\n",
            "getdepths.py - 442\n",
            "getdepths.py - 441\n",
            "getdepths.py - 440\n",
            "getdepths.py - 439\n",
            "getdepths.py - 438\n",
            "getdepths.py - 437\n",
            "getdepths.py - 436\n",
            "getdepths.py - 435\n",
            "getdepths.py - 434\n",
            "getdepths.py - 433\n",
            "getdepths.py - 432\n",
            "getdepths.py - 431\n",
            "getdepths.py - 430\n",
            "getdepths.py - 429\n",
            "getdepths.py - 428\n",
            "getdepths.py - 427\n",
            "getdepths.py - 426\n",
            "getdepths.py - 425\n",
            "getdepths.py - 424\n",
            "getdepths.py - 423\n",
            "getdepths.py - 422\n",
            "getdepths.py - 421\n",
            "getdepths.py - 420\n",
            "getdepths.py - 419\n",
            "getdepths.py - 418\n",
            "getdepths.py - 417\n",
            "getdepths.py - 416\n",
            "getdepths.py - 415\n",
            "getdepths.py - 414\n",
            "getdepths.py - 413\n",
            "getdepths.py - 412\n",
            "getdepths.py - 411\n",
            "getdepths.py - 410\n",
            "getdepths.py - 409\n",
            "getdepths.py - 408\n",
            "getdepths.py - 407\n",
            "getdepths.py - 406\n",
            "getdepths.py - 405\n",
            "getdepths.py - 404\n",
            "getdepths.py - 403\n",
            "getdepths.py - 402\n",
            "getdepths.py - 401\n",
            "getdepths.py - 400\n",
            "getdepths.py - 399\n",
            "getdepths.py - 398\n",
            "getdepths.py - 397\n",
            "getdepths.py - 396\n",
            "getdepths.py - 395\n",
            "getdepths.py - 394\n",
            "getdepths.py - 393\n",
            "getdepths.py - 392\n",
            "getdepths.py - 391\n",
            "getdepths.py - 390\n",
            "getdepths.py - 389\n",
            "getdepths.py - 388\n",
            "getdepths.py - 387\n",
            "getdepths.py - 386\n",
            "getdepths.py - 385\n",
            "getdepths.py - 384\n",
            "getdepths.py - 383\n",
            "getdepths.py - 382\n",
            "getdepths.py - 381\n",
            "getdepths.py - 380\n",
            "getdepths.py - 379\n",
            "getdepths.py - 378\n",
            "getdepths.py - 377\n",
            "getdepths.py - 376\n",
            "getdepths.py - 375\n",
            "getdepths.py - 374\n",
            "getdepths.py - 373\n",
            "getdepths.py - 372\n",
            "getdepths.py - 371\n",
            "getdepths.py - 370\n",
            "getdepths.py - 369\n",
            "getdepths.py - 368\n",
            "getdepths.py - 367\n",
            "getdepths.py - 366\n",
            "getdepths.py - 365\n",
            "getdepths.py - 364\n",
            "getdepths.py - 363\n",
            "getdepths.py - 362\n",
            "getdepths.py - 361\n",
            "getdepths.py - 360\n",
            "getdepths.py - 359\n",
            "getdepths.py - 358\n",
            "getdepths.py - 357\n",
            "getdepths.py - 356\n",
            "getdepths.py - 355\n",
            "getdepths.py - 354\n",
            "getdepths.py - 353\n",
            "getdepths.py - 352\n",
            "getdepths.py - 351\n",
            "getdepths.py - 350\n",
            "getdepths.py - 349\n",
            "getdepths.py - 348\n",
            "getdepths.py - 347\n",
            "getdepths.py - 346\n",
            "getdepths.py - 345\n",
            "getdepths.py - 344\n",
            "getdepths.py - 343\n",
            "getdepths.py - 342\n",
            "getdepths.py - 341\n",
            "getdepths.py - 340\n",
            "getdepths.py - 339\n",
            "getdepths.py - 338\n",
            "getdepths.py - 337\n",
            "getdepths.py - 336\n",
            "getdepths.py - 335\n",
            "getdepths.py - 334\n",
            "getdepths.py - 333\n",
            "getdepths.py - 332\n",
            "getdepths.py - 331\n",
            "getdepths.py - 330\n",
            "getdepths.py - 329\n",
            "getdepths.py - 328\n",
            "getdepths.py - 327\n",
            "getdepths.py - 326\n",
            "getdepths.py - 325\n",
            "getdepths.py - 324\n",
            "getdepths.py - 323\n",
            "getdepths.py - 322\n",
            "getdepths.py - 321\n",
            "getdepths.py - 320\n",
            "getdepths.py - 319\n",
            "getdepths.py - 318\n",
            "getdepths.py - 317\n",
            "getdepths.py - 316\n",
            "getdepths.py - 315\n",
            "getdepths.py - 314\n",
            "getdepths.py - 313\n",
            "getdepths.py - 312\n",
            "getdepths.py - 311\n",
            "getdepths.py - 310\n",
            "getdepths.py - 309\n",
            "getdepths.py - 308\n",
            "getdepths.py - 307\n",
            "getdepths.py - 306\n",
            "getdepths.py - 305\n",
            "getdepths.py - 304\n",
            "getdepths.py - 303\n",
            "getdepths.py - 302\n",
            "getdepths.py - 301\n",
            "getdepths.py - 300\n",
            "getdepths.py - 299\n",
            "getdepths.py - 298\n",
            "getdepths.py - 297\n",
            "getdepths.py - 296\n",
            "getdepths.py - 295\n",
            "getdepths.py - 294\n",
            "getdepths.py - 293\n",
            "getdepths.py - 292\n",
            "getdepths.py - 291\n",
            "getdepths.py - 290\n",
            "getdepths.py - 289\n",
            "getdepths.py - 288\n",
            "getdepths.py - 287\n",
            "getdepths.py - 286\n",
            "getdepths.py - 285\n",
            "getdepths.py - 284\n",
            "getdepths.py - 283\n",
            "getdepths.py - 282\n",
            "getdepths.py - 281\n",
            "getdepths.py - 280\n",
            "getdepths.py - 279\n",
            "getdepths.py - 278\n",
            "getdepths.py - 277\n",
            "getdepths.py - 276\n",
            "getdepths.py - 275\n",
            "getdepths.py - 274\n",
            "getdepths.py - 273\n",
            "getdepths.py - 272\n",
            "getdepths.py - 271\n",
            "getdepths.py - 270\n",
            "getdepths.py - 269\n",
            "getdepths.py - 268\n",
            "getdepths.py - 267\n",
            "getdepths.py - 266\n",
            "getdepths.py - 265\n",
            "getdepths.py - 264\n",
            "getdepths.py - 263\n",
            "getdepths.py - 262\n",
            "getdepths.py - 261\n",
            "getdepths.py - 260\n",
            "getdepths.py - 259\n",
            "getdepths.py - 258\n",
            "getdepths.py - 257\n",
            "getdepths.py - 256\n",
            "getdepths.py - 255\n",
            "getdepths.py - 254\n",
            "getdepths.py - 253\n",
            "getdepths.py - 252\n",
            "getdepths.py - 251\n",
            "getdepths.py - 250\n",
            "getdepths.py - 249\n",
            "getdepths.py - 248\n",
            "getdepths.py - 247\n",
            "getdepths.py - 246\n",
            "getdepths.py - 245\n",
            "getdepths.py - 244\n",
            "getdepths.py - 243\n",
            "getdepths.py - 242\n",
            "getdepths.py - 241\n",
            "getdepths.py - 240\n",
            "getdepths.py - 239\n",
            "getdepths.py - 238\n",
            "getdepths.py - 237\n",
            "getdepths.py - 236\n",
            "getdepths.py - 235\n",
            "getdepths.py - 234\n",
            "getdepths.py - 233\n",
            "getdepths.py - 232\n",
            "getdepths.py - 231\n",
            "getdepths.py - 230\n",
            "getdepths.py - 229\n",
            "getdepths.py - 228\n",
            "getdepths.py - 227\n",
            "getdepths.py - 226\n",
            "getdepths.py - 225\n",
            "getdepths.py - 224\n",
            "getdepths.py - 223\n",
            "getdepths.py - 222\n",
            "getdepths.py - 221\n",
            "getdepths.py - 220\n",
            "getdepths.py - 219\n",
            "getdepths.py - 218\n",
            "getdepths.py - 217\n",
            "getdepths.py - 216\n",
            "getdepths.py - 215\n",
            "getdepths.py - 214\n",
            "getdepths.py - 213\n",
            "getdepths.py - 212\n",
            "getdepths.py - 211\n",
            "getdepths.py - 210\n",
            "getdepths.py - 209\n",
            "getdepths.py - 208\n",
            "getdepths.py - 207\n",
            "getdepths.py - 206\n",
            "getdepths.py - 205\n",
            "getdepths.py - 204\n",
            "getdepths.py - 203\n",
            "getdepths.py - 202\n",
            "getdepths.py - 201\n",
            "getdepths.py - 200\n",
            "getdepths.py - 199\n",
            "getdepths.py - 198\n",
            "getdepths.py - 197\n",
            "getdepths.py - 196\n",
            "getdepths.py - 195\n",
            "getdepths.py - 194\n",
            "getdepths.py - 193\n",
            "getdepths.py - 192\n",
            "getdepths.py - 191\n",
            "getdepths.py - 190\n",
            "getdepths.py - 189\n",
            "getdepths.py - 188\n",
            "getdepths.py - 187\n",
            "getdepths.py - 186\n",
            "getdepths.py - 185\n",
            "getdepths.py - 184\n",
            "getdepths.py - 183\n",
            "getdepths.py - 182\n",
            "getdepths.py - 181\n",
            "getdepths.py - 180\n",
            "getdepths.py - 179\n",
            "getdepths.py - 178\n",
            "getdepths.py - 177\n",
            "getdepths.py - 176\n",
            "getdepths.py - 175\n",
            "getdepths.py - 174\n",
            "getdepths.py - 173\n",
            "getdepths.py - 172\n",
            "getdepths.py - 171\n",
            "getdepths.py - 170\n",
            "getdepths.py - 169\n",
            "getdepths.py - 168\n",
            "getdepths.py - 167\n",
            "getdepths.py - 166\n",
            "getdepths.py - 165\n",
            "getdepths.py - 164\n",
            "getdepths.py - 163\n",
            "getdepths.py - 162\n",
            "getdepths.py - 161\n",
            "getdepths.py - 160\n",
            "getdepths.py - 159\n",
            "getdepths.py - 158\n",
            "getdepths.py - 157\n",
            "getdepths.py - 156\n",
            "getdepths.py - 155\n",
            "getdepths.py - 154\n",
            "getdepths.py - 153\n",
            "getdepths.py - 152\n",
            "getdepths.py - 151\n",
            "getdepths.py - 150\n",
            "getdepths.py - 149\n",
            "getdepths.py - 148\n",
            "getdepths.py - 147\n",
            "getdepths.py - 146\n",
            "getdepths.py - 145\n",
            "getdepths.py - 144\n",
            "getdepths.py - 143\n",
            "getdepths.py - 142\n",
            "getdepths.py - 141\n",
            "getdepths.py - 140\n",
            "getdepths.py - 139\n",
            "getdepths.py - 138\n",
            "getdepths.py - 137\n",
            "getdepths.py - 136\n",
            "getdepths.py - 135\n",
            "getdepths.py - 134\n",
            "getdepths.py - 133\n",
            "getdepths.py - 132\n",
            "getdepths.py - 131\n",
            "getdepths.py - 130\n",
            "getdepths.py - 129\n",
            "getdepths.py - 128\n",
            "getdepths.py - 127\n",
            "getdepths.py - 126\n",
            "getdepths.py - 125\n",
            "getdepths.py - 124\n",
            "getdepths.py - 123\n",
            "getdepths.py - 122\n",
            "getdepths.py - 121\n",
            "getdepths.py - 120\n",
            "getdepths.py - 119\n",
            "getdepths.py - 118\n",
            "getdepths.py - 117\n",
            "getdepths.py - 116\n",
            "getdepths.py - 115\n",
            "getdepths.py - 114\n",
            "getdepths.py - 113\n",
            "getdepths.py - 112\n",
            "getdepths.py - 111\n",
            "getdepths.py - 110\n",
            "getdepths.py - 109\n",
            "getdepths.py - 108\n",
            "getdepths.py - 107\n",
            "getdepths.py - 106\n",
            "getdepths.py - 105\n",
            "getdepths.py - 104\n",
            "getdepths.py - 103\n",
            "getdepths.py - 102\n",
            "getdepths.py - 101\n",
            "getdepths.py - 100\n",
            "getdepths.py - 99\n",
            "getdepths.py - 98\n",
            "getdepths.py - 97\n",
            "getdepths.py - 96\n",
            "getdepths.py - 95\n",
            "getdepths.py - 94\n",
            "getdepths.py - 93\n",
            "getdepths.py - 92\n",
            "getdepths.py - 91\n",
            "getdepths.py - 90\n",
            "getdepths.py - 89\n",
            "getdepths.py - 88\n",
            "getdepths.py - 87\n",
            "getdepths.py - 86\n",
            "getdepths.py - 85\n",
            "getdepths.py - 84\n",
            "getdepths.py - 83\n",
            "getdepths.py - 82\n",
            "getdepths.py - 81\n",
            "getdepths.py - 80\n",
            "getdepths.py - 79\n",
            "getdepths.py - 78\n",
            "getdepths.py - 77\n",
            "getdepths.py - 76\n",
            "getdepths.py - 75\n",
            "getdepths.py - 74\n",
            "getdepths.py - 73\n",
            "getdepths.py - 72\n",
            "getdepths.py - 71\n",
            "getdepths.py - 70\n",
            "getdepths.py - 69\n",
            "getdepths.py - 68\n",
            "getdepths.py - 67\n",
            "getdepths.py - 66\n",
            "getdepths.py - 65\n",
            "getdepths.py - 64\n",
            "getdepths.py - 63\n",
            "getdepths.py - 62\n",
            "getdepths.py - 61\n",
            "getdepths.py - 60\n",
            "getdepths.py - 59\n",
            "getdepths.py - 58\n",
            "getdepths.py - 57\n",
            "getdepths.py - 56\n",
            "getdepths.py - 55\n",
            "getdepths.py - 54\n",
            "getdepths.py - 53\n",
            "getdepths.py - 52\n",
            "getdepths.py - 51\n",
            "getdepths.py - 50\n",
            "getdepths.py - 49\n",
            "getdepths.py - 48\n",
            "getdepths.py - 47\n",
            "getdepths.py - 46\n",
            "getdepths.py - 45\n",
            "getdepths.py - 44\n",
            "getdepths.py - 43\n",
            "getdepths.py - 42\n",
            "getdepths.py - 41\n",
            "getdepths.py - 40\n",
            "getdepths.py - 39\n",
            "getdepths.py - 38\n",
            "getdepths.py - 37\n",
            "getdepths.py - 36\n",
            "getdepths.py - 35\n",
            "getdepths.py - 34\n",
            "getdepths.py - 33\n",
            "getdepths.py - 32\n",
            "getdepths.py - 31\n",
            "getdepths.py - 30\n",
            "getdepths.py - 29\n",
            "getdepths.py - 28\n",
            "getdepths.py - 27\n",
            "getdepths.py - 26\n",
            "getdepths.py - 25\n",
            "getdepths.py - 24\n",
            "getdepths.py - 23\n",
            "getdepths.py - 22\n",
            "getdepths.py - 21\n",
            "getdepths.py - 20\n",
            "getdepths.py - 19\n",
            "getdepths.py - 18\n",
            "getdepths.py - 17\n",
            "getdepths.py - 16\n",
            "getdepths.py - 15\n",
            "getdepths.py - 14\n",
            "getdepths.py - 13\n",
            "getdepths.py - 12\n",
            "getdepths.py - 11\n",
            "getdepths.py - 10\n",
            "getdepths.py - 9\n",
            "getdepths.py - 8\n",
            "getdepths.py - 7\n",
            "getdepths.py - 6\n",
            "getdepths.py - 5\n",
            "getdepths.py - 4\n",
            "getdepths.py - 3\n",
            "getdepths.py - 2\n",
            "getdepths.py - 1\n"
          ],
          "name": "stdout"
        }
      ]
    },
    {
      "cell_type": "markdown",
      "metadata": {
        "id": "MNEa47_206YS"
      },
      "source": [
        "\n",
        "\n",
        "```\n",
        "# This is formatted as code\n",
        "```\n",
        "\n",
        "### Channel bed elevations\n",
        "Get bed elevations by substracting depth from banks"
      ]
    },
    {
      "cell_type": "code",
      "metadata": {
        "id": "IDUk312fjQ3p",
        "colab": {
          "base_uri": "https://localhost:8080/"
        },
        "outputId": "16c719d1-8329-4bee-9cc2-9fa6ae4673c4"
      },
      "source": [
        "lfp.getbedelevs(bnkf='./lfptools/062_bnkfix.shp',\n",
        "                dptf='./lfptools/062_dpt.shp',\n",
        "                netf='./062_net.tif',\n",
        "                output='./lfptools/062_bed',\n",
        "                proj='+proj=longlat +ellps=WGS84 +datum=WGS84 +no_defs')"
      ],
      "execution_count": 11,
      "outputs": [
        {
          "output_type": "stream",
          "text": [
            "    running getbedelevs.py...\n",
            "loaded data\n",
            "calculating bed from banks and depth\n",
            "Index(['x', 'y', 'elevadj', 'geometry', 'bedelev'], dtype='object')\n",
            "Writing out data\n"
          ],
          "name": "stdout"
        }
      ]
    },
    {
      "cell_type": "markdown",
      "metadata": {
        "id": "kmX_hJM407CN"
      },
      "source": [
        "*italicized text*### Building files for LISFLOOD-FP\n",
        "Generate required files to run a LISFLOOD-FP simulation"
      ]
    },
    {
      "cell_type": "code",
      "metadata": {
        "id": "a8mf6GpzjTQZ",
        "colab": {
          "base_uri": "https://localhost:8080/"
        },
        "outputId": "43f14bd1-e235-4833-97e3-e8ed9f838f7f"
      },
      "source": [
        "os.makedirs('lisfloodfp',exist_ok=True)\n",
        "lfp.buildmodel(parlfp='./lisfloodfp/062.par',\n",
        "               bcilfp='./lisfloodfp/062.bci',\n",
        "               bdylfp='./lisfloodfp/062.bdy',\n",
        "               evaplfp='./lisfloodfp/062.evap',\n",
        "               gaugelfp='./lisfloodfp/062.gauge',\n",
        "               stagelfp='./lisfloodfp/062.stage',\n",
        "               dembnktif='./lisfloodfp/062_dembnk.tif',\n",
        "               dembnktif_1D='./lisfloodfp/062_dembnk_1D.tif',\n",
        "               bedtif='./lfptools/062_bed.tif',\n",
        "               wdttif='./lfptools/062_wdt.tif',\n",
        "               runcsv='./062_dis.csv',\n",
        "               demtif='./lfptools/062_dem30.tif',\n",
        "               fixbnktif='./lfptools/062_bnkfix.tif',\n",
        "               dirtif='./062_dir.tif',\n",
        "               reccsv='./062_rec.csv',\n",
        "               date1='1998-03-01',\n",
        "               date2='1998-05-01')\n",
        "[shutil.copyfile(i, './lisfloodfp/'+os.path.basename(i)) for i in glob('./lfptools/*.asc')]"
      ],
      "execution_count": 12,
      "outputs": [
        {
          "output_type": "stream",
          "text": [
            "    running buildmodel.py...\n",
            "     writing .bci file...\n",
            "     writing .bdy file...\n",
            "     writing .evap file...\n",
            "     burning banks in dem...\n",
            "     burning banks in dem 1D...\n",
            "     writing ASCII files...\n",
            "     writing .par file...\n"
          ],
          "name": "stdout"
        },
        {
          "output_type": "execute_result",
          "data": {
            "text/plain": [
              "['./lisfloodfp/062_bed.asc', './lisfloodfp/062_wdt.asc']"
            ]
          },
          "metadata": {
            "tags": []
          },
          "execution_count": 12
        }
      ]
    },
    {
      "cell_type": "markdown",
      "metadata": {
        "id": "0smd2KQZChXp"
      },
      "source": [
        "#6. Running the simulation"
      ]
    },
    {
      "cell_type": "markdown",
      "metadata": {
        "id": "RYIlyVfgCwv1"
      },
      "source": [
        "#### Checking the parameters file"
      ]
    },
    {
      "cell_type": "code",
      "metadata": {
        "id": "N5q1N31Z2ZcO",
        "colab": {
          "base_uri": "https://localhost:8080/"
        },
        "outputId": "98728e57-dfae-44c6-c654-03897148fdd3"
      },
      "source": [
        "filepath = 'lisfloodfp/062.par'  \n",
        "with open(filepath) as fp:  \n",
        "   for cnt, line in enumerate(fp):\n",
        "       print(\"Line {}: {}\".format(cnt,line))"
      ],
      "execution_count": 13,
      "outputs": [
        {
          "output_type": "stream",
          "text": [
            "Line 0: latlong\n",
            "\n",
            "Line 1: dirroot        062\n",
            "\n",
            "Line 2: resroot        062\n",
            "\n",
            "Line 3: sim_time       5270400\n",
            "\n",
            "Line 4: initial_tstep  10.0\n",
            "\n",
            "Line 5: massint        86400.0\n",
            "\n",
            "Line 6: saveint        86400.0\n",
            "\n",
            "Line 7: fpfric         0.06\n",
            "\n",
            "Line 8: SGCn           0.035\n",
            "\n",
            "Line 9: bcifile        062.bci\n",
            "\n",
            "Line 10: bdyfile        062.bdy\n",
            "\n",
            "Line 11: evaporation    062.evap\n",
            "\n",
            "Line 12: DEMfile        062_dembnk.asc\n",
            "\n",
            "Line 13: SGCbank        062_dembnk.asc\n",
            "\n",
            "Line 14: SGCwidth       062_wdt.asc\n",
            "\n",
            "Line 15: SGCbed         062_bed.asc\n",
            "\n"
          ],
          "name": "stdout"
        }
      ]
    },
    {
      "cell_type": "code",
      "metadata": {
        "id": "4bww5PtfAedT",
        "colab": {
          "base_uri": "https://localhost:8080/"
        },
        "outputId": "5259b3a3-7695-498f-bf46-8aeb0c6d8927"
      },
      "source": [
        "os.chdir('/content/lisfloodfp')\n",
        "!chmod 777 ../lisflood_euflood\n",
        "!../lisflood_euflood -v '062.par'"
      ],
      "execution_count": 14,
      "outputs": [
        {
          "output_type": "stream",
          "text": [
            "***************************\n",
            " LISFLOOD-FP version 7.0.4 (double)\n",
            "Intel Compiler version: 1800\n",
            "CPU instructions used: AVX2 AVX SSE_4.2 SSE_4.1 SSE3 SSE2 SSE\n",
            "_DISABLE_WET_DRY.\n",
            "_CALCULATE_Q_MODE 1.\n",
            "***************************\n",
            "\n",
            "Loading parameters... '062.par'\n",
            "latlong\n",
            "Lat-Long coordinate system on.\n",
            "dirroot = 062\n",
            "resroot = 062\n",
            "sim_time = 5270400.000\n",
            "initial_tstep = 10.000\n",
            "massint = 86400.000\n",
            "saveint = 86400.000\n",
            "fpfric = 0.060\n",
            "SGCn = 0.035\n",
            "SGCn changed to 0.03500 \n",
            "bcifile = 062.bci\n",
            "bdyfile = 062.bdy\n",
            "evaporation = 062.evap\n",
            "DEMfile = 062_dembnk.asc\n",
            "SGCbank = 062_dembnk.asc\n",
            "SGCwidth = 062_wdt.asc\n",
            "Using sub-grid channels and acceleration formulation\n",
            "SGCbed = 062_bed.asc\n",
            "SGC bed elevation read\n",
            "Reading parameters done.\n",
            "\n",
            "Reading command line.\n",
            "Reading command line done.\n",
            "\n",
            "\n",
            "Start Date: 20/1/2021 \n",
            "Start Time: 4:0:34 \n",
            "\n",
            "Loading DEM197x126\n",
            "BL corner\t(-3.191667,51.725000)\n",
            "NODATA_value\t-9999.000000\n",
            "Done.\n",
            "\n",
            "Loading SGCbank Done.\n",
            "Loading SGCwidth Done.\n",
            "\n",
            "Loading SGCbed:\t062_bed.asc\tSGC calc z done.\n",
            "Loading boundary condition IDsWARNING: Incorrect boundary condition in .bci file\n",
            "QVAR at point [-2.870833,52.729167] (38,5) in0\n",
            "QVAR at point [-2.604167,52.704167] (70,8) in1\n",
            "QVAR at point [-3.112500,52.770833] (9,0) in2\n",
            "QVAR at point [-2.195833,51.970833] (119,96) in3\n",
            "QVAR at point [-2.595833,52.312500] (71,55) in4\n",
            "QVAR at point [-2.387500,52.195833] (96,69) in5\n",
            "QVAR at point [-2.529167,52.637500] (79,16) in6\n",
            "QVAR at point [-2.320833,52.379167] (104,47) in7\n",
            "QVAR at point [-1.945833,52.095833] (149,81) in8\n",
            "FREE on N side start -3.191667 end -1.550000\n",
            "FREE on S side start -3.191667 end -1.550000\n",
            "FREE on E side start 51.725000 end 52.775000\n",
            "FREE on W side start 51.725000 end 52.775000\n",
            "Done.\n",
            "\n",
            "Loading time varying boundary conditionsbdy in0 read.\n",
            "bdy in1 read.\n",
            "bdy in2 read.\n",
            "bdy in3 read.\n",
            "bdy in4 read.\n",
            "bdy in5 read.\n",
            "bdy in6 read.\n",
            "bdy in7 read.\n",
            "bdy in8 read.\n",
            "Done.\n",
            "\n",
            "Porosity off\n",
            "Loading time varying evaporationDone.\n",
            "\n",
            "\n",
            "Starting time steps: acceleration mode\n",
            "\n",
            "SGC mode\n",
            "\n",
            "OMP thread count: 2\n",
            "Point Source id:0 (38,5)\n",
            "Point Source id:1 (70,8)\n",
            "Point Source id:2 (9,0)\n",
            "Point Source id:3 (119,96)\n",
            "Point Source id:4 (71,55)\n",
            "Point Source id:5 (96,69)\n",
            "Point Source id:6 (79,16)\n",
            "Point Source id:7 (104,47)\n",
            "Point Source id:8 (149,81)\n",
            "Init Sub Grid...\tsub grid flows: 633 sub grid cells:614\n",
            "Init done\n",
            "Elapsed processing time:\t\t\t130.058304 (s) 527040\n",
            "Output write time:\t\t\t1.870743 (s) 62\n",
            "loop time 132.000000\n",
            "Finished.\n",
            "\n",
            "\n",
            "Finish Date: 20/1/2021 \n",
            "Finish Time: 4:2:46 \n",
            "\n",
            "\n",
            "  Total computation time: 2.20 mins\n",
            "\n"
          ],
          "name": "stdout"
        }
      ]
    },
    {
      "cell_type": "markdown",
      "metadata": {
        "id": "LAPh3-dBP3l2"
      },
      "source": [
        "# 7. Visualising results"
      ]
    },
    {
      "cell_type": "code",
      "metadata": {
        "id": "zxFUOcm2TpxF",
        "colab": {
          "base_uri": "https://localhost:8080/"
        },
        "outputId": "699f72ca-39ba-40f6-adbc-c09937a3d954"
      },
      "source": [
        "!pip install rasterio"
      ],
      "execution_count": 15,
      "outputs": [
        {
          "output_type": "stream",
          "text": [
            "Collecting rasterio\n",
            "\u001b[?25l  Downloading https://files.pythonhosted.org/packages/33/1a/51baddc8581ead98fcef591624b4b2521b581943a9178912a2ac576e0235/rasterio-1.1.8-1-cp36-cp36m-manylinux1_x86_64.whl (18.3MB)\n",
            "\u001b[K     |████████████████████████████████| 18.3MB 249kB/s \n",
            "\u001b[?25hCollecting snuggs>=1.4.1\n",
            "  Downloading https://files.pythonhosted.org/packages/cc/0e/d27d6e806d6c0d1a2cfdc5d1f088e42339a0a54a09c3343f7f81ec8947ea/snuggs-1.4.7-py3-none-any.whl\n",
            "Requirement already satisfied: cligj>=0.5 in /usr/local/lib/python3.6/dist-packages (from rasterio) (0.7.1)\n",
            "Requirement already satisfied: click<8,>=4.0 in /usr/local/lib/python3.6/dist-packages (from rasterio) (7.1.2)\n",
            "Requirement already satisfied: attrs in /usr/local/lib/python3.6/dist-packages (from rasterio) (20.3.0)\n",
            "Collecting affine\n",
            "  Downloading https://files.pythonhosted.org/packages/ac/a6/1a39a1ede71210e3ddaf623982b06ecfc5c5c03741ae659073159184cd3e/affine-2.3.0-py2.py3-none-any.whl\n",
            "Requirement already satisfied: numpy in /usr/local/lib/python3.6/dist-packages (from rasterio) (1.19.5)\n",
            "Requirement already satisfied: click-plugins in /usr/local/lib/python3.6/dist-packages (from rasterio) (1.1.1)\n",
            "Requirement already satisfied: pyparsing>=2.1.6 in /usr/local/lib/python3.6/dist-packages (from snuggs>=1.4.1->rasterio) (2.4.7)\n",
            "Installing collected packages: snuggs, affine, rasterio\n",
            "Successfully installed affine-2.3.0 rasterio-1.1.8 snuggs-1.4.7\n"
          ],
          "name": "stdout"
        }
      ]
    },
    {
      "cell_type": "code",
      "metadata": {
        "id": "YIgkGWQjB_A2"
      },
      "source": [
        "import pandas as pd\n",
        "import rasterio as rio\n",
        "import matplotlib.pyplot as plt\n",
        "from matplotlib.animation import FuncAnimation"
      ],
      "execution_count": 16,
      "outputs": []
    },
    {
      "cell_type": "markdown",
      "metadata": {
        "id": "edIs1GsuTy2J"
      },
      "source": [
        "## Single map"
      ]
    },
    {
      "cell_type": "code",
      "metadata": {
        "id": "7J4MALykItz-"
      },
      "source": [
        "def plot_raster(filepath):\n",
        "  with rio.open(filepath) as src:\n",
        "      fig, ax = plt.subplots(figsize=(15,10))\n",
        "      img = ax.imshow(src.read(1),vmin=0,vmax=5)\n",
        "      fig.colorbar(img, ax=ax)"
      ],
      "execution_count": 17,
      "outputs": []
    },
    {
      "cell_type": "markdown",
      "metadata": {
        "id": "k7Gxrm4bg0B5"
      },
      "source": [
        "Results for the 15th Apr 1998"
      ]
    },
    {
      "cell_type": "code",
      "metadata": {
        "id": "wHGqbB8rTdou",
        "colab": {
          "base_uri": "https://localhost:8080/",
          "height": 584
        },
        "outputId": "e0d234a1-f710-4762-e08b-078d782e1aeb"
      },
      "source": [
        "plot_raster('062/062-0046.wd')"
      ],
      "execution_count": 18,
      "outputs": [
        {
          "output_type": "display_data",
          "data": {
            "image/png": "[encoded data removed]",
            "text/plain": [
              "<Figure size 1080x720 with 2 Axes>"
            ]
          },
          "metadata": {
            "tags": [],
            "needs_background": "light"
          }
        }
      ]
    },
    {
      "cell_type": "markdown",
      "metadata": {
        "id": "775_yoj4T2nC"
      },
      "source": [
        "## Animation"
      ]
    },
    {
      "cell_type": "code",
      "metadata": {
        "id": "NM4G8imcYQby"
      },
      "source": [
        "files = sorted(glob('062/*.wd'))\n",
        "arr = []\n",
        "for file in files:\n",
        "  with rio.open(file) as src:\n",
        "    arr.append(src.read(1))"
      ],
      "execution_count": 19,
      "outputs": []
    },
    {
      "cell_type": "code",
      "metadata": {
        "id": "A_22rIw0US46"
      },
      "source": [
        "dates = pd.date_range('1998-03-01','1998-05-01').strftime('%Y-%m-%d')\n",
        "fig, ax = plt.subplots(figsize=(10, 5))\n",
        "\n",
        "def update(i):\n",
        "    im_normed = arr[i]\n",
        "    ax.imshow(im_normed,vmin=0,vmax=7)\n",
        "    ax.set_title('Severn river - ' + dates[i], fontsize=20)\n",
        "    ax.set_axis_off()\n",
        "\n",
        "anim = FuncAnimation(fig, update, frames=range(len(arr)), interval=1000)\n",
        "anim.save('/content/animation.gif', dpi=80, writer='pillow')\n",
        "plt.close()"
      ],
      "execution_count": 20,
      "outputs": []
    },
    {
      "cell_type": "markdown",
      "metadata": {
        "id": "ayKfrmKMgqUL"
      },
      "source": [
        "**The animation will be saved in /content/animation.gif!**"
      ]
    }
  ]
}