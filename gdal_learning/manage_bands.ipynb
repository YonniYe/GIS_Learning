{
 "cells": [
  {
   "cell_type": "markdown",
   "metadata": {},
   "source": [
    "## ds.GetRasterBand()获取栅格数据集的波段"
   ]
  },
  {
   "cell_type": "code",
   "execution_count": 6,
   "metadata": {},
   "outputs": [
    {
     "name": "stdout",
     "output_type": "stream",
     "text": [
      "1\n"
     ]
    }
   ],
   "source": [
    "from osgeo import gdal\n",
    "dataset = gdal.Open('/gdata/lu75c.tif')\n",
    "print(dataset.RasterCount)"
   ]
  },
  {
   "cell_type": "code",
   "execution_count": 7,
   "metadata": {},
   "outputs": [],
   "source": [
    "band = dataset.GetRasterBand(1)"
   ]
  },
  {
   "cell_type": "markdown",
   "metadata": {},
   "source": [
    "这里获取了第一个波段(红色值组成的表)。注意！这里的波段获取和通常的数组不一样，它**从1开始**，而不是0！"
   ]
  },
  {
   "cell_type": "markdown",
   "metadata": {},
   "source": [
    "## band.X(Y)Size获取波段大小"
   ]
  },
  {
   "cell_type": "code",
   "execution_count": 4,
   "metadata": {},
   "outputs": [
    {
     "name": "stdout",
     "output_type": "stream",
     "text": [
      "6122\n",
      "4669\n"
     ]
    }
   ],
   "source": [
    "print(band.XSize)\n",
    "print(band.YSize)"
   ]
  },
  {
   "cell_type": "markdown",
   "metadata": {},
   "source": [
    "## band.DataType获取图像数值的数据类型"
   ]
  },
  {
   "cell_type": "markdown",
   "metadata": {},
   "source": [
    "DataType是指图像中实际数值的数据类型。具体数据类型定义在gdalconst模块里。"
   ]
  },
  {
   "cell_type": "code",
   "execution_count": 8,
   "metadata": {},
   "outputs": [
    {
     "data": {
      "text/plain": [
       "3"
      ]
     },
     "execution_count": 8,
     "metadata": {},
     "output_type": "execute_result"
    }
   ],
   "source": [
    "band.DataType"
   ]
  },
  {
   "cell_type": "markdown",
   "metadata": {},
   "source": [
    "\n",
    "| 对应的类型 | gdalconst中的规定|DataType值|\n",
    "| :-------------:| :-----------------:|:-------:|\n",
    "| 未知或未指定类型 | gdalconst.GDT_Unknown | **0** |\n",
    "| 8位无符整型 | gdalconst.GDT_Byte | **1** |\n",
    "| 16位无符整型 | gdalconst.GDT_UInt16 | **2** |\n",
    "| 16位整型 | gdalconst.GDT_Int16 | **3** |\n",
    "| 32位无符整型 | gdalconst.GDT_UInt32 | **4** |\n",
    "| 32位整型值 | gdalconst.GDT_Int32 | **5** |\n",
    "| 32位浮点型 | gdalconst.GDT_Float32 | **6** |\n",
    "| 64位浮点型 | gdalconst.GDT_Float64 | **7** |\n",
    "| 16位复数整型 | gdalconst.GDT_CInt16 | **8** |\n",
    "| 32位复数整型 | gdalconst.GDT_CInt32 | **9** |\n",
    "| 32位复数浮点型 | gdalconst.GDT_CFloat32 | **10** |\n",
    "| 64位复数浮点型 | gdalconst.GDT_CFloat64 | **11** |"
   ]
  },
  {
   "cell_type": "markdown",
   "metadata": {},
   "source": [
    "## band.ComputeRasterMinMax()计算栅格最值"
   ]
  },
  {
   "cell_type": "code",
   "execution_count": 10,
   "metadata": {},
   "outputs": [
    {
     "name": "stdout",
     "output_type": "stream",
     "text": [
      "None\n",
      "None\n",
      "None\n",
      "(-1.0, 66.0)\n"
     ]
    }
   ],
   "source": [
    "print(band.GetNoDataValue())\n",
    "print(band.GetMaximum())\n",
    "print(band.GetMinimum())\n",
    "print(band.ComputeRasterMinMax())"
   ]
  },
  {
   "cell_type": "markdown",
   "metadata": {},
   "source": [
    "对于文件格式不会有固有的最大最小值，所以一开始会返回None。"
   ]
  }
 ],
 "metadata": {
  "kernelspec": {
   "display_name": "Python 3",
   "language": "python",
   "name": "python3"
  },
  "language_info": {
   "codemirror_mode": {
    "name": "ipython",
    "version": 3
   },
   "file_extension": ".py",
   "mimetype": "text/x-python",
   "name": "python",
   "nbconvert_exporter": "python",
   "pygments_lexer": "ipython3",
   "version": "3.8.5"
  }
 },
 "nbformat": 4,
 "nbformat_minor": 4
}
