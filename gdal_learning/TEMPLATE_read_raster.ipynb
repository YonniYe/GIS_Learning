{
 "cells": [
  {
   "cell_type": "code",
   "execution_count": 3,
   "metadata": {},
   "outputs": [
    {
     "name": "stdout",
     "output_type": "stream",
     "text": [
      "投影信息：PROJCS[\"Albers_Beijing54\",GEOGCS[\"Unknown datum based upon the Krassowsky 1940 ellipsoid\",DATUM[\"Not_specified_based_on_Krassowsky_1940_ellipsoid\",SPHEROID[\"Krassowsky 1940\",6378245,298.3,AUTHORITY[\"EPSG\",\"7024\"]],AUTHORITY[\"EPSG\",\"6024\"]],PRIMEM[\"Greenwich\",0],UNIT[\"degree\",0.0174532925199433,AUTHORITY[\"EPSG\",\"9122\"]]],PROJECTION[\"Albers_Conic_Equal_Area\"],PARAMETER[\"latitude_of_center\",0],PARAMETER[\"longitude_of_center\",105],PARAMETER[\"standard_parallel_1\",25],PARAMETER[\"standard_parallel_2\",47],PARAMETER[\"false_easting\",0],PARAMETER[\"false_northing\",0],UNIT[\"metre\",1,AUTHORITY[\"EPSG\",\"9001\"]],AXIS[\"Easting\",EAST],AXIS[\"Northing\",NORTH]]\n",
      "栅格波段数：3\n",
      "栅格列数（宽度）：1500\n",
      "栅格行数（高度）：900\n",
      "AREA_OR_POINT -> Area\n",
      "PyramidResamplingType -> NEAREST\n",
      "--------下面是第1个波段--------\n",
      "数据类型：Byte\n",
      "NoData值：None\n",
      "统计值（最大值最小值）：(0.0, 255.0)\n",
      "--------下面是第2个波段--------\n",
      "数据类型：Byte\n",
      "NoData值：None\n",
      "统计值（最大值最小值）：(0.0, 255.0)\n",
      "--------下面是第3个波段--------\n",
      "数据类型：Byte\n",
      "NoData值：None\n",
      "统计值（最大值最小值）：(0.0, 255.0)\n"
     ]
    }
   ],
   "source": [
    "from osgeo import gdal\n",
    "\n",
    "ds = gdal.Open('/gdata/geotiff_file.tif')\n",
    "\n",
    "# 获得栅格数据的一些重要信息\n",
    "print(f'投影信息：{ds.GetProjection()}')\n",
    "print(f'栅格波段数：{ds.RasterCount}')\n",
    "print(f'栅格列数（宽度）：{ds.RasterXSize}')\n",
    "print(f'栅格行数（高度）：{ds.RasterYSize}')\n",
    "\n",
    "# 获取数据集的元数据信息\n",
    "metadata = ds.GetMetadata_Dict()\n",
    "for key, value in metadata.items():\n",
    "    print(f'{key} -> {value}')\n",
    "\n",
    "\n",
    "for b in range(ds.RasterCount):\n",
    "    print(f'--------下面是第{b+1}个波段--------')\n",
    "    # 注意GDAL中的band计数是从1开始的\n",
    "    band = ds.GetRasterBand(b + 1)\n",
    "    # 波段数据的一些信息\n",
    "    print(f'数据类型：{gdal.GetDataTypeName(band.DataType)}')  # DataType属性返回的是数字\n",
    "    print(f'NoData值：{band.GetNoDataValue()}')  # 很多影像都是NoData，我们在做数据处理时要特别对待\n",
    "    print(f'统计值（最大值最小值）：{band.ComputeRasterMinMax()}')  # 有些数据本身就存储了统计信息，有些数据没有需要计算\n",
    "\n",
    "# 关闭数据集\n",
    "ds = None"
   ]
  }
 ],
 "metadata": {
  "kernelspec": {
   "display_name": "Python 3",
   "language": "python",
   "name": "python3"
  },
  "language_info": {
   "codemirror_mode": {
    "name": "ipython",
    "version": 3
   },
   "file_extension": ".py",
   "mimetype": "text/x-python",
   "name": "python",
   "nbconvert_exporter": "python",
   "pygments_lexer": "ipython3",
   "version": "3.8.5"
  }
 },
 "nbformat": 4,
 "nbformat_minor": 4
}
